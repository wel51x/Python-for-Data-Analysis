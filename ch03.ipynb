{
  "nbformat": 4,
  "nbformat_minor": 0,
  "metadata": {
    "colab": {
      "name": "ch03.ipynb",
      "version": "0.3.2",
      "provenance": [],
      "collapsed_sections": [
        "r8j7yObXcgpz",
        "Jrf8Ruhpcgp3",
        "VorzZEH8cgp5",
        "rflNUTQVcgre",
        "D3KpJlPEcgrk",
        "pnNsTZK6cgrm",
        "MM6HJur6cgr2",
        "Bu2RHfmicgr6",
        "1ga56X1dcgr8",
        "4UDL1watcgsK",
        "Z1wF_C_gcgsd"
      ],
      "include_colab_link": true
    },
    "kernelspec": {
      "display_name": "Python 3",
      "language": "python",
      "name": "python3"
    }
  },
  "cells": [
    {
      "cell_type": "markdown",
      "metadata": {
        "id": "view-in-github",
        "colab_type": "text"
      },
      "source": [
        "<a href=\"https://colab.research.google.com/github/wel51x/Python-for-Data-Analysis/blob/master/ch03.ipynb\" target=\"_parent\"><img src=\"https://colab.research.google.com/assets/colab-badge.svg\" alt=\"Open In Colab\"/></a>"
      ]
    },
    {
      "metadata": {
        "deletable": true,
        "editable": true,
        "id": "VyHe8PGccgk-",
        "colab_type": "text"
      },
      "cell_type": "markdown",
      "source": [
        "# CHAPTER 3: Built-in Data Structures, Functions, and Files\n",
        "This chapter discusses capabilities built into the Python language that will be used\n",
        "ubiquitously throughout the book. While add-on libraries like pandas and NumPy\n",
        "add advanced computational functionality for larger datasets, they are designed to be\n",
        "used together with Python’s built-in data manipulation tools.\n",
        "We’ll start with Python’s workhorse data structures: tuples, lists, dicts, and sets. Then,\n",
        "we’ll discuss creating your own reusable Python functions. Finally, we’ll look at the\n",
        "mechanics of Python file objects and interacting with your local hard drive."
      ]
    },
    {
      "metadata": {
        "deletable": true,
        "editable": true,
        "id": "Ub63dRzGcglJ",
        "colab_type": "text"
      },
      "cell_type": "markdown",
      "source": [
        "## 3.1 Data Structures and Sequences\n",
        "Python’s data structures are simple but powerful. Mastering their use is a critical part\n",
        "of becoming a proficient Python programmer."
      ]
    },
    {
      "metadata": {
        "deletable": true,
        "editable": true,
        "id": "BU15jbtPcglO",
        "colab_type": "text"
      },
      "cell_type": "markdown",
      "source": [
        "### Tuples\n",
        "A tuple is a fixed-length, immutable sequence of Python objects. The easiest way to\n",
        "create one is with a comma-separated sequence of values:"
      ]
    },
    {
      "metadata": {
        "deletable": true,
        "editable": true,
        "id": "UKv7jg0WcglZ",
        "colab_type": "code",
        "colab": {
          "base_uri": "https://localhost:8080/",
          "height": 34
        },
        "outputId": "24a6d934-74ef-404c-d3f4-dc1666a823a5"
      },
      "cell_type": "code",
      "source": [
        "tup = 4, 5, 6\n",
        "tup"
      ],
      "execution_count": 1,
      "outputs": [
        {
          "output_type": "execute_result",
          "data": {
            "text/plain": [
              "(4, 5, 6)"
            ]
          },
          "metadata": {
            "tags": []
          },
          "execution_count": 1
        }
      ]
    },
    {
      "metadata": {
        "id": "QMJm5y5cdFoA",
        "colab_type": "text"
      },
      "cell_type": "markdown",
      "source": [
        "When you’re defining tuples in more complicated expressions, it’s often necessary to\n",
        "enclose the values in parentheses, as in this example of creating a tuple of tuples:"
      ]
    },
    {
      "metadata": {
        "deletable": true,
        "editable": true,
        "id": "PEuIHuLLcgls",
        "colab_type": "code",
        "colab": {
          "base_uri": "https://localhost:8080/",
          "height": 34
        },
        "outputId": "5b2bd391-b9aa-4ae2-a384-3a06350a266b"
      },
      "cell_type": "code",
      "source": [
        "nested_tup = (4, 5, 6), (7, 8)\n",
        "nested_tup"
      ],
      "execution_count": 2,
      "outputs": [
        {
          "output_type": "execute_result",
          "data": {
            "text/plain": [
              "((4, 5, 6), (7, 8))"
            ]
          },
          "metadata": {
            "tags": []
          },
          "execution_count": 2
        }
      ]
    },
    {
      "metadata": {
        "id": "ABehhGtOdL2E",
        "colab_type": "text"
      },
      "cell_type": "markdown",
      "source": [
        "You can convert any sequence or iterator to a tuple by invoking tuple:"
      ]
    },
    {
      "metadata": {
        "deletable": true,
        "editable": true,
        "id": "7r_ej27Gcgl-",
        "colab_type": "code",
        "colab": {
          "base_uri": "https://localhost:8080/",
          "height": 34
        },
        "outputId": "1e8c554d-c29c-440c-ab40-9e8f97dc0754"
      },
      "cell_type": "code",
      "source": [
        "tuple([4, 0, 2])\n",
        "tup = tuple('string')\n",
        "tup"
      ],
      "execution_count": 3,
      "outputs": [
        {
          "output_type": "execute_result",
          "data": {
            "text/plain": [
              "('s', 't', 'r', 'i', 'n', 'g')"
            ]
          },
          "metadata": {
            "tags": []
          },
          "execution_count": 3
        }
      ]
    },
    {
      "metadata": {
        "id": "AKV6-2xZdRfJ",
        "colab_type": "text"
      },
      "cell_type": "markdown",
      "source": [
        "Elements can be accessed with square brackets [] as with most other sequence types.\n",
        "\n",
        "\n",
        "As in C, C++, Java, and many other languages, sequences are 0-indexed in Python:"
      ]
    },
    {
      "metadata": {
        "deletable": true,
        "editable": true,
        "id": "L1mh2LXncgmI",
        "colab_type": "code",
        "colab": {
          "base_uri": "https://localhost:8080/",
          "height": 34
        },
        "outputId": "a0caa662-61be-4fa6-ad65-11b97cfba6ed"
      },
      "cell_type": "code",
      "source": [
        "tup[0]"
      ],
      "execution_count": 4,
      "outputs": [
        {
          "output_type": "execute_result",
          "data": {
            "text/plain": [
              "'s'"
            ]
          },
          "metadata": {
            "tags": []
          },
          "execution_count": 4
        }
      ]
    },
    {
      "metadata": {
        "id": "TA0mKn3ndbPD",
        "colab_type": "text"
      },
      "cell_type": "markdown",
      "source": [
        "While the objects stored in a tuple may be mutable themselves, once the tuple is created\n",
        "it’s not possible to modify which object is stored in each slot:"
      ]
    },
    {
      "metadata": {
        "deletable": true,
        "editable": true,
        "id": "uvfCgBPGcgmO",
        "colab_type": "code",
        "colab": {
          "base_uri": "https://localhost:8080/",
          "height": 181
        },
        "outputId": "00015682-4340-4072-f8b0-e46e556c6ec2"
      },
      "cell_type": "code",
      "source": [
        "tup = tuple(['foo', [1, 2], True])\n",
        "tup[2] = False"
      ],
      "execution_count": 5,
      "outputs": [
        {
          "output_type": "error",
          "ename": "TypeError",
          "evalue": "ignored",
          "traceback": [
            "\u001b[0;31m---------------------------------------------------------------------------\u001b[0m",
            "\u001b[0;31mTypeError\u001b[0m                                 Traceback (most recent call last)",
            "\u001b[0;32m<ipython-input-5-11b694945ab9>\u001b[0m in \u001b[0;36m<module>\u001b[0;34m()\u001b[0m\n\u001b[1;32m      1\u001b[0m \u001b[0mtup\u001b[0m \u001b[0;34m=\u001b[0m \u001b[0mtuple\u001b[0m\u001b[0;34m(\u001b[0m\u001b[0;34m[\u001b[0m\u001b[0;34m'foo'\u001b[0m\u001b[0;34m,\u001b[0m \u001b[0;34m[\u001b[0m\u001b[0;36m1\u001b[0m\u001b[0;34m,\u001b[0m \u001b[0;36m2\u001b[0m\u001b[0;34m]\u001b[0m\u001b[0;34m,\u001b[0m \u001b[0;32mTrue\u001b[0m\u001b[0;34m]\u001b[0m\u001b[0;34m)\u001b[0m\u001b[0;34m\u001b[0m\u001b[0;34m\u001b[0m\u001b[0m\n\u001b[0;32m----> 2\u001b[0;31m \u001b[0mtup\u001b[0m\u001b[0;34m[\u001b[0m\u001b[0;36m2\u001b[0m\u001b[0;34m]\u001b[0m \u001b[0;34m=\u001b[0m \u001b[0;32mFalse\u001b[0m\u001b[0;34m\u001b[0m\u001b[0;34m\u001b[0m\u001b[0m\n\u001b[0m",
            "\u001b[0;31mTypeError\u001b[0m: 'tuple' object does not support item assignment"
          ]
        }
      ]
    },
    {
      "metadata": {
        "id": "PWwST_JmdaLc",
        "colab_type": "text"
      },
      "cell_type": "markdown",
      "source": [
        "If an object inside a tuple is mutable, such as a list, you can modify it in-place:"
      ]
    },
    {
      "metadata": {
        "deletable": true,
        "editable": true,
        "id": "FV_9u1IEcgmT",
        "colab_type": "code",
        "colab": {
          "base_uri": "https://localhost:8080/",
          "height": 34
        },
        "outputId": "9122aace-c860-42d5-e835-a7e88fb45ce4"
      },
      "cell_type": "code",
      "source": [
        "tup[1].append(3)\n",
        "tup"
      ],
      "execution_count": 6,
      "outputs": [
        {
          "output_type": "execute_result",
          "data": {
            "text/plain": [
              "('foo', [1, 2, 3], True)"
            ]
          },
          "metadata": {
            "tags": []
          },
          "execution_count": 6
        }
      ]
    },
    {
      "metadata": {
        "id": "AuZVdpF1dmrm",
        "colab_type": "text"
      },
      "cell_type": "markdown",
      "source": [
        "You can concatenate tuples using the + operator to produce longer tuples:"
      ]
    },
    {
      "metadata": {
        "deletable": true,
        "editable": true,
        "id": "R42R7lcIcgmc",
        "colab_type": "code",
        "colab": {
          "base_uri": "https://localhost:8080/",
          "height": 34
        },
        "outputId": "84d73e72-0838-4fa3-dcc8-f76a07a4238a"
      },
      "cell_type": "code",
      "source": [
        "(4, None, 'foo') + (6, 0) + ('bar',)"
      ],
      "execution_count": 7,
      "outputs": [
        {
          "output_type": "execute_result",
          "data": {
            "text/plain": [
              "(4, None, 'foo', 6, 0, 'bar')"
            ]
          },
          "metadata": {
            "tags": []
          },
          "execution_count": 7
        }
      ]
    },
    {
      "metadata": {
        "id": "jNgCXpU3ds2A",
        "colab_type": "text"
      },
      "cell_type": "markdown",
      "source": [
        "Multiplying a tuple by an integer, as with lists, has the effect of concatenating together\n",
        "that many copies of the tuple:"
      ]
    },
    {
      "metadata": {
        "deletable": true,
        "editable": true,
        "id": "Q3_bSPBScgmg",
        "colab_type": "code",
        "colab": {
          "base_uri": "https://localhost:8080/",
          "height": 34
        },
        "outputId": "c645bddb-39cd-410b-a1fa-66a896df7537"
      },
      "cell_type": "code",
      "source": [
        "('foo', 'bar') * 4"
      ],
      "execution_count": 8,
      "outputs": [
        {
          "output_type": "execute_result",
          "data": {
            "text/plain": [
              "('foo', 'bar', 'foo', 'bar', 'foo', 'bar', 'foo', 'bar')"
            ]
          },
          "metadata": {
            "tags": []
          },
          "execution_count": 8
        }
      ]
    },
    {
      "metadata": {
        "id": "Q5YfvwUmdzJl",
        "colab_type": "text"
      },
      "cell_type": "markdown",
      "source": [
        "Note that the objects themselves are not copied, only the references to them."
      ]
    },
    {
      "metadata": {
        "deletable": true,
        "editable": true,
        "id": "fppt4mnscgml",
        "colab_type": "text"
      },
      "cell_type": "markdown",
      "source": [
        "#### Unpacking tuples\n",
        "If you try to assign to a tuple-like expression of variables, Python will attempt to\n",
        "unpack the value on the righthand side of the equals sign:"
      ]
    },
    {
      "metadata": {
        "deletable": true,
        "editable": true,
        "id": "kO68ibxLcgmm",
        "colab_type": "code",
        "colab": {
          "base_uri": "https://localhost:8080/",
          "height": 34
        },
        "outputId": "d780cd08-b407-4f83-b76a-a98419e8f7b7"
      },
      "cell_type": "code",
      "source": [
        "tup = (4, 5, 6)\n",
        "a, b, c = tup\n",
        "b"
      ],
      "execution_count": 9,
      "outputs": [
        {
          "output_type": "execute_result",
          "data": {
            "text/plain": [
              "5"
            ]
          },
          "metadata": {
            "tags": []
          },
          "execution_count": 9
        }
      ]
    },
    {
      "metadata": {
        "id": "2ZFNLtj0d-jR",
        "colab_type": "text"
      },
      "cell_type": "markdown",
      "source": [
        "Even sequences with nested tuples can be unpacked:"
      ]
    },
    {
      "metadata": {
        "deletable": true,
        "editable": true,
        "id": "CaB3AApqcgmp",
        "colab_type": "code",
        "colab": {
          "base_uri": "https://localhost:8080/",
          "height": 34
        },
        "outputId": "90e5a18a-7c26-4424-d498-901611251397"
      },
      "cell_type": "code",
      "source": [
        "tup = 4, 5, (6, 7)\n",
        "a, b, (c, d) = tup\n",
        "d"
      ],
      "execution_count": 10,
      "outputs": [
        {
          "output_type": "execute_result",
          "data": {
            "text/plain": [
              "7"
            ]
          },
          "metadata": {
            "tags": []
          },
          "execution_count": 10
        }
      ]
    },
    {
      "metadata": {
        "deletable": true,
        "editable": true,
        "id": "dLFfskkPcgmt",
        "colab_type": "text"
      },
      "cell_type": "markdown",
      "source": [
        "Using this functionality you can easily swap variable names, a task which in many\n",
        "languages might look like:\n",
        "\n",
        "tmp = a\n",
        "\n",
        "a = b\n",
        "\n",
        "b = tmp\n",
        "\n",
        "But, in Python, the swap can be done like this:"
      ]
    },
    {
      "metadata": {
        "deletable": true,
        "editable": true,
        "id": "6LOgHmb0cgmu",
        "colab_type": "code",
        "colab": {
          "base_uri": "https://localhost:8080/",
          "height": 51
        },
        "outputId": "dbecfa20-5d53-4f96-9abe-89a73f1423d9"
      },
      "cell_type": "code",
      "source": [
        "a, b = 1, 2\n",
        "print(a, b)\n",
        "b, a = a, b\n",
        "a, b"
      ],
      "execution_count": 12,
      "outputs": [
        {
          "output_type": "stream",
          "text": [
            "1 2\n"
          ],
          "name": "stdout"
        },
        {
          "output_type": "execute_result",
          "data": {
            "text/plain": [
              "(2, 1)"
            ]
          },
          "metadata": {
            "tags": []
          },
          "execution_count": 12
        }
      ]
    },
    {
      "metadata": {
        "id": "OugLcEaCegLj",
        "colab_type": "text"
      },
      "cell_type": "markdown",
      "source": [
        "A common use of variable unpacking is iterating over sequences of tuples or lists:"
      ]
    },
    {
      "metadata": {
        "deletable": true,
        "editable": true,
        "id": "p_pPI7zlcgm0",
        "colab_type": "code",
        "colab": {
          "base_uri": "https://localhost:8080/",
          "height": 68
        },
        "outputId": "b9c52b5c-b654-46ad-f475-9fbbd3b9d2d5"
      },
      "cell_type": "code",
      "source": [
        "seq = [(1, 2, 3), (4, 5, 6), (7, 8, 9)]\n",
        "for a, b, c in seq:\n",
        "    print('a={0}, b={1}, c={2}'.format(a, b, c))"
      ],
      "execution_count": 13,
      "outputs": [
        {
          "output_type": "stream",
          "text": [
            "a=1, b=2, c=3\n",
            "a=4, b=5, c=6\n",
            "a=7, b=8, c=9\n"
          ],
          "name": "stdout"
        }
      ]
    },
    {
      "metadata": {
        "id": "mN9uxnAHexBe",
        "colab_type": "text"
      },
      "cell_type": "markdown",
      "source": [
        "Another common use is returning multiple values from a function. I’ll cover this in\n",
        "more detail later.\n",
        "\n",
        "The Python language recently acquired some more advanced tuple unpacking to help\n",
        "with situations where you may want to “pluck” a few elements from the beginning of\n",
        "a tuple. This uses the special syntax *rest, which is also used in function signatures\n",
        "to capture an arbitrarily long list of positional arguments:"
      ]
    },
    {
      "metadata": {
        "deletable": true,
        "editable": true,
        "id": "cqTCK-6_cgm4",
        "colab_type": "code",
        "colab": {
          "base_uri": "https://localhost:8080/",
          "height": 51
        },
        "outputId": "e9202879-effa-4048-fb73-001d5aed508c"
      },
      "cell_type": "code",
      "source": [
        "values = 1, 2, 3, 4, 5\n",
        "a, b, *rest = values\n",
        "print(a, b)\n",
        "rest"
      ],
      "execution_count": 14,
      "outputs": [
        {
          "output_type": "stream",
          "text": [
            "1 2\n"
          ],
          "name": "stdout"
        },
        {
          "output_type": "execute_result",
          "data": {
            "text/plain": [
              "[3, 4, 5]"
            ]
          },
          "metadata": {
            "tags": []
          },
          "execution_count": 14
        }
      ]
    },
    {
      "metadata": {
        "id": "WFzbbUase-9p",
        "colab_type": "text"
      },
      "cell_type": "markdown",
      "source": [
        "This rest bit is sometimes something you want to discard; there is nothing special\n",
        "about the rest name. As a matter of convention, many Python programmers will use\n",
        "the underscore (_) for unwanted variables:"
      ]
    },
    {
      "metadata": {
        "deletable": true,
        "editable": true,
        "id": "I4JkKyOfcgm7",
        "colab_type": "code",
        "colab": {}
      },
      "cell_type": "code",
      "source": [
        "a, b, *_ = values"
      ],
      "execution_count": 0,
      "outputs": []
    },
    {
      "metadata": {
        "deletable": true,
        "editable": true,
        "id": "qsu1rsW5cgnA",
        "colab_type": "text"
      },
      "cell_type": "markdown",
      "source": [
        "#### Tuple methods\n",
        "Since the size and contents of a tuple cannot be modified, it is very light on instance\n",
        "methods. A particularly useful one (also available on lists) is count, which counts the\n",
        "number of occurrences of a value:"
      ]
    },
    {
      "metadata": {
        "deletable": true,
        "editable": true,
        "id": "PwfFF8PAcgnB",
        "colab_type": "code",
        "colab": {
          "base_uri": "https://localhost:8080/",
          "height": 34
        },
        "outputId": "2dd5d689-25e5-43cd-bed3-48a74eb1816e"
      },
      "cell_type": "code",
      "source": [
        "a = (1, 2, 2, 2, 3, 4, 2)\n",
        "a.count(2)"
      ],
      "execution_count": 17,
      "outputs": [
        {
          "output_type": "execute_result",
          "data": {
            "text/plain": [
              "4"
            ]
          },
          "metadata": {
            "tags": []
          },
          "execution_count": 17
        }
      ]
    },
    {
      "metadata": {
        "deletable": true,
        "editable": true,
        "id": "vdicGdUdcgnF",
        "colab_type": "text"
      },
      "cell_type": "markdown",
      "source": [
        "### Lists\n",
        "In contrast with tuples, lists are variable-length and their contents can be modified\n",
        "in-place. You can define them using square brackets [] or using the list type function:"
      ]
    },
    {
      "metadata": {
        "deletable": true,
        "editable": true,
        "id": "YOYkFsVLcgnG",
        "colab_type": "code",
        "colab": {
          "base_uri": "https://localhost:8080/",
          "height": 51
        },
        "outputId": "31d834ea-cced-4626-c82f-dc8c3f3d3f08"
      },
      "cell_type": "code",
      "source": [
        "a_list = [2, 3, 7, None]\n",
        "tup = ('foo', 'bar', 'baz')\n",
        "b_list = list(tup)\n",
        "print(\"b_list =\", b_list)\n",
        "b_list[1] = 'peekaboo'\n",
        "b_list"
      ],
      "execution_count": 1,
      "outputs": [
        {
          "output_type": "stream",
          "text": [
            "b_list = ['foo', 'bar', 'baz']\n"
          ],
          "name": "stdout"
        },
        {
          "output_type": "execute_result",
          "data": {
            "text/plain": [
              "['foo', 'peekaboo', 'baz']"
            ]
          },
          "metadata": {
            "tags": []
          },
          "execution_count": 1
        }
      ]
    },
    {
      "metadata": {
        "id": "33urw5-kIWuo",
        "colab_type": "text"
      },
      "cell_type": "markdown",
      "source": [
        "Lists and tuples are semantically similar (though tuples cannot be modified) and can\n",
        "be used interchangeably in many functions.\n",
        "\n",
        "The list function is frequently used in data processing as a way to materialize an\n",
        "iterator or generator expression:"
      ]
    },
    {
      "metadata": {
        "deletable": true,
        "editable": true,
        "id": "Kb8t7MBRcgnJ",
        "colab_type": "code",
        "colab": {
          "base_uri": "https://localhost:8080/",
          "height": 51
        },
        "outputId": "bb6799cb-0d13-43da-b96c-9c8ebb778666"
      },
      "cell_type": "code",
      "source": [
        "gen = range(10)\n",
        "print(\"gen =\", gen)\n",
        "list(gen)"
      ],
      "execution_count": 2,
      "outputs": [
        {
          "output_type": "stream",
          "text": [
            "gen = range(0, 10)\n"
          ],
          "name": "stdout"
        },
        {
          "output_type": "execute_result",
          "data": {
            "text/plain": [
              "[0, 1, 2, 3, 4, 5, 6, 7, 8, 9]"
            ]
          },
          "metadata": {
            "tags": []
          },
          "execution_count": 2
        }
      ]
    },
    {
      "metadata": {
        "deletable": true,
        "editable": true,
        "id": "C_vdcPC4cgnR",
        "colab_type": "text"
      },
      "cell_type": "markdown",
      "source": [
        "#### Adding and removing elements\n",
        "Elements can be appended to the end of the list with the append method:"
      ]
    },
    {
      "metadata": {
        "deletable": true,
        "editable": true,
        "id": "718qhQRDcgnU",
        "colab_type": "code",
        "colab": {
          "base_uri": "https://localhost:8080/",
          "height": 34
        },
        "outputId": "4b96b04b-808d-4454-b4d8-e89e85a8cf8b"
      },
      "cell_type": "code",
      "source": [
        "b_list.append('dwarf')\n",
        "b_list"
      ],
      "execution_count": 3,
      "outputs": [
        {
          "output_type": "execute_result",
          "data": {
            "text/plain": [
              "['foo', 'peekaboo', 'baz', 'dwarf']"
            ]
          },
          "metadata": {
            "tags": []
          },
          "execution_count": 3
        }
      ]
    },
    {
      "metadata": {
        "id": "D_UhUqnaIghk",
        "colab_type": "text"
      },
      "cell_type": "markdown",
      "source": [
        "Using insert you can insert an element at a specific location in the list:"
      ]
    },
    {
      "metadata": {
        "deletable": true,
        "editable": true,
        "id": "3uzOVLndcgnX",
        "colab_type": "code",
        "colab": {
          "base_uri": "https://localhost:8080/",
          "height": 34
        },
        "outputId": "ec1265dd-67be-4e71-ce82-30c1701315a2"
      },
      "cell_type": "code",
      "source": [
        "b_list.insert(1, 'red')\n",
        "b_list"
      ],
      "execution_count": 4,
      "outputs": [
        {
          "output_type": "execute_result",
          "data": {
            "text/plain": [
              "['foo', 'red', 'peekaboo', 'baz', 'dwarf']"
            ]
          },
          "metadata": {
            "tags": []
          },
          "execution_count": 4
        }
      ]
    },
    {
      "metadata": {
        "id": "9S6CKw7MInbh",
        "colab_type": "text"
      },
      "cell_type": "markdown",
      "source": [
        "The insertion index must be between 0 and the length of the list, inclusive.\n",
        "\n",
        "==>>insert is computationally expensive compared with append,\n",
        "because references to subsequent elements have to be shifted internally\n",
        "to make room for the new element. If you need to insert elements\n",
        "at both the beginning and end of a sequence, you may wish\n",
        "to explore collections.deque, a double-ended queue, for this purpose.\n",
        "\n",
        "The inverse operation to insert is pop, which removes and returns an element at a\n",
        "particular index:"
      ]
    },
    {
      "metadata": {
        "deletable": true,
        "editable": true,
        "id": "iacka45pcgnZ",
        "colab_type": "code",
        "colab": {
          "base_uri": "https://localhost:8080/",
          "height": 34
        },
        "outputId": "789d96b7-77f1-45fa-88e5-70a989f48b71"
      },
      "cell_type": "code",
      "source": [
        "b_list.pop(2)\n",
        "b_list"
      ],
      "execution_count": 6,
      "outputs": [
        {
          "output_type": "execute_result",
          "data": {
            "text/plain": [
              "['red', 'peekaboo', 'dwarf', 'foo']"
            ]
          },
          "metadata": {
            "tags": []
          },
          "execution_count": 6
        }
      ]
    },
    {
      "metadata": {
        "id": "DOA-Ts-6JHoy",
        "colab_type": "text"
      },
      "cell_type": "markdown",
      "source": [
        "Elements can be removed by value with remove, which locates the first such value and\n",
        "removes it from the last:"
      ]
    },
    {
      "metadata": {
        "deletable": true,
        "editable": true,
        "id": "vVvxJupYcgnc",
        "colab_type": "code",
        "colab": {
          "base_uri": "https://localhost:8080/",
          "height": 51
        },
        "outputId": "39b5aa84-27bc-4b90-fe28-2f916448d85c"
      },
      "cell_type": "code",
      "source": [
        "b_list.append('foo')\n",
        "print(\"b_list =\", b_list)\n",
        "b_list.remove('foo')\n",
        "b_list"
      ],
      "execution_count": 7,
      "outputs": [
        {
          "output_type": "stream",
          "text": [
            "b_list = ['red', 'peekaboo', 'dwarf', 'foo', 'foo']\n"
          ],
          "name": "stdout"
        },
        {
          "output_type": "execute_result",
          "data": {
            "text/plain": [
              "['red', 'peekaboo', 'dwarf', 'foo']"
            ]
          },
          "metadata": {
            "tags": []
          },
          "execution_count": 7
        }
      ]
    },
    {
      "metadata": {
        "id": "bF83DZUhJKaG",
        "colab_type": "text"
      },
      "cell_type": "markdown",
      "source": [
        "If performance is not a concern, by using append and remove, you can use a Python\n",
        "list as a perfectly suitable “multiset” data structure.\n",
        "\n",
        "Check if a list contains a value using the in keyword:"
      ]
    },
    {
      "metadata": {
        "deletable": true,
        "editable": true,
        "id": "HINCRt4ncgnf",
        "colab_type": "code",
        "colab": {
          "base_uri": "https://localhost:8080/",
          "height": 34
        },
        "outputId": "07758e8f-fb1b-4ef6-ed4b-72a799af7beb"
      },
      "cell_type": "code",
      "source": [
        "'dwarf' in b_list"
      ],
      "execution_count": 8,
      "outputs": [
        {
          "output_type": "execute_result",
          "data": {
            "text/plain": [
              "True"
            ]
          },
          "metadata": {
            "tags": []
          },
          "execution_count": 8
        }
      ]
    },
    {
      "metadata": {
        "id": "wIB_dAxEJRsY",
        "colab_type": "text"
      },
      "cell_type": "markdown",
      "source": [
        "The keyword not can be used to negate in:"
      ]
    },
    {
      "metadata": {
        "deletable": true,
        "editable": true,
        "id": "mhfSoIgOcgnk",
        "colab_type": "code",
        "colab": {
          "base_uri": "https://localhost:8080/",
          "height": 34
        },
        "outputId": "90df66ad-6a75-4b8b-9660-0e6370149786"
      },
      "cell_type": "code",
      "source": [
        "'dwarf' not in b_list"
      ],
      "execution_count": 9,
      "outputs": [
        {
          "output_type": "execute_result",
          "data": {
            "text/plain": [
              "False"
            ]
          },
          "metadata": {
            "tags": []
          },
          "execution_count": 9
        }
      ]
    },
    {
      "metadata": {
        "id": "Zl2Ew5UhJTgV",
        "colab_type": "text"
      },
      "cell_type": "markdown",
      "source": [
        "==>> Checking whether a list contains a value is a lot slower than doing so with dicts and\n",
        "sets (to be introduced shortly), as Python makes a linear scan across the values of the\n",
        "list, whereas it can check the others (based on hash tables) in constant time."
      ]
    },
    {
      "metadata": {
        "deletable": true,
        "editable": true,
        "id": "C6kKcvJtcgnn",
        "colab_type": "text"
      },
      "cell_type": "markdown",
      "source": [
        "#### Concatenating and combining lists\n",
        "\n",
        "Similar to tuples, adding two lists together with + concatenates them:"
      ]
    },
    {
      "metadata": {
        "deletable": true,
        "editable": true,
        "id": "slKRn6HDcgnp",
        "colab_type": "code",
        "colab": {
          "base_uri": "https://localhost:8080/",
          "height": 34
        },
        "outputId": "2741ae5e-80a7-4cd9-b64b-13f36dd500a6"
      },
      "cell_type": "code",
      "source": [
        "[4, None, 'foo'] + [7, 8, (2, 3)]"
      ],
      "execution_count": 10,
      "outputs": [
        {
          "output_type": "execute_result",
          "data": {
            "text/plain": [
              "[4, None, 'foo', 7, 8, (2, 3)]"
            ]
          },
          "metadata": {
            "tags": []
          },
          "execution_count": 10
        }
      ]
    },
    {
      "metadata": {
        "id": "15EjbsS7JnlU",
        "colab_type": "text"
      },
      "cell_type": "markdown",
      "source": [
        "If you have a list already defined, you can append multiple elements to it using the\n",
        "extend method:"
      ]
    },
    {
      "metadata": {
        "deletable": true,
        "editable": true,
        "id": "TUYFziKlcgns",
        "colab_type": "code",
        "colab": {
          "base_uri": "https://localhost:8080/",
          "height": 34
        },
        "outputId": "8f71b24b-2b28-4efb-ac17-43f14b2e95a9"
      },
      "cell_type": "code",
      "source": [
        "x = [4, None, 'foo']\n",
        "x.extend([7, 8, (2, 3)])\n",
        "x"
      ],
      "execution_count": 11,
      "outputs": [
        {
          "output_type": "execute_result",
          "data": {
            "text/plain": [
              "[4, None, 'foo', 7, 8, (2, 3)]"
            ]
          },
          "metadata": {
            "tags": []
          },
          "execution_count": 11
        }
      ]
    },
    {
      "metadata": {
        "deletable": true,
        "editable": true,
        "id": "Dps6VQZUcgn0",
        "colab_type": "text"
      },
      "cell_type": "markdown",
      "source": [
        "Note that list concatenation by addition is a comparatively expensive operation since\n",
        "a new list must be created and the objects copied over. Using extend to append elements\n",
        "to an existing list, especially if you are building up a large list, is usually preferable. Thus,\n",
        "\n",
        "everything = []\n",
        "\n",
        "for chunk in list_of_lists:\n",
        "\n",
        "    everything.extend(chunk)"
      ]
    },
    {
      "metadata": {
        "deletable": true,
        "editable": true,
        "id": "g8rYZijUcgn1",
        "colab_type": "text"
      },
      "cell_type": "markdown",
      "source": [
        "is faster than the concatenative alternative:\n",
        "\n",
        "everything = []\n",
        "\n",
        "for chunk in list_of_lists:\n",
        "\n",
        "    everything = everything + chunk"
      ]
    },
    {
      "metadata": {
        "deletable": true,
        "editable": true,
        "id": "dlg_gw5Kcgn3",
        "colab_type": "text"
      },
      "cell_type": "markdown",
      "source": [
        "#### Sorting\n",
        "\n",
        "You can sort a list in-place (without creating a new object) by calling its sort\n",
        "function:"
      ]
    },
    {
      "metadata": {
        "deletable": true,
        "editable": true,
        "id": "MHXhGkUBcgn4",
        "colab_type": "code",
        "colab": {
          "base_uri": "https://localhost:8080/",
          "height": 34
        },
        "outputId": "f9eab2ed-aa97-4a02-d49e-08fd540220bd"
      },
      "cell_type": "code",
      "source": [
        "a = [7, 2, 5, 1, 3]\n",
        "a.sort()\n",
        "a"
      ],
      "execution_count": 12,
      "outputs": [
        {
          "output_type": "execute_result",
          "data": {
            "text/plain": [
              "[1, 2, 3, 5, 7]"
            ]
          },
          "metadata": {
            "tags": []
          },
          "execution_count": 12
        }
      ]
    },
    {
      "metadata": {
        "id": "NbOZaNj7KP6-",
        "colab_type": "text"
      },
      "cell_type": "markdown",
      "source": [
        "sort has a few options that will occasionally come in handy. One is the ability to pass\n",
        "a secondary sort key—that is, a function that produces a value to use to sort the\n",
        "objects. For example, we could sort a collection of strings by their lengths:"
      ]
    },
    {
      "metadata": {
        "deletable": true,
        "editable": true,
        "id": "ee-0GAKfcgn7",
        "colab_type": "code",
        "colab": {
          "base_uri": "https://localhost:8080/",
          "height": 34
        },
        "outputId": "67872d7b-83b1-4ec2-cbb4-d2f4b57ae843"
      },
      "cell_type": "code",
      "source": [
        "b = ['saw', 'small', 'He', 'foxes', 'six']\n",
        "b.sort(key=len)\n",
        "b"
      ],
      "execution_count": 13,
      "outputs": [
        {
          "output_type": "execute_result",
          "data": {
            "text/plain": [
              "['He', 'saw', 'six', 'small', 'foxes']"
            ]
          },
          "metadata": {
            "tags": []
          },
          "execution_count": 13
        }
      ]
    },
    {
      "metadata": {
        "id": "H_kvmDBTKZHp",
        "colab_type": "text"
      },
      "cell_type": "markdown",
      "source": [
        "Soon, we’ll look at the sorted function, which can produce a sorted copy of a general\n",
        "sequence."
      ]
    },
    {
      "metadata": {
        "deletable": true,
        "editable": true,
        "id": "c0G6He7wcgn9",
        "colab_type": "text"
      },
      "cell_type": "markdown",
      "source": [
        "#### Binary search and maintaining a sorted list\n",
        "The built-in bisect module implements binary search and insertion into a sorted list.\n",
        "bisect.bisect finds the location where an element should be inserted to keep it sorted,\n",
        "while bisect.insort actually inserts the element into that location:"
      ]
    },
    {
      "metadata": {
        "deletable": true,
        "editable": true,
        "id": "btG6jD_0cgn-",
        "colab_type": "code",
        "colab": {
          "base_uri": "https://localhost:8080/",
          "height": 85
        },
        "outputId": "7c314f31-d1cd-4403-c0cc-073e739f498b"
      },
      "cell_type": "code",
      "source": [
        "import bisect\n",
        "c = [1, 2, 2, 2, 3, 4, 7]\n",
        "print(bisect.bisect(c, 2))\n",
        "print(bisect.bisect(c, 5))\n",
        "print(bisect.insort(c, 6))\n",
        "c"
      ],
      "execution_count": 15,
      "outputs": [
        {
          "output_type": "stream",
          "text": [
            "4\n",
            "6\n",
            "None\n"
          ],
          "name": "stdout"
        },
        {
          "output_type": "execute_result",
          "data": {
            "text/plain": [
              "[1, 2, 2, 2, 3, 4, 6, 7]"
            ]
          },
          "metadata": {
            "tags": []
          },
          "execution_count": 15
        }
      ]
    },
    {
      "metadata": {
        "id": "fx56RQNRLAJW",
        "colab_type": "text"
      },
      "cell_type": "markdown",
      "source": [
        "==>> The bisect module functions do not check whether the list is sorted,\n",
        "as doing so would be computationally expensive. Thus, using\n",
        "them with an unsorted list will succeed without error but may lead\n",
        "to incorrect results."
      ]
    },
    {
      "metadata": {
        "deletable": true,
        "editable": true,
        "id": "pm0h7jkKcgoB",
        "colab_type": "text"
      },
      "cell_type": "markdown",
      "source": [
        "#### Slicing\n",
        "You can select sections of most sequence types by using slice notation, which in its\n",
        "basic form consists of start:stop passed to the indexing operator []:"
      ]
    },
    {
      "metadata": {
        "deletable": true,
        "editable": true,
        "id": "LKiV1NHzcgoC",
        "colab_type": "code",
        "colab": {
          "base_uri": "https://localhost:8080/",
          "height": 34
        },
        "outputId": "40c1390a-f095-4a57-def4-8cbaf6b41e75"
      },
      "cell_type": "code",
      "source": [
        "seq = [7, 2, 3, 7, 5, 6, 0, 1]\n",
        "seq[1:5]"
      ],
      "execution_count": 16,
      "outputs": [
        {
          "output_type": "execute_result",
          "data": {
            "text/plain": [
              "[2, 3, 7, 5]"
            ]
          },
          "metadata": {
            "tags": []
          },
          "execution_count": 16
        }
      ]
    },
    {
      "metadata": {
        "id": "skQom7aaLLZQ",
        "colab_type": "text"
      },
      "cell_type": "markdown",
      "source": [
        "Slices can also be assigned to with a sequence:"
      ]
    },
    {
      "metadata": {
        "deletable": true,
        "editable": true,
        "id": "wjPBuuxmcgoF",
        "colab_type": "code",
        "colab": {
          "base_uri": "https://localhost:8080/",
          "height": 34
        },
        "outputId": "87a21e35-b11b-4ab6-d560-d6653edcc3b9"
      },
      "cell_type": "code",
      "source": [
        "seq[3:4] = [6, 3]\n",
        "seq"
      ],
      "execution_count": 17,
      "outputs": [
        {
          "output_type": "execute_result",
          "data": {
            "text/plain": [
              "[7, 2, 3, 6, 3, 5, 6, 0, 1]"
            ]
          },
          "metadata": {
            "tags": []
          },
          "execution_count": 17
        }
      ]
    },
    {
      "metadata": {
        "id": "H2ksjLyGLYRN",
        "colab_type": "text"
      },
      "cell_type": "markdown",
      "source": [
        "While the element at the start index is included, the stop index is not included, so\n",
        "that the number of elements in the result is stop - start.\n",
        "\n",
        "Either the start or stop can be omitted, in which case they default to the start of the\n",
        "sequence and the end of the sequence, respectively:"
      ]
    },
    {
      "metadata": {
        "deletable": true,
        "editable": true,
        "id": "85lUGYAocgoH",
        "colab_type": "code",
        "colab": {
          "base_uri": "https://localhost:8080/",
          "height": 34
        },
        "outputId": "204bcda3-86b1-4bb1-cbcf-0b54cd2f8841"
      },
      "cell_type": "code",
      "source": [
        "seq[:5], seq[3:]"
      ],
      "execution_count": 18,
      "outputs": [
        {
          "output_type": "execute_result",
          "data": {
            "text/plain": [
              "([7, 2, 3, 6, 3], [6, 3, 5, 6, 0, 1])"
            ]
          },
          "metadata": {
            "tags": []
          },
          "execution_count": 18
        }
      ]
    },
    {
      "metadata": {
        "id": "mpympykWLhuh",
        "colab_type": "text"
      },
      "cell_type": "markdown",
      "source": [
        "Negative indices slice the sequence relative to the end:"
      ]
    },
    {
      "metadata": {
        "deletable": true,
        "editable": true,
        "id": "tsgZEm35cgoJ",
        "colab_type": "code",
        "colab": {
          "base_uri": "https://localhost:8080/",
          "height": 34
        },
        "outputId": "cbd0212e-dea0-4c1c-d105-8a6b16e4d26e"
      },
      "cell_type": "code",
      "source": [
        "seq[-4:], seq[-6:-2]"
      ],
      "execution_count": 19,
      "outputs": [
        {
          "output_type": "execute_result",
          "data": {
            "text/plain": [
              "([5, 6, 0, 1], [6, 3, 5, 6])"
            ]
          },
          "metadata": {
            "tags": []
          },
          "execution_count": 19
        }
      ]
    },
    {
      "metadata": {
        "id": "qfpl5-maLpKj",
        "colab_type": "text"
      },
      "cell_type": "markdown",
      "source": [
        "A step can also be used after a second colon to, say, take every other element:"
      ]
    },
    {
      "metadata": {
        "deletable": true,
        "editable": true,
        "id": "sdjKN9SUcgoL",
        "colab_type": "code",
        "colab": {
          "base_uri": "https://localhost:8080/",
          "height": 34
        },
        "outputId": "52f7f930-ea41-4956-f2cc-377d5d87f60e"
      },
      "cell_type": "code",
      "source": [
        "seq[::2]"
      ],
      "execution_count": 20,
      "outputs": [
        {
          "output_type": "execute_result",
          "data": {
            "text/plain": [
              "[7, 3, 3, 6, 1]"
            ]
          },
          "metadata": {
            "tags": []
          },
          "execution_count": 20
        }
      ]
    },
    {
      "metadata": {
        "id": "uRc3gMNlL0KA",
        "colab_type": "text"
      },
      "cell_type": "markdown",
      "source": [
        "A clever use of this is to pass -1, which has the useful effect of reversing a list or tuple:"
      ]
    },
    {
      "metadata": {
        "deletable": true,
        "editable": true,
        "id": "HKWrkaS1cgoN",
        "colab_type": "code",
        "colab": {
          "base_uri": "https://localhost:8080/",
          "height": 34
        },
        "outputId": "0c95d9f8-3693-4ff8-89bc-77a69a3f1c6a"
      },
      "cell_type": "code",
      "source": [
        "seq[::-1]"
      ],
      "execution_count": 21,
      "outputs": [
        {
          "output_type": "execute_result",
          "data": {
            "text/plain": [
              "[1, 0, 6, 5, 3, 6, 3, 2, 7]"
            ]
          },
          "metadata": {
            "tags": []
          },
          "execution_count": 21
        }
      ]
    },
    {
      "metadata": {
        "deletable": true,
        "editable": true,
        "id": "zBYglyoocgoQ",
        "colab_type": "text"
      },
      "cell_type": "markdown",
      "source": [
        "### Built-in Sequence Functions\n",
        "Python has a handful of useful sequence functions that you should familiarize yourself\n",
        "with and use at any opportunity."
      ]
    },
    {
      "metadata": {
        "deletable": true,
        "editable": true,
        "id": "qq3tSbWQcgoQ",
        "colab_type": "text"
      },
      "cell_type": "markdown",
      "source": [
        "#### enumerate"
      ]
    },
    {
      "metadata": {
        "deletable": true,
        "editable": true,
        "id": "2vSsSm-NcgoQ",
        "colab_type": "text"
      },
      "cell_type": "markdown",
      "source": [
        "It’s common when iterating over a sequence to want to keep track of the index of the\n",
        "current item. A do-it-yourself approach would look like:\n",
        "\n",
        "i = 0\n",
        "\n",
        "for value in collection:\n",
        "\n",
        "    ...do something with value...\n",
        "   \n",
        "    i += 1"
      ]
    },
    {
      "metadata": {
        "deletable": true,
        "editable": true,
        "id": "O0T1flpScgoR",
        "colab_type": "text"
      },
      "cell_type": "markdown",
      "source": [
        "Since this is so common, Python has a built-in function, enumerate, which returns a\n",
        "sequence of (i, value) tuples:\n",
        "\n",
        "for i, value in enumerate(collection):\n",
        "\n",
        "    ...do something with value..."
      ]
    },
    {
      "metadata": {
        "deletable": true,
        "editable": true,
        "id": "271mTdMncgoS",
        "colab_type": "code",
        "colab": {
          "base_uri": "https://localhost:8080/",
          "height": 34
        },
        "outputId": "2aa5e19b-6cd5-4061-e3bf-b2a76da85f1a"
      },
      "cell_type": "code",
      "source": [
        "some_list = ['foo', 'bar', 'baz']\n",
        "mapping = {}\n",
        "for i, v in enumerate(some_list):\n",
        "    mapping[v] = i\n",
        "mapping"
      ],
      "execution_count": 22,
      "outputs": [
        {
          "output_type": "execute_result",
          "data": {
            "text/plain": [
              "{'bar': 1, 'baz': 2, 'foo': 0}"
            ]
          },
          "metadata": {
            "tags": []
          },
          "execution_count": 22
        }
      ]
    },
    {
      "metadata": {
        "deletable": true,
        "editable": true,
        "id": "JupDzU4AcgoT",
        "colab_type": "text"
      },
      "cell_type": "markdown",
      "source": [
        "#### sorted\n",
        "The sorted function returns a new sorted list from the elements of any sequence:"
      ]
    },
    {
      "metadata": {
        "id": "5l3WxiZ2MxO-",
        "colab_type": "code",
        "colab": {
          "base_uri": "https://localhost:8080/",
          "height": 34
        },
        "outputId": "72a54256-f80c-41c4-9aed-ba9d232227e8"
      },
      "cell_type": "code",
      "source": [
        "sorted([7, 1, 2, 6, 0, 3, 2])"
      ],
      "execution_count": 23,
      "outputs": [
        {
          "output_type": "execute_result",
          "data": {
            "text/plain": [
              "[0, 1, 2, 2, 3, 6, 7]"
            ]
          },
          "metadata": {
            "tags": []
          },
          "execution_count": 23
        }
      ]
    },
    {
      "metadata": {
        "deletable": true,
        "editable": true,
        "id": "X7lxnMovcgoU",
        "colab_type": "code",
        "colab": {
          "base_uri": "https://localhost:8080/",
          "height": 34
        },
        "outputId": "80ac62d3-aca7-4ffe-ae3e-67867e473af3"
      },
      "cell_type": "code",
      "source": [
        "sorted('horse race')"
      ],
      "execution_count": 24,
      "outputs": [
        {
          "output_type": "execute_result",
          "data": {
            "text/plain": [
              "[' ', 'a', 'c', 'e', 'e', 'h', 'o', 'r', 'r', 's']"
            ]
          },
          "metadata": {
            "tags": []
          },
          "execution_count": 24
        }
      ]
    },
    {
      "metadata": {
        "deletable": true,
        "editable": true,
        "id": "nLLdBP8ncgoW",
        "colab_type": "text"
      },
      "cell_type": "markdown",
      "source": [
        "The sorted function accepts the same arguments as the sort method on lists.\n",
        "\n",
        "#### zip\n",
        "zip “pairs” up the elements of a number of lists, tuples, or other sequences to create a\n",
        "list of tuples:"
      ]
    },
    {
      "metadata": {
        "deletable": true,
        "editable": true,
        "id": "g93etY0dcgoX",
        "colab_type": "code",
        "colab": {
          "base_uri": "https://localhost:8080/",
          "height": 34
        },
        "outputId": "60f20d66-1c73-402f-ac41-4ebc483e66b2"
      },
      "cell_type": "code",
      "source": [
        "seq1 = ['foo', 'bar', 'baz']\n",
        "seq2 = ['one', 'two', 'three']\n",
        "zipped = zip(seq1, seq2)\n",
        "list(zipped)"
      ],
      "execution_count": 25,
      "outputs": [
        {
          "output_type": "execute_result",
          "data": {
            "text/plain": [
              "[('foo', 'one'), ('bar', 'two'), ('baz', 'three')]"
            ]
          },
          "metadata": {
            "tags": []
          },
          "execution_count": 25
        }
      ]
    },
    {
      "metadata": {
        "id": "PljcCmSwNKoZ",
        "colab_type": "text"
      },
      "cell_type": "markdown",
      "source": [
        "zip can take an arbitrary number of sequences, and the number of elements it produces\n",
        "is determined by the shortest sequence:"
      ]
    },
    {
      "metadata": {
        "deletable": true,
        "editable": true,
        "id": "APaKBK6DcgoY",
        "colab_type": "code",
        "colab": {
          "base_uri": "https://localhost:8080/",
          "height": 34
        },
        "outputId": "6021eb27-9d3b-4564-9103-adf6be78e256"
      },
      "cell_type": "code",
      "source": [
        "seq3 = [False, True]\n",
        "list(zip(seq1, seq2, seq3))"
      ],
      "execution_count": 26,
      "outputs": [
        {
          "output_type": "execute_result",
          "data": {
            "text/plain": [
              "[('foo', 'one', False), ('bar', 'two', True)]"
            ]
          },
          "metadata": {
            "tags": []
          },
          "execution_count": 26
        }
      ]
    },
    {
      "metadata": {
        "id": "dFSDNE4ENRcm",
        "colab_type": "text"
      },
      "cell_type": "markdown",
      "source": [
        "A very common use of zip is simultaneously iterating over multiple sequences, possibly\n",
        "also combined with enumerate:"
      ]
    },
    {
      "metadata": {
        "deletable": true,
        "editable": true,
        "id": "BmiugUOEcgoa",
        "colab_type": "code",
        "colab": {
          "base_uri": "https://localhost:8080/",
          "height": 68
        },
        "outputId": "eebe5059-81f8-4f68-a318-c4c232666db5"
      },
      "cell_type": "code",
      "source": [
        "for i, (a, b) in enumerate(zip(seq1, seq2)):\n",
        "    print('{0}: {1}, {2}'.format(i, a, b))"
      ],
      "execution_count": 27,
      "outputs": [
        {
          "output_type": "stream",
          "text": [
            "0: foo, one\n",
            "1: bar, two\n",
            "2: baz, three\n"
          ],
          "name": "stdout"
        }
      ]
    },
    {
      "metadata": {
        "id": "0izpDjYDNh7t",
        "colab_type": "text"
      },
      "cell_type": "markdown",
      "source": [
        "Given a “zipped” sequence, zip can be applied in a clever way to “unzip” the\n",
        "sequence. Another way to think about this is converting a list of rows into a list of\n",
        "columns. The syntax, which looks a bit magical, is:"
      ]
    },
    {
      "metadata": {
        "deletable": true,
        "editable": true,
        "id": "JlDSh_incgoc",
        "colab_type": "code",
        "colab": {
          "base_uri": "https://localhost:8080/",
          "height": 34
        },
        "outputId": "cb776e54-cb36-48f7-8b5b-ed8e730f8e58"
      },
      "cell_type": "code",
      "source": [
        "pitchers = [('Nolan', 'Ryan'), ('Roger', 'Clemens'),\n",
        "            ('Curt', 'Schilling')]\n",
        "first_names, last_names = zip(*pitchers)\n",
        "first_names, last_names"
      ],
      "execution_count": 28,
      "outputs": [
        {
          "output_type": "execute_result",
          "data": {
            "text/plain": [
              "(('Nolan', 'Roger', 'Curt'), ('Ryan', 'Clemens', 'Schilling'))"
            ]
          },
          "metadata": {
            "tags": []
          },
          "execution_count": 28
        }
      ]
    },
    {
      "metadata": {
        "deletable": true,
        "editable": true,
        "id": "_BGzdfnIcgod",
        "colab_type": "text"
      },
      "cell_type": "markdown",
      "source": [
        "#### reversed\n",
        "reversed iterates over the elements of a sequence in reverse order:"
      ]
    },
    {
      "metadata": {
        "deletable": true,
        "editable": true,
        "id": "M_mP0Cc3cgoe",
        "colab_type": "code",
        "colab": {
          "base_uri": "https://localhost:8080/",
          "height": 34
        },
        "outputId": "9176cb23-dabb-4419-9e23-6e98a02f77f2"
      },
      "cell_type": "code",
      "source": [
        "list(reversed(range(10)))"
      ],
      "execution_count": 29,
      "outputs": [
        {
          "output_type": "execute_result",
          "data": {
            "text/plain": [
              "[9, 8, 7, 6, 5, 4, 3, 2, 1, 0]"
            ]
          },
          "metadata": {
            "tags": []
          },
          "execution_count": 29
        }
      ]
    },
    {
      "metadata": {
        "id": "072dWOt7coGb",
        "colab_type": "text"
      },
      "cell_type": "markdown",
      "source": [
        "Keep in mind that reversed is a generator (to be discussed in some more detail later),\n",
        "so it does not create the reversed sequence until materialized (e.g., with list or a for\n",
        "loop)."
      ]
    },
    {
      "metadata": {
        "deletable": true,
        "editable": true,
        "id": "55YH7NEwcgog",
        "colab_type": "text"
      },
      "cell_type": "markdown",
      "source": [
        "### dict\n",
        "dict is likely the most important built-in Python data structure. A more common\n",
        "name for it is hash map or associative array. It is a flexibly sized collection of key-value\n",
        "pairs, where key and value are Python objects. One approach for creating one is to use\n",
        "curly braces {} and colons to separate keys and values:"
      ]
    },
    {
      "metadata": {
        "deletable": true,
        "editable": true,
        "id": "Wu_5kmXYcgoh",
        "colab_type": "code",
        "colab": {
          "base_uri": "https://localhost:8080/",
          "height": 34
        },
        "outputId": "544922e0-3e10-471f-9682-f8c666f5caec"
      },
      "cell_type": "code",
      "source": [
        "empty_dict = {}\n",
        "d1 = {'a' : 'some value', 'b' : [1, 2, 3, 4]}\n",
        "d1"
      ],
      "execution_count": 30,
      "outputs": [
        {
          "output_type": "execute_result",
          "data": {
            "text/plain": [
              "{'a': 'some value', 'b': [1, 2, 3, 4]}"
            ]
          },
          "metadata": {
            "tags": []
          },
          "execution_count": 30
        }
      ]
    },
    {
      "metadata": {
        "id": "TKBNQA_Cczo_",
        "colab_type": "text"
      },
      "cell_type": "markdown",
      "source": [
        "You can access, insert, or set elements using the same syntax as for accessing elements\n",
        "of a list or tuple:"
      ]
    },
    {
      "metadata": {
        "deletable": true,
        "editable": true,
        "id": "oZqaTdYDcgoi",
        "colab_type": "code",
        "colab": {
          "base_uri": "https://localhost:8080/",
          "height": 34
        },
        "outputId": "a6ad3704-3e22-41da-b8a0-06e24d4598eb"
      },
      "cell_type": "code",
      "source": [
        "d1[7] = 'an integer'\n",
        "d1, d1['b']"
      ],
      "execution_count": 32,
      "outputs": [
        {
          "output_type": "execute_result",
          "data": {
            "text/plain": [
              "({7: 'an integer', 'a': 'some value', 'b': [1, 2, 3, 4]}, [1, 2, 3, 4])"
            ]
          },
          "metadata": {
            "tags": []
          },
          "execution_count": 32
        }
      ]
    },
    {
      "metadata": {
        "id": "_o8gdPBbdGYo",
        "colab_type": "text"
      },
      "cell_type": "markdown",
      "source": [
        "You can check if a dict contains a key using the same syntax used for checking\n",
        "whether a list or tuple contains a value:"
      ]
    },
    {
      "metadata": {
        "deletable": true,
        "editable": true,
        "id": "GTA2Ez14cgok",
        "colab_type": "code",
        "colab": {
          "base_uri": "https://localhost:8080/",
          "height": 34
        },
        "outputId": "32844f11-bbbf-4359-d604-031508a480e7"
      },
      "cell_type": "code",
      "source": [
        "'b' in d1"
      ],
      "execution_count": 33,
      "outputs": [
        {
          "output_type": "execute_result",
          "data": {
            "text/plain": [
              "True"
            ]
          },
          "metadata": {
            "tags": []
          },
          "execution_count": 33
        }
      ]
    },
    {
      "metadata": {
        "id": "1-zTelxxdZd_",
        "colab_type": "text"
      },
      "cell_type": "markdown",
      "source": [
        "You can delete values either using the del keyword or the pop method (which simultaneously\n",
        "returns the value and deletes the key):"
      ]
    },
    {
      "metadata": {
        "deletable": true,
        "editable": true,
        "id": "bhobpUVzcgom",
        "colab_type": "code",
        "colab": {
          "base_uri": "https://localhost:8080/",
          "height": 119
        },
        "outputId": "173d6720-7df6-4267-87d4-b8165a5561fb"
      },
      "cell_type": "code",
      "source": [
        "d1[5] = 'some value'\n",
        "print(\"d1 =\", d1)\n",
        "d1['dummy'] = 'another value'\n",
        "print(\"\\nd1 =\", d1)\n",
        "del d1[5]\n",
        "print(\"\\nd1 =\", d1)\n",
        "ret = d1.pop('dummy')\n",
        "ret, d1"
      ],
      "execution_count": 34,
      "outputs": [
        {
          "output_type": "stream",
          "text": [
            "d1 = {'a': 'some value', 'b': [1, 2, 3, 4], 7: 'an integer', 5: 'some value'}\n",
            "\n",
            "d1 = {'a': 'some value', 'b': [1, 2, 3, 4], 7: 'an integer', 5: 'some value', 'dummy': 'another value'}\n",
            "\n",
            "d1 = {'a': 'some value', 'b': [1, 2, 3, 4], 7: 'an integer', 'dummy': 'another value'}\n"
          ],
          "name": "stdout"
        },
        {
          "output_type": "execute_result",
          "data": {
            "text/plain": [
              "('another value', {7: 'an integer', 'a': 'some value', 'b': [1, 2, 3, 4]})"
            ]
          },
          "metadata": {
            "tags": []
          },
          "execution_count": 34
        }
      ]
    },
    {
      "metadata": {
        "id": "U7t0YX10d4Ze",
        "colab_type": "text"
      },
      "cell_type": "markdown",
      "source": [
        "The keys and values method give you iterators of the dict’s keys and values, respectively.\n",
        "While the key-value pairs are not in any particular order, these functions output\n",
        "the keys and values in the same order:"
      ]
    },
    {
      "metadata": {
        "deletable": true,
        "editable": true,
        "id": "a8GDV8Zscgoo",
        "colab_type": "code",
        "colab": {
          "base_uri": "https://localhost:8080/",
          "height": 34
        },
        "outputId": "0047c3bc-3536-457c-fd5e-ba4685f4287c"
      },
      "cell_type": "code",
      "source": [
        "list(d1.keys()), list(d1.values())"
      ],
      "execution_count": 35,
      "outputs": [
        {
          "output_type": "execute_result",
          "data": {
            "text/plain": [
              "(['a', 'b', 7], ['some value', [1, 2, 3, 4], 'an integer'])"
            ]
          },
          "metadata": {
            "tags": []
          },
          "execution_count": 35
        }
      ]
    },
    {
      "metadata": {
        "id": "4fzUiUqAeADq",
        "colab_type": "text"
      },
      "cell_type": "markdown",
      "source": [
        "You can merge one dict into another using the update method:"
      ]
    },
    {
      "metadata": {
        "deletable": true,
        "editable": true,
        "id": "iKYLEp1Mcgoq",
        "colab_type": "code",
        "colab": {
          "base_uri": "https://localhost:8080/",
          "height": 34
        },
        "outputId": "a9fd98c6-3459-4f8b-a9f6-e5106fa07288"
      },
      "cell_type": "code",
      "source": [
        "d1.update({'b' : 'foo', 'c' : 12})\n",
        "d1"
      ],
      "execution_count": 36,
      "outputs": [
        {
          "output_type": "execute_result",
          "data": {
            "text/plain": [
              "{7: 'an integer', 'a': 'some value', 'b': 'foo', 'c': 12}"
            ]
          },
          "metadata": {
            "tags": []
          },
          "execution_count": 36
        }
      ]
    },
    {
      "metadata": {
        "id": "pJ52XJTaeBRQ",
        "colab_type": "text"
      },
      "cell_type": "markdown",
      "source": [
        "The update method changes dicts in-place, so any existing keys in the data passed to\n",
        "update will have their old values discarded."
      ]
    },
    {
      "metadata": {
        "deletable": true,
        "editable": true,
        "id": "Sm4dtKNMcgos",
        "colab_type": "text"
      },
      "cell_type": "markdown",
      "source": [
        "#### Creating dicts from sequences\n",
        "It’s common to occasionally end up with two sequences that you want to pair up\n",
        "element-wise in a dict. As a first cut, you might write code like this:"
      ]
    },
    {
      "metadata": {
        "deletable": true,
        "editable": true,
        "id": "cl8HL19Ncgos",
        "colab_type": "text"
      },
      "cell_type": "markdown",
      "source": [
        "mapping = {}\n",
        "\n",
        "for key, value in zip(key_list, value_list):\n",
        "\n",
        "    mapping[key] = value"
      ]
    },
    {
      "metadata": {
        "deletable": true,
        "editable": true,
        "id": "3snxAqekcgot",
        "colab_type": "code",
        "colab": {
          "base_uri": "https://localhost:8080/",
          "height": 34
        },
        "outputId": "1562f70d-f67c-469a-f439-ef69e637e763"
      },
      "cell_type": "code",
      "source": [
        "mapping = dict(zip(range(5), reversed(range(5))))\n",
        "mapping"
      ],
      "execution_count": 37,
      "outputs": [
        {
          "output_type": "execute_result",
          "data": {
            "text/plain": [
              "{0: 4, 1: 3, 2: 2, 3: 1, 4: 0}"
            ]
          },
          "metadata": {
            "tags": []
          },
          "execution_count": 37
        }
      ]
    },
    {
      "metadata": {
        "deletable": true,
        "editable": true,
        "id": "aHECVJbGcgou",
        "colab_type": "text"
      },
      "cell_type": "markdown",
      "source": [
        "#### Default values"
      ]
    },
    {
      "metadata": {
        "deletable": true,
        "editable": true,
        "id": "HOtKmd6zcgov",
        "colab_type": "text"
      },
      "cell_type": "markdown",
      "source": [
        "It’s very common to have logic like:\n",
        "\n",
        "if key in some_dict:\n",
        "\n",
        "    value = some_dict[key]\n",
        "else:\n",
        "\n",
        "    value = default_value\n",
        "    \n",
        "Thus, the dict methods get and pop can take a default value to be returned, so that\n",
        "the above if-else block can be written simply as:\n",
        "\n"
      ]
    },
    {
      "metadata": {
        "deletable": true,
        "editable": true,
        "id": "MUmUMvEkcgov",
        "colab_type": "text"
      },
      "cell_type": "markdown",
      "source": [
        "value = some_dict.get(key, default_value)\n",
        "\n",
        "get by default will return None if the key is not present, while pop will raise an exception.\n",
        "With setting values, a common case is for the values in a dict to be other collections,\n",
        "like lists. For example, you could imagine categorizing a list of words by their\n",
        "first letters as a dict of lists:"
      ]
    },
    {
      "metadata": {
        "deletable": true,
        "editable": true,
        "id": "XhnTIBrHcgoy",
        "colab_type": "code",
        "colab": {
          "base_uri": "https://localhost:8080/",
          "height": 34
        },
        "outputId": "4f9d6a0c-d699-465f-a661-dd02ec96ffc6"
      },
      "cell_type": "code",
      "source": [
        "words = ['apple', 'bat', 'bar', 'atom', 'book']\n",
        "by_letter = {}\n",
        "for word in words:\n",
        "    letter = word[0]\n",
        "    if letter not in by_letter:\n",
        "        by_letter[letter] = [word]\n",
        "    else:\n",
        "        by_letter[letter].append(word)\n",
        "by_letter"
      ],
      "execution_count": 38,
      "outputs": [
        {
          "output_type": "execute_result",
          "data": {
            "text/plain": [
              "{'a': ['apple', 'atom'], 'b': ['bat', 'bar', 'book']}"
            ]
          },
          "metadata": {
            "tags": []
          },
          "execution_count": 38
        }
      ]
    },
    {
      "metadata": {
        "deletable": true,
        "editable": true,
        "id": "84DQgewVcgo0",
        "colab_type": "text"
      },
      "cell_type": "markdown",
      "source": [
        "The setdefault dict method is for precisely this purpose. The preceding for loop\n",
        "can be rewritten as:\n",
        "\n",
        "for word in words:\n",
        "\n",
        "    letter = word[0]\n",
        "    by_letter.setdefault(letter, []).append(word)"
      ]
    },
    {
      "metadata": {
        "deletable": true,
        "editable": true,
        "id": "bu8N3zOZcgo0",
        "colab_type": "text"
      },
      "cell_type": "markdown",
      "source": [
        "The built-in collections module has a useful class, defaultdict, which makes this\n",
        "even easier. To create one, you pass a type or function for generating the default value\n",
        "for each slot in the dict:\n",
        "\n",
        "from collections import defaultdict\n",
        "\n",
        "by_letter = defaultdict(list)\n",
        "\n",
        "for word in words:\n",
        "\n",
        "    by_letter[word[0]].append(word)"
      ]
    },
    {
      "metadata": {
        "deletable": true,
        "editable": true,
        "id": "RgYYAb1gcgo1",
        "colab_type": "text"
      },
      "cell_type": "markdown",
      "source": [
        "#### Valid dict key types\n",
        "While the values of a dict can be any Python object, the keys generally have to be\n",
        "immutable objects like scalar types (int, float, string) or tuples (all the objects in the\n",
        "tuple need to be immutable, too). The technical term here is hashability. You can\n",
        "check whether an object is hashable (can be used as a key in a dict) with the hash\n",
        "function:"
      ]
    },
    {
      "metadata": {
        "id": "bRF_3Qc7f8uD",
        "colab_type": "code",
        "colab": {
          "base_uri": "https://localhost:8080/",
          "height": 34
        },
        "outputId": "ed10b171-027c-43d7-b199-8e15a0258e7f"
      },
      "cell_type": "code",
      "source": [
        "hash('string'), hash((1, 2, (2, 3)))"
      ],
      "execution_count": 41,
      "outputs": [
        {
          "output_type": "execute_result",
          "data": {
            "text/plain": [
              "(81827592110033030, 1097636502276347782)"
            ]
          },
          "metadata": {
            "tags": []
          },
          "execution_count": 41
        }
      ]
    },
    {
      "metadata": {
        "deletable": true,
        "editable": true,
        "id": "1HIbTKCGcgo2",
        "colab_type": "code",
        "colab": {
          "base_uri": "https://localhost:8080/",
          "height": 164
        },
        "outputId": "287c819f-2328-42b0-d3fa-bbce347213c6"
      },
      "cell_type": "code",
      "source": [
        "hash((1, 2, [2, 3])) # fails because lists are mutable"
      ],
      "execution_count": 42,
      "outputs": [
        {
          "output_type": "error",
          "ename": "TypeError",
          "evalue": "ignored",
          "traceback": [
            "\u001b[0;31m---------------------------------------------------------------------------\u001b[0m",
            "\u001b[0;31mTypeError\u001b[0m                                 Traceback (most recent call last)",
            "\u001b[0;32m<ipython-input-42-473c35a62c0b>\u001b[0m in \u001b[0;36m<module>\u001b[0;34m()\u001b[0m\n\u001b[0;32m----> 1\u001b[0;31m \u001b[0mhash\u001b[0m\u001b[0;34m(\u001b[0m\u001b[0;34m(\u001b[0m\u001b[0;36m1\u001b[0m\u001b[0;34m,\u001b[0m \u001b[0;36m2\u001b[0m\u001b[0;34m,\u001b[0m \u001b[0;34m[\u001b[0m\u001b[0;36m2\u001b[0m\u001b[0;34m,\u001b[0m \u001b[0;36m3\u001b[0m\u001b[0;34m]\u001b[0m\u001b[0;34m)\u001b[0m\u001b[0;34m)\u001b[0m \u001b[0;31m# fails because lists are mutable\u001b[0m\u001b[0;34m\u001b[0m\u001b[0;34m\u001b[0m\u001b[0m\n\u001b[0m",
            "\u001b[0;31mTypeError\u001b[0m: unhashable type: 'list'"
          ]
        }
      ]
    },
    {
      "metadata": {
        "id": "g2OAr49wgE2a",
        "colab_type": "text"
      },
      "cell_type": "markdown",
      "source": [
        "To use a list as a key, one option is to convert it to a tuple, which can be hashed as\n",
        "long as its elements also can:"
      ]
    },
    {
      "metadata": {
        "deletable": true,
        "editable": true,
        "id": "oCfEiifkcgo3",
        "colab_type": "code",
        "colab": {
          "base_uri": "https://localhost:8080/",
          "height": 34
        },
        "outputId": "322b5a4b-b02e-4ce3-a240-940e8568e488"
      },
      "cell_type": "code",
      "source": [
        "d = {}\n",
        "d[tuple([1, 2, 3])] = 5\n",
        "d"
      ],
      "execution_count": 43,
      "outputs": [
        {
          "output_type": "execute_result",
          "data": {
            "text/plain": [
              "{(1, 2, 3): 5}"
            ]
          },
          "metadata": {
            "tags": []
          },
          "execution_count": 43
        }
      ]
    },
    {
      "metadata": {
        "deletable": true,
        "editable": true,
        "id": "xpF5vTwWcgo5",
        "colab_type": "text"
      },
      "cell_type": "markdown",
      "source": [
        "### set\n",
        "A set is an unordered collection of unique elements. You can think of them like dicts,\n",
        "but keys only, no values. A set can be created in two ways: via the set function or via\n",
        "a set literal with curly braces:"
      ]
    },
    {
      "metadata": {
        "deletable": true,
        "editable": true,
        "id": "GAAnu-0Scgo5",
        "colab_type": "code",
        "colab": {
          "base_uri": "https://localhost:8080/",
          "height": 34
        },
        "outputId": "cd995a35-f54d-4d06-9a00-87c601a51db4"
      },
      "cell_type": "code",
      "source": [
        "set([2, 2, 2, 1, 3, 3]), {2, 2, 2, 1, 3, 3}"
      ],
      "execution_count": 44,
      "outputs": [
        {
          "output_type": "execute_result",
          "data": {
            "text/plain": [
              "({1, 2, 3}, {1, 2, 3})"
            ]
          },
          "metadata": {
            "tags": []
          },
          "execution_count": 44
        }
      ]
    },
    {
      "metadata": {
        "id": "quSBxTYMgjK-",
        "colab_type": "text"
      },
      "cell_type": "markdown",
      "source": [
        "Sets support mathematical set operations like union, intersection, difference, and\n",
        "symmetric difference. Consider these two example sets:"
      ]
    },
    {
      "metadata": {
        "deletable": true,
        "editable": true,
        "id": "o9OYRch9cgo6",
        "colab_type": "code",
        "colab": {}
      },
      "cell_type": "code",
      "source": [
        "a = {1, 2, 3, 4, 5}\n",
        "b = {3, 4, 5, 6, 7, 8}"
      ],
      "execution_count": 0,
      "outputs": []
    },
    {
      "metadata": {
        "id": "WHeMIQ9JgnU-",
        "colab_type": "text"
      },
      "cell_type": "markdown",
      "source": [
        "The union of these two sets is the set of distinct elements occurring in either set. This\n",
        "can be computed with either the union method or the | binary operator:"
      ]
    },
    {
      "metadata": {
        "deletable": true,
        "editable": true,
        "id": "w_Lik5V_cgpF",
        "colab_type": "code",
        "colab": {
          "base_uri": "https://localhost:8080/",
          "height": 34
        },
        "outputId": "bb64a8e9-693c-43d0-c145-b9f5bf117a8b"
      },
      "cell_type": "code",
      "source": [
        "a.union(b)\n",
        "a | b"
      ],
      "execution_count": 47,
      "outputs": [
        {
          "output_type": "execute_result",
          "data": {
            "text/plain": [
              "{1, 2, 3, 4, 5, 6, 7, 8}"
            ]
          },
          "metadata": {
            "tags": []
          },
          "execution_count": 47
        }
      ]
    },
    {
      "metadata": {
        "id": "4AEJcLxWgsp8",
        "colab_type": "text"
      },
      "cell_type": "markdown",
      "source": [
        "The intersection contains the elements occurring in both sets. The & operator or the\n",
        "intersection method can be used:"
      ]
    },
    {
      "metadata": {
        "deletable": true,
        "editable": true,
        "id": "Ufw5PT5fcgpK",
        "colab_type": "code",
        "colab": {
          "base_uri": "https://localhost:8080/",
          "height": 34
        },
        "outputId": "fefbf4dd-3cec-435b-d58a-1213e5306f2b"
      },
      "cell_type": "code",
      "source": [
        "a.intersection(b), a & b"
      ],
      "execution_count": 49,
      "outputs": [
        {
          "output_type": "execute_result",
          "data": {
            "text/plain": [
              "({3, 4, 5}, {3, 4, 5})"
            ]
          },
          "metadata": {
            "tags": []
          },
          "execution_count": 49
        }
      ]
    },
    {
      "metadata": {
        "id": "jjWPP6k2g4jB",
        "colab_type": "text"
      },
      "cell_type": "markdown",
      "source": [
        "###Table 3-1. Python set operations\n",
        ">```\n",
        "Function | Alternative syntax | Description\n",
        "--- | ---\n",
        "a.add(x) | N/A | Add element x to the set a\n",
        "a.clear() | N/A | Reset the set a to an empty state, discarding all of its elements\n",
        "a.remove(x) | N/A | Remove element x from the set a\n",
        "a.pop() | N/A | Remove an arbitrary element from the set a, raising KeyError if the set is empty\n",
        "a.union(b) | a (vertical bar) b | All of the unique elements in a and b\n",
        "a.update(b) | a (vertical bar)= b  |Set the contents of a to be the union of theelements in a and b\n",
        "a.intersection(b) | a & b | All of the elements in both a and b\n",
        "a.intersection_update(b) | a &= b | Set the contents of a to be the intersection of the elements in a and b\n",
        "a.difference(b) | a - b | The elements in a that are not in b\n",
        "a.difference_update(b) | a -= b | Set a to the elements in a that are not in b\n",
        "a.symmetric_difference(b) | a ^ b | All of the elements in either a or b but not both\n",
        "a.symmetric_difference_update(b) | a ^= b | Set a to contain the elements in either a or b but not both\n",
        "a.issubset(b) | N/A | True if the elements of a are all contained in b\n",
        "a.issuperset(b) | N/A | True if the elements of b are all contained in a\n",
        "a.isdisjoint(b) | N/A | True if a and b have no elements in common\n",
        "\n",
        "All of the logical set operations have in-place counterparts, which enable you to\n",
        "replace the contents of the set on the left side of the operation with the result. For\n",
        "very large sets, this may be more efficient:"
      ]
    },
    {
      "metadata": {
        "id": "5e6IvX4CkeXP",
        "colab_type": "code",
        "colab": {
          "base_uri": "https://localhost:8080/",
          "height": 34
        },
        "outputId": "13667622-4f1c-488f-a428-3f558649c078"
      },
      "cell_type": "code",
      "source": [
        "c = a.copy()\n",
        "c |= b\n",
        "c"
      ],
      "execution_count": 50,
      "outputs": [
        {
          "output_type": "execute_result",
          "data": {
            "text/plain": [
              "{1, 2, 3, 4, 5, 6, 7, 8}"
            ]
          },
          "metadata": {
            "tags": []
          },
          "execution_count": 50
        }
      ]
    },
    {
      "metadata": {
        "deletable": true,
        "editable": true,
        "id": "r28huMaCcgpL",
        "colab_type": "code",
        "colab": {
          "base_uri": "https://localhost:8080/",
          "height": 34
        },
        "outputId": "ad8af8bf-7f4b-4bc5-f22f-f87cbaf31476"
      },
      "cell_type": "code",
      "source": [
        "d = a.copy()\n",
        "d &= b\n",
        "d"
      ],
      "execution_count": 51,
      "outputs": [
        {
          "output_type": "execute_result",
          "data": {
            "text/plain": [
              "{3, 4, 5}"
            ]
          },
          "metadata": {
            "tags": []
          },
          "execution_count": 51
        }
      ]
    },
    {
      "metadata": {
        "id": "LM3Bbj3Qkov-",
        "colab_type": "text"
      },
      "cell_type": "markdown",
      "source": [
        "Like dicts, set elements generally must be immutable. To have list-like elements, you\n",
        "must convert it to a tuple:"
      ]
    },
    {
      "metadata": {
        "deletable": true,
        "editable": true,
        "id": "yfX0thEOcgpS",
        "colab_type": "code",
        "colab": {
          "base_uri": "https://localhost:8080/",
          "height": 34
        },
        "outputId": "c3df9888-dfa7-4dd2-e4da-2c20e834c573"
      },
      "cell_type": "code",
      "source": [
        "my_data = [1, 2, 3, 4]\n",
        "my_set = {tuple(my_data)}\n",
        "my_set"
      ],
      "execution_count": 52,
      "outputs": [
        {
          "output_type": "execute_result",
          "data": {
            "text/plain": [
              "{(1, 2, 3, 4)}"
            ]
          },
          "metadata": {
            "tags": []
          },
          "execution_count": 52
        }
      ]
    },
    {
      "metadata": {
        "id": "rOkwpQsRkwqp",
        "colab_type": "text"
      },
      "cell_type": "markdown",
      "source": [
        "You can also check if a set is a subset of (is contained in) or a superset of (contains all\n",
        "elements of) another set:"
      ]
    },
    {
      "metadata": {
        "deletable": true,
        "editable": true,
        "id": "UNqWOmUEcgpU",
        "colab_type": "code",
        "colab": {
          "base_uri": "https://localhost:8080/",
          "height": 34
        },
        "outputId": "5eec3090-0520-4795-e792-0522656cb23f"
      },
      "cell_type": "code",
      "source": [
        "a_set = {1, 2, 3, 4, 5}\n",
        "{1, 2, 3}.issubset(a_set)\n",
        "a_set.issuperset({1, 2, 3})"
      ],
      "execution_count": 53,
      "outputs": [
        {
          "output_type": "execute_result",
          "data": {
            "text/plain": [
              "True"
            ]
          },
          "metadata": {
            "tags": []
          },
          "execution_count": 53
        }
      ]
    },
    {
      "metadata": {
        "id": "anT5sbnXk55t",
        "colab_type": "text"
      },
      "cell_type": "markdown",
      "source": [
        "Sets are equal if and only if their contents are equal:"
      ]
    },
    {
      "metadata": {
        "deletable": true,
        "editable": true,
        "id": "NHf0H1KJcgpV",
        "colab_type": "code",
        "colab": {
          "base_uri": "https://localhost:8080/",
          "height": 34
        },
        "outputId": "a2b32bbc-6a7b-4bc6-cdbd-d4a16f24a31e"
      },
      "cell_type": "code",
      "source": [
        "{1, 2, 3} == {3, 2, 1}"
      ],
      "execution_count": 54,
      "outputs": [
        {
          "output_type": "execute_result",
          "data": {
            "text/plain": [
              "True"
            ]
          },
          "metadata": {
            "tags": []
          },
          "execution_count": 54
        }
      ]
    },
    {
      "metadata": {
        "deletable": true,
        "editable": true,
        "id": "QN8oXKkrcgpX",
        "colab_type": "text"
      },
      "cell_type": "markdown",
      "source": [
        "### List, Set, and Dict Comprehensions\n",
        "List comprehensions are one of the most-loved Python language features. They allow\n",
        "you to concisely form a new list by filtering the elements of a collection, transforming\n",
        "the elements passing the filter in one concise expression. They take the basic form:"
      ]
    },
    {
      "metadata": {
        "deletable": true,
        "editable": true,
        "id": "gFPpdilTcgpX",
        "colab_type": "text"
      },
      "cell_type": "markdown",
      "source": [
        "[expr for val in collection if condition]\n",
        "\n",
        "This is equivalent to the following for loop:"
      ]
    },
    {
      "metadata": {
        "deletable": true,
        "editable": true,
        "id": "bce_YlCicgpY",
        "colab_type": "text"
      },
      "cell_type": "markdown",
      "source": [
        "result = []\n",
        "\n",
        "for val in collection:\n",
        "\n",
        "    if condition:\n",
        "        result.append(expr)\n",
        "        \n",
        "The filter condition can be omitted, leaving only the expression. For example, given a\n",
        "list of strings, we could filter out strings with length 2 or less and also convert them to\n",
        "uppercase like this:"
      ]
    },
    {
      "metadata": {
        "deletable": true,
        "editable": true,
        "id": "q0QvVfvhcgpY",
        "colab_type": "code",
        "colab": {
          "base_uri": "https://localhost:8080/",
          "height": 34
        },
        "outputId": "08a6d92f-800a-4fdd-dd0c-105729a05003"
      },
      "cell_type": "code",
      "source": [
        "strings = ['a', 'as', 'bat', 'car', 'dove', 'python']\n",
        "[x.upper() for x in strings if len(x) > 2]"
      ],
      "execution_count": 55,
      "outputs": [
        {
          "output_type": "execute_result",
          "data": {
            "text/plain": [
              "['BAT', 'CAR', 'DOVE', 'PYTHON']"
            ]
          },
          "metadata": {
            "tags": []
          },
          "execution_count": 55
        }
      ]
    },
    {
      "metadata": {
        "deletable": true,
        "editable": true,
        "id": "Mrhai4Rccgpa",
        "colab_type": "text"
      },
      "cell_type": "markdown",
      "source": [
        "Set and dict comprehensions are a natural extension, producing sets and dicts in an\n",
        "idiomatically similar way instead of lists. A dict comprehension looks like this:\n",
        "\n",
        "dict_comp = {key-expr : value-expr for value in collection if condition}"
      ]
    },
    {
      "metadata": {
        "deletable": true,
        "editable": true,
        "id": "-s4lzX0Ycgpa",
        "colab_type": "text"
      },
      "cell_type": "markdown",
      "source": [
        "A set comprehension looks like the equivalent list comprehension except with curly\n",
        "braces instead of square brackets:\n",
        "\n",
        "set_comp = {expr for value in collection if condition}"
      ]
    },
    {
      "metadata": {
        "deletable": true,
        "editable": true,
        "id": "MDhvb2rYcgpb",
        "colab_type": "code",
        "colab": {
          "base_uri": "https://localhost:8080/",
          "height": 34
        },
        "outputId": "2d02b168-a489-4819-b831-3ce4db561299"
      },
      "cell_type": "code",
      "source": [
        "unique_lengths = {len(x) for x in strings}\n",
        "unique_lengths"
      ],
      "execution_count": 56,
      "outputs": [
        {
          "output_type": "execute_result",
          "data": {
            "text/plain": [
              "{1, 2, 3, 4, 6}"
            ]
          },
          "metadata": {
            "tags": []
          },
          "execution_count": 56
        }
      ]
    },
    {
      "metadata": {
        "id": "5AwYUKPGmnRg",
        "colab_type": "text"
      },
      "cell_type": "markdown",
      "source": [
        "We could also express this more functionally using the map function, introduced\n",
        "shortly:"
      ]
    },
    {
      "metadata": {
        "deletable": true,
        "editable": true,
        "id": "FTUTcYiJcgpc",
        "colab_type": "code",
        "colab": {
          "base_uri": "https://localhost:8080/",
          "height": 34
        },
        "outputId": "bb99fca6-0976-4789-b14b-5083b7908a82"
      },
      "cell_type": "code",
      "source": [
        "set(map(len, strings))"
      ],
      "execution_count": 57,
      "outputs": [
        {
          "output_type": "execute_result",
          "data": {
            "text/plain": [
              "{1, 2, 3, 4, 6}"
            ]
          },
          "metadata": {
            "tags": []
          },
          "execution_count": 57
        }
      ]
    },
    {
      "metadata": {
        "id": "roK3i6p5mxZT",
        "colab_type": "text"
      },
      "cell_type": "markdown",
      "source": [
        "As a simple dict comprehension example, we could create a lookup map of these\n",
        "strings to their locations in the list:"
      ]
    },
    {
      "metadata": {
        "deletable": true,
        "editable": true,
        "id": "J_b0hsn_cgpl",
        "colab_type": "code",
        "colab": {
          "base_uri": "https://localhost:8080/",
          "height": 34
        },
        "outputId": "ee7acfbe-5246-432b-e482-c0c427972f6e"
      },
      "cell_type": "code",
      "source": [
        "loc_mapping = {val : index for index, val in enumerate(strings)}\n",
        "loc_mapping"
      ],
      "execution_count": 58,
      "outputs": [
        {
          "output_type": "execute_result",
          "data": {
            "text/plain": [
              "{'a': 0, 'as': 1, 'bat': 2, 'car': 3, 'dove': 4, 'python': 5}"
            ]
          },
          "metadata": {
            "tags": []
          },
          "execution_count": 58
        }
      ]
    },
    {
      "metadata": {
        "deletable": true,
        "editable": true,
        "id": "FHiNBQMAcgpm",
        "colab_type": "text"
      },
      "cell_type": "markdown",
      "source": [
        "#### Nested list comprehensions\n",
        "Suppose we have a list of lists containing some English and Spanish names:"
      ]
    },
    {
      "metadata": {
        "deletable": true,
        "editable": true,
        "id": "rhNX8u8Zcgpn",
        "colab_type": "code",
        "colab": {}
      },
      "cell_type": "code",
      "source": [
        "all_data = [['John', 'Emily', 'Michael', 'Mary', 'Steven'],\n",
        "            ['Maria', 'Juan', 'Javier', 'Natalia', 'Pilar']]"
      ],
      "execution_count": 0,
      "outputs": []
    },
    {
      "metadata": {
        "deletable": true,
        "editable": true,
        "id": "chV9lviEcgpo",
        "colab_type": "text"
      },
      "cell_type": "markdown",
      "source": [
        "You might have gotten these names from a couple of files and decided to organize\n",
        "them by language. Now, suppose we wanted to get a single list containing all names\n",
        "with two or more e’s in them. We could certainly do this with a simple for loop:\n",
        "\n",
        "names_of_interest = []\n",
        "\n",
        "for names in all_data:\n",
        "\n",
        "    enough_es = [name for name in names if name.count('e') >= 2]\n",
        "    \n",
        "    names_of_interest.extend(enough_es)\n",
        "    \n",
        "You can actually wrap this whole operation up in a single nested list comprehension,\n",
        "which will look like:"
      ]
    },
    {
      "metadata": {
        "deletable": true,
        "editable": true,
        "id": "IrBtp2RMcgpo",
        "colab_type": "code",
        "colab": {
          "base_uri": "https://localhost:8080/",
          "height": 34
        },
        "outputId": "4e85e097-7dd1-48b4-febe-d1de7c8becbf"
      },
      "cell_type": "code",
      "source": [
        "result = [name for names in all_data for name in names\n",
        "          if name.count('e') >= 2]\n",
        "result"
      ],
      "execution_count": 60,
      "outputs": [
        {
          "output_type": "execute_result",
          "data": {
            "text/plain": [
              "['Steven']"
            ]
          },
          "metadata": {
            "tags": []
          },
          "execution_count": 60
        }
      ]
    },
    {
      "metadata": {
        "id": "CA0HZ_arn_kx",
        "colab_type": "text"
      },
      "cell_type": "markdown",
      "source": [
        "At first, nested list comprehensions are a bit hard to wrap your head around. The for\n",
        "parts of the list comprehension are arranged according to the order of nesting, and\n",
        "any filter condition is put at the end as before. Here is another example where we\n",
        "“flatten” a list of tuples of integers into a simple list of integers:"
      ]
    },
    {
      "metadata": {
        "deletable": true,
        "editable": true,
        "id": "dydDfUCwcgpq",
        "colab_type": "code",
        "colab": {
          "base_uri": "https://localhost:8080/",
          "height": 34
        },
        "outputId": "131ea892-eb2e-4dc7-c395-6251b06a112a"
      },
      "cell_type": "code",
      "source": [
        "some_tuples = [(1, 2, 3), (4, 5, 6), (7, 8, 9)]\n",
        "flattened = [x for tup in some_tuples for x in tup]\n",
        "flattened"
      ],
      "execution_count": 61,
      "outputs": [
        {
          "output_type": "execute_result",
          "data": {
            "text/plain": [
              "[1, 2, 3, 4, 5, 6, 7, 8, 9]"
            ]
          },
          "metadata": {
            "tags": []
          },
          "execution_count": 61
        }
      ]
    },
    {
      "metadata": {
        "deletable": true,
        "editable": true,
        "id": "4DL30xWucgpr",
        "colab_type": "text"
      },
      "cell_type": "markdown",
      "source": [
        "Keep in mind that the order of the for expressions would be the same if you wrote a\n",
        "nested for loop instead of a list comprehension:\n",
        "\n",
        "flattened = []\n",
        "\n",
        "for tup in some_tuples:\n",
        "\n",
        "    for x in tup:\n",
        "        flattened.append(x)\n",
        "\n",
        "You can have arbitrarily many levels of nesting, though if you have more than two or\n",
        "three levels of nesting you should probably start to question whether this makes sense\n",
        "from a code readability standpoint. It’s important to distinguish the syntax just shown\n",
        "from a list comprehension inside a list comprehension, which is also perfectly valid:"
      ]
    },
    {
      "metadata": {
        "deletable": true,
        "editable": true,
        "id": "WtaU8A_Hcgpr",
        "colab_type": "code",
        "colab": {}
      },
      "cell_type": "code",
      "source": [
        "[[x for x in tup] for tup in some_tuples]"
      ],
      "execution_count": 0,
      "outputs": []
    },
    {
      "metadata": {
        "id": "-HCyeFgzoXkV",
        "colab_type": "text"
      },
      "cell_type": "markdown",
      "source": [
        "This produces a list of lists, rather than a flattened list of all of the inner elements."
      ]
    },
    {
      "metadata": {
        "deletable": true,
        "editable": true,
        "id": "xB9UHJeRcgps",
        "colab_type": "text"
      },
      "cell_type": "markdown",
      "source": [
        "## 3.2 Functions"
      ]
    },
    {
      "metadata": {
        "deletable": true,
        "editable": true,
        "id": "pq8aJDeIcgps",
        "colab_type": "text"
      },
      "cell_type": "markdown",
      "source": [
        "def my_function(x, y, z=1.5):\n",
        "    if z > 1:\n",
        "        return z * (x + y)\n",
        "    else:\n",
        "        return z / (x + y)"
      ]
    },
    {
      "metadata": {
        "deletable": true,
        "editable": true,
        "id": "IqO-x403cgpt",
        "colab_type": "text"
      },
      "cell_type": "markdown",
      "source": [
        "my_function(5, 6, z=0.7)\n",
        "my_function(3.14, 7, 3.5)\n",
        "my_function(10, 20)"
      ]
    },
    {
      "metadata": {
        "deletable": true,
        "editable": true,
        "id": "r8j7yObXcgpz",
        "colab_type": "text"
      },
      "cell_type": "markdown",
      "source": [
        "### Namespaces, Scope, and Local Functions"
      ]
    },
    {
      "metadata": {
        "deletable": true,
        "editable": true,
        "id": "UH7njtuWcgpz",
        "colab_type": "text"
      },
      "cell_type": "markdown",
      "source": [
        "def func():\n",
        "    a = []\n",
        "    for i in range(5):\n",
        "        a.append(i)"
      ]
    },
    {
      "metadata": {
        "deletable": true,
        "editable": true,
        "id": "GrC3XCJGcgp0",
        "colab_type": "text"
      },
      "cell_type": "markdown",
      "source": [
        "a = []\n",
        "def func():\n",
        "    for i in range(5):\n",
        "        a.append(i)"
      ]
    },
    {
      "metadata": {
        "deletable": true,
        "editable": true,
        "id": "PSIA3B7Ccgp1",
        "colab_type": "code",
        "colab": {}
      },
      "cell_type": "code",
      "source": [
        "a = None\n",
        "def bind_a_variable():\n",
        "    global a\n",
        "    a = []\n",
        "bind_a_variable()\n",
        "print(a)"
      ],
      "execution_count": 0,
      "outputs": []
    },
    {
      "metadata": {
        "deletable": true,
        "editable": true,
        "id": "Jrf8Ruhpcgp3",
        "colab_type": "text"
      },
      "cell_type": "markdown",
      "source": [
        "### Returning Multiple Values"
      ]
    },
    {
      "metadata": {
        "deletable": true,
        "editable": true,
        "id": "nnzpae3Ycgp3",
        "colab_type": "text"
      },
      "cell_type": "markdown",
      "source": [
        "def f():\n",
        "    a = 5\n",
        "    b = 6\n",
        "    c = 7\n",
        "    return a, b, c\n",
        "\n",
        "a, b, c = f()"
      ]
    },
    {
      "metadata": {
        "deletable": true,
        "editable": true,
        "id": "Y_U_7duscgp4",
        "colab_type": "text"
      },
      "cell_type": "markdown",
      "source": [
        "return_value = f()"
      ]
    },
    {
      "metadata": {
        "deletable": true,
        "editable": true,
        "id": "lQJEUtaBcgp4",
        "colab_type": "text"
      },
      "cell_type": "markdown",
      "source": [
        "def f():\n",
        "    a = 5\n",
        "    b = 6\n",
        "    c = 7\n",
        "    return {'a' : a, 'b' : b, 'c' : c}"
      ]
    },
    {
      "metadata": {
        "deletable": true,
        "editable": true,
        "id": "VorzZEH8cgp5",
        "colab_type": "text"
      },
      "cell_type": "markdown",
      "source": [
        "### Functions Are Objects"
      ]
    },
    {
      "metadata": {
        "deletable": true,
        "editable": true,
        "id": "1QmPgpojcgp6",
        "colab_type": "code",
        "colab": {}
      },
      "cell_type": "code",
      "source": [
        "states = ['   Alabama ', 'Georgia!', 'Georgia', 'georgia', 'FlOrIda',\n",
        "          'south   carolina##', 'West virginia?']"
      ],
      "execution_count": 0,
      "outputs": []
    },
    {
      "metadata": {
        "deletable": true,
        "editable": true,
        "id": "8YLLjBSHcgp7",
        "colab_type": "code",
        "colab": {}
      },
      "cell_type": "code",
      "source": [
        "import re\n",
        "\n",
        "def clean_strings(strings):\n",
        "    result = []\n",
        "    for value in strings:\n",
        "        value = value.strip()\n",
        "        value = re.sub('[!#?]', '', value)\n",
        "        value = value.title()\n",
        "        result.append(value)\n",
        "    return result"
      ],
      "execution_count": 0,
      "outputs": []
    },
    {
      "metadata": {
        "deletable": true,
        "editable": true,
        "id": "T65DGKQ4cgp9",
        "colab_type": "code",
        "colab": {}
      },
      "cell_type": "code",
      "source": [
        "clean_strings(states)"
      ],
      "execution_count": 0,
      "outputs": []
    },
    {
      "metadata": {
        "deletable": true,
        "editable": true,
        "id": "_C-q-vjdcgp-",
        "colab_type": "code",
        "colab": {}
      },
      "cell_type": "code",
      "source": [
        "def remove_punctuation(value):\n",
        "    return re.sub('[!#?]', '', value)\n",
        "\n",
        "clean_ops = [str.strip, remove_punctuation, str.title]\n",
        "\n",
        "def clean_strings(strings, ops):\n",
        "    result = []\n",
        "    for value in strings:\n",
        "        for function in ops:\n",
        "            value = function(value)\n",
        "        result.append(value)\n",
        "    return result"
      ],
      "execution_count": 0,
      "outputs": []
    },
    {
      "metadata": {
        "deletable": true,
        "editable": true,
        "id": "24mJunbxcgqB",
        "colab_type": "code",
        "colab": {}
      },
      "cell_type": "code",
      "source": [
        "clean_strings(states, clean_ops)"
      ],
      "execution_count": 0,
      "outputs": []
    },
    {
      "metadata": {
        "deletable": true,
        "editable": true,
        "id": "UyeaJHigcgrc",
        "colab_type": "code",
        "colab": {}
      },
      "cell_type": "code",
      "source": [
        "for x in map(remove_punctuation, states):\n",
        "    print(x)"
      ],
      "execution_count": 0,
      "outputs": []
    },
    {
      "metadata": {
        "deletable": true,
        "editable": true,
        "id": "rflNUTQVcgre",
        "colab_type": "text"
      },
      "cell_type": "markdown",
      "source": [
        "### Anonymous (Lambda) Functions"
      ]
    },
    {
      "metadata": {
        "deletable": true,
        "editable": true,
        "id": "IWAmRZvncgrf",
        "colab_type": "text"
      },
      "cell_type": "markdown",
      "source": [
        "def short_function(x):\n",
        "    return x * 2\n",
        "\n",
        "equiv_anon = lambda x: x * 2"
      ]
    },
    {
      "metadata": {
        "deletable": true,
        "editable": true,
        "id": "C44TrjIzcgrg",
        "colab_type": "text"
      },
      "cell_type": "markdown",
      "source": [
        "def apply_to_list(some_list, f):\n",
        "    return [f(x) for x in some_list]\n",
        "\n",
        "ints = [4, 0, 1, 5, 6]\n",
        "apply_to_list(ints, lambda x: x * 2)"
      ]
    },
    {
      "metadata": {
        "deletable": true,
        "editable": true,
        "id": "_sAGUbZycgrg",
        "colab_type": "code",
        "colab": {}
      },
      "cell_type": "code",
      "source": [
        "strings = ['foo', 'card', 'bar', 'aaaa', 'abab']"
      ],
      "execution_count": 0,
      "outputs": []
    },
    {
      "metadata": {
        "deletable": true,
        "editable": true,
        "id": "ku4Ch2Chcgri",
        "colab_type": "code",
        "colab": {}
      },
      "cell_type": "code",
      "source": [
        "strings.sort(key=lambda x: len(set(list(x))))\n",
        "strings"
      ],
      "execution_count": 0,
      "outputs": []
    },
    {
      "metadata": {
        "deletable": true,
        "editable": true,
        "id": "D3KpJlPEcgrk",
        "colab_type": "text"
      },
      "cell_type": "markdown",
      "source": [
        "### Currying: Partial Argument Application"
      ]
    },
    {
      "metadata": {
        "deletable": true,
        "editable": true,
        "id": "xMPB4S6Fcgrk",
        "colab_type": "text"
      },
      "cell_type": "markdown",
      "source": [
        "def add_numbers(x, y):\n",
        "    return x + y"
      ]
    },
    {
      "metadata": {
        "deletable": true,
        "editable": true,
        "id": "S636sDyEcgrl",
        "colab_type": "text"
      },
      "cell_type": "markdown",
      "source": [
        "add_five = lambda y: add_numbers(5, y)"
      ]
    },
    {
      "metadata": {
        "deletable": true,
        "editable": true,
        "id": "pvY5t7Qecgrl",
        "colab_type": "text"
      },
      "cell_type": "markdown",
      "source": [
        "from functools import partial\n",
        "add_five = partial(add_numbers, 5)"
      ]
    },
    {
      "metadata": {
        "deletable": true,
        "editable": true,
        "id": "pnNsTZK6cgrm",
        "colab_type": "text"
      },
      "cell_type": "markdown",
      "source": [
        "### Generators"
      ]
    },
    {
      "metadata": {
        "deletable": true,
        "editable": true,
        "id": "H3YLUb_5cgrm",
        "colab_type": "code",
        "colab": {}
      },
      "cell_type": "code",
      "source": [
        "some_dict = {'a': 1, 'b': 2, 'c': 3}\n",
        "for key in some_dict:\n",
        "    print(key)"
      ],
      "execution_count": 0,
      "outputs": []
    },
    {
      "metadata": {
        "deletable": true,
        "editable": true,
        "id": "twE6L76Jcgro",
        "colab_type": "code",
        "colab": {}
      },
      "cell_type": "code",
      "source": [
        "dict_iterator = iter(some_dict)\n",
        "dict_iterator"
      ],
      "execution_count": 0,
      "outputs": []
    },
    {
      "metadata": {
        "deletable": true,
        "editable": true,
        "id": "KuhRY1tScgrp",
        "colab_type": "code",
        "colab": {}
      },
      "cell_type": "code",
      "source": [
        "list(dict_iterator)"
      ],
      "execution_count": 0,
      "outputs": []
    },
    {
      "metadata": {
        "deletable": true,
        "editable": true,
        "id": "ijm6U84-cgrq",
        "colab_type": "code",
        "colab": {}
      },
      "cell_type": "code",
      "source": [
        "def squares(n=10):\n",
        "    print('Generating squares from 1 to {0}'.format(n ** 2))\n",
        "    for i in range(1, n + 1):\n",
        "        yield i ** 2"
      ],
      "execution_count": 0,
      "outputs": []
    },
    {
      "metadata": {
        "deletable": true,
        "editable": true,
        "id": "fybq9CAqcgrz",
        "colab_type": "code",
        "colab": {}
      },
      "cell_type": "code",
      "source": [
        "gen = squares()\n",
        "gen"
      ],
      "execution_count": 0,
      "outputs": []
    },
    {
      "metadata": {
        "deletable": true,
        "editable": true,
        "id": "hvAK_53jcgr1",
        "colab_type": "code",
        "colab": {}
      },
      "cell_type": "code",
      "source": [
        "for x in gen:\n",
        "    print(x, end=' ')"
      ],
      "execution_count": 0,
      "outputs": []
    },
    {
      "metadata": {
        "deletable": true,
        "editable": true,
        "id": "MM6HJur6cgr2",
        "colab_type": "text"
      },
      "cell_type": "markdown",
      "source": [
        "#### Generator expresssions"
      ]
    },
    {
      "metadata": {
        "deletable": true,
        "editable": true,
        "id": "NtiLChfzcgr2",
        "colab_type": "code",
        "colab": {}
      },
      "cell_type": "code",
      "source": [
        "gen = (x ** 2 for x in range(100))\n",
        "gen"
      ],
      "execution_count": 0,
      "outputs": []
    },
    {
      "metadata": {
        "deletable": true,
        "editable": true,
        "id": "tPqx45TOcgr4",
        "colab_type": "text"
      },
      "cell_type": "markdown",
      "source": [
        "def _make_gen():\n",
        "    for x in range(100):\n",
        "        yield x ** 2\n",
        "gen = _make_gen()"
      ]
    },
    {
      "metadata": {
        "deletable": true,
        "editable": true,
        "id": "h6B4ull7cgr4",
        "colab_type": "code",
        "colab": {}
      },
      "cell_type": "code",
      "source": [
        "sum(x ** 2 for x in range(100))\n",
        "dict((i, i **2) for i in range(5))"
      ],
      "execution_count": 0,
      "outputs": []
    },
    {
      "metadata": {
        "deletable": true,
        "editable": true,
        "id": "Bu2RHfmicgr6",
        "colab_type": "text"
      },
      "cell_type": "markdown",
      "source": [
        "#### itertools module"
      ]
    },
    {
      "metadata": {
        "deletable": true,
        "editable": true,
        "id": "yjo2cubbcgr6",
        "colab_type": "code",
        "colab": {}
      },
      "cell_type": "code",
      "source": [
        "import itertools\n",
        "first_letter = lambda x: x[0]\n",
        "names = ['Alan', 'Adam', 'Wes', 'Will', 'Albert', 'Steven']\n",
        "for letter, names in itertools.groupby(names, first_letter):\n",
        "    print(letter, list(names)) # names is a generator"
      ],
      "execution_count": 0,
      "outputs": []
    },
    {
      "metadata": {
        "deletable": true,
        "editable": true,
        "id": "1ga56X1dcgr8",
        "colab_type": "text"
      },
      "cell_type": "markdown",
      "source": [
        "### Errors and Exception Handling"
      ]
    },
    {
      "metadata": {
        "deletable": true,
        "editable": true,
        "id": "NLlSH_Ydcgr8",
        "colab_type": "code",
        "colab": {}
      },
      "cell_type": "code",
      "source": [
        "float('1.2345')\n",
        "float('something')"
      ],
      "execution_count": 0,
      "outputs": []
    },
    {
      "metadata": {
        "deletable": true,
        "editable": true,
        "id": "U4GiEnsRcgr9",
        "colab_type": "code",
        "colab": {}
      },
      "cell_type": "code",
      "source": [
        "def attempt_float(x):\n",
        "    try:\n",
        "        return float(x)\n",
        "    except:\n",
        "        return x"
      ],
      "execution_count": 0,
      "outputs": []
    },
    {
      "metadata": {
        "deletable": true,
        "editable": true,
        "id": "MYXKGt9Jcgr-",
        "colab_type": "code",
        "colab": {}
      },
      "cell_type": "code",
      "source": [
        "attempt_float('1.2345')\n",
        "attempt_float('something')"
      ],
      "execution_count": 0,
      "outputs": []
    },
    {
      "metadata": {
        "deletable": true,
        "editable": true,
        "id": "xGFM--_2cgr_",
        "colab_type": "code",
        "colab": {}
      },
      "cell_type": "code",
      "source": [
        "float((1, 2))"
      ],
      "execution_count": 0,
      "outputs": []
    },
    {
      "metadata": {
        "deletable": true,
        "editable": true,
        "id": "USpqsCU8cgsA",
        "colab_type": "code",
        "colab": {}
      },
      "cell_type": "code",
      "source": [
        "def attempt_float(x):\n",
        "    try:\n",
        "        return float(x)\n",
        "    except ValueError:\n",
        "        return x"
      ],
      "execution_count": 0,
      "outputs": []
    },
    {
      "metadata": {
        "deletable": true,
        "editable": true,
        "id": "yE0FGY4ecgsD",
        "colab_type": "code",
        "colab": {}
      },
      "cell_type": "code",
      "source": [
        "attempt_float((1, 2))"
      ],
      "execution_count": 0,
      "outputs": []
    },
    {
      "metadata": {
        "deletable": true,
        "editable": true,
        "id": "2jWMzjV6cgsE",
        "colab_type": "code",
        "colab": {}
      },
      "cell_type": "code",
      "source": [
        "def attempt_float(x):\n",
        "    try:\n",
        "        return float(x)\n",
        "    except (TypeError, ValueError):\n",
        "        return x"
      ],
      "execution_count": 0,
      "outputs": []
    },
    {
      "metadata": {
        "deletable": true,
        "editable": true,
        "id": "8xC1WLyucgsJ",
        "colab_type": "text"
      },
      "cell_type": "markdown",
      "source": [
        "f = open(path, 'w')\n",
        "\n",
        "try:\n",
        "    write_to_file(f)\n",
        "finally:\n",
        "    f.close()"
      ]
    },
    {
      "metadata": {
        "deletable": true,
        "editable": true,
        "id": "8maHW_-dcgsK",
        "colab_type": "text"
      },
      "cell_type": "markdown",
      "source": [
        "f = open(path, 'w')\n",
        "\n",
        "try:\n",
        "    write_to_file(f)\n",
        "except:\n",
        "    print('Failed')\n",
        "else:\n",
        "    print('Succeeded')\n",
        "finally:\n",
        "    f.close()"
      ]
    },
    {
      "metadata": {
        "deletable": true,
        "editable": true,
        "id": "4UDL1watcgsK",
        "colab_type": "text"
      },
      "cell_type": "markdown",
      "source": [
        "#### Exceptions in IPython"
      ]
    },
    {
      "metadata": {
        "deletable": true,
        "editable": true,
        "id": "VhT1K_qAcgsL",
        "colab_type": "text"
      },
      "cell_type": "markdown",
      "source": [
        "In [10]: %run examples/ipython_bug.py\n",
        "---------------------------------------------------------------------------\n",
        "AssertionError                            Traceback (most recent call last)\n",
        "/home/wesm/code/pydata-book/examples/ipython_bug.py in <module>()\n",
        "     13     throws_an_exception()\n",
        "     14\n",
        "---> 15 calling_things()\n",
        "\n",
        "/home/wesm/code/pydata-book/examples/ipython_bug.py in calling_things()\n",
        "     11 def calling_things():\n",
        "     12     works_fine()\n",
        "---> 13     throws_an_exception()\n",
        "     14\n",
        "     15 calling_things()\n",
        "\n",
        "/home/wesm/code/pydata-book/examples/ipython_bug.py in throws_an_exception()\n",
        "      7     a = 5\n",
        "      8     b = 6\n",
        "----> 9     assert(a + b == 10)\n",
        "     10\n",
        "     11 def calling_things():\n",
        "\n",
        "AssertionError:"
      ]
    },
    {
      "metadata": {
        "deletable": true,
        "editable": true,
        "id": "BGaK8xWmcgsM",
        "colab_type": "text"
      },
      "cell_type": "markdown",
      "source": [
        "## Files and the Operating System"
      ]
    },
    {
      "metadata": {
        "deletable": true,
        "editable": true,
        "id": "HM8sbZ1McgsM",
        "colab_type": "code",
        "colab": {}
      },
      "cell_type": "code",
      "source": [
        "%pushd book-materials"
      ],
      "execution_count": 0,
      "outputs": []
    },
    {
      "metadata": {
        "deletable": true,
        "editable": true,
        "id": "K1z6PzLWcgsN",
        "colab_type": "code",
        "colab": {}
      },
      "cell_type": "code",
      "source": [
        "path = 'examples/segismundo.txt'\n",
        "f = open(path)"
      ],
      "execution_count": 0,
      "outputs": []
    },
    {
      "metadata": {
        "deletable": true,
        "editable": true,
        "id": "u7NGA6RjcgsO",
        "colab_type": "text"
      },
      "cell_type": "markdown",
      "source": [
        "for line in f:\n",
        "    pass"
      ]
    },
    {
      "metadata": {
        "deletable": true,
        "editable": true,
        "id": "-cc9kA8xcgsP",
        "colab_type": "code",
        "colab": {}
      },
      "cell_type": "code",
      "source": [
        "lines = [x.rstrip() for x in open(path)]\n",
        "lines"
      ],
      "execution_count": 0,
      "outputs": []
    },
    {
      "metadata": {
        "deletable": true,
        "editable": true,
        "id": "7ea2wEENcgsQ",
        "colab_type": "code",
        "colab": {}
      },
      "cell_type": "code",
      "source": [
        "f.close()"
      ],
      "execution_count": 0,
      "outputs": []
    },
    {
      "metadata": {
        "deletable": true,
        "editable": true,
        "id": "zkUTn6RLcgsR",
        "colab_type": "code",
        "colab": {}
      },
      "cell_type": "code",
      "source": [
        "with open(path) as f:\n",
        "    lines = [x.rstrip() for x in f]"
      ],
      "execution_count": 0,
      "outputs": []
    },
    {
      "metadata": {
        "deletable": true,
        "editable": true,
        "id": "caXjHIlxcgsS",
        "colab_type": "code",
        "colab": {}
      },
      "cell_type": "code",
      "source": [
        "f = open(path)\n",
        "f.read(10)\n",
        "f2 = open(path, 'rb')  # Binary mode\n",
        "f2.read(10)"
      ],
      "execution_count": 0,
      "outputs": []
    },
    {
      "metadata": {
        "deletable": true,
        "editable": true,
        "id": "ZyhFobKEcgsU",
        "colab_type": "code",
        "colab": {}
      },
      "cell_type": "code",
      "source": [
        "f.tell()\n",
        "f2.tell()"
      ],
      "execution_count": 0,
      "outputs": []
    },
    {
      "metadata": {
        "deletable": true,
        "editable": true,
        "id": "tUJsyVzScgsV",
        "colab_type": "code",
        "colab": {}
      },
      "cell_type": "code",
      "source": [
        "import sys\n",
        "sys.getdefaultencoding()"
      ],
      "execution_count": 0,
      "outputs": []
    },
    {
      "metadata": {
        "deletable": true,
        "editable": true,
        "id": "0StsbTRycgsX",
        "colab_type": "code",
        "colab": {}
      },
      "cell_type": "code",
      "source": [
        "f.seek(3)\n",
        "f.read(1)"
      ],
      "execution_count": 0,
      "outputs": []
    },
    {
      "metadata": {
        "deletable": true,
        "editable": true,
        "id": "PbtTQwU5cgsY",
        "colab_type": "code",
        "colab": {}
      },
      "cell_type": "code",
      "source": [
        "f.close()\n",
        "f2.close()"
      ],
      "execution_count": 0,
      "outputs": []
    },
    {
      "metadata": {
        "deletable": true,
        "editable": true,
        "id": "xDrWOq5Pcgsa",
        "colab_type": "code",
        "colab": {}
      },
      "cell_type": "code",
      "source": [
        "with open('tmp.txt', 'w') as handle:\n",
        "    handle.writelines(x for x in open(path) if len(x) > 1)\n",
        "with open('tmp.txt') as f:\n",
        "    lines = f.readlines()\n",
        "lines"
      ],
      "execution_count": 0,
      "outputs": []
    },
    {
      "metadata": {
        "deletable": true,
        "editable": true,
        "id": "SPWMJFi1cgsc",
        "colab_type": "code",
        "colab": {}
      },
      "cell_type": "code",
      "source": [
        "import os\n",
        "os.remove('tmp.txt')"
      ],
      "execution_count": 0,
      "outputs": []
    },
    {
      "metadata": {
        "deletable": true,
        "editable": true,
        "id": "Z1wF_C_gcgsd",
        "colab_type": "text"
      },
      "cell_type": "markdown",
      "source": [
        "### Bytes and Unicode with Files"
      ]
    },
    {
      "metadata": {
        "deletable": true,
        "editable": true,
        "id": "qbc3ZKyYcgsd",
        "colab_type": "code",
        "colab": {}
      },
      "cell_type": "code",
      "source": [
        "with open(path) as f:\n",
        "    chars = f.read(10)\n",
        "chars"
      ],
      "execution_count": 0,
      "outputs": []
    },
    {
      "metadata": {
        "deletable": true,
        "editable": true,
        "id": "6E1LXPjFcgsf",
        "colab_type": "code",
        "colab": {}
      },
      "cell_type": "code",
      "source": [
        "with open(path, 'rb') as f:\n",
        "    data = f.read(10)\n",
        "data"
      ],
      "execution_count": 0,
      "outputs": []
    },
    {
      "metadata": {
        "deletable": true,
        "editable": true,
        "id": "feF6ewLfcgsg",
        "colab_type": "code",
        "colab": {}
      },
      "cell_type": "code",
      "source": [
        "data.decode('utf8')\n",
        "data[:4].decode('utf8')"
      ],
      "execution_count": 0,
      "outputs": []
    },
    {
      "metadata": {
        "deletable": true,
        "editable": true,
        "id": "UeOvBI4qcgsh",
        "colab_type": "code",
        "colab": {}
      },
      "cell_type": "code",
      "source": [
        "sink_path = 'sink.txt'\n",
        "with open(path) as source:\n",
        "    with open(sink_path, 'xt', encoding='iso-8859-1') as sink:\n",
        "        sink.write(source.read())\n",
        "with open(sink_path, encoding='iso-8859-1') as f:\n",
        "    print(f.read(10))"
      ],
      "execution_count": 0,
      "outputs": []
    },
    {
      "metadata": {
        "deletable": true,
        "editable": true,
        "id": "f6k5wi64cgsi",
        "colab_type": "code",
        "colab": {}
      },
      "cell_type": "code",
      "source": [
        "os.remove(sink_path)"
      ],
      "execution_count": 0,
      "outputs": []
    },
    {
      "metadata": {
        "deletable": true,
        "editable": true,
        "id": "vXWq8Cu_cgsj",
        "colab_type": "code",
        "colab": {}
      },
      "cell_type": "code",
      "source": [
        "f = open(path)\n",
        "f.read(5)\n",
        "f.seek(4)\n",
        "f.read(1)\n",
        "f.close()"
      ],
      "execution_count": 0,
      "outputs": []
    },
    {
      "metadata": {
        "deletable": true,
        "editable": true,
        "id": "O1nA54nbcgsm",
        "colab_type": "code",
        "colab": {}
      },
      "cell_type": "code",
      "source": [
        "%popd"
      ],
      "execution_count": 0,
      "outputs": []
    },
    {
      "metadata": {
        "deletable": true,
        "editable": true,
        "id": "PbpNP8Vkcgsn",
        "colab_type": "text"
      },
      "cell_type": "markdown",
      "source": [
        "## Conclusion"
      ]
    }
  ]
}