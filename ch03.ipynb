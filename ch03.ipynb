{
  "nbformat": 4,
  "nbformat_minor": 0,
  "metadata": {
    "colab": {
      "name": "ch03.ipynb",
      "version": "0.3.2",
      "provenance": [],
      "collapsed_sections": [
        "vdicGdUdcgnF",
        "C_vdcPC4cgnR",
        "C6kKcvJtcgnn",
        "dlg_gw5Kcgn3",
        "c0G6He7wcgn9",
        "pm0h7jkKcgoB",
        "zBYglyoocgoQ",
        "qq3tSbWQcgoQ",
        "JupDzU4AcgoT",
        "nLLdBP8ncgoW",
        "_BGzdfnIcgod",
        "55YH7NEwcgog",
        "Sm4dtKNMcgos",
        "aHECVJbGcgou",
        "RgYYAb1gcgo1",
        "xpF5vTwWcgo5",
        "QN8oXKkrcgpX",
        "FHiNBQMAcgpm",
        "r8j7yObXcgpz",
        "Jrf8Ruhpcgp3",
        "VorzZEH8cgp5",
        "rflNUTQVcgre",
        "D3KpJlPEcgrk",
        "pnNsTZK6cgrm",
        "MM6HJur6cgr2",
        "Bu2RHfmicgr6",
        "1ga56X1dcgr8",
        "4UDL1watcgsK",
        "Z1wF_C_gcgsd"
      ],
      "include_colab_link": true
    },
    "kernelspec": {
      "display_name": "Python 3",
      "language": "python",
      "name": "python3"
    }
  },
  "cells": [
    {
      "cell_type": "markdown",
      "metadata": {
        "id": "view-in-github",
        "colab_type": "text"
      },
      "source": [
        "<a href=\"https://colab.research.google.com/github/wel51x/Python-for-Data-Analysis/blob/master/ch03.ipynb\" target=\"_parent\"><img src=\"https://colab.research.google.com/assets/colab-badge.svg\" alt=\"Open In Colab\"/></a>"
      ]
    },
    {
      "metadata": {
        "deletable": true,
        "editable": true,
        "id": "VyHe8PGccgk-",
        "colab_type": "text"
      },
      "cell_type": "markdown",
      "source": [
        "# CHAPTER 3: Built-in Data Structures, Functions, and Files\n",
        "This chapter discusses capabilities built into the Python language that will be used\n",
        "ubiquitously throughout the book. While add-on libraries like pandas and NumPy\n",
        "add advanced computational functionality for larger datasets, they are designed to be\n",
        "used together with Python’s built-in data manipulation tools.\n",
        "We’ll start with Python’s workhorse data structures: tuples, lists, dicts, and sets. Then,\n",
        "we’ll discuss creating your own reusable Python functions. Finally, we’ll look at the\n",
        "mechanics of Python file objects and interacting with your local hard drive."
      ]
    },
    {
      "metadata": {
        "deletable": true,
        "editable": true,
        "id": "Ub63dRzGcglJ",
        "colab_type": "text"
      },
      "cell_type": "markdown",
      "source": [
        "## 3.1 Data Structures and Sequences\n",
        "Python’s data structures are simple but powerful. Mastering their use is a critical part\n",
        "of becoming a proficient Python programmer."
      ]
    },
    {
      "metadata": {
        "deletable": true,
        "editable": true,
        "id": "BU15jbtPcglO",
        "colab_type": "text"
      },
      "cell_type": "markdown",
      "source": [
        "### Tuple\n",
        "A tuple is a fixed-length, immutable sequence of Python objects. The easiest way to\n",
        "create one is with a comma-separated sequence of values:"
      ]
    },
    {
      "metadata": {
        "deletable": true,
        "editable": true,
        "id": "UKv7jg0WcglZ",
        "colab_type": "code",
        "colab": {
          "base_uri": "https://localhost:8080/",
          "height": 34
        },
        "outputId": "24a6d934-74ef-404c-d3f4-dc1666a823a5"
      },
      "cell_type": "code",
      "source": [
        "tup = 4, 5, 6\n",
        "tup"
      ],
      "execution_count": 1,
      "outputs": [
        {
          "output_type": "execute_result",
          "data": {
            "text/plain": [
              "(4, 5, 6)"
            ]
          },
          "metadata": {
            "tags": []
          },
          "execution_count": 1
        }
      ]
    },
    {
      "metadata": {
        "id": "QMJm5y5cdFoA",
        "colab_type": "text"
      },
      "cell_type": "markdown",
      "source": [
        "When you’re defining tuples in more complicated expressions, it’s often necessary to\n",
        "enclose the values in parentheses, as in this example of creating a tuple of tuples:"
      ]
    },
    {
      "metadata": {
        "deletable": true,
        "editable": true,
        "id": "PEuIHuLLcgls",
        "colab_type": "code",
        "colab": {
          "base_uri": "https://localhost:8080/",
          "height": 34
        },
        "outputId": "5b2bd391-b9aa-4ae2-a384-3a06350a266b"
      },
      "cell_type": "code",
      "source": [
        "nested_tup = (4, 5, 6), (7, 8)\n",
        "nested_tup"
      ],
      "execution_count": 2,
      "outputs": [
        {
          "output_type": "execute_result",
          "data": {
            "text/plain": [
              "((4, 5, 6), (7, 8))"
            ]
          },
          "metadata": {
            "tags": []
          },
          "execution_count": 2
        }
      ]
    },
    {
      "metadata": {
        "id": "ABehhGtOdL2E",
        "colab_type": "text"
      },
      "cell_type": "markdown",
      "source": [
        "You can convert any sequence or iterator to a tuple by invoking tuple:"
      ]
    },
    {
      "metadata": {
        "deletable": true,
        "editable": true,
        "id": "7r_ej27Gcgl-",
        "colab_type": "code",
        "colab": {
          "base_uri": "https://localhost:8080/",
          "height": 34
        },
        "outputId": "1e8c554d-c29c-440c-ab40-9e8f97dc0754"
      },
      "cell_type": "code",
      "source": [
        "tuple([4, 0, 2])\n",
        "tup = tuple('string')\n",
        "tup"
      ],
      "execution_count": 3,
      "outputs": [
        {
          "output_type": "execute_result",
          "data": {
            "text/plain": [
              "('s', 't', 'r', 'i', 'n', 'g')"
            ]
          },
          "metadata": {
            "tags": []
          },
          "execution_count": 3
        }
      ]
    },
    {
      "metadata": {
        "id": "AKV6-2xZdRfJ",
        "colab_type": "text"
      },
      "cell_type": "markdown",
      "source": [
        "Elements can be accessed with square brackets [] as with most other sequence types.\n",
        "\n",
        "\n",
        "As in C, C++, Java, and many other languages, sequences are 0-indexed in Python:"
      ]
    },
    {
      "metadata": {
        "deletable": true,
        "editable": true,
        "id": "L1mh2LXncgmI",
        "colab_type": "code",
        "colab": {
          "base_uri": "https://localhost:8080/",
          "height": 34
        },
        "outputId": "a0caa662-61be-4fa6-ad65-11b97cfba6ed"
      },
      "cell_type": "code",
      "source": [
        "tup[0]"
      ],
      "execution_count": 4,
      "outputs": [
        {
          "output_type": "execute_result",
          "data": {
            "text/plain": [
              "'s'"
            ]
          },
          "metadata": {
            "tags": []
          },
          "execution_count": 4
        }
      ]
    },
    {
      "metadata": {
        "id": "TA0mKn3ndbPD",
        "colab_type": "text"
      },
      "cell_type": "markdown",
      "source": [
        "While the objects stored in a tuple may be mutable themselves, once the tuple is created\n",
        "it’s not possible to modify which object is stored in each slot:"
      ]
    },
    {
      "metadata": {
        "deletable": true,
        "editable": true,
        "id": "uvfCgBPGcgmO",
        "colab_type": "code",
        "colab": {
          "base_uri": "https://localhost:8080/",
          "height": 181
        },
        "outputId": "00015682-4340-4072-f8b0-e46e556c6ec2"
      },
      "cell_type": "code",
      "source": [
        "tup = tuple(['foo', [1, 2], True])\n",
        "tup[2] = False"
      ],
      "execution_count": 5,
      "outputs": [
        {
          "output_type": "error",
          "ename": "TypeError",
          "evalue": "ignored",
          "traceback": [
            "\u001b[0;31m---------------------------------------------------------------------------\u001b[0m",
            "\u001b[0;31mTypeError\u001b[0m                                 Traceback (most recent call last)",
            "\u001b[0;32m<ipython-input-5-11b694945ab9>\u001b[0m in \u001b[0;36m<module>\u001b[0;34m()\u001b[0m\n\u001b[1;32m      1\u001b[0m \u001b[0mtup\u001b[0m \u001b[0;34m=\u001b[0m \u001b[0mtuple\u001b[0m\u001b[0;34m(\u001b[0m\u001b[0;34m[\u001b[0m\u001b[0;34m'foo'\u001b[0m\u001b[0;34m,\u001b[0m \u001b[0;34m[\u001b[0m\u001b[0;36m1\u001b[0m\u001b[0;34m,\u001b[0m \u001b[0;36m2\u001b[0m\u001b[0;34m]\u001b[0m\u001b[0;34m,\u001b[0m \u001b[0;32mTrue\u001b[0m\u001b[0;34m]\u001b[0m\u001b[0;34m)\u001b[0m\u001b[0;34m\u001b[0m\u001b[0;34m\u001b[0m\u001b[0m\n\u001b[0;32m----> 2\u001b[0;31m \u001b[0mtup\u001b[0m\u001b[0;34m[\u001b[0m\u001b[0;36m2\u001b[0m\u001b[0;34m]\u001b[0m \u001b[0;34m=\u001b[0m \u001b[0;32mFalse\u001b[0m\u001b[0;34m\u001b[0m\u001b[0;34m\u001b[0m\u001b[0m\n\u001b[0m",
            "\u001b[0;31mTypeError\u001b[0m: 'tuple' object does not support item assignment"
          ]
        }
      ]
    },
    {
      "metadata": {
        "id": "PWwST_JmdaLc",
        "colab_type": "text"
      },
      "cell_type": "markdown",
      "source": [
        "If an object inside a tuple is mutable, such as a list, you can modify it in-place:"
      ]
    },
    {
      "metadata": {
        "deletable": true,
        "editable": true,
        "id": "FV_9u1IEcgmT",
        "colab_type": "code",
        "colab": {
          "base_uri": "https://localhost:8080/",
          "height": 34
        },
        "outputId": "9122aace-c860-42d5-e835-a7e88fb45ce4"
      },
      "cell_type": "code",
      "source": [
        "tup[1].append(3)\n",
        "tup"
      ],
      "execution_count": 6,
      "outputs": [
        {
          "output_type": "execute_result",
          "data": {
            "text/plain": [
              "('foo', [1, 2, 3], True)"
            ]
          },
          "metadata": {
            "tags": []
          },
          "execution_count": 6
        }
      ]
    },
    {
      "metadata": {
        "id": "AuZVdpF1dmrm",
        "colab_type": "text"
      },
      "cell_type": "markdown",
      "source": [
        "You can concatenate tuples using the + operator to produce longer tuples:"
      ]
    },
    {
      "metadata": {
        "deletable": true,
        "editable": true,
        "id": "R42R7lcIcgmc",
        "colab_type": "code",
        "colab": {
          "base_uri": "https://localhost:8080/",
          "height": 34
        },
        "outputId": "84d73e72-0838-4fa3-dcc8-f76a07a4238a"
      },
      "cell_type": "code",
      "source": [
        "(4, None, 'foo') + (6, 0) + ('bar',)"
      ],
      "execution_count": 7,
      "outputs": [
        {
          "output_type": "execute_result",
          "data": {
            "text/plain": [
              "(4, None, 'foo', 6, 0, 'bar')"
            ]
          },
          "metadata": {
            "tags": []
          },
          "execution_count": 7
        }
      ]
    },
    {
      "metadata": {
        "id": "jNgCXpU3ds2A",
        "colab_type": "text"
      },
      "cell_type": "markdown",
      "source": [
        "Multiplying a tuple by an integer, as with lists, has the effect of concatenating together\n",
        "that many copies of the tuple:"
      ]
    },
    {
      "metadata": {
        "deletable": true,
        "editable": true,
        "id": "Q3_bSPBScgmg",
        "colab_type": "code",
        "colab": {
          "base_uri": "https://localhost:8080/",
          "height": 34
        },
        "outputId": "c645bddb-39cd-410b-a1fa-66a896df7537"
      },
      "cell_type": "code",
      "source": [
        "('foo', 'bar') * 4"
      ],
      "execution_count": 8,
      "outputs": [
        {
          "output_type": "execute_result",
          "data": {
            "text/plain": [
              "('foo', 'bar', 'foo', 'bar', 'foo', 'bar', 'foo', 'bar')"
            ]
          },
          "metadata": {
            "tags": []
          },
          "execution_count": 8
        }
      ]
    },
    {
      "metadata": {
        "id": "Q5YfvwUmdzJl",
        "colab_type": "text"
      },
      "cell_type": "markdown",
      "source": [
        "Note that the objects themselves are not copied, only the references to them."
      ]
    },
    {
      "metadata": {
        "deletable": true,
        "editable": true,
        "id": "fppt4mnscgml",
        "colab_type": "text"
      },
      "cell_type": "markdown",
      "source": [
        "#### Unpacking tuples\n",
        "If you try to assign to a tuple-like expression of variables, Python will attempt to\n",
        "unpack the value on the righthand side of the equals sign:"
      ]
    },
    {
      "metadata": {
        "deletable": true,
        "editable": true,
        "id": "kO68ibxLcgmm",
        "colab_type": "code",
        "colab": {
          "base_uri": "https://localhost:8080/",
          "height": 34
        },
        "outputId": "d780cd08-b407-4f83-b76a-a98419e8f7b7"
      },
      "cell_type": "code",
      "source": [
        "tup = (4, 5, 6)\n",
        "a, b, c = tup\n",
        "b"
      ],
      "execution_count": 9,
      "outputs": [
        {
          "output_type": "execute_result",
          "data": {
            "text/plain": [
              "5"
            ]
          },
          "metadata": {
            "tags": []
          },
          "execution_count": 9
        }
      ]
    },
    {
      "metadata": {
        "id": "2ZFNLtj0d-jR",
        "colab_type": "text"
      },
      "cell_type": "markdown",
      "source": [
        "Even sequences with nested tuples can be unpacked:"
      ]
    },
    {
      "metadata": {
        "deletable": true,
        "editable": true,
        "id": "CaB3AApqcgmp",
        "colab_type": "code",
        "colab": {
          "base_uri": "https://localhost:8080/",
          "height": 34
        },
        "outputId": "90e5a18a-7c26-4424-d498-901611251397"
      },
      "cell_type": "code",
      "source": [
        "tup = 4, 5, (6, 7)\n",
        "a, b, (c, d) = tup\n",
        "d"
      ],
      "execution_count": 10,
      "outputs": [
        {
          "output_type": "execute_result",
          "data": {
            "text/plain": [
              "7"
            ]
          },
          "metadata": {
            "tags": []
          },
          "execution_count": 10
        }
      ]
    },
    {
      "metadata": {
        "deletable": true,
        "editable": true,
        "id": "dLFfskkPcgmt",
        "colab_type": "text"
      },
      "cell_type": "markdown",
      "source": [
        "Using this functionality you can easily swap variable names, a task which in many\n",
        "languages might look like:\n",
        "\n",
        "tmp = a\n",
        "\n",
        "a = b\n",
        "\n",
        "b = tmp\n",
        "\n",
        "But, in Python, the swap can be done like this:"
      ]
    },
    {
      "metadata": {
        "deletable": true,
        "editable": true,
        "id": "6LOgHmb0cgmu",
        "colab_type": "code",
        "colab": {
          "base_uri": "https://localhost:8080/",
          "height": 51
        },
        "outputId": "dbecfa20-5d53-4f96-9abe-89a73f1423d9"
      },
      "cell_type": "code",
      "source": [
        "a, b = 1, 2\n",
        "print(a, b)\n",
        "b, a = a, b\n",
        "a, b"
      ],
      "execution_count": 12,
      "outputs": [
        {
          "output_type": "stream",
          "text": [
            "1 2\n"
          ],
          "name": "stdout"
        },
        {
          "output_type": "execute_result",
          "data": {
            "text/plain": [
              "(2, 1)"
            ]
          },
          "metadata": {
            "tags": []
          },
          "execution_count": 12
        }
      ]
    },
    {
      "metadata": {
        "id": "OugLcEaCegLj",
        "colab_type": "text"
      },
      "cell_type": "markdown",
      "source": [
        "A common use of variable unpacking is iterating over sequences of tuples or lists:"
      ]
    },
    {
      "metadata": {
        "deletable": true,
        "editable": true,
        "id": "p_pPI7zlcgm0",
        "colab_type": "code",
        "colab": {
          "base_uri": "https://localhost:8080/",
          "height": 68
        },
        "outputId": "b9c52b5c-b654-46ad-f475-9fbbd3b9d2d5"
      },
      "cell_type": "code",
      "source": [
        "seq = [(1, 2, 3), (4, 5, 6), (7, 8, 9)]\n",
        "for a, b, c in seq:\n",
        "    print('a={0}, b={1}, c={2}'.format(a, b, c))"
      ],
      "execution_count": 13,
      "outputs": [
        {
          "output_type": "stream",
          "text": [
            "a=1, b=2, c=3\n",
            "a=4, b=5, c=6\n",
            "a=7, b=8, c=9\n"
          ],
          "name": "stdout"
        }
      ]
    },
    {
      "metadata": {
        "id": "mN9uxnAHexBe",
        "colab_type": "text"
      },
      "cell_type": "markdown",
      "source": [
        "Another common use is returning multiple values from a function. I’ll cover this in\n",
        "more detail later.\n",
        "\n",
        "The Python language recently acquired some more advanced tuple unpacking to help\n",
        "with situations where you may want to “pluck” a few elements from the beginning of\n",
        "a tuple. This uses the special syntax *rest, which is also used in function signatures\n",
        "to capture an arbitrarily long list of positional arguments:"
      ]
    },
    {
      "metadata": {
        "deletable": true,
        "editable": true,
        "id": "cqTCK-6_cgm4",
        "colab_type": "code",
        "colab": {
          "base_uri": "https://localhost:8080/",
          "height": 51
        },
        "outputId": "e9202879-effa-4048-fb73-001d5aed508c"
      },
      "cell_type": "code",
      "source": [
        "values = 1, 2, 3, 4, 5\n",
        "a, b, *rest = values\n",
        "print(a, b)\n",
        "rest"
      ],
      "execution_count": 14,
      "outputs": [
        {
          "output_type": "stream",
          "text": [
            "1 2\n"
          ],
          "name": "stdout"
        },
        {
          "output_type": "execute_result",
          "data": {
            "text/plain": [
              "[3, 4, 5]"
            ]
          },
          "metadata": {
            "tags": []
          },
          "execution_count": 14
        }
      ]
    },
    {
      "metadata": {
        "id": "WFzbbUase-9p",
        "colab_type": "text"
      },
      "cell_type": "markdown",
      "source": [
        "This rest bit is sometimes something you want to discard; there is nothing special\n",
        "about the rest name. As a matter of convention, many Python programmers will use\n",
        "the underscore (_) for unwanted variables:"
      ]
    },
    {
      "metadata": {
        "deletable": true,
        "editable": true,
        "id": "I4JkKyOfcgm7",
        "colab_type": "code",
        "colab": {}
      },
      "cell_type": "code",
      "source": [
        "a, b, *_ = values"
      ],
      "execution_count": 0,
      "outputs": []
    },
    {
      "metadata": {
        "deletable": true,
        "editable": true,
        "id": "qsu1rsW5cgnA",
        "colab_type": "text"
      },
      "cell_type": "markdown",
      "source": [
        "#### Tuple methods\n",
        "Since the size and contents of a tuple cannot be modified, it is very light on instance\n",
        "methods. A particularly useful one (also available on lists) is count, which counts the\n",
        "number of occurrences of a value:"
      ]
    },
    {
      "metadata": {
        "deletable": true,
        "editable": true,
        "id": "PwfFF8PAcgnB",
        "colab_type": "code",
        "colab": {
          "base_uri": "https://localhost:8080/",
          "height": 34
        },
        "outputId": "2dd5d689-25e5-43cd-bed3-48a74eb1816e"
      },
      "cell_type": "code",
      "source": [
        "a = (1, 2, 2, 2, 3, 4, 2)\n",
        "a.count(2)"
      ],
      "execution_count": 17,
      "outputs": [
        {
          "output_type": "execute_result",
          "data": {
            "text/plain": [
              "4"
            ]
          },
          "metadata": {
            "tags": []
          },
          "execution_count": 17
        }
      ]
    },
    {
      "metadata": {
        "deletable": true,
        "editable": true,
        "id": "vdicGdUdcgnF",
        "colab_type": "text"
      },
      "cell_type": "markdown",
      "source": [
        "### List"
      ]
    },
    {
      "metadata": {
        "deletable": true,
        "editable": true,
        "id": "YOYkFsVLcgnG",
        "colab_type": "code",
        "colab": {}
      },
      "cell_type": "code",
      "source": [
        "a_list = [2, 3, 7, None]\n",
        "tup = ('foo', 'bar', 'baz')\n",
        "b_list = list(tup)\n",
        "b_list\n",
        "b_list[1] = 'peekaboo'\n",
        "b_list"
      ],
      "execution_count": 0,
      "outputs": []
    },
    {
      "metadata": {
        "deletable": true,
        "editable": true,
        "id": "Kb8t7MBRcgnJ",
        "colab_type": "code",
        "colab": {}
      },
      "cell_type": "code",
      "source": [
        "gen = range(10)\n",
        "gen\n",
        "list(gen)"
      ],
      "execution_count": 0,
      "outputs": []
    },
    {
      "metadata": {
        "deletable": true,
        "editable": true,
        "id": "C_vdcPC4cgnR",
        "colab_type": "text"
      },
      "cell_type": "markdown",
      "source": [
        "#### Adding and removing elements"
      ]
    },
    {
      "metadata": {
        "deletable": true,
        "editable": true,
        "id": "718qhQRDcgnU",
        "colab_type": "code",
        "colab": {}
      },
      "cell_type": "code",
      "source": [
        "b_list.append('dwarf')\n",
        "b_list"
      ],
      "execution_count": 0,
      "outputs": []
    },
    {
      "metadata": {
        "deletable": true,
        "editable": true,
        "id": "3uzOVLndcgnX",
        "colab_type": "code",
        "colab": {}
      },
      "cell_type": "code",
      "source": [
        "b_list.insert(1, 'red')\n",
        "b_list"
      ],
      "execution_count": 0,
      "outputs": []
    },
    {
      "metadata": {
        "deletable": true,
        "editable": true,
        "id": "iacka45pcgnZ",
        "colab_type": "code",
        "colab": {}
      },
      "cell_type": "code",
      "source": [
        "b_list.pop(2)\n",
        "b_list"
      ],
      "execution_count": 0,
      "outputs": []
    },
    {
      "metadata": {
        "deletable": true,
        "editable": true,
        "id": "vVvxJupYcgnc",
        "colab_type": "code",
        "colab": {}
      },
      "cell_type": "code",
      "source": [
        "b_list.append('foo')\n",
        "b_list\n",
        "b_list.remove('foo')\n",
        "b_list"
      ],
      "execution_count": 0,
      "outputs": []
    },
    {
      "metadata": {
        "deletable": true,
        "editable": true,
        "id": "HINCRt4ncgnf",
        "colab_type": "code",
        "colab": {}
      },
      "cell_type": "code",
      "source": [
        "'dwarf' in b_list"
      ],
      "execution_count": 0,
      "outputs": []
    },
    {
      "metadata": {
        "deletable": true,
        "editable": true,
        "id": "mhfSoIgOcgnk",
        "colab_type": "code",
        "colab": {}
      },
      "cell_type": "code",
      "source": [
        "'dwarf' not in b_list"
      ],
      "execution_count": 0,
      "outputs": []
    },
    {
      "metadata": {
        "deletable": true,
        "editable": true,
        "id": "C6kKcvJtcgnn",
        "colab_type": "text"
      },
      "cell_type": "markdown",
      "source": [
        "#### Concatenating and combining lists"
      ]
    },
    {
      "metadata": {
        "deletable": true,
        "editable": true,
        "id": "slKRn6HDcgnp",
        "colab_type": "code",
        "colab": {}
      },
      "cell_type": "code",
      "source": [
        "[4, None, 'foo'] + [7, 8, (2, 3)]"
      ],
      "execution_count": 0,
      "outputs": []
    },
    {
      "metadata": {
        "deletable": true,
        "editable": true,
        "id": "TUYFziKlcgns",
        "colab_type": "code",
        "colab": {}
      },
      "cell_type": "code",
      "source": [
        "x = [4, None, 'foo']\n",
        "x.extend([7, 8, (2, 3)])\n",
        "x"
      ],
      "execution_count": 0,
      "outputs": []
    },
    {
      "metadata": {
        "deletable": true,
        "editable": true,
        "id": "Dps6VQZUcgn0",
        "colab_type": "text"
      },
      "cell_type": "markdown",
      "source": [
        "everything = []\n",
        "for chunk in list_of_lists:\n",
        "    everything.extend(chunk)"
      ]
    },
    {
      "metadata": {
        "deletable": true,
        "editable": true,
        "id": "g8rYZijUcgn1",
        "colab_type": "text"
      },
      "cell_type": "markdown",
      "source": [
        "everything = []\n",
        "for chunk in list_of_lists:\n",
        "    everything = everything + chunk"
      ]
    },
    {
      "metadata": {
        "deletable": true,
        "editable": true,
        "id": "dlg_gw5Kcgn3",
        "colab_type": "text"
      },
      "cell_type": "markdown",
      "source": [
        "#### Sorting"
      ]
    },
    {
      "metadata": {
        "deletable": true,
        "editable": true,
        "id": "MHXhGkUBcgn4",
        "colab_type": "code",
        "colab": {}
      },
      "cell_type": "code",
      "source": [
        "a = [7, 2, 5, 1, 3]\n",
        "a.sort()\n",
        "a"
      ],
      "execution_count": 0,
      "outputs": []
    },
    {
      "metadata": {
        "deletable": true,
        "editable": true,
        "id": "ee-0GAKfcgn7",
        "colab_type": "code",
        "colab": {}
      },
      "cell_type": "code",
      "source": [
        "b = ['saw', 'small', 'He', 'foxes', 'six']\n",
        "b.sort(key=len)\n",
        "b"
      ],
      "execution_count": 0,
      "outputs": []
    },
    {
      "metadata": {
        "deletable": true,
        "editable": true,
        "id": "c0G6He7wcgn9",
        "colab_type": "text"
      },
      "cell_type": "markdown",
      "source": [
        "#### Binary search and maintaining a sorted list"
      ]
    },
    {
      "metadata": {
        "deletable": true,
        "editable": true,
        "id": "btG6jD_0cgn-",
        "colab_type": "code",
        "colab": {}
      },
      "cell_type": "code",
      "source": [
        "import bisect\n",
        "c = [1, 2, 2, 2, 3, 4, 7]\n",
        "bisect.bisect(c, 2)\n",
        "bisect.bisect(c, 5)\n",
        "bisect.insort(c, 6)\n",
        "c"
      ],
      "execution_count": 0,
      "outputs": []
    },
    {
      "metadata": {
        "deletable": true,
        "editable": true,
        "id": "pm0h7jkKcgoB",
        "colab_type": "text"
      },
      "cell_type": "markdown",
      "source": [
        "#### Slicing"
      ]
    },
    {
      "metadata": {
        "deletable": true,
        "editable": true,
        "id": "LKiV1NHzcgoC",
        "colab_type": "code",
        "colab": {}
      },
      "cell_type": "code",
      "source": [
        "seq = [7, 2, 3, 7, 5, 6, 0, 1]\n",
        "seq[1:5]"
      ],
      "execution_count": 0,
      "outputs": []
    },
    {
      "metadata": {
        "deletable": true,
        "editable": true,
        "id": "wjPBuuxmcgoF",
        "colab_type": "code",
        "colab": {}
      },
      "cell_type": "code",
      "source": [
        "seq[3:4] = [6, 3]\n",
        "seq"
      ],
      "execution_count": 0,
      "outputs": []
    },
    {
      "metadata": {
        "deletable": true,
        "editable": true,
        "id": "85lUGYAocgoH",
        "colab_type": "code",
        "colab": {}
      },
      "cell_type": "code",
      "source": [
        "seq[:5]\n",
        "seq[3:]"
      ],
      "execution_count": 0,
      "outputs": []
    },
    {
      "metadata": {
        "deletable": true,
        "editable": true,
        "id": "tsgZEm35cgoJ",
        "colab_type": "code",
        "colab": {}
      },
      "cell_type": "code",
      "source": [
        "seq[-4:]\n",
        "seq[-6:-2]"
      ],
      "execution_count": 0,
      "outputs": []
    },
    {
      "metadata": {
        "deletable": true,
        "editable": true,
        "id": "sdjKN9SUcgoL",
        "colab_type": "code",
        "colab": {}
      },
      "cell_type": "code",
      "source": [
        "seq[::2]"
      ],
      "execution_count": 0,
      "outputs": []
    },
    {
      "metadata": {
        "deletable": true,
        "editable": true,
        "id": "HKWrkaS1cgoN",
        "colab_type": "code",
        "colab": {}
      },
      "cell_type": "code",
      "source": [
        "seq[::-1]"
      ],
      "execution_count": 0,
      "outputs": []
    },
    {
      "metadata": {
        "deletable": true,
        "editable": true,
        "id": "zBYglyoocgoQ",
        "colab_type": "text"
      },
      "cell_type": "markdown",
      "source": [
        "### Built-in Sequence Functions"
      ]
    },
    {
      "metadata": {
        "deletable": true,
        "editable": true,
        "id": "qq3tSbWQcgoQ",
        "colab_type": "text"
      },
      "cell_type": "markdown",
      "source": [
        "#### enumerate"
      ]
    },
    {
      "metadata": {
        "deletable": true,
        "editable": true,
        "id": "2vSsSm-NcgoQ",
        "colab_type": "text"
      },
      "cell_type": "markdown",
      "source": [
        "i = 0\n",
        "for value in collection:\n",
        "   # do something with value\n",
        "   i += 1"
      ]
    },
    {
      "metadata": {
        "deletable": true,
        "editable": true,
        "id": "O0T1flpScgoR",
        "colab_type": "text"
      },
      "cell_type": "markdown",
      "source": [
        "for i, value in enumerate(collection):\n",
        "   # do something with value"
      ]
    },
    {
      "metadata": {
        "deletable": true,
        "editable": true,
        "id": "271mTdMncgoS",
        "colab_type": "code",
        "colab": {}
      },
      "cell_type": "code",
      "source": [
        "some_list = ['foo', 'bar', 'baz']\n",
        "mapping = {}\n",
        "for i, v in enumerate(some_list):\n",
        "    mapping[v] = i\n",
        "mapping"
      ],
      "execution_count": 0,
      "outputs": []
    },
    {
      "metadata": {
        "deletable": true,
        "editable": true,
        "id": "JupDzU4AcgoT",
        "colab_type": "text"
      },
      "cell_type": "markdown",
      "source": [
        "#### sorted"
      ]
    },
    {
      "metadata": {
        "deletable": true,
        "editable": true,
        "id": "X7lxnMovcgoU",
        "colab_type": "code",
        "colab": {}
      },
      "cell_type": "code",
      "source": [
        "sorted([7, 1, 2, 6, 0, 3, 2])\n",
        "sorted('horse race')"
      ],
      "execution_count": 0,
      "outputs": []
    },
    {
      "metadata": {
        "deletable": true,
        "editable": true,
        "id": "nLLdBP8ncgoW",
        "colab_type": "text"
      },
      "cell_type": "markdown",
      "source": [
        "#### zip"
      ]
    },
    {
      "metadata": {
        "deletable": true,
        "editable": true,
        "id": "g93etY0dcgoX",
        "colab_type": "code",
        "colab": {}
      },
      "cell_type": "code",
      "source": [
        "seq1 = ['foo', 'bar', 'baz']\n",
        "seq2 = ['one', 'two', 'three']\n",
        "zipped = zip(seq1, seq2)\n",
        "list(zipped)"
      ],
      "execution_count": 0,
      "outputs": []
    },
    {
      "metadata": {
        "deletable": true,
        "editable": true,
        "id": "APaKBK6DcgoY",
        "colab_type": "code",
        "colab": {}
      },
      "cell_type": "code",
      "source": [
        "seq3 = [False, True]\n",
        "list(zip(seq1, seq2, seq3))"
      ],
      "execution_count": 0,
      "outputs": []
    },
    {
      "metadata": {
        "deletable": true,
        "editable": true,
        "id": "BmiugUOEcgoa",
        "colab_type": "code",
        "colab": {}
      },
      "cell_type": "code",
      "source": [
        "for i, (a, b) in enumerate(zip(seq1, seq2)):\n",
        "    print('{0}: {1}, {2}'.format(i, a, b))"
      ],
      "execution_count": 0,
      "outputs": []
    },
    {
      "metadata": {
        "deletable": true,
        "editable": true,
        "id": "JlDSh_incgoc",
        "colab_type": "code",
        "colab": {}
      },
      "cell_type": "code",
      "source": [
        "pitchers = [('Nolan', 'Ryan'), ('Roger', 'Clemens'),\n",
        "            ('Schilling', 'Curt')]\n",
        "first_names, last_names = zip(*pitchers)\n",
        "first_names\n",
        "last_names"
      ],
      "execution_count": 0,
      "outputs": []
    },
    {
      "metadata": {
        "deletable": true,
        "editable": true,
        "id": "_BGzdfnIcgod",
        "colab_type": "text"
      },
      "cell_type": "markdown",
      "source": [
        "#### reversed"
      ]
    },
    {
      "metadata": {
        "deletable": true,
        "editable": true,
        "id": "M_mP0Cc3cgoe",
        "colab_type": "code",
        "colab": {}
      },
      "cell_type": "code",
      "source": [
        "list(reversed(range(10)))"
      ],
      "execution_count": 0,
      "outputs": []
    },
    {
      "metadata": {
        "deletable": true,
        "editable": true,
        "id": "55YH7NEwcgog",
        "colab_type": "text"
      },
      "cell_type": "markdown",
      "source": [
        "### dict"
      ]
    },
    {
      "metadata": {
        "deletable": true,
        "editable": true,
        "id": "Wu_5kmXYcgoh",
        "colab_type": "code",
        "colab": {}
      },
      "cell_type": "code",
      "source": [
        "empty_dict = {}\n",
        "d1 = {'a' : 'some value', 'b' : [1, 2, 3, 4]}\n",
        "d1"
      ],
      "execution_count": 0,
      "outputs": []
    },
    {
      "metadata": {
        "deletable": true,
        "editable": true,
        "id": "oZqaTdYDcgoi",
        "colab_type": "code",
        "colab": {}
      },
      "cell_type": "code",
      "source": [
        "d1[7] = 'an integer'\n",
        "d1\n",
        "d1['b']"
      ],
      "execution_count": 0,
      "outputs": []
    },
    {
      "metadata": {
        "deletable": true,
        "editable": true,
        "id": "GTA2Ez14cgok",
        "colab_type": "code",
        "colab": {}
      },
      "cell_type": "code",
      "source": [
        "'b' in d1"
      ],
      "execution_count": 0,
      "outputs": []
    },
    {
      "metadata": {
        "deletable": true,
        "editable": true,
        "id": "bhobpUVzcgom",
        "colab_type": "code",
        "colab": {}
      },
      "cell_type": "code",
      "source": [
        "d1[5] = 'some value'\n",
        "d1\n",
        "d1['dummy'] = 'another value'\n",
        "d1\n",
        "del d1[5]\n",
        "d1\n",
        "ret = d1.pop('dummy')\n",
        "ret\n",
        "d1"
      ],
      "execution_count": 0,
      "outputs": []
    },
    {
      "metadata": {
        "deletable": true,
        "editable": true,
        "id": "a8GDV8Zscgoo",
        "colab_type": "code",
        "colab": {}
      },
      "cell_type": "code",
      "source": [
        "list(d1.keys())\n",
        "list(d1.values())"
      ],
      "execution_count": 0,
      "outputs": []
    },
    {
      "metadata": {
        "deletable": true,
        "editable": true,
        "id": "iKYLEp1Mcgoq",
        "colab_type": "code",
        "colab": {}
      },
      "cell_type": "code",
      "source": [
        "d1.update({'b' : 'foo', 'c' : 12})\n",
        "d1"
      ],
      "execution_count": 0,
      "outputs": []
    },
    {
      "metadata": {
        "deletable": true,
        "editable": true,
        "id": "Sm4dtKNMcgos",
        "colab_type": "text"
      },
      "cell_type": "markdown",
      "source": [
        "#### Creating dicts from sequences"
      ]
    },
    {
      "metadata": {
        "deletable": true,
        "editable": true,
        "id": "cl8HL19Ncgos",
        "colab_type": "text"
      },
      "cell_type": "markdown",
      "source": [
        "mapping = {}\n",
        "for key, value in zip(key_list, value_list):\n",
        "    mapping[key] = value"
      ]
    },
    {
      "metadata": {
        "deletable": true,
        "editable": true,
        "id": "3snxAqekcgot",
        "colab_type": "code",
        "colab": {}
      },
      "cell_type": "code",
      "source": [
        "mapping = dict(zip(range(5), reversed(range(5))))\n",
        "mapping"
      ],
      "execution_count": 0,
      "outputs": []
    },
    {
      "metadata": {
        "deletable": true,
        "editable": true,
        "id": "aHECVJbGcgou",
        "colab_type": "text"
      },
      "cell_type": "markdown",
      "source": [
        "#### Default values"
      ]
    },
    {
      "metadata": {
        "deletable": true,
        "editable": true,
        "id": "HOtKmd6zcgov",
        "colab_type": "text"
      },
      "cell_type": "markdown",
      "source": [
        "if key in some_dict:\n",
        "    value = some_dict[key]\n",
        "else:\n",
        "    value = default_value"
      ]
    },
    {
      "metadata": {
        "deletable": true,
        "editable": true,
        "id": "MUmUMvEkcgov",
        "colab_type": "text"
      },
      "cell_type": "markdown",
      "source": [
        "value = some_dict.get(key, default_value)"
      ]
    },
    {
      "metadata": {
        "deletable": true,
        "editable": true,
        "id": "XhnTIBrHcgoy",
        "colab_type": "code",
        "colab": {}
      },
      "cell_type": "code",
      "source": [
        "words = ['apple', 'bat', 'bar', 'atom', 'book']\n",
        "by_letter = {}\n",
        "for word in words:\n",
        "    letter = word[0]\n",
        "    if letter not in by_letter:\n",
        "        by_letter[letter] = [word]\n",
        "    else:\n",
        "        by_letter[letter].append(word)\n",
        "by_letter"
      ],
      "execution_count": 0,
      "outputs": []
    },
    {
      "metadata": {
        "deletable": true,
        "editable": true,
        "id": "84DQgewVcgo0",
        "colab_type": "text"
      },
      "cell_type": "markdown",
      "source": [
        "for word in words:\n",
        "    letter = word[0]\n",
        "    by_letter.setdefault(letter, []).append(word)"
      ]
    },
    {
      "metadata": {
        "deletable": true,
        "editable": true,
        "id": "bu8N3zOZcgo0",
        "colab_type": "text"
      },
      "cell_type": "markdown",
      "source": [
        "from collections import defaultdict\n",
        "by_letter = defaultdict(list)\n",
        "for word in words:\n",
        "    by_letter[word[0]].append(word)"
      ]
    },
    {
      "metadata": {
        "deletable": true,
        "editable": true,
        "id": "RgYYAb1gcgo1",
        "colab_type": "text"
      },
      "cell_type": "markdown",
      "source": [
        "#### Valid dict key types"
      ]
    },
    {
      "metadata": {
        "deletable": true,
        "editable": true,
        "id": "1HIbTKCGcgo2",
        "colab_type": "code",
        "colab": {}
      },
      "cell_type": "code",
      "source": [
        "hash('string')\n",
        "hash((1, 2, (2, 3)))\n",
        "hash((1, 2, [2, 3])) # fails because lists are mutable"
      ],
      "execution_count": 0,
      "outputs": []
    },
    {
      "metadata": {
        "deletable": true,
        "editable": true,
        "id": "oCfEiifkcgo3",
        "colab_type": "code",
        "colab": {}
      },
      "cell_type": "code",
      "source": [
        "d = {}\n",
        "d[tuple([1, 2, 3])] = 5\n",
        "d"
      ],
      "execution_count": 0,
      "outputs": []
    },
    {
      "metadata": {
        "deletable": true,
        "editable": true,
        "id": "xpF5vTwWcgo5",
        "colab_type": "text"
      },
      "cell_type": "markdown",
      "source": [
        "### set"
      ]
    },
    {
      "metadata": {
        "deletable": true,
        "editable": true,
        "id": "GAAnu-0Scgo5",
        "colab_type": "code",
        "colab": {}
      },
      "cell_type": "code",
      "source": [
        "set([2, 2, 2, 1, 3, 3])\n",
        "{2, 2, 2, 1, 3, 3}"
      ],
      "execution_count": 0,
      "outputs": []
    },
    {
      "metadata": {
        "deletable": true,
        "editable": true,
        "id": "o9OYRch9cgo6",
        "colab_type": "code",
        "colab": {}
      },
      "cell_type": "code",
      "source": [
        "a = {1, 2, 3, 4, 5}\n",
        "b = {3, 4, 5, 6, 7, 8}"
      ],
      "execution_count": 0,
      "outputs": []
    },
    {
      "metadata": {
        "deletable": true,
        "editable": true,
        "id": "w_Lik5V_cgpF",
        "colab_type": "code",
        "colab": {}
      },
      "cell_type": "code",
      "source": [
        "a.union(b)\n",
        "a | b"
      ],
      "execution_count": 0,
      "outputs": []
    },
    {
      "metadata": {
        "deletable": true,
        "editable": true,
        "id": "Ufw5PT5fcgpK",
        "colab_type": "code",
        "colab": {}
      },
      "cell_type": "code",
      "source": [
        "a.intersection(b)\n",
        "a & b"
      ],
      "execution_count": 0,
      "outputs": []
    },
    {
      "metadata": {
        "deletable": true,
        "editable": true,
        "id": "r28huMaCcgpL",
        "colab_type": "code",
        "colab": {}
      },
      "cell_type": "code",
      "source": [
        "c = a.copy()\n",
        "c |= b\n",
        "c\n",
        "d = a.copy()\n",
        "d &= b\n",
        "d"
      ],
      "execution_count": 0,
      "outputs": []
    },
    {
      "metadata": {
        "deletable": true,
        "editable": true,
        "id": "yfX0thEOcgpS",
        "colab_type": "code",
        "colab": {}
      },
      "cell_type": "code",
      "source": [
        "my_data = [1, 2, 3, 4]\n",
        "my_set = {tuple(my_data)}\n",
        "my_set"
      ],
      "execution_count": 0,
      "outputs": []
    },
    {
      "metadata": {
        "deletable": true,
        "editable": true,
        "id": "UNqWOmUEcgpU",
        "colab_type": "code",
        "colab": {}
      },
      "cell_type": "code",
      "source": [
        "a_set = {1, 2, 3, 4, 5}\n",
        "{1, 2, 3}.issubset(a_set)\n",
        "a_set.issuperset({1, 2, 3})"
      ],
      "execution_count": 0,
      "outputs": []
    },
    {
      "metadata": {
        "deletable": true,
        "editable": true,
        "id": "NHf0H1KJcgpV",
        "colab_type": "code",
        "colab": {}
      },
      "cell_type": "code",
      "source": [
        "{1, 2, 3} == {3, 2, 1}"
      ],
      "execution_count": 0,
      "outputs": []
    },
    {
      "metadata": {
        "deletable": true,
        "editable": true,
        "id": "QN8oXKkrcgpX",
        "colab_type": "text"
      },
      "cell_type": "markdown",
      "source": [
        "### List, Set, and Dict Comprehensions"
      ]
    },
    {
      "metadata": {
        "deletable": true,
        "editable": true,
        "id": "gFPpdilTcgpX",
        "colab_type": "text"
      },
      "cell_type": "markdown",
      "source": [
        "["
      ]
    },
    {
      "metadata": {
        "deletable": true,
        "editable": true,
        "id": "bce_YlCicgpY",
        "colab_type": "text"
      },
      "cell_type": "markdown",
      "source": [
        "result = []\n",
        "for val in collection:\n",
        "    if "
      ]
    },
    {
      "metadata": {
        "deletable": true,
        "editable": true,
        "id": "q0QvVfvhcgpY",
        "colab_type": "code",
        "colab": {}
      },
      "cell_type": "code",
      "source": [
        "strings = ['a', 'as', 'bat', 'car', 'dove', 'python']\n",
        "[x.upper() for x in strings if len(x) > 2]"
      ],
      "execution_count": 0,
      "outputs": []
    },
    {
      "metadata": {
        "deletable": true,
        "editable": true,
        "id": "Mrhai4Rccgpa",
        "colab_type": "text"
      },
      "cell_type": "markdown",
      "source": [
        "dict_comp = {"
      ]
    },
    {
      "metadata": {
        "deletable": true,
        "editable": true,
        "id": "-s4lzX0Ycgpa",
        "colab_type": "text"
      },
      "cell_type": "markdown",
      "source": [
        "set_comp = {"
      ]
    },
    {
      "metadata": {
        "deletable": true,
        "editable": true,
        "id": "MDhvb2rYcgpb",
        "colab_type": "code",
        "colab": {}
      },
      "cell_type": "code",
      "source": [
        "unique_lengths = {len(x) for x in strings}\n",
        "unique_lengths"
      ],
      "execution_count": 0,
      "outputs": []
    },
    {
      "metadata": {
        "deletable": true,
        "editable": true,
        "id": "FTUTcYiJcgpc",
        "colab_type": "code",
        "colab": {}
      },
      "cell_type": "code",
      "source": [
        "set(map(len, strings))"
      ],
      "execution_count": 0,
      "outputs": []
    },
    {
      "metadata": {
        "deletable": true,
        "editable": true,
        "id": "J_b0hsn_cgpl",
        "colab_type": "code",
        "colab": {}
      },
      "cell_type": "code",
      "source": [
        "loc_mapping = {val : index for index, val in enumerate(strings)}\n",
        "loc_mapping"
      ],
      "execution_count": 0,
      "outputs": []
    },
    {
      "metadata": {
        "deletable": true,
        "editable": true,
        "id": "FHiNBQMAcgpm",
        "colab_type": "text"
      },
      "cell_type": "markdown",
      "source": [
        "#### Nested list comprehensions"
      ]
    },
    {
      "metadata": {
        "deletable": true,
        "editable": true,
        "id": "rhNX8u8Zcgpn",
        "colab_type": "code",
        "colab": {}
      },
      "cell_type": "code",
      "source": [
        "all_data = [['John', 'Emily', 'Michael', 'Mary', 'Steven'],\n",
        "            ['Maria', 'Juan', 'Javier', 'Natalia', 'Pilar']]"
      ],
      "execution_count": 0,
      "outputs": []
    },
    {
      "metadata": {
        "deletable": true,
        "editable": true,
        "id": "chV9lviEcgpo",
        "colab_type": "text"
      },
      "cell_type": "markdown",
      "source": [
        "names_of_interest = []\n",
        "for names in all_data:\n",
        "    enough_es = [name for name in names if name.count('e') >= 2]\n",
        "    names_of_interest.extend(enough_es)"
      ]
    },
    {
      "metadata": {
        "deletable": true,
        "editable": true,
        "id": "IrBtp2RMcgpo",
        "colab_type": "code",
        "colab": {}
      },
      "cell_type": "code",
      "source": [
        "result = [name for names in all_data for name in names\n",
        "          if name.count('e') >= 2]\n",
        "result"
      ],
      "execution_count": 0,
      "outputs": []
    },
    {
      "metadata": {
        "deletable": true,
        "editable": true,
        "id": "dydDfUCwcgpq",
        "colab_type": "code",
        "colab": {}
      },
      "cell_type": "code",
      "source": [
        "some_tuples = [(1, 2, 3), (4, 5, 6), (7, 8, 9)]\n",
        "flattened = [x for tup in some_tuples for x in tup]\n",
        "flattened"
      ],
      "execution_count": 0,
      "outputs": []
    },
    {
      "metadata": {
        "deletable": true,
        "editable": true,
        "id": "4DL30xWucgpr",
        "colab_type": "text"
      },
      "cell_type": "markdown",
      "source": [
        "flattened = []\n",
        "\n",
        "for tup in some_tuples:\n",
        "    for x in tup:\n",
        "        flattened.append(x)"
      ]
    },
    {
      "metadata": {
        "deletable": true,
        "editable": true,
        "id": "WtaU8A_Hcgpr",
        "colab_type": "code",
        "colab": {}
      },
      "cell_type": "code",
      "source": [
        "[[x for x in tup] for tup in some_tuples]"
      ],
      "execution_count": 0,
      "outputs": []
    },
    {
      "metadata": {
        "deletable": true,
        "editable": true,
        "id": "xB9UHJeRcgps",
        "colab_type": "text"
      },
      "cell_type": "markdown",
      "source": [
        "## Functions"
      ]
    },
    {
      "metadata": {
        "deletable": true,
        "editable": true,
        "id": "pq8aJDeIcgps",
        "colab_type": "text"
      },
      "cell_type": "markdown",
      "source": [
        "def my_function(x, y, z=1.5):\n",
        "    if z > 1:\n",
        "        return z * (x + y)\n",
        "    else:\n",
        "        return z / (x + y)"
      ]
    },
    {
      "metadata": {
        "deletable": true,
        "editable": true,
        "id": "IqO-x403cgpt",
        "colab_type": "text"
      },
      "cell_type": "markdown",
      "source": [
        "my_function(5, 6, z=0.7)\n",
        "my_function(3.14, 7, 3.5)\n",
        "my_function(10, 20)"
      ]
    },
    {
      "metadata": {
        "deletable": true,
        "editable": true,
        "id": "r8j7yObXcgpz",
        "colab_type": "text"
      },
      "cell_type": "markdown",
      "source": [
        "### Namespaces, Scope, and Local Functions"
      ]
    },
    {
      "metadata": {
        "deletable": true,
        "editable": true,
        "id": "UH7njtuWcgpz",
        "colab_type": "text"
      },
      "cell_type": "markdown",
      "source": [
        "def func():\n",
        "    a = []\n",
        "    for i in range(5):\n",
        "        a.append(i)"
      ]
    },
    {
      "metadata": {
        "deletable": true,
        "editable": true,
        "id": "GrC3XCJGcgp0",
        "colab_type": "text"
      },
      "cell_type": "markdown",
      "source": [
        "a = []\n",
        "def func():\n",
        "    for i in range(5):\n",
        "        a.append(i)"
      ]
    },
    {
      "metadata": {
        "deletable": true,
        "editable": true,
        "id": "PSIA3B7Ccgp1",
        "colab_type": "code",
        "colab": {}
      },
      "cell_type": "code",
      "source": [
        "a = None\n",
        "def bind_a_variable():\n",
        "    global a\n",
        "    a = []\n",
        "bind_a_variable()\n",
        "print(a)"
      ],
      "execution_count": 0,
      "outputs": []
    },
    {
      "metadata": {
        "deletable": true,
        "editable": true,
        "id": "Jrf8Ruhpcgp3",
        "colab_type": "text"
      },
      "cell_type": "markdown",
      "source": [
        "### Returning Multiple Values"
      ]
    },
    {
      "metadata": {
        "deletable": true,
        "editable": true,
        "id": "nnzpae3Ycgp3",
        "colab_type": "text"
      },
      "cell_type": "markdown",
      "source": [
        "def f():\n",
        "    a = 5\n",
        "    b = 6\n",
        "    c = 7\n",
        "    return a, b, c\n",
        "\n",
        "a, b, c = f()"
      ]
    },
    {
      "metadata": {
        "deletable": true,
        "editable": true,
        "id": "Y_U_7duscgp4",
        "colab_type": "text"
      },
      "cell_type": "markdown",
      "source": [
        "return_value = f()"
      ]
    },
    {
      "metadata": {
        "deletable": true,
        "editable": true,
        "id": "lQJEUtaBcgp4",
        "colab_type": "text"
      },
      "cell_type": "markdown",
      "source": [
        "def f():\n",
        "    a = 5\n",
        "    b = 6\n",
        "    c = 7\n",
        "    return {'a' : a, 'b' : b, 'c' : c}"
      ]
    },
    {
      "metadata": {
        "deletable": true,
        "editable": true,
        "id": "VorzZEH8cgp5",
        "colab_type": "text"
      },
      "cell_type": "markdown",
      "source": [
        "### Functions Are Objects"
      ]
    },
    {
      "metadata": {
        "deletable": true,
        "editable": true,
        "id": "1QmPgpojcgp6",
        "colab_type": "code",
        "colab": {}
      },
      "cell_type": "code",
      "source": [
        "states = ['   Alabama ', 'Georgia!', 'Georgia', 'georgia', 'FlOrIda',\n",
        "          'south   carolina##', 'West virginia?']"
      ],
      "execution_count": 0,
      "outputs": []
    },
    {
      "metadata": {
        "deletable": true,
        "editable": true,
        "id": "8YLLjBSHcgp7",
        "colab_type": "code",
        "colab": {}
      },
      "cell_type": "code",
      "source": [
        "import re\n",
        "\n",
        "def clean_strings(strings):\n",
        "    result = []\n",
        "    for value in strings:\n",
        "        value = value.strip()\n",
        "        value = re.sub('[!#?]', '', value)\n",
        "        value = value.title()\n",
        "        result.append(value)\n",
        "    return result"
      ],
      "execution_count": 0,
      "outputs": []
    },
    {
      "metadata": {
        "deletable": true,
        "editable": true,
        "id": "T65DGKQ4cgp9",
        "colab_type": "code",
        "colab": {}
      },
      "cell_type": "code",
      "source": [
        "clean_strings(states)"
      ],
      "execution_count": 0,
      "outputs": []
    },
    {
      "metadata": {
        "deletable": true,
        "editable": true,
        "id": "_C-q-vjdcgp-",
        "colab_type": "code",
        "colab": {}
      },
      "cell_type": "code",
      "source": [
        "def remove_punctuation(value):\n",
        "    return re.sub('[!#?]', '', value)\n",
        "\n",
        "clean_ops = [str.strip, remove_punctuation, str.title]\n",
        "\n",
        "def clean_strings(strings, ops):\n",
        "    result = []\n",
        "    for value in strings:\n",
        "        for function in ops:\n",
        "            value = function(value)\n",
        "        result.append(value)\n",
        "    return result"
      ],
      "execution_count": 0,
      "outputs": []
    },
    {
      "metadata": {
        "deletable": true,
        "editable": true,
        "id": "24mJunbxcgqB",
        "colab_type": "code",
        "colab": {}
      },
      "cell_type": "code",
      "source": [
        "clean_strings(states, clean_ops)"
      ],
      "execution_count": 0,
      "outputs": []
    },
    {
      "metadata": {
        "deletable": true,
        "editable": true,
        "id": "UyeaJHigcgrc",
        "colab_type": "code",
        "colab": {}
      },
      "cell_type": "code",
      "source": [
        "for x in map(remove_punctuation, states):\n",
        "    print(x)"
      ],
      "execution_count": 0,
      "outputs": []
    },
    {
      "metadata": {
        "deletable": true,
        "editable": true,
        "id": "rflNUTQVcgre",
        "colab_type": "text"
      },
      "cell_type": "markdown",
      "source": [
        "### Anonymous (Lambda) Functions"
      ]
    },
    {
      "metadata": {
        "deletable": true,
        "editable": true,
        "id": "IWAmRZvncgrf",
        "colab_type": "text"
      },
      "cell_type": "markdown",
      "source": [
        "def short_function(x):\n",
        "    return x * 2\n",
        "\n",
        "equiv_anon = lambda x: x * 2"
      ]
    },
    {
      "metadata": {
        "deletable": true,
        "editable": true,
        "id": "C44TrjIzcgrg",
        "colab_type": "text"
      },
      "cell_type": "markdown",
      "source": [
        "def apply_to_list(some_list, f):\n",
        "    return [f(x) for x in some_list]\n",
        "\n",
        "ints = [4, 0, 1, 5, 6]\n",
        "apply_to_list(ints, lambda x: x * 2)"
      ]
    },
    {
      "metadata": {
        "deletable": true,
        "editable": true,
        "id": "_sAGUbZycgrg",
        "colab_type": "code",
        "colab": {}
      },
      "cell_type": "code",
      "source": [
        "strings = ['foo', 'card', 'bar', 'aaaa', 'abab']"
      ],
      "execution_count": 0,
      "outputs": []
    },
    {
      "metadata": {
        "deletable": true,
        "editable": true,
        "id": "ku4Ch2Chcgri",
        "colab_type": "code",
        "colab": {}
      },
      "cell_type": "code",
      "source": [
        "strings.sort(key=lambda x: len(set(list(x))))\n",
        "strings"
      ],
      "execution_count": 0,
      "outputs": []
    },
    {
      "metadata": {
        "deletable": true,
        "editable": true,
        "id": "D3KpJlPEcgrk",
        "colab_type": "text"
      },
      "cell_type": "markdown",
      "source": [
        "### Currying: Partial Argument Application"
      ]
    },
    {
      "metadata": {
        "deletable": true,
        "editable": true,
        "id": "xMPB4S6Fcgrk",
        "colab_type": "text"
      },
      "cell_type": "markdown",
      "source": [
        "def add_numbers(x, y):\n",
        "    return x + y"
      ]
    },
    {
      "metadata": {
        "deletable": true,
        "editable": true,
        "id": "S636sDyEcgrl",
        "colab_type": "text"
      },
      "cell_type": "markdown",
      "source": [
        "add_five = lambda y: add_numbers(5, y)"
      ]
    },
    {
      "metadata": {
        "deletable": true,
        "editable": true,
        "id": "pvY5t7Qecgrl",
        "colab_type": "text"
      },
      "cell_type": "markdown",
      "source": [
        "from functools import partial\n",
        "add_five = partial(add_numbers, 5)"
      ]
    },
    {
      "metadata": {
        "deletable": true,
        "editable": true,
        "id": "pnNsTZK6cgrm",
        "colab_type": "text"
      },
      "cell_type": "markdown",
      "source": [
        "### Generators"
      ]
    },
    {
      "metadata": {
        "deletable": true,
        "editable": true,
        "id": "H3YLUb_5cgrm",
        "colab_type": "code",
        "colab": {}
      },
      "cell_type": "code",
      "source": [
        "some_dict = {'a': 1, 'b': 2, 'c': 3}\n",
        "for key in some_dict:\n",
        "    print(key)"
      ],
      "execution_count": 0,
      "outputs": []
    },
    {
      "metadata": {
        "deletable": true,
        "editable": true,
        "id": "twE6L76Jcgro",
        "colab_type": "code",
        "colab": {}
      },
      "cell_type": "code",
      "source": [
        "dict_iterator = iter(some_dict)\n",
        "dict_iterator"
      ],
      "execution_count": 0,
      "outputs": []
    },
    {
      "metadata": {
        "deletable": true,
        "editable": true,
        "id": "KuhRY1tScgrp",
        "colab_type": "code",
        "colab": {}
      },
      "cell_type": "code",
      "source": [
        "list(dict_iterator)"
      ],
      "execution_count": 0,
      "outputs": []
    },
    {
      "metadata": {
        "deletable": true,
        "editable": true,
        "id": "ijm6U84-cgrq",
        "colab_type": "code",
        "colab": {}
      },
      "cell_type": "code",
      "source": [
        "def squares(n=10):\n",
        "    print('Generating squares from 1 to {0}'.format(n ** 2))\n",
        "    for i in range(1, n + 1):\n",
        "        yield i ** 2"
      ],
      "execution_count": 0,
      "outputs": []
    },
    {
      "metadata": {
        "deletable": true,
        "editable": true,
        "id": "fybq9CAqcgrz",
        "colab_type": "code",
        "colab": {}
      },
      "cell_type": "code",
      "source": [
        "gen = squares()\n",
        "gen"
      ],
      "execution_count": 0,
      "outputs": []
    },
    {
      "metadata": {
        "deletable": true,
        "editable": true,
        "id": "hvAK_53jcgr1",
        "colab_type": "code",
        "colab": {}
      },
      "cell_type": "code",
      "source": [
        "for x in gen:\n",
        "    print(x, end=' ')"
      ],
      "execution_count": 0,
      "outputs": []
    },
    {
      "metadata": {
        "deletable": true,
        "editable": true,
        "id": "MM6HJur6cgr2",
        "colab_type": "text"
      },
      "cell_type": "markdown",
      "source": [
        "#### Generator expresssions"
      ]
    },
    {
      "metadata": {
        "deletable": true,
        "editable": true,
        "id": "NtiLChfzcgr2",
        "colab_type": "code",
        "colab": {}
      },
      "cell_type": "code",
      "source": [
        "gen = (x ** 2 for x in range(100))\n",
        "gen"
      ],
      "execution_count": 0,
      "outputs": []
    },
    {
      "metadata": {
        "deletable": true,
        "editable": true,
        "id": "tPqx45TOcgr4",
        "colab_type": "text"
      },
      "cell_type": "markdown",
      "source": [
        "def _make_gen():\n",
        "    for x in range(100):\n",
        "        yield x ** 2\n",
        "gen = _make_gen()"
      ]
    },
    {
      "metadata": {
        "deletable": true,
        "editable": true,
        "id": "h6B4ull7cgr4",
        "colab_type": "code",
        "colab": {}
      },
      "cell_type": "code",
      "source": [
        "sum(x ** 2 for x in range(100))\n",
        "dict((i, i **2) for i in range(5))"
      ],
      "execution_count": 0,
      "outputs": []
    },
    {
      "metadata": {
        "deletable": true,
        "editable": true,
        "id": "Bu2RHfmicgr6",
        "colab_type": "text"
      },
      "cell_type": "markdown",
      "source": [
        "#### itertools module"
      ]
    },
    {
      "metadata": {
        "deletable": true,
        "editable": true,
        "id": "yjo2cubbcgr6",
        "colab_type": "code",
        "colab": {}
      },
      "cell_type": "code",
      "source": [
        "import itertools\n",
        "first_letter = lambda x: x[0]\n",
        "names = ['Alan', 'Adam', 'Wes', 'Will', 'Albert', 'Steven']\n",
        "for letter, names in itertools.groupby(names, first_letter):\n",
        "    print(letter, list(names)) # names is a generator"
      ],
      "execution_count": 0,
      "outputs": []
    },
    {
      "metadata": {
        "deletable": true,
        "editable": true,
        "id": "1ga56X1dcgr8",
        "colab_type": "text"
      },
      "cell_type": "markdown",
      "source": [
        "### Errors and Exception Handling"
      ]
    },
    {
      "metadata": {
        "deletable": true,
        "editable": true,
        "id": "NLlSH_Ydcgr8",
        "colab_type": "code",
        "colab": {}
      },
      "cell_type": "code",
      "source": [
        "float('1.2345')\n",
        "float('something')"
      ],
      "execution_count": 0,
      "outputs": []
    },
    {
      "metadata": {
        "deletable": true,
        "editable": true,
        "id": "U4GiEnsRcgr9",
        "colab_type": "code",
        "colab": {}
      },
      "cell_type": "code",
      "source": [
        "def attempt_float(x):\n",
        "    try:\n",
        "        return float(x)\n",
        "    except:\n",
        "        return x"
      ],
      "execution_count": 0,
      "outputs": []
    },
    {
      "metadata": {
        "deletable": true,
        "editable": true,
        "id": "MYXKGt9Jcgr-",
        "colab_type": "code",
        "colab": {}
      },
      "cell_type": "code",
      "source": [
        "attempt_float('1.2345')\n",
        "attempt_float('something')"
      ],
      "execution_count": 0,
      "outputs": []
    },
    {
      "metadata": {
        "deletable": true,
        "editable": true,
        "id": "xGFM--_2cgr_",
        "colab_type": "code",
        "colab": {}
      },
      "cell_type": "code",
      "source": [
        "float((1, 2))"
      ],
      "execution_count": 0,
      "outputs": []
    },
    {
      "metadata": {
        "deletable": true,
        "editable": true,
        "id": "USpqsCU8cgsA",
        "colab_type": "code",
        "colab": {}
      },
      "cell_type": "code",
      "source": [
        "def attempt_float(x):\n",
        "    try:\n",
        "        return float(x)\n",
        "    except ValueError:\n",
        "        return x"
      ],
      "execution_count": 0,
      "outputs": []
    },
    {
      "metadata": {
        "deletable": true,
        "editable": true,
        "id": "yE0FGY4ecgsD",
        "colab_type": "code",
        "colab": {}
      },
      "cell_type": "code",
      "source": [
        "attempt_float((1, 2))"
      ],
      "execution_count": 0,
      "outputs": []
    },
    {
      "metadata": {
        "deletable": true,
        "editable": true,
        "id": "2jWMzjV6cgsE",
        "colab_type": "code",
        "colab": {}
      },
      "cell_type": "code",
      "source": [
        "def attempt_float(x):\n",
        "    try:\n",
        "        return float(x)\n",
        "    except (TypeError, ValueError):\n",
        "        return x"
      ],
      "execution_count": 0,
      "outputs": []
    },
    {
      "metadata": {
        "deletable": true,
        "editable": true,
        "id": "8xC1WLyucgsJ",
        "colab_type": "text"
      },
      "cell_type": "markdown",
      "source": [
        "f = open(path, 'w')\n",
        "\n",
        "try:\n",
        "    write_to_file(f)\n",
        "finally:\n",
        "    f.close()"
      ]
    },
    {
      "metadata": {
        "deletable": true,
        "editable": true,
        "id": "8maHW_-dcgsK",
        "colab_type": "text"
      },
      "cell_type": "markdown",
      "source": [
        "f = open(path, 'w')\n",
        "\n",
        "try:\n",
        "    write_to_file(f)\n",
        "except:\n",
        "    print('Failed')\n",
        "else:\n",
        "    print('Succeeded')\n",
        "finally:\n",
        "    f.close()"
      ]
    },
    {
      "metadata": {
        "deletable": true,
        "editable": true,
        "id": "4UDL1watcgsK",
        "colab_type": "text"
      },
      "cell_type": "markdown",
      "source": [
        "#### Exceptions in IPython"
      ]
    },
    {
      "metadata": {
        "deletable": true,
        "editable": true,
        "id": "VhT1K_qAcgsL",
        "colab_type": "text"
      },
      "cell_type": "markdown",
      "source": [
        "In [10]: %run examples/ipython_bug.py\n",
        "---------------------------------------------------------------------------\n",
        "AssertionError                            Traceback (most recent call last)\n",
        "/home/wesm/code/pydata-book/examples/ipython_bug.py in <module>()\n",
        "     13     throws_an_exception()\n",
        "     14\n",
        "---> 15 calling_things()\n",
        "\n",
        "/home/wesm/code/pydata-book/examples/ipython_bug.py in calling_things()\n",
        "     11 def calling_things():\n",
        "     12     works_fine()\n",
        "---> 13     throws_an_exception()\n",
        "     14\n",
        "     15 calling_things()\n",
        "\n",
        "/home/wesm/code/pydata-book/examples/ipython_bug.py in throws_an_exception()\n",
        "      7     a = 5\n",
        "      8     b = 6\n",
        "----> 9     assert(a + b == 10)\n",
        "     10\n",
        "     11 def calling_things():\n",
        "\n",
        "AssertionError:"
      ]
    },
    {
      "metadata": {
        "deletable": true,
        "editable": true,
        "id": "BGaK8xWmcgsM",
        "colab_type": "text"
      },
      "cell_type": "markdown",
      "source": [
        "## Files and the Operating System"
      ]
    },
    {
      "metadata": {
        "deletable": true,
        "editable": true,
        "id": "HM8sbZ1McgsM",
        "colab_type": "code",
        "colab": {}
      },
      "cell_type": "code",
      "source": [
        "%pushd book-materials"
      ],
      "execution_count": 0,
      "outputs": []
    },
    {
      "metadata": {
        "deletable": true,
        "editable": true,
        "id": "K1z6PzLWcgsN",
        "colab_type": "code",
        "colab": {}
      },
      "cell_type": "code",
      "source": [
        "path = 'examples/segismundo.txt'\n",
        "f = open(path)"
      ],
      "execution_count": 0,
      "outputs": []
    },
    {
      "metadata": {
        "deletable": true,
        "editable": true,
        "id": "u7NGA6RjcgsO",
        "colab_type": "text"
      },
      "cell_type": "markdown",
      "source": [
        "for line in f:\n",
        "    pass"
      ]
    },
    {
      "metadata": {
        "deletable": true,
        "editable": true,
        "id": "-cc9kA8xcgsP",
        "colab_type": "code",
        "colab": {}
      },
      "cell_type": "code",
      "source": [
        "lines = [x.rstrip() for x in open(path)]\n",
        "lines"
      ],
      "execution_count": 0,
      "outputs": []
    },
    {
      "metadata": {
        "deletable": true,
        "editable": true,
        "id": "7ea2wEENcgsQ",
        "colab_type": "code",
        "colab": {}
      },
      "cell_type": "code",
      "source": [
        "f.close()"
      ],
      "execution_count": 0,
      "outputs": []
    },
    {
      "metadata": {
        "deletable": true,
        "editable": true,
        "id": "zkUTn6RLcgsR",
        "colab_type": "code",
        "colab": {}
      },
      "cell_type": "code",
      "source": [
        "with open(path) as f:\n",
        "    lines = [x.rstrip() for x in f]"
      ],
      "execution_count": 0,
      "outputs": []
    },
    {
      "metadata": {
        "deletable": true,
        "editable": true,
        "id": "caXjHIlxcgsS",
        "colab_type": "code",
        "colab": {}
      },
      "cell_type": "code",
      "source": [
        "f = open(path)\n",
        "f.read(10)\n",
        "f2 = open(path, 'rb')  # Binary mode\n",
        "f2.read(10)"
      ],
      "execution_count": 0,
      "outputs": []
    },
    {
      "metadata": {
        "deletable": true,
        "editable": true,
        "id": "ZyhFobKEcgsU",
        "colab_type": "code",
        "colab": {}
      },
      "cell_type": "code",
      "source": [
        "f.tell()\n",
        "f2.tell()"
      ],
      "execution_count": 0,
      "outputs": []
    },
    {
      "metadata": {
        "deletable": true,
        "editable": true,
        "id": "tUJsyVzScgsV",
        "colab_type": "code",
        "colab": {}
      },
      "cell_type": "code",
      "source": [
        "import sys\n",
        "sys.getdefaultencoding()"
      ],
      "execution_count": 0,
      "outputs": []
    },
    {
      "metadata": {
        "deletable": true,
        "editable": true,
        "id": "0StsbTRycgsX",
        "colab_type": "code",
        "colab": {}
      },
      "cell_type": "code",
      "source": [
        "f.seek(3)\n",
        "f.read(1)"
      ],
      "execution_count": 0,
      "outputs": []
    },
    {
      "metadata": {
        "deletable": true,
        "editable": true,
        "id": "PbtTQwU5cgsY",
        "colab_type": "code",
        "colab": {}
      },
      "cell_type": "code",
      "source": [
        "f.close()\n",
        "f2.close()"
      ],
      "execution_count": 0,
      "outputs": []
    },
    {
      "metadata": {
        "deletable": true,
        "editable": true,
        "id": "xDrWOq5Pcgsa",
        "colab_type": "code",
        "colab": {}
      },
      "cell_type": "code",
      "source": [
        "with open('tmp.txt', 'w') as handle:\n",
        "    handle.writelines(x for x in open(path) if len(x) > 1)\n",
        "with open('tmp.txt') as f:\n",
        "    lines = f.readlines()\n",
        "lines"
      ],
      "execution_count": 0,
      "outputs": []
    },
    {
      "metadata": {
        "deletable": true,
        "editable": true,
        "id": "SPWMJFi1cgsc",
        "colab_type": "code",
        "colab": {}
      },
      "cell_type": "code",
      "source": [
        "import os\n",
        "os.remove('tmp.txt')"
      ],
      "execution_count": 0,
      "outputs": []
    },
    {
      "metadata": {
        "deletable": true,
        "editable": true,
        "id": "Z1wF_C_gcgsd",
        "colab_type": "text"
      },
      "cell_type": "markdown",
      "source": [
        "### Bytes and Unicode with Files"
      ]
    },
    {
      "metadata": {
        "deletable": true,
        "editable": true,
        "id": "qbc3ZKyYcgsd",
        "colab_type": "code",
        "colab": {}
      },
      "cell_type": "code",
      "source": [
        "with open(path) as f:\n",
        "    chars = f.read(10)\n",
        "chars"
      ],
      "execution_count": 0,
      "outputs": []
    },
    {
      "metadata": {
        "deletable": true,
        "editable": true,
        "id": "6E1LXPjFcgsf",
        "colab_type": "code",
        "colab": {}
      },
      "cell_type": "code",
      "source": [
        "with open(path, 'rb') as f:\n",
        "    data = f.read(10)\n",
        "data"
      ],
      "execution_count": 0,
      "outputs": []
    },
    {
      "metadata": {
        "deletable": true,
        "editable": true,
        "id": "feF6ewLfcgsg",
        "colab_type": "code",
        "colab": {}
      },
      "cell_type": "code",
      "source": [
        "data.decode('utf8')\n",
        "data[:4].decode('utf8')"
      ],
      "execution_count": 0,
      "outputs": []
    },
    {
      "metadata": {
        "deletable": true,
        "editable": true,
        "id": "UeOvBI4qcgsh",
        "colab_type": "code",
        "colab": {}
      },
      "cell_type": "code",
      "source": [
        "sink_path = 'sink.txt'\n",
        "with open(path) as source:\n",
        "    with open(sink_path, 'xt', encoding='iso-8859-1') as sink:\n",
        "        sink.write(source.read())\n",
        "with open(sink_path, encoding='iso-8859-1') as f:\n",
        "    print(f.read(10))"
      ],
      "execution_count": 0,
      "outputs": []
    },
    {
      "metadata": {
        "deletable": true,
        "editable": true,
        "id": "f6k5wi64cgsi",
        "colab_type": "code",
        "colab": {}
      },
      "cell_type": "code",
      "source": [
        "os.remove(sink_path)"
      ],
      "execution_count": 0,
      "outputs": []
    },
    {
      "metadata": {
        "deletable": true,
        "editable": true,
        "id": "vXWq8Cu_cgsj",
        "colab_type": "code",
        "colab": {}
      },
      "cell_type": "code",
      "source": [
        "f = open(path)\n",
        "f.read(5)\n",
        "f.seek(4)\n",
        "f.read(1)\n",
        "f.close()"
      ],
      "execution_count": 0,
      "outputs": []
    },
    {
      "metadata": {
        "deletable": true,
        "editable": true,
        "id": "O1nA54nbcgsm",
        "colab_type": "code",
        "colab": {}
      },
      "cell_type": "code",
      "source": [
        "%popd"
      ],
      "execution_count": 0,
      "outputs": []
    },
    {
      "metadata": {
        "deletable": true,
        "editable": true,
        "id": "PbpNP8Vkcgsn",
        "colab_type": "text"
      },
      "cell_type": "markdown",
      "source": [
        "## Conclusion"
      ]
    }
  ]
}