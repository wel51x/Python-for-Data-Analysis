{
  "nbformat": 4,
  "nbformat_minor": 0,
  "metadata": {
    "colab": {
      "name": "ch04.ipynb",
      "version": "0.3.2",
      "provenance": [],
      "collapsed_sections": [
        "mNBzZkg-aOzN"
      ],
      "include_colab_link": true
    },
    "kernelspec": {
      "display_name": "Python 3",
      "language": "python",
      "name": "python3"
    }
  },
  "cells": [
    {
      "cell_type": "markdown",
      "metadata": {
        "id": "view-in-github",
        "colab_type": "text"
      },
      "source": [
        "<a href=\"https://colab.research.google.com/github/wel51x/Python-for-Data-Analysis/blob/master/ch04.ipynb\" target=\"_parent\"><img src=\"https://colab.research.google.com/assets/colab-badge.svg\" alt=\"Open In Colab\"/></a>"
      ]
    },
    {
      "metadata": {
        "deletable": true,
        "editable": true,
        "id": "WOu2eTczaOuO",
        "colab_type": "text"
      },
      "cell_type": "markdown",
      "source": [
        "# NumPy Basics: Arrays and Vectorized Computation"
      ]
    },
    {
      "metadata": {
        "id": "G4DEz1P5qdiT",
        "colab_type": "text"
      },
      "cell_type": "markdown",
      "source": [
        "NumPy, short for Numerical Python, is one of the most important foundational packages for numerical computing in Python. Most computational packages providing scientific functionality use NumPy’s array objects as the lingua franca for data exchange.\n",
        "\n",
        "Here are some of the things you’ll find in NumPy:\n",
        "\n",
        "• ndarray, an efficient multidimensional array providing fast array-oriented arithmetic\n",
        "operations and flexible broadcasting capabilities.\n",
        "\n",
        "• Mathematical functions for fast operations on entire arrays of data without having to write loops.\n",
        "\n",
        "• Tools for reading/writing array data to disk and working with memory-mapped files.\n",
        "\n",
        "• Linear algebra, random number generation, and Fourier transform capabilities.\n",
        "\n",
        "• A C API for connecting NumPy with libraries written in C, C++, or FORTRAN.\n",
        "\n",
        "Because NumPy provides an easy-to-use C API, it is straightforward to pass data to external libraries written in a low-level language and also for external libraries to return data to Python as NumPy arrays. This feature has made Python a language of choice for wrapping legacy C/C++/Fortran codebases and giving them a dynamic and easy-to-use interface.\n",
        "\n",
        "While NumPy by itself does not provide modeling or scientific functionality, having an understanding of NumPy arrays and array-oriented computing will help you use tools with array-oriented semantics, like pandas, much more effectively. Since NumPy is a large topic, I will cover many advanced NumPy features like broadcastingin more depth later (see Appendix A).\n",
        "\n",
        "For most data analysis applications, the main areas of functionality I’ll focus on are:\n",
        "\n",
        "• Fast vectorized array operations for data munging and cleaning, subsetting and filtering, transformation, and any other kinds of computations\n",
        "\n",
        "• Common array algorithms like sorting, unique, and set operations\n",
        "\n",
        "• Efficient descriptive statistics and aggregating/summarizing data\n",
        "\n",
        "• Data alignment and relational data manipulations for merging and joining\n",
        "together heterogeneous datasets\n",
        "\n",
        "• Expressing conditional logic as array expressions instead of loops with if-elifelse branches\n",
        "\n",
        "• Group-wise data manipulations (aggregation, transformation, function application)\n",
        "\n",
        "While NumPy provides a computational foundation for general numerical data processing, many readers will want to use pandas as the basis for most kinds of statistics or analytics, especially on tabular data. pandas also provides some more domainspecific functionality like time series manipulation, which is not present in NumPy.\n",
        "\n",
        "==>> Array-oriented computing in Python traces its roots back to 1995,\n",
        "when Jim Hugunin created the Numeric library. Over the next 10\n",
        "years, many scientific programming communities began doing\n",
        "array programming in Python, but the library ecosystem had\n",
        "become fragmented in the early 2000s. In 2005, Travis Oliphant\n",
        "was able to forge the NumPy project from the then Numeric and\n",
        "Numarray projects to bring the community together around a single\n",
        "array computing framework.\n",
        "\n",
        "One of the reasons NumPy is so important for numerical computations in Python is because it is designed for efficiency on large arrays of data. There are a number of reasons for this:\n",
        "\n",
        "• NumPy internally stores data in a contiguous block of memory, independent of other built-in Python objects. NumPy’s library of algorithms written in the C language can operate on this memory without any type checking or other overhead. NumPy arrays also use much less memory than built-in Python sequences.\n",
        "\n",
        "• NumPy operations perform complex computations on entire arrays without the need for Python for loops."
      ]
    },
    {
      "metadata": {
        "deletable": true,
        "editable": true,
        "id": "ATCZwmZLaOuR",
        "colab_type": "code",
        "colab": {}
      },
      "cell_type": "code",
      "source": [
        "import numpy as np\n",
        "np.random.seed(12345)\n",
        "import matplotlib.pyplot as plt\n",
        "plt.rc('figure', figsize=(10, 6))\n",
        "np.set_printoptions(precision=4, suppress=True, linewidth=161)"
      ],
      "execution_count": 0,
      "outputs": []
    },
    {
      "metadata": {
        "id": "ho-enkrl4Q8m",
        "colab_type": "text"
      },
      "cell_type": "markdown",
      "source": [
        "To give you an idea of the performance difference, consider a NumPy array of one million integers, and the equivalent Python list:"
      ]
    },
    {
      "metadata": {
        "deletable": true,
        "editable": true,
        "id": "qUzyHGHsaOua",
        "colab_type": "code",
        "colab": {}
      },
      "cell_type": "code",
      "source": [
        "import numpy as np\n",
        "my_arr = np.arange(1000000)\n",
        "my_list = list(range(1000000))"
      ],
      "execution_count": 0,
      "outputs": []
    },
    {
      "metadata": {
        "id": "AXf4JdLN4Xe_",
        "colab_type": "text"
      },
      "cell_type": "markdown",
      "source": [
        "Now let’s square each sequence:"
      ]
    },
    {
      "metadata": {
        "deletable": true,
        "editable": true,
        "id": "6N1CmlytaOuj",
        "colab_type": "code",
        "outputId": "17918dc1-5241-431f-c24d-21e35d072b94",
        "colab": {
          "base_uri": "https://localhost:8080/",
          "height": 85
        }
      },
      "cell_type": "code",
      "source": [
        "%time for _ in range(10): my_arr2 = my_arr ** 2\n",
        "%time for _ in range(10): my_list2 = [x ** 2 for x in my_list]"
      ],
      "execution_count": 0,
      "outputs": [
        {
          "output_type": "stream",
          "text": [
            "CPU times: user 23.4 ms, sys: 2.39 ms, total: 25.8 ms\n",
            "Wall time: 34.8 ms\n",
            "CPU times: user 3.05 s, sys: 167 ms, total: 3.22 s\n",
            "Wall time: 3.22 s\n"
          ],
          "name": "stdout"
        }
      ]
    },
    {
      "metadata": {
        "id": "TCJaREx-4hCX",
        "colab_type": "text"
      },
      "cell_type": "markdown",
      "source": [
        "NumPy-based algorithms are generally 10 to 100 times faster (or more) than their pure Python counterparts and use significantly less memory."
      ]
    },
    {
      "metadata": {
        "id": "sAdTjZEhOlMn",
        "colab_type": "code",
        "outputId": "2e94fa8f-031c-4b86-8dfa-4b890294ac9b",
        "colab": {
          "base_uri": "https://localhost:8080/",
          "height": 374
        }
      },
      "cell_type": "code",
      "source": [
        "# Derek S Test\n",
        "import random\n",
        "dice = [1, 2, 3, 4, 5, 6]\n",
        "tests = [random.choice(dice) + random.choice(dice) for _ in range(100000)]\n",
        "plt.hist(tests, bins = range(1, 14));"
      ],
      "execution_count": 0,
      "outputs": [
        {
          "output_type": "display_data",
          "data": {
            "image/png": "[encoded data removed]",
            "text/plain": [
              "<Figure size 720x432 with 1 Axes>"
            ]
          },
          "metadata": {
            "tags": []
          }
        }
      ]
    },
    {
      "metadata": {
        "deletable": true,
        "editable": true,
        "id": "GbcpCf_UaOuq",
        "colab_type": "text"
      },
      "cell_type": "markdown",
      "source": [
        "## 4.1 The NumPy ndarray: A Multidimensional Array Object"
      ]
    },
    {
      "metadata": {
        "id": "xvlE-XIP4kMc",
        "colab_type": "text"
      },
      "cell_type": "markdown",
      "source": [
        "One of the key features of NumPy is its N-dimensional array object, or ndarray,\n",
        "which is a fast, flexible container for large datasets in Python. Arrays enable you to perform mathematical operations on whole blocks of data using similar syntax to the equivalent operations between scalar elements.\n",
        "\n",
        "To give you a flavor of how NumPy enables batch computations with similar syntax to scalar values on built-in Python objects, I first import NumPy and generate a small array of random data:"
      ]
    },
    {
      "metadata": {
        "deletable": true,
        "editable": true,
        "id": "Xgn6ffuraOus",
        "colab_type": "code",
        "outputId": "c77d9542-172f-439a-dd41-d0d96e3c6f69",
        "colab": {
          "base_uri": "https://localhost:8080/",
          "height": 51
        }
      },
      "cell_type": "code",
      "source": [
        "import numpy as np\n",
        "# Generate some random data\n",
        "data = np.random.randn(2, 3)\n",
        "data"
      ],
      "execution_count": 0,
      "outputs": [
        {
          "output_type": "execute_result",
          "data": {
            "text/plain": [
              "array([[-1.5074,  0.4812, -0.5667],\n",
              "       [ 0.7465,  0.712 , -0.0568]])"
            ]
          },
          "metadata": {
            "tags": []
          },
          "execution_count": 60
        }
      ]
    },
    {
      "metadata": {
        "deletable": true,
        "editable": true,
        "id": "j2pJVQNuaOu2",
        "colab_type": "code",
        "outputId": "08b89b4d-2a39-4000-d420-558e4fbe6723",
        "colab": {
          "base_uri": "https://localhost:8080/",
          "height": 85
        }
      },
      "cell_type": "code",
      "source": [
        "print(data * 10)\n",
        "print(data + data)"
      ],
      "execution_count": 0,
      "outputs": [
        {
          "output_type": "stream",
          "text": [
            "[[-15.0739   4.8119  -5.6673]\n",
            " [  7.465    7.1199  -0.5677]]\n",
            "[[-3.0148  0.9624 -1.1335]\n",
            " [ 1.493   1.424  -0.1135]]\n"
          ],
          "name": "stdout"
        }
      ]
    },
    {
      "metadata": {
        "id": "I9RH8UwU46DY",
        "colab_type": "text"
      },
      "cell_type": "markdown",
      "source": [
        "In the first example, all of the elements have been multiplied by 10. In the second, the corresponding values in each “cell” in the array have been added to each other.\n",
        "\n",
        "An ndarray is a generic multidimensional container for homogeneous data; that is, all\n",
        "of the elements must be the same type. Every array has a shape, a tuple indicating the\n",
        "size of each dimension, and a dtype, an object describing the data type of the array:"
      ]
    },
    {
      "metadata": {
        "deletable": true,
        "editable": true,
        "id": "Zo5TRXRVaOu8",
        "colab_type": "code",
        "outputId": "6374b78f-af69-47e0-e0d9-fc715864b924",
        "colab": {
          "base_uri": "https://localhost:8080/",
          "height": 51
        }
      },
      "cell_type": "code",
      "source": [
        "print(data.shape)\n",
        "print(data.dtype)"
      ],
      "execution_count": 0,
      "outputs": [
        {
          "output_type": "stream",
          "text": [
            "(2, 3)\n",
            "float64\n"
          ],
          "name": "stdout"
        }
      ]
    },
    {
      "metadata": {
        "id": "Klokfpl751ay",
        "colab_type": "text"
      },
      "cell_type": "markdown",
      "source": [
        "This chapter will introduce you to the basics of using NumPy arrays, and should be\n",
        "sufficient for following along with the rest of the book. While it’s not necessary to\n",
        "have a deep understanding of NumPy for many data analytical applications, becoming\n",
        "proficient in array-oriented programming and thinking is a key step along the\n",
        "way to becoming a scientific Python guru."
      ]
    },
    {
      "metadata": {
        "deletable": true,
        "editable": true,
        "id": "AY0eO_ZNaOvF",
        "colab_type": "text"
      },
      "cell_type": "markdown",
      "source": [
        "### Creating ndarrays"
      ]
    },
    {
      "metadata": {
        "id": "TwqRr_Mz54DB",
        "colab_type": "text"
      },
      "cell_type": "markdown",
      "source": [
        "The easiest way to create an array is to use the array function. This accepts any\n",
        "sequence-like object (including other arrays) and produces a new NumPy array containing\n",
        "the passed data. For example, a list is a good candidate for conversion:"
      ]
    },
    {
      "metadata": {
        "deletable": true,
        "editable": true,
        "id": "OZP1hG5BaOvH",
        "colab_type": "code",
        "colab": {
          "base_uri": "https://localhost:8080/",
          "height": 34
        },
        "outputId": "221688ed-435b-4452-ed06-bf3b024045e3"
      },
      "cell_type": "code",
      "source": [
        "data1 = [6, 7.5, 8, 0, 1]\n",
        "arr1 = np.array(data1)\n",
        "arr1"
      ],
      "execution_count": 3,
      "outputs": [
        {
          "output_type": "execute_result",
          "data": {
            "text/plain": [
              "array([6. , 7.5, 8. , 0. , 1. ])"
            ]
          },
          "metadata": {
            "tags": []
          },
          "execution_count": 3
        }
      ]
    },
    {
      "metadata": {
        "id": "i4ou229N62cG",
        "colab_type": "text"
      },
      "cell_type": "markdown",
      "source": [
        "Nested sequences, like a list of equal-length lists, will be converted into a multidimensional\n",
        "array:"
      ]
    },
    {
      "metadata": {
        "deletable": true,
        "editable": true,
        "id": "e0NJrOC0aOvK",
        "colab_type": "code",
        "outputId": "94d21523-4dab-484b-f309-817c0ea29d6f",
        "colab": {
          "base_uri": "https://localhost:8080/",
          "height": 51
        }
      },
      "cell_type": "code",
      "source": [
        "data2 = [[1, 2, 3, 4], [5, 6, 7, 8]]\n",
        "arr2 = np.array(data2)\n",
        "arr2"
      ],
      "execution_count": 0,
      "outputs": [
        {
          "output_type": "execute_result",
          "data": {
            "text/plain": [
              "array([[1, 2, 3, 4],\n",
              "       [5, 6, 7, 8]])"
            ]
          },
          "metadata": {
            "tags": []
          },
          "execution_count": 12
        }
      ]
    },
    {
      "metadata": {
        "id": "Cvl6OnFJ66f-",
        "colab_type": "text"
      },
      "cell_type": "markdown",
      "source": [
        "Since data2 was a list of lists, the NumPy array arr2 has two dimensions with shape\n",
        "inferred from the data. We can confirm this by inspecting the ndim and shape\n",
        "attributes:"
      ]
    },
    {
      "metadata": {
        "deletable": true,
        "editable": true,
        "id": "Z0BOZt6zaOvP",
        "colab_type": "code",
        "outputId": "bce9e362-e624-43be-b760-3c9b4fa92dad",
        "colab": {
          "base_uri": "https://localhost:8080/",
          "height": 34
        }
      },
      "cell_type": "code",
      "source": [
        "arr2.ndim, arr2.shape"
      ],
      "execution_count": 0,
      "outputs": [
        {
          "output_type": "execute_result",
          "data": {
            "text/plain": [
              "(2, (2, 4))"
            ]
          },
          "metadata": {
            "tags": []
          },
          "execution_count": 14
        }
      ]
    },
    {
      "metadata": {
        "id": "RVXpIKUb7ASb",
        "colab_type": "text"
      },
      "cell_type": "markdown",
      "source": [
        "Unless explicitly specified (more on this later), np.array tries to infer a good data\n",
        "type for the array that it creates. The data type is stored in a special dtype metadata\n",
        "object; for example, in the previous two examples we have:"
      ]
    },
    {
      "metadata": {
        "deletable": true,
        "editable": true,
        "id": "4N36G7sVaOvV",
        "colab_type": "code",
        "outputId": "4c994dcc-b6e2-44ae-82a9-0bcf8ab5d85d",
        "colab": {
          "base_uri": "https://localhost:8080/",
          "height": 34
        }
      },
      "cell_type": "code",
      "source": [
        "arr1.dtype, arr2.dtype"
      ],
      "execution_count": 0,
      "outputs": [
        {
          "output_type": "execute_result",
          "data": {
            "text/plain": [
              "(dtype('float64'), dtype('int64'))"
            ]
          },
          "metadata": {
            "tags": []
          },
          "execution_count": 15
        }
      ]
    },
    {
      "metadata": {
        "id": "EuZX-DdF7FOD",
        "colab_type": "text"
      },
      "cell_type": "markdown",
      "source": [
        "In addition to np.array, there are a number of other functions for creating new\n",
        "arrays. As examples, zeros and ones create arrays of 0s or 1s, respectively, with a\n",
        "given length or shape. empty creates an array without initializing its values to any particular\n",
        "value. To create a higher dimensional array with these methods, pass a tuple\n",
        "for the shape:"
      ]
    },
    {
      "metadata": {
        "deletable": true,
        "editable": true,
        "id": "ccu3YLwkaOvb",
        "colab_type": "code",
        "outputId": "374bea24-b742-4648-9d90-18f08e6d976c",
        "colab": {
          "base_uri": "https://localhost:8080/",
          "height": 204
        }
      },
      "cell_type": "code",
      "source": [
        "print(np.zeros(10))\n",
        "print(np.zeros((3, 6)))\n",
        "np.empty((2, 3, 2))"
      ],
      "execution_count": 0,
      "outputs": [
        {
          "output_type": "stream",
          "text": [
            "[0. 0. 0. 0. 0. 0. 0. 0. 0. 0.]\n",
            "[[0. 0. 0. 0. 0. 0.]\n",
            " [0. 0. 0. 0. 0. 0.]\n",
            " [0. 0. 0. 0. 0. 0.]]\n"
          ],
          "name": "stdout"
        },
        {
          "output_type": "execute_result",
          "data": {
            "text/plain": [
              "array([[[0., 0.],\n",
              "        [0., 0.],\n",
              "        [0., 0.]],\n",
              "\n",
              "       [[0., 0.],\n",
              "        [0., 0.],\n",
              "        [0., 0.]]])"
            ]
          },
          "metadata": {
            "tags": []
          },
          "execution_count": 17
        }
      ]
    },
    {
      "metadata": {
        "id": "r-_QtW5v7ONK",
        "colab_type": "text"
      },
      "cell_type": "markdown",
      "source": [
        "==>> It’s not safe to assume that np.empty will return an array of all\n",
        "zeros. In some cases, it may return uninitialized “garbage” values.\n",
        "\n",
        "arange is an array-valued version of the built-in Python range function:"
      ]
    },
    {
      "metadata": {
        "deletable": true,
        "editable": true,
        "id": "NTpICg9baOve",
        "colab_type": "code",
        "outputId": "6a139ea2-badf-4b20-f076-74f0418c91bb",
        "colab": {
          "base_uri": "https://localhost:8080/",
          "height": 34
        }
      },
      "cell_type": "code",
      "source": [
        "np.arange(15)"
      ],
      "execution_count": 0,
      "outputs": [
        {
          "output_type": "execute_result",
          "data": {
            "text/plain": [
              "array([ 0,  1,  2,  3,  4,  5,  6,  7,  8,  9, 10, 11, 12, 13, 14])"
            ]
          },
          "metadata": {
            "tags": []
          },
          "execution_count": 18
        }
      ]
    },
    {
      "metadata": {
        "id": "znFiHq7B7Y3w",
        "colab_type": "text"
      },
      "cell_type": "markdown",
      "source": [
        "See Table 4-1 for a short list of standard array creation functions. Since NumPy is\n",
        "focused on numerical computing, the data type, if not specified, will in many cases be\n",
        "float64 (floating point)."
      ]
    },
    {
      "metadata": {
        "id": "tPZ_T-bWYpUj",
        "colab_type": "text"
      },
      "cell_type": "markdown",
      "source": [
        "### Table 4-1. Array creation functions\n",
        "Function Description\n",
        "\n",
        "array Convert input data (list, tuple, array, or other sequence type) to an ndarray either by inferring a dtype\n",
        "or explicitly specifying a dtype; copies the input data by default\n",
        "\n",
        "asarray Convert input to ndarray, but do not copy if the input is already an ndarray\n",
        "\n",
        "arange Like the built-in range but returns an ndarray instead of a list\n",
        "\n",
        "ones,\n",
        "ones_like Produce an array of all 1s with the given shape and dtype; ones_like takes another array and\n",
        "produces a ones array of the same shape and dtype\n",
        "\n",
        "zeros,\n",
        "zeros_like Like ones and ones_like but producing arrays of 0s instead\n",
        "\n",
        "empty,\n",
        "empty_like Create new arrays by allocating new memory, but do not populate with any values like ones and\n",
        "zeros\n",
        "\n",
        "full,\n",
        "full_like Produce an array of the given shape and dtype with all values set to the indicated “fill value”\n",
        "full_like takes another array and produces a filled array of the same shape and dtype\n",
        "\n",
        "eye, identity Create a square N × N identity matrix (1s on the diagonal and 0s elsewhere)"
      ]
    },
    {
      "metadata": {
        "deletable": true,
        "editable": true,
        "id": "5xpFwL5PaOvk",
        "colab_type": "text"
      },
      "cell_type": "markdown",
      "source": [
        "### Data Types for ndarrays"
      ]
    },
    {
      "metadata": {
        "id": "FGK7WO1n7dZI",
        "colab_type": "text"
      },
      "cell_type": "markdown",
      "source": [
        "The data type or dtype is a special object containing the information (or metadata,\n",
        "data about data) the ndarray needs to interpret a chunk of memory as a particular\n",
        "type of data:"
      ]
    },
    {
      "metadata": {
        "deletable": true,
        "editable": true,
        "id": "aL-ZomujaOvl",
        "colab_type": "code",
        "outputId": "4443b8a9-bffd-4b81-eba9-b95d24c9cf8f",
        "colab": {
          "base_uri": "https://localhost:8080/",
          "height": 34
        }
      },
      "cell_type": "code",
      "source": [
        "arr1 = np.array([1, 2, 3], dtype=np.float64)\n",
        "arr2 = np.array([1, 2, 3], dtype=np.int32)\n",
        "print(arr1.dtype, arr2.dtype)"
      ],
      "execution_count": 0,
      "outputs": [
        {
          "output_type": "stream",
          "text": [
            "float64 int32\n"
          ],
          "name": "stdout"
        }
      ]
    },
    {
      "metadata": {
        "id": "wqnYDahjZrFS",
        "colab_type": "text"
      },
      "cell_type": "markdown",
      "source": [
        "dtypes are a source of NumPy’s flexibility for interacting with data coming from other\n",
        "systems. In most cases they provide a mapping directly onto an underlying disk or\n",
        "memory representation, which makes it easy to read and write binary streams of data\n",
        "to disk and also to connect to code written in a low-level language like C or Fortran.\n",
        "The numerical dtypes are named the same way: a type name, like float or int, followed\n",
        "by a number indicating the number of bits per element. A standard doubleprecision\n",
        "floating-point value (what’s used under the hood in Python’s float object)\n",
        "takes up 8 bytes or 64 bits. Thus, this type is known in NumPy as float64. See\n",
        "Table 4-2 for a full listing of NumPy’s supported data types.\n",
        "\n",
        "### Table 4-2. NumPy data types\n",
        "Type Type code Description\n",
        "\n",
        "int8, uint8 i1, u1 Signed and unsigned 8-bit (1 byte) integer types\n",
        "\n",
        "int16, uint16 i2, u2 Signed and unsigned 16-bit integer types\n",
        "\n",
        "int32, uint32 i4, u4 Signed and unsigned 32-bit integer types\n",
        "\n",
        "int64, uint64 i8, u8 Signed and unsigned 64-bit integer types\n",
        "\n",
        "float16 f2 Half-precision floating point\n",
        "\n",
        "float32 f4 or f Standard single-precision floating point; compatible with C float\n",
        "\n",
        "float64 f8 or d Standard double-precision floating point; compatible with C double and\n",
        "Python float object\n",
        "\n",
        "float128 f16 or g Extended-precision floating point\n",
        "\n",
        "complex64,\n",
        "complex128,\n",
        "complex256\n",
        "c8, c16,\n",
        "c32 Complex numbers represented by two 32, 64, or 128 floats, respectively\n",
        "\n",
        "bool ? Boolean type storing True and False values\n",
        "\n",
        "object O Python object type; a value can be any Python object\n",
        "\n",
        "string_ S Fixed-length ASCII string type (1 byte per character); for example, to create a\n",
        "string dtype with length 10, use 'S10'\n",
        "\n",
        "unicode_ U Fixed-length Unicode type (number of bytes platform specific); same\n",
        "specification semantics as string_ (e.g., 'U10')\n",
        "\n",
        "==>> Don’t worry about memorizing the NumPy dtypes, especially if\n",
        "you’re a new user. It’s often only necessary to care about the general\n",
        "kind of data you’re dealing with, whether floating point, complex,\n",
        "integer, boolean, string, or general Python object. When you need\n",
        "more control over how data are stored in memory and on disk,\n",
        "especially large datasets, it is good to know that you have control\n",
        "over the storage type."
      ]
    },
    {
      "metadata": {
        "id": "_D5kq92W70PL",
        "colab_type": "text"
      },
      "cell_type": "markdown",
      "source": [
        "You can explicitly convert or cast an array from one dtype to another using ndarray’s\n",
        "astype method:"
      ]
    },
    {
      "metadata": {
        "deletable": true,
        "editable": true,
        "id": "GtTSy8YIaOvo",
        "colab_type": "code",
        "outputId": "afa96734-f412-41cd-be03-f76ff1d6ba05",
        "colab": {
          "base_uri": "https://localhost:8080/",
          "height": 51
        }
      },
      "cell_type": "code",
      "source": [
        "arr = np.array([1, 2, 3, 4, 5])\n",
        "print(arr.dtype)\n",
        "float_arr = arr.astype(np.float64)\n",
        "float_arr.dtype"
      ],
      "execution_count": 0,
      "outputs": [
        {
          "output_type": "stream",
          "text": [
            "int64\n"
          ],
          "name": "stdout"
        },
        {
          "output_type": "execute_result",
          "data": {
            "text/plain": [
              "dtype('float64')"
            ]
          },
          "metadata": {
            "tags": []
          },
          "execution_count": 21
        }
      ]
    },
    {
      "metadata": {
        "id": "I7ZPPg2J75eN",
        "colab_type": "text"
      },
      "cell_type": "markdown",
      "source": [
        "In this example, integers were cast to floating point. If I cast some floating-point\n",
        "numbers to be of integer dtype, the decimal part will be truncated:"
      ]
    },
    {
      "metadata": {
        "deletable": true,
        "editable": true,
        "id": "w0K3hhfkaOvr",
        "colab_type": "code",
        "outputId": "165d15e9-f741-409b-cb45-b8bb74f7d0f6",
        "colab": {
          "base_uri": "https://localhost:8080/",
          "height": 51
        }
      },
      "cell_type": "code",
      "source": [
        "arr = np.array([3.7, -1.2, -2.6, 0.5, 12.9, 10.1])\n",
        "print(arr)\n",
        "arr.astype(np.int32)"
      ],
      "execution_count": 0,
      "outputs": [
        {
          "output_type": "stream",
          "text": [
            "[ 3.7 -1.2 -2.6  0.5 12.9 10.1]\n"
          ],
          "name": "stdout"
        },
        {
          "output_type": "execute_result",
          "data": {
            "text/plain": [
              "array([ 3, -1, -2,  0, 12, 10], dtype=int32)"
            ]
          },
          "metadata": {
            "tags": []
          },
          "execution_count": 22
        }
      ]
    },
    {
      "metadata": {
        "id": "vnqNUf8z7_6a",
        "colab_type": "text"
      },
      "cell_type": "markdown",
      "source": [
        "If you have an array of strings representing numbers, you can use astype to convert\n",
        "them to numeric form:"
      ]
    },
    {
      "metadata": {
        "deletable": true,
        "editable": true,
        "id": "mHuK3rWoaOvu",
        "colab_type": "code",
        "outputId": "4bb9d02d-c901-4876-e188-b02e0add504b",
        "colab": {
          "base_uri": "https://localhost:8080/",
          "height": 34
        }
      },
      "cell_type": "code",
      "source": [
        "numeric_strings = np.array(['1.25', '-9.6', '42'], dtype=np.string_)\n",
        "numeric_strings.astype(float)"
      ],
      "execution_count": 0,
      "outputs": [
        {
          "output_type": "execute_result",
          "data": {
            "text/plain": [
              "array([ 1.25, -9.6 , 42.  ])"
            ]
          },
          "metadata": {
            "tags": []
          },
          "execution_count": 23
        }
      ]
    },
    {
      "metadata": {
        "id": "CTQuTVn0hkgC",
        "colab_type": "text"
      },
      "cell_type": "markdown",
      "source": [
        "==>> If casting were to fail for some reason (like a string that cannot be converted to\n",
        "float64), a ValueError will be raised. Above I was a bit lazy and wrote float instead\n",
        "of np.float64; NumPy aliases the Python types to its own equivalent data dtypes.\n",
        "\n",
        "==>> It’s important to be cautious when using the numpy.string_ type,\n",
        "as string data in NumPy is fixed size and may truncate input\n",
        "without warning. pandas has more intuitive out-of-the-box behavior\n",
        "on non-numeric data."
      ]
    },
    {
      "metadata": {
        "deletable": true,
        "editable": true,
        "id": "1DfgbAtjaOvx",
        "colab_type": "code",
        "outputId": "5b143297-dd5a-42f0-f458-776df98a3cd2",
        "colab": {
          "base_uri": "https://localhost:8080/",
          "height": 34
        }
      },
      "cell_type": "code",
      "source": [
        "int_array = np.arange(10)\n",
        "calibers = np.array([.22, .270, .357, .380, .44, .50], dtype=np.float64)\n",
        "int_array.astype(calibers.dtype)"
      ],
      "execution_count": 0,
      "outputs": [
        {
          "output_type": "execute_result",
          "data": {
            "text/plain": [
              "array([0., 1., 2., 3., 4., 5., 6., 7., 8., 9.])"
            ]
          },
          "metadata": {
            "tags": []
          },
          "execution_count": 24
        }
      ]
    },
    {
      "metadata": {
        "id": "_XttPvqih7J_",
        "colab_type": "text"
      },
      "cell_type": "markdown",
      "source": [
        "==>> Calling astype always creates a new array (a copy of the data), even\n",
        "if the new dtype is the same as the old dtype."
      ]
    },
    {
      "metadata": {
        "deletable": true,
        "editable": true,
        "id": "z-q1MDXTaOv1",
        "colab_type": "code",
        "outputId": "f70b1e87-b34e-46df-b25f-8fb41ef87eba",
        "colab": {
          "base_uri": "https://localhost:8080/",
          "height": 51
        }
      },
      "cell_type": "code",
      "source": [
        "empty_uint32 = np.empty(8, dtype='u4')\n",
        "empty_uint32"
      ],
      "execution_count": 0,
      "outputs": [
        {
          "output_type": "execute_result",
          "data": {
            "text/plain": [
              "array([         0, 1075314688,          0, 1075707904,          0,\n",
              "       1075838976,          0, 1072693248], dtype=uint32)"
            ]
          },
          "metadata": {
            "tags": []
          },
          "execution_count": 25
        }
      ]
    },
    {
      "metadata": {
        "deletable": true,
        "editable": true,
        "id": "eJtj3nU8aOv7",
        "colab_type": "text"
      },
      "cell_type": "markdown",
      "source": [
        "### Arithmetic with NumPy Arrays"
      ]
    },
    {
      "metadata": {
        "id": "s4wUGLD-8PqA",
        "colab_type": "text"
      },
      "cell_type": "markdown",
      "source": [
        "Arrays are important because they enable you to express batch operations on data\n",
        "without writing any for loops. NumPy users call this vectorization. Any arithmetic\n",
        "operations between equal-size arrays applies the operation element-wise:"
      ]
    },
    {
      "metadata": {
        "deletable": true,
        "editable": true,
        "id": "HZDkdzTAaOv8",
        "colab_type": "code",
        "outputId": "3f280974-8169-4b98-d2eb-4ad2680836f2",
        "colab": {
          "base_uri": "https://localhost:8080/",
          "height": 119
        }
      },
      "cell_type": "code",
      "source": [
        "arr = np.array([[1., 2., 3.], [4., 5., 6.]])\n",
        "print(arr)\n",
        "print(arr * arr)\n",
        "print(arr - arr)"
      ],
      "execution_count": 0,
      "outputs": [
        {
          "output_type": "stream",
          "text": [
            "[[1. 2. 3.]\n",
            " [4. 5. 6.]]\n",
            "[[ 1.  4.  9.]\n",
            " [16. 25. 36.]]\n",
            "[[0. 0. 0.]\n",
            " [0. 0. 0.]]\n"
          ],
          "name": "stdout"
        }
      ]
    },
    {
      "metadata": {
        "id": "w6IzWTL08Xvu",
        "colab_type": "text"
      },
      "cell_type": "markdown",
      "source": [
        "Arithmetic operations with scalars propagate the scalar argument to each element in\n",
        "the array:"
      ]
    },
    {
      "metadata": {
        "deletable": true,
        "editable": true,
        "id": "K1RJwsANaOv_",
        "colab_type": "code",
        "outputId": "aac5adcb-1f83-4e22-d9bb-cff0404e598d",
        "colab": {
          "base_uri": "https://localhost:8080/",
          "height": 85
        }
      },
      "cell_type": "code",
      "source": [
        "print(1 / arr, \"\\n\", arr ** 0.5)"
      ],
      "execution_count": 0,
      "outputs": [
        {
          "output_type": "stream",
          "text": [
            "[[1.     0.5    0.3333]\n",
            " [0.25   0.2    0.1667]] \n",
            " [[1.     1.4142 1.7321]\n",
            " [2.     2.2361 2.4495]]\n"
          ],
          "name": "stdout"
        }
      ]
    },
    {
      "metadata": {
        "id": "2E1N2Vo98eug",
        "colab_type": "text"
      },
      "cell_type": "markdown",
      "source": [
        "Comparisons between arrays of the same size yield boolean arrays:"
      ]
    },
    {
      "metadata": {
        "deletable": true,
        "editable": true,
        "id": "AsT2tcHuaOwH",
        "colab_type": "code",
        "outputId": "5114bf22-8e77-4f03-9116-e3daed6876c2",
        "colab": {
          "base_uri": "https://localhost:8080/",
          "height": 119
        }
      },
      "cell_type": "code",
      "source": [
        "arr2 = np.array([[0., 4., 1.], [7., 2., 12.]])\n",
        "print(arr)\n",
        "print(arr2)\n",
        "print(arr2 > arr)"
      ],
      "execution_count": 0,
      "outputs": [
        {
          "output_type": "stream",
          "text": [
            "[[1. 2. 3.]\n",
            " [4. 5. 6.]]\n",
            "[[ 0.  4.  1.]\n",
            " [ 7.  2. 12.]]\n",
            "[[False  True False]\n",
            " [ True False  True]]\n"
          ],
          "name": "stdout"
        }
      ]
    },
    {
      "metadata": {
        "id": "zsuSexWo8mQ-",
        "colab_type": "text"
      },
      "cell_type": "markdown",
      "source": [
        "Operations between differently sized arrays is called broadcasting and will be discussed\n",
        "in more detail"
      ]
    },
    {
      "metadata": {
        "deletable": true,
        "editable": true,
        "id": "OIVYsF44aOwJ",
        "colab_type": "text"
      },
      "cell_type": "markdown",
      "source": [
        "### Basic Indexing and Slicing"
      ]
    },
    {
      "metadata": {
        "id": "KShrTRD48rba",
        "colab_type": "text"
      },
      "cell_type": "markdown",
      "source": [
        "NumPy array indexing is a rich topic, as there are many ways you may want to select\n",
        "a subset of your data or individual elements. One-dimensional arrays are simple; on\n",
        "the surface they act similarly to Python lists:"
      ]
    },
    {
      "metadata": {
        "deletable": true,
        "editable": true,
        "id": "pWz7W8kfaOwL",
        "colab_type": "code",
        "outputId": "a038ca2b-738e-4af7-ff3b-b06ddc371524",
        "colab": {
          "base_uri": "https://localhost:8080/",
          "height": 68
        }
      },
      "cell_type": "code",
      "source": [
        "arr = np.arange(10)\n",
        "print(arr)\n",
        "print(\"arr[5] =\", arr[5], \"arr[5:8] =\", arr[5:8])\n",
        "\n",
        "arr[5:8] = 12\n",
        "arr"
      ],
      "execution_count": 0,
      "outputs": [
        {
          "output_type": "stream",
          "text": [
            "[0 1 2 3 4 5 6 7 8 9]\n",
            "arr[5] = 5 arr[5:8] = [5 6 7]\n"
          ],
          "name": "stdout"
        },
        {
          "output_type": "execute_result",
          "data": {
            "text/plain": [
              "array([ 0,  1,  2,  3,  4, 12, 12, 12,  8,  9])"
            ]
          },
          "metadata": {
            "tags": []
          },
          "execution_count": 10
        }
      ]
    },
    {
      "metadata": {
        "id": "BSPNg30e8yF5",
        "colab_type": "text"
      },
      "cell_type": "markdown",
      "source": [
        "As you can see, if you assign a scalar value to a slice, as in arr[5:8] = 12, the value is\n",
        "propagated (or broadcasted henceforth) to the entire selection. An important first distinction\n",
        "from Python’s built-in lists is that array slices are views on the original array.\n",
        "This means that the data is not copied, and any modifications to the view will be\n",
        "reflected in the source array.\n",
        "\n",
        "To give an example of this, I first create a slice of arr:"
      ]
    },
    {
      "metadata": {
        "deletable": true,
        "editable": true,
        "id": "lCiL-KZuaOwb",
        "colab_type": "code",
        "outputId": "9a135d79-25ce-4936-ee88-3018ee3ce399",
        "colab": {
          "base_uri": "https://localhost:8080/",
          "height": 34
        }
      },
      "cell_type": "code",
      "source": [
        "arr_slice = arr[5:8]\n",
        "arr_slice"
      ],
      "execution_count": 0,
      "outputs": [
        {
          "output_type": "execute_result",
          "data": {
            "text/plain": [
              "array([12, 12, 12])"
            ]
          },
          "metadata": {
            "tags": []
          },
          "execution_count": 11
        }
      ]
    },
    {
      "metadata": {
        "id": "13hnCm5ukD2M",
        "colab_type": "text"
      },
      "cell_type": "markdown",
      "source": [
        "==>> data is not copied, and any modifications to the view will be\n",
        "reflected in the source array."
      ]
    },
    {
      "metadata": {
        "id": "oTOPUjHw9E5B",
        "colab_type": "text"
      },
      "cell_type": "markdown",
      "source": [
        "Now, when I change values in arr_slice, the mutations are reflected in the original\n",
        "array arr:"
      ]
    },
    {
      "metadata": {
        "deletable": true,
        "editable": true,
        "id": "_L9OY1BdaOwd",
        "colab_type": "code",
        "outputId": "fd7a3f0d-6773-4b2e-b8a8-5dcd1b63c218",
        "colab": {
          "base_uri": "https://localhost:8080/",
          "height": 51
        }
      },
      "cell_type": "code",
      "source": [
        "arr_slice[1] = 12345\n",
        "arr"
      ],
      "execution_count": 0,
      "outputs": [
        {
          "output_type": "execute_result",
          "data": {
            "text/plain": [
              "array([    0,     1,     2,     3,     4,    12, 12345,    12,     8,\n",
              "           9])"
            ]
          },
          "metadata": {
            "tags": []
          },
          "execution_count": 12
        }
      ]
    },
    {
      "metadata": {
        "id": "bk2BVD2G9IzK",
        "colab_type": "text"
      },
      "cell_type": "markdown",
      "source": [
        "The “bare” slice [:] will assign to all values in an array:"
      ]
    },
    {
      "metadata": {
        "deletable": true,
        "editable": true,
        "id": "mzD3PEgRaOwf",
        "colab_type": "code",
        "outputId": "e1616e70-d4da-4689-8ecb-06d76da647fd",
        "colab": {
          "base_uri": "https://localhost:8080/",
          "height": 34
        }
      },
      "cell_type": "code",
      "source": [
        "arr_slice[:] = 64\n",
        "arr"
      ],
      "execution_count": 0,
      "outputs": [
        {
          "output_type": "execute_result",
          "data": {
            "text/plain": [
              "array([ 0,  1,  2,  3,  4, 64, 64, 64,  8,  9])"
            ]
          },
          "metadata": {
            "tags": []
          },
          "execution_count": 13
        }
      ]
    },
    {
      "metadata": {
        "id": "k-h35LGJkeSc",
        "colab_type": "text"
      },
      "cell_type": "markdown",
      "source": [
        "If you are new to NumPy, you might be surprised by this, especially if you have used\n",
        "other array programming languages that copy data more eagerly. As NumPy has been\n",
        "designed to be able to work with very large arrays, you could imagine performance\n",
        "and memory problems if NumPy insisted on always copying data.\n",
        "\n",
        "==>> If you want a copy of a slice of an ndarray instead of a view, you\n",
        "will need to explicitly copy the array—for example,\n",
        "arr[5:8].copy().\n",
        "\n",
        "With higher dimensional arrays, you have many more options. In a two-dimensional\n",
        "array, the elements at each index are no longer scalars but rather one-dimensional\n",
        "arrays:"
      ]
    },
    {
      "metadata": {
        "deletable": true,
        "editable": true,
        "id": "e7S-HkqraOwi",
        "colab_type": "code",
        "outputId": "93ef417c-e513-402a-8bcf-e497b7ad20bc",
        "colab": {
          "base_uri": "https://localhost:8080/",
          "height": 34
        }
      },
      "cell_type": "code",
      "source": [
        "arr2d = np.array([[1, 2, 3], [4, 5, 6], [7, 8, 9]])\n",
        "arr2d[2]"
      ],
      "execution_count": 4,
      "outputs": [
        {
          "output_type": "execute_result",
          "data": {
            "text/plain": [
              "array([7, 8, 9])"
            ]
          },
          "metadata": {
            "tags": []
          },
          "execution_count": 4
        }
      ]
    },
    {
      "metadata": {
        "id": "rJ7OVhKv9dp2",
        "colab_type": "text"
      },
      "cell_type": "markdown",
      "source": [
        "Thus, individual elements can be accessed recursively. But that is a bit too much\n",
        "work, so you can pass a comma-separated list of indices to select individual elements.\n",
        "So these are equivalent:"
      ]
    },
    {
      "metadata": {
        "deletable": true,
        "editable": true,
        "id": "u23ZL3G1aOwk",
        "colab_type": "code",
        "outputId": "9fde2338-e887-43bf-a0de-311b5d3bcf0e",
        "colab": {
          "base_uri": "https://localhost:8080/",
          "height": 51
        }
      },
      "cell_type": "code",
      "source": [
        "print(arr2d[0][2])\n",
        "print(arr2d[0, 2])"
      ],
      "execution_count": 5,
      "outputs": [
        {
          "output_type": "stream",
          "text": [
            "3\n",
            "3\n"
          ],
          "name": "stdout"
        }
      ]
    },
    {
      "metadata": {
        "id": "8q6uCChv9xhh",
        "colab_type": "text"
      },
      "cell_type": "markdown",
      "source": [
        "In multidimensional arrays, if you omit later indices, the returned object will be a\n",
        "lower dimensional ndarray consisting of all the data along the higher dimensions. So\n",
        "in the 2 × 2 × 3 array arr3d:"
      ]
    },
    {
      "metadata": {
        "deletable": true,
        "editable": true,
        "id": "ShXX58FSaOwm",
        "colab_type": "code",
        "outputId": "6d6ab7d2-cd8f-40e2-9879-db1b91fb8b5b",
        "colab": {
          "base_uri": "https://localhost:8080/",
          "height": 102
        }
      },
      "cell_type": "code",
      "source": [
        "arr3d = np.array([[[1, 2, 3], [4, 5, 6]], [[7, 8, 9], [10, 11, 12]]])\n",
        "arr3d"
      ],
      "execution_count": 0,
      "outputs": [
        {
          "output_type": "execute_result",
          "data": {
            "text/plain": [
              "array([[[ 1,  2,  3],\n",
              "        [ 4,  5,  6]],\n",
              "\n",
              "       [[ 7,  8,  9],\n",
              "        [10, 11, 12]]])"
            ]
          },
          "metadata": {
            "tags": []
          },
          "execution_count": 17
        }
      ]
    },
    {
      "metadata": {
        "id": "ZpLGVdHP93qy",
        "colab_type": "text"
      },
      "cell_type": "markdown",
      "source": [
        "arr3d[0] is a 2 × 3 array:"
      ]
    },
    {
      "metadata": {
        "deletable": true,
        "editable": true,
        "id": "yEnNARXDaOwo",
        "colab_type": "code",
        "outputId": "2b0f4803-7896-4fe4-9704-f65eb5d2fe91",
        "colab": {
          "base_uri": "https://localhost:8080/",
          "height": 51
        }
      },
      "cell_type": "code",
      "source": [
        "arr3d[0]"
      ],
      "execution_count": 0,
      "outputs": [
        {
          "output_type": "execute_result",
          "data": {
            "text/plain": [
              "array([[1, 2, 3],\n",
              "       [4, 5, 6]])"
            ]
          },
          "metadata": {
            "tags": []
          },
          "execution_count": 18
        }
      ]
    },
    {
      "metadata": {
        "id": "EUWFXX9b99D0",
        "colab_type": "text"
      },
      "cell_type": "markdown",
      "source": [
        "Both scalar values and arrays can be assigned to arr3d[0]:"
      ]
    },
    {
      "metadata": {
        "deletable": true,
        "editable": true,
        "id": "al9G7DOBaOwq",
        "colab_type": "code",
        "outputId": "b6eade0a-270d-4dd9-faa1-84aa209d2b61",
        "colab": {
          "base_uri": "https://localhost:8080/",
          "height": 102
        }
      },
      "cell_type": "code",
      "source": [
        "old_values = arr3d[0].copy()\n",
        "arr3d[0] = 42\n",
        "arr3d"
      ],
      "execution_count": 0,
      "outputs": [
        {
          "output_type": "execute_result",
          "data": {
            "text/plain": [
              "array([[[42, 42, 42],\n",
              "        [42, 42, 42]],\n",
              "\n",
              "       [[ 7,  8,  9],\n",
              "        [10, 11, 12]]])"
            ]
          },
          "metadata": {
            "tags": []
          },
          "execution_count": 19
        }
      ]
    },
    {
      "metadata": {
        "id": "cUZ6Zimuk61B",
        "colab_type": "code",
        "outputId": "2497a79f-e9c9-4b9f-f7e4-d2dd4f5f7666",
        "colab": {
          "base_uri": "https://localhost:8080/",
          "height": 102
        }
      },
      "cell_type": "code",
      "source": [
        "arr3d[0] = old_values\n",
        "arr3d"
      ],
      "execution_count": 0,
      "outputs": [
        {
          "output_type": "execute_result",
          "data": {
            "text/plain": [
              "array([[[ 1,  2,  3],\n",
              "        [ 4,  5,  6]],\n",
              "\n",
              "       [[ 7,  8,  9],\n",
              "        [10, 11, 12]]])"
            ]
          },
          "metadata": {
            "tags": []
          },
          "execution_count": 20
        }
      ]
    },
    {
      "metadata": {
        "id": "eqePyGom9_pK",
        "colab_type": "text"
      },
      "cell_type": "markdown",
      "source": [
        "Similarly, arr3d[1, 0] gives you all of the values whose indices start with (1, 0),\n",
        "forming a 1-dimensional array:"
      ]
    },
    {
      "metadata": {
        "deletable": true,
        "editable": true,
        "id": "jtwWLtRtaOwt",
        "colab_type": "code",
        "outputId": "1024b23b-b1a7-4943-a924-bd33f651b100",
        "colab": {
          "base_uri": "https://localhost:8080/",
          "height": 34
        }
      },
      "cell_type": "code",
      "source": [
        "arr3d[1, 0]"
      ],
      "execution_count": 0,
      "outputs": [
        {
          "output_type": "execute_result",
          "data": {
            "text/plain": [
              "array([7, 8, 9])"
            ]
          },
          "metadata": {
            "tags": []
          },
          "execution_count": 21
        }
      ]
    },
    {
      "metadata": {
        "id": "ErOMh0D5-51F",
        "colab_type": "text"
      },
      "cell_type": "markdown",
      "source": [
        "This expression is the same as though we had indexed in two steps:"
      ]
    },
    {
      "metadata": {
        "deletable": true,
        "editable": true,
        "id": "6uF1K3qtaOwv",
        "colab_type": "code",
        "outputId": "066a5296-51bf-4d05-95bc-584af4384a74",
        "colab": {
          "base_uri": "https://localhost:8080/",
          "height": 51
        }
      },
      "cell_type": "code",
      "source": [
        "x = arr3d[1]\n",
        "x, x[0]"
      ],
      "execution_count": 0,
      "outputs": [
        {
          "output_type": "execute_result",
          "data": {
            "text/plain": [
              "(array([[ 7,  8,  9],\n",
              "        [10, 11, 12]]), array([7, 8, 9]))"
            ]
          },
          "metadata": {
            "tags": []
          },
          "execution_count": 22
        }
      ]
    },
    {
      "metadata": {
        "id": "HXWssnGO-7mv",
        "colab_type": "text"
      },
      "cell_type": "markdown",
      "source": [
        "Note that in all of these cases where subsections of the array have been selected, the\n",
        "returned arrays are views."
      ]
    },
    {
      "metadata": {
        "deletable": true,
        "editable": true,
        "id": "QOzvWIcZaOww",
        "colab_type": "text"
      },
      "cell_type": "markdown",
      "source": [
        "#### Indexing with slices"
      ]
    },
    {
      "metadata": {
        "id": "fZdG5p1c--XV",
        "colab_type": "text"
      },
      "cell_type": "markdown",
      "source": [
        "Like one-dimensional objects such as Python lists, ndarrays can be sliced with the\n",
        "familiar syntax:"
      ]
    },
    {
      "metadata": {
        "deletable": true,
        "editable": true,
        "id": "ZTySsPeTaOwx",
        "colab_type": "code",
        "outputId": "24489e5f-4a8d-45eb-d076-d036ca67d295",
        "colab": {
          "base_uri": "https://localhost:8080/",
          "height": 51
        }
      },
      "cell_type": "code",
      "source": [
        "print(arr)\n",
        "print(arr[1:6])"
      ],
      "execution_count": 0,
      "outputs": [
        {
          "output_type": "stream",
          "text": [
            "[ 0  1  2  3  4 64 64 64  8  9]\n",
            "[ 1  2  3  4 64]\n"
          ],
          "name": "stdout"
        }
      ]
    },
    {
      "metadata": {
        "id": "PVOMo0Nu_Epe",
        "colab_type": "text"
      },
      "cell_type": "markdown",
      "source": [
        "Consider the two-dimensional array from before, arr2d. Slicing this array is a bit\n",
        "different:"
      ]
    },
    {
      "metadata": {
        "deletable": true,
        "editable": true,
        "id": "qvtS4l-XaOwz",
        "colab_type": "code",
        "outputId": "3136d23b-c4b0-4b43-d28c-aea28e2ba56c",
        "colab": {
          "base_uri": "https://localhost:8080/",
          "height": 102
        }
      },
      "cell_type": "code",
      "source": [
        "print(arr2d)\n",
        "print(arr2d[:2])"
      ],
      "execution_count": 0,
      "outputs": [
        {
          "output_type": "stream",
          "text": [
            "[[1 2 3]\n",
            " [4 5 6]\n",
            " [7 8 9]]\n",
            "[[1 2 3]\n",
            " [4 5 6]]\n"
          ],
          "name": "stdout"
        }
      ]
    },
    {
      "metadata": {
        "id": "HY7rBhiJ_M57",
        "colab_type": "text"
      },
      "cell_type": "markdown",
      "source": [
        "As you can see, it has sliced along axis 0, the first axis. A slice, therefore, selects a\n",
        "range of elements along an axis. It can be helpful to read the expression arr2d[:2] as\n",
        "“select the first two rows of arr2d.”\n",
        "\n",
        "You can pass multiple slices just like you can pass multiple indexes:"
      ]
    },
    {
      "metadata": {
        "deletable": true,
        "editable": true,
        "id": "euY2sL_vaOw1",
        "colab_type": "code",
        "outputId": "5f9f91b9-9f8b-4001-cf60-ffc948d47d8a",
        "colab": {
          "base_uri": "https://localhost:8080/",
          "height": 51
        }
      },
      "cell_type": "code",
      "source": [
        "arr2d[:2, 1:]"
      ],
      "execution_count": 0,
      "outputs": [
        {
          "output_type": "execute_result",
          "data": {
            "text/plain": [
              "array([[2, 3],\n",
              "       [5, 6]])"
            ]
          },
          "metadata": {
            "tags": []
          },
          "execution_count": 25
        }
      ]
    },
    {
      "metadata": {
        "id": "hKLaZBXr_XFb",
        "colab_type": "text"
      },
      "cell_type": "markdown",
      "source": [
        "When slicing like this, you always obtain array views of the same number of dimensions.\n",
        "By mixing integer indexes and slices, you get lower dimensional slices.\n",
        "For example, I can select the second row but only the first two columns like so:"
      ]
    },
    {
      "metadata": {
        "deletable": true,
        "editable": true,
        "id": "RbWoSTWJaOw3",
        "colab_type": "code",
        "outputId": "32524104-74d3-46ef-b51d-82f12811babf",
        "colab": {
          "base_uri": "https://localhost:8080/",
          "height": 34
        }
      },
      "cell_type": "code",
      "source": [
        "arr2d[1, :2]"
      ],
      "execution_count": 0,
      "outputs": [
        {
          "output_type": "execute_result",
          "data": {
            "text/plain": [
              "array([4, 5])"
            ]
          },
          "metadata": {
            "tags": []
          },
          "execution_count": 26
        }
      ]
    },
    {
      "metadata": {
        "id": "N1kApatp_ddd",
        "colab_type": "text"
      },
      "cell_type": "markdown",
      "source": [
        "Similarly, I can select the third column but only the first two rows like so:"
      ]
    },
    {
      "metadata": {
        "deletable": true,
        "editable": true,
        "id": "vLpTdT9SaOw4",
        "colab_type": "code",
        "outputId": "24f65672-d1cd-4cb5-afd8-6c7296430af1",
        "colab": {
          "base_uri": "https://localhost:8080/",
          "height": 34
        }
      },
      "cell_type": "code",
      "source": [
        "arr2d[:2, 2]"
      ],
      "execution_count": 0,
      "outputs": [
        {
          "output_type": "execute_result",
          "data": {
            "text/plain": [
              "array([3, 6])"
            ]
          },
          "metadata": {
            "tags": []
          },
          "execution_count": 27
        }
      ]
    },
    {
      "metadata": {
        "id": "4EkkMcdj_jqx",
        "colab_type": "text"
      },
      "cell_type": "markdown",
      "source": [
        "Note that a colon by itself means to take the entire\n",
        "axis, so you can slice only higher dimensional axes by doing:"
      ]
    },
    {
      "metadata": {
        "deletable": true,
        "editable": true,
        "id": "ZuVk3hgOaOw6",
        "colab_type": "code",
        "outputId": "ff47064a-4e90-4acf-8fee-c389acc725d3",
        "colab": {
          "base_uri": "https://localhost:8080/",
          "height": 68
        }
      },
      "cell_type": "code",
      "source": [
        "arr2d[:, :1]"
      ],
      "execution_count": 0,
      "outputs": [
        {
          "output_type": "execute_result",
          "data": {
            "text/plain": [
              "array([[1],\n",
              "       [4],\n",
              "       [7]])"
            ]
          },
          "metadata": {
            "tags": []
          },
          "execution_count": 28
        }
      ]
    },
    {
      "metadata": {
        "id": "ndE-LSHH_pTc",
        "colab_type": "text"
      },
      "cell_type": "markdown",
      "source": [
        "Of course, assigning to a slice expression assigns to the whole selection:"
      ]
    },
    {
      "metadata": {
        "deletable": true,
        "editable": true,
        "id": "6KC8NFE7aOw7",
        "colab_type": "code",
        "outputId": "9e402166-3044-4787-a097-b2012fdbea7f",
        "colab": {
          "base_uri": "https://localhost:8080/",
          "height": 68
        }
      },
      "cell_type": "code",
      "source": [
        "arr2d[:2, 1:] = 0\n",
        "arr2d"
      ],
      "execution_count": 0,
      "outputs": [
        {
          "output_type": "execute_result",
          "data": {
            "text/plain": [
              "array([[1, 0, 0],\n",
              "       [4, 0, 0],\n",
              "       [7, 8, 9]])"
            ]
          },
          "metadata": {
            "tags": []
          },
          "execution_count": 29
        }
      ]
    },
    {
      "metadata": {
        "deletable": true,
        "editable": true,
        "id": "vpdMiHQyaOw9",
        "colab_type": "text"
      },
      "cell_type": "markdown",
      "source": [
        "### Boolean Indexing"
      ]
    },
    {
      "metadata": {
        "id": "f9RU3l7W_vgb",
        "colab_type": "text"
      },
      "cell_type": "markdown",
      "source": [
        "Let’s consider an example where we have some data in an array and an array of names\n",
        "with duplicates. I’m going to use here the randn function in numpy.random to generate\n",
        "some random normally distributed data:"
      ]
    },
    {
      "metadata": {
        "deletable": true,
        "editable": true,
        "id": "U6uFoXyaaOw-",
        "colab_type": "code",
        "outputId": "12b6c9b7-847d-416f-bab9-6eb0a0f26e90",
        "colab": {
          "base_uri": "https://localhost:8080/",
          "height": 153
        }
      },
      "cell_type": "code",
      "source": [
        "names = np.array(['Bob', 'Joe', 'Will', 'Bob', 'Will', 'Joe', 'Joe'])\n",
        "data = np.random.randn(7, 4)\n",
        "print(names)\n",
        "print(data)"
      ],
      "execution_count": 0,
      "outputs": [
        {
          "output_type": "stream",
          "text": [
            "['Bob' 'Joe' 'Will' 'Bob' 'Will' 'Joe' 'Joe']\n",
            "[[-0.2047  0.4789 -0.5194 -0.5557]\n",
            " [ 1.9658  1.3934  0.0929  0.2817]\n",
            " [ 0.769   1.2464  1.0072 -1.2962]\n",
            " [ 0.275   0.2289  1.3529  0.8864]\n",
            " [-2.0016 -0.3718  1.669  -0.4386]\n",
            " [-0.5397  0.477   3.2489 -1.0212]\n",
            " [-0.5771  0.1241  0.3026  0.5238]]\n"
          ],
          "name": "stdout"
        }
      ]
    },
    {
      "metadata": {
        "id": "Hu_YmJcM_1k6",
        "colab_type": "text"
      },
      "cell_type": "markdown",
      "source": [
        "Suppose each name corresponds to a row in the data array and we wanted to select\n",
        "all the rows with corresponding name 'Bob'. Like arithmetic operations, comparisons\n",
        "(such as ==) with arrays are also vectorized. Thus, comparing names with the\n",
        "string 'Bob' yields a boolean array:"
      ]
    },
    {
      "metadata": {
        "deletable": true,
        "editable": true,
        "id": "W5ZcrT9saOxA",
        "colab_type": "code",
        "outputId": "5598d17c-f148-4ba6-cf65-13dd769b767e",
        "colab": {
          "base_uri": "https://localhost:8080/",
          "height": 34
        }
      },
      "cell_type": "code",
      "source": [
        "names == 'Bob'"
      ],
      "execution_count": 0,
      "outputs": [
        {
          "output_type": "execute_result",
          "data": {
            "text/plain": [
              "array([ True, False, False,  True, False, False, False])"
            ]
          },
          "metadata": {
            "tags": []
          },
          "execution_count": 31
        }
      ]
    },
    {
      "metadata": {
        "id": "K-W2u0pR_7YX",
        "colab_type": "text"
      },
      "cell_type": "markdown",
      "source": [
        "This boolean array can be passed when indexing the array:"
      ]
    },
    {
      "metadata": {
        "deletable": true,
        "editable": true,
        "id": "5CH6eDgPaOxC",
        "colab_type": "code",
        "outputId": "5d53a494-7aa6-4096-f8e4-16289bedcaf2",
        "colab": {
          "base_uri": "https://localhost:8080/",
          "height": 51
        }
      },
      "cell_type": "code",
      "source": [
        "data[names == 'Bob']"
      ],
      "execution_count": 0,
      "outputs": [
        {
          "output_type": "execute_result",
          "data": {
            "text/plain": [
              "array([[-0.2047,  0.4789, -0.5194, -0.5557],\n",
              "       [ 0.275 ,  0.2289,  1.3529,  0.8864]])"
            ]
          },
          "metadata": {
            "tags": []
          },
          "execution_count": 32
        }
      ]
    },
    {
      "metadata": {
        "id": "-RWMJm-yv6RL",
        "colab_type": "text"
      },
      "cell_type": "markdown",
      "source": [
        "The boolean array must be of the same length as the array axis it’s indexing. You can\n",
        "even mix and match boolean arrays with slices or integers (or sequences of integers;\n",
        "more on this later).\n",
        "\n",
        "==>> Boolean selection will not fail if the boolean array is not the correct\n",
        "length, so I recommend care when using this feature.\n",
        "\n",
        "In these examples, I select from the rows where names == 'Bob' and index the columns,\n",
        "too:"
      ]
    },
    {
      "metadata": {
        "deletable": true,
        "editable": true,
        "id": "zMUvaWZfaOxE",
        "colab_type": "code",
        "outputId": "c356f707-035e-4774-dbba-8363d59e3a51",
        "colab": {
          "base_uri": "https://localhost:8080/",
          "height": 68
        }
      },
      "cell_type": "code",
      "source": [
        "print(data[names == 'Bob', 2:])\n",
        "print(data[names == 'Bob', 3])"
      ],
      "execution_count": 0,
      "outputs": [
        {
          "output_type": "stream",
          "text": [
            "[[-0.5194 -0.5557]\n",
            " [ 1.3529  0.8864]]\n",
            "[-0.5557  0.8864]\n"
          ],
          "name": "stdout"
        }
      ]
    },
    {
      "metadata": {
        "id": "D30OCSufAJLV",
        "colab_type": "text"
      },
      "cell_type": "markdown",
      "source": [
        "To select everything but 'Bob', you can either use != or negate the condition using ~:"
      ]
    },
    {
      "metadata": {
        "deletable": true,
        "editable": true,
        "id": "WGEy_ZSXaOxG",
        "colab_type": "code",
        "outputId": "f26dad92-dc4b-4bc4-d296-b662f95a98d1",
        "colab": {
          "base_uri": "https://localhost:8080/",
          "height": 119
        }
      },
      "cell_type": "code",
      "source": [
        "print(names != 'Bob')\n",
        "print(data[~(names == 'Bob')])"
      ],
      "execution_count": 0,
      "outputs": [
        {
          "output_type": "stream",
          "text": [
            "[False  True  True False  True  True  True]\n",
            "[[ 1.9658  1.3934  0.0929  0.2817]\n",
            " [ 0.769   1.2464  1.0072 -1.2962]\n",
            " [-2.0016 -0.3718  1.669  -0.4386]\n",
            " [-0.5397  0.477   3.2489 -1.0212]\n",
            " [-0.5771  0.1241  0.3026  0.5238]]\n"
          ],
          "name": "stdout"
        }
      ]
    },
    {
      "metadata": {
        "id": "Dj_6WRDPAO51",
        "colab_type": "text"
      },
      "cell_type": "markdown",
      "source": [
        "The ~ operator can be useful when you want to invert a general condition:"
      ]
    },
    {
      "metadata": {
        "deletable": true,
        "editable": true,
        "id": "WgMqa9_vaOxJ",
        "colab_type": "code",
        "outputId": "b17c3924-09aa-4fd2-9f95-ae8ce52c9706",
        "colab": {
          "base_uri": "https://localhost:8080/",
          "height": 102
        }
      },
      "cell_type": "code",
      "source": [
        "cond = names == 'Bob'\n",
        "data[~cond]"
      ],
      "execution_count": 0,
      "outputs": [
        {
          "output_type": "execute_result",
          "data": {
            "text/plain": [
              "array([[ 1.9658,  1.3934,  0.0929,  0.2817],\n",
              "       [ 0.769 ,  1.2464,  1.0072, -1.2962],\n",
              "       [-2.0016, -0.3718,  1.669 , -0.4386],\n",
              "       [-0.5397,  0.477 ,  3.2489, -1.0212],\n",
              "       [-0.5771,  0.1241,  0.3026,  0.5238]])"
            ]
          },
          "metadata": {
            "tags": []
          },
          "execution_count": 35
        }
      ]
    },
    {
      "metadata": {
        "id": "HeKd7nBUAbUu",
        "colab_type": "text"
      },
      "cell_type": "markdown",
      "source": [
        "Selecting two of the three names to combine multiple boolean conditions, use\n",
        "boolean arithmetic operators like & (and) and | (or):"
      ]
    },
    {
      "metadata": {
        "deletable": true,
        "editable": true,
        "id": "ujnqrXCxaOxL",
        "colab_type": "code",
        "outputId": "8d2631c9-c297-4219-88ee-4f535b0324d2",
        "colab": {
          "base_uri": "https://localhost:8080/",
          "height": 102
        }
      },
      "cell_type": "code",
      "source": [
        "mask = (names == 'Bob') | (names == 'Will')\n",
        "print(mask)\n",
        "print(data[mask])"
      ],
      "execution_count": 0,
      "outputs": [
        {
          "output_type": "stream",
          "text": [
            "[ True False  True  True  True False False]\n",
            "[[-0.2047  0.4789 -0.5194 -0.5557]\n",
            " [ 0.769   1.2464  1.0072 -1.2962]\n",
            " [ 0.275   0.2289  1.3529  0.8864]\n",
            " [-2.0016 -0.3718  1.669  -0.4386]]\n"
          ],
          "name": "stdout"
        }
      ]
    },
    {
      "metadata": {
        "id": "jhbBBC5-xPtg",
        "colab_type": "text"
      },
      "cell_type": "markdown",
      "source": [
        "Selecting data from an array by boolean indexing always creates a copy of the data,\n",
        "even if the returned array is unchanged.\n",
        "\n",
        "==>> The Python keywords and and or do not work with boolean arrays.\n",
        "Use & (and) and | (or) instead.\n",
        "\n",
        "Setting values with boolean arrays works in a common-sense way. To set all of the\n",
        "negative values in data to 0 we need only do:"
      ]
    },
    {
      "metadata": {
        "deletable": true,
        "editable": true,
        "id": "lXgAnqZTaOxN",
        "colab_type": "code",
        "outputId": "a4f867ca-80a9-4830-cbbc-f7249ad993e4",
        "colab": {
          "base_uri": "https://localhost:8080/",
          "height": 136
        }
      },
      "cell_type": "code",
      "source": [
        "data[data < 0] = 0\n",
        "data"
      ],
      "execution_count": 0,
      "outputs": [
        {
          "output_type": "execute_result",
          "data": {
            "text/plain": [
              "array([[0.    , 0.4789, 0.    , 0.    ],\n",
              "       [1.9658, 1.3934, 0.0929, 0.2817],\n",
              "       [0.769 , 1.2464, 1.0072, 0.    ],\n",
              "       [0.275 , 0.2289, 1.3529, 0.8864],\n",
              "       [0.    , 0.    , 1.669 , 0.    ],\n",
              "       [0.    , 0.477 , 3.2489, 0.    ],\n",
              "       [0.    , 0.1241, 0.3026, 0.5238]])"
            ]
          },
          "metadata": {
            "tags": []
          },
          "execution_count": 37
        }
      ]
    },
    {
      "metadata": {
        "id": "UtddVRCaArb9",
        "colab_type": "text"
      },
      "cell_type": "markdown",
      "source": [
        "Setting whole rows or columns using a one-dimensional boolean array is also easy:"
      ]
    },
    {
      "metadata": {
        "deletable": true,
        "editable": true,
        "id": "HudBhh6DaOxP",
        "colab_type": "code",
        "outputId": "8e4de6d2-e2d1-4991-a476-af68eeb88058",
        "colab": {
          "base_uri": "https://localhost:8080/",
          "height": 136
        }
      },
      "cell_type": "code",
      "source": [
        "data[names != 'Joe'] = 7\n",
        "data"
      ],
      "execution_count": 0,
      "outputs": [
        {
          "output_type": "execute_result",
          "data": {
            "text/plain": [
              "array([[7.    , 7.    , 7.    , 7.    ],\n",
              "       [1.9658, 1.3934, 0.0929, 0.2817],\n",
              "       [7.    , 7.    , 7.    , 7.    ],\n",
              "       [7.    , 7.    , 7.    , 7.    ],\n",
              "       [7.    , 7.    , 7.    , 7.    ],\n",
              "       [0.    , 0.477 , 3.2489, 0.    ],\n",
              "       [0.    , 0.1241, 0.3026, 0.5238]])"
            ]
          },
          "metadata": {
            "tags": []
          },
          "execution_count": 38
        }
      ]
    },
    {
      "metadata": {
        "id": "Nt8vpiomAvpM",
        "colab_type": "text"
      },
      "cell_type": "markdown",
      "source": [
        "As we will see later, these types of operations on two-dimensional data are convenient\n",
        "to do with pandas."
      ]
    },
    {
      "metadata": {
        "deletable": true,
        "editable": true,
        "id": "9AT0IEgdaOxQ",
        "colab_type": "text"
      },
      "cell_type": "markdown",
      "source": [
        "### Fancy Indexing"
      ]
    },
    {
      "metadata": {
        "id": "YxBKiBCtA1tr",
        "colab_type": "text"
      },
      "cell_type": "markdown",
      "source": [
        "Fancy indexing is a term adopted by NumPy to describe indexing using integer arrays.\n",
        "Suppose we had an 8 × 4 array:"
      ]
    },
    {
      "metadata": {
        "deletable": true,
        "editable": true,
        "id": "YUsdHWCiaOxQ",
        "colab_type": "code",
        "outputId": "9bd4563f-71e2-4a01-da8e-865b0548f9a1",
        "colab": {
          "base_uri": "https://localhost:8080/",
          "height": 153
        }
      },
      "cell_type": "code",
      "source": [
        "arr = np.empty((8, 4))\n",
        "for i in range(8):\n",
        "    arr[i] = i\n",
        "arr"
      ],
      "execution_count": 0,
      "outputs": [
        {
          "output_type": "execute_result",
          "data": {
            "text/plain": [
              "array([[0., 0., 0., 0.],\n",
              "       [1., 1., 1., 1.],\n",
              "       [2., 2., 2., 2.],\n",
              "       [3., 3., 3., 3.],\n",
              "       [4., 4., 4., 4.],\n",
              "       [5., 5., 5., 5.],\n",
              "       [6., 6., 6., 6.],\n",
              "       [7., 7., 7., 7.]])"
            ]
          },
          "metadata": {
            "tags": []
          },
          "execution_count": 18
        }
      ]
    },
    {
      "metadata": {
        "id": "nPaGClcCA6rh",
        "colab_type": "text"
      },
      "cell_type": "markdown",
      "source": [
        "To select out a subset of the rows in a particular order, you can simply pass a list or\n",
        "ndarray of integers specifying the desired order:"
      ]
    },
    {
      "metadata": {
        "deletable": true,
        "editable": true,
        "id": "8NZ1IYChaOxS",
        "colab_type": "code",
        "outputId": "1f8a3e23-1d2c-4753-c7dc-71c310c96030",
        "colab": {
          "base_uri": "https://localhost:8080/",
          "height": 85
        }
      },
      "cell_type": "code",
      "source": [
        "arr[[4, 3, 0, 6]]"
      ],
      "execution_count": 0,
      "outputs": [
        {
          "output_type": "execute_result",
          "data": {
            "text/plain": [
              "array([[4., 4., 4., 4.],\n",
              "       [3., 3., 3., 3.],\n",
              "       [0., 0., 0., 0.],\n",
              "       [6., 6., 6., 6.]])"
            ]
          },
          "metadata": {
            "tags": []
          },
          "execution_count": 19
        }
      ]
    },
    {
      "metadata": {
        "id": "Q1XThJ9VA_cg",
        "colab_type": "text"
      },
      "cell_type": "markdown",
      "source": [
        "Hopefully this code did what you expected! Using negative indices selects rows from\n",
        "the end:"
      ]
    },
    {
      "metadata": {
        "deletable": true,
        "editable": true,
        "id": "fDQ1O6sAaOxU",
        "colab_type": "code",
        "outputId": "b6ea4bbc-b9fd-452c-fc2d-aba04aa67ed2",
        "colab": {
          "base_uri": "https://localhost:8080/",
          "height": 68
        }
      },
      "cell_type": "code",
      "source": [
        "arr[[-3, -5, -7]]"
      ],
      "execution_count": 0,
      "outputs": [
        {
          "output_type": "execute_result",
          "data": {
            "text/plain": [
              "array([[5., 5., 5., 5.],\n",
              "       [3., 3., 3., 3.],\n",
              "       [1., 1., 1., 1.]])"
            ]
          },
          "metadata": {
            "tags": []
          },
          "execution_count": 20
        }
      ]
    },
    {
      "metadata": {
        "id": "fCqdY06LBboQ",
        "colab_type": "text"
      },
      "cell_type": "markdown",
      "source": [
        "Passing multiple index arrays does something slightly different; it selects a onedimensional\n",
        "array of elements corresponding to each tuple of indices:"
      ]
    },
    {
      "metadata": {
        "deletable": true,
        "editable": true,
        "id": "Z9DgppmxaOxW",
        "colab_type": "code",
        "outputId": "282caa10-6662-41f0-b374-476b8a046e56",
        "colab": {
          "base_uri": "https://localhost:8080/",
          "height": 170
        }
      },
      "cell_type": "code",
      "source": [
        "arr = np.arange(32).reshape((8, 4))\n",
        "print(arr)\n",
        "# the elements (1, 0), (5, 3), (7, 1), and (2, 2) are selected\n",
        "print(arr[[1, 5, 7, 2], [0, 3, 1, 2]])"
      ],
      "execution_count": 0,
      "outputs": [
        {
          "output_type": "stream",
          "text": [
            "[[ 0  1  2  3]\n",
            " [ 4  5  6  7]\n",
            " [ 8  9 10 11]\n",
            " [12 13 14 15]\n",
            " [16 17 18 19]\n",
            " [20 21 22 23]\n",
            " [24 25 26 27]\n",
            " [28 29 30 31]]\n",
            "[ 4 23 29 10]\n"
          ],
          "name": "stdout"
        }
      ]
    },
    {
      "metadata": {
        "deletable": true,
        "editable": true,
        "id": "k8e2t_MIaOxX",
        "colab_type": "code",
        "outputId": "403b0482-ed4d-4850-f9d0-4164adbc60d4",
        "colab": {
          "base_uri": "https://localhost:8080/",
          "height": 85
        }
      },
      "cell_type": "code",
      "source": [
        "# Jeez, this is all fucked-up\n",
        "arr[[1, 5, 7, 2]][:, [0, 3, 1, 2]]"
      ],
      "execution_count": 0,
      "outputs": [
        {
          "output_type": "execute_result",
          "data": {
            "text/plain": [
              "array([[ 4,  7,  5,  6],\n",
              "       [20, 23, 21, 22],\n",
              "       [28, 31, 29, 30],\n",
              "       [ 8, 11,  9, 10]])"
            ]
          },
          "metadata": {
            "tags": []
          },
          "execution_count": 22
        }
      ]
    },
    {
      "metadata": {
        "id": "KpN6qzDoSq-u",
        "colab_type": "text"
      },
      "cell_type": "markdown",
      "source": [
        "Here the elements (1, 0), (5, 3), (7, 1), and (2, 2) were selected. Regardless of\n",
        "how many dimensions the array has (here, only 2), the result of fancy indexing is\n",
        "always one-dimensional.\n",
        "\n",
        "The behavior of fancy indexing in this case is a bit different from what some users\n",
        "might have expected (myself included), which is the rectangular region formed by\n",
        "selecting a subset of the matrix’s rows and columns. Here is one way to get that:"
      ]
    },
    {
      "metadata": {
        "id": "3dN6udlYS4iF",
        "colab_type": "code",
        "outputId": "46fb4222-ee52-4d74-b76c-5fa477f66a25",
        "colab": {
          "base_uri": "https://localhost:8080/",
          "height": 85
        }
      },
      "cell_type": "code",
      "source": [
        "arr[[1, 5, 7, 2]][:, [0, 3, 1, 2]]"
      ],
      "execution_count": 0,
      "outputs": [
        {
          "output_type": "execute_result",
          "data": {
            "text/plain": [
              "array([[ 4,  7,  5,  6],\n",
              "       [20, 23, 21, 22],\n",
              "       [28, 31, 29, 30],\n",
              "       [ 8, 11,  9, 10]])"
            ]
          },
          "metadata": {
            "tags": []
          },
          "execution_count": 23
        }
      ]
    },
    {
      "metadata": {
        "id": "Y85gWlTNBynz",
        "colab_type": "text"
      },
      "cell_type": "markdown",
      "source": [
        "Keep in mind that fancy indexing, unlike slicing, always copies the data into a new\n",
        "array."
      ]
    },
    {
      "metadata": {
        "deletable": true,
        "editable": true,
        "id": "VrlONVS9aOxY",
        "colab_type": "text"
      },
      "cell_type": "markdown",
      "source": [
        "### Transposing Arrays and Swapping Axes"
      ]
    },
    {
      "metadata": {
        "id": "AwA7SXr-B3zS",
        "colab_type": "text"
      },
      "cell_type": "markdown",
      "source": [
        "Transposing is a special form of reshaping that similarly returns a view on the underlying\n",
        "data without copying anything. Arrays have the transpose method and also the\n",
        "special T attribute:"
      ]
    },
    {
      "metadata": {
        "deletable": true,
        "editable": true,
        "id": "5CS7DUnpaOxZ",
        "colab_type": "code",
        "outputId": "76303282-6086-457e-b405-0b10bcdd0cd7",
        "colab": {
          "base_uri": "https://localhost:8080/",
          "height": 170
        }
      },
      "cell_type": "code",
      "source": [
        "arr = np.arange(15).reshape((3, 5))\n",
        "print(arr)\n",
        "print(\"Transposed:\")\n",
        "arr.T"
      ],
      "execution_count": 0,
      "outputs": [
        {
          "output_type": "stream",
          "text": [
            "[[ 0  1  2  3  4]\n",
            " [ 5  6  7  8  9]\n",
            " [10 11 12 13 14]]\n",
            "Transposed:\n"
          ],
          "name": "stdout"
        },
        {
          "output_type": "execute_result",
          "data": {
            "text/plain": [
              "array([[ 0,  5, 10],\n",
              "       [ 1,  6, 11],\n",
              "       [ 2,  7, 12],\n",
              "       [ 3,  8, 13],\n",
              "       [ 4,  9, 14]])"
            ]
          },
          "metadata": {
            "tags": []
          },
          "execution_count": 24
        }
      ]
    },
    {
      "metadata": {
        "id": "PEoPAA-7B-tp",
        "colab_type": "text"
      },
      "cell_type": "markdown",
      "source": [
        "When doing matrix computations, you may do this very often—for example, when\n",
        "computing the inner matrix product using np.dot:"
      ]
    },
    {
      "metadata": {
        "deletable": true,
        "editable": true,
        "id": "jiD0Lvp2aOxZ",
        "colab_type": "code",
        "outputId": "0080f806-e0b9-40c6-8fcf-6486c97c0d83",
        "colab": {
          "base_uri": "https://localhost:8080/",
          "height": 187
        }
      },
      "cell_type": "code",
      "source": [
        "arr = np.random.randn(6, 3)\n",
        "print(arr)\n",
        "print(\"inner matrix product with self transposed using np.dot:\")\n",
        "np.dot(arr.T, arr)"
      ],
      "execution_count": 0,
      "outputs": [
        {
          "output_type": "stream",
          "text": [
            "[[-1.2659  0.1198 -1.0635]\n",
            " [ 0.3329 -2.3594 -0.1995]\n",
            " [-1.542  -0.9707 -1.307 ]\n",
            " [ 0.2863  0.378  -0.7539]\n",
            " [ 0.3313  1.3497  0.0699]\n",
            " [ 0.2467 -0.0119  1.0048]]\n",
            "inner matrix product with self transposed using np.dot:\n"
          ],
          "name": "stdout"
        },
        {
          "output_type": "execute_result",
          "data": {
            "text/plain": [
              "array([[4.3437, 1.1122, 3.3505],\n",
              "       [1.1122, 8.4884, 1.4096],\n",
              "       [3.3505, 1.4096, 4.4621]])"
            ]
          },
          "metadata": {
            "tags": []
          },
          "execution_count": 26
        }
      ]
    },
    {
      "metadata": {
        "id": "BCr6UaYGCDNo",
        "colab_type": "text"
      },
      "cell_type": "markdown",
      "source": [
        "For higher dimensional arrays, transpose will accept a tuple of axis numbers to permute\n",
        "the axes (for extra mind bending):"
      ]
    },
    {
      "metadata": {
        "deletable": true,
        "editable": true,
        "id": "SnuO2-EcaOxa",
        "colab_type": "code",
        "outputId": "18105c2a-a4ea-483f-d0a4-e9ec18bde61f",
        "colab": {
          "base_uri": "https://localhost:8080/",
          "height": 221
        }
      },
      "cell_type": "code",
      "source": [
        "arr = np.arange(16).reshape((2, 2, 4))\n",
        "print(arr)\n",
        "print(\"Transposed with a tuple of axis numbers (1, 0, 2):\")\n",
        "print(arr.transpose((1, 0, 2)))\n",
        "print(\"eh?\")"
      ],
      "execution_count": 0,
      "outputs": [
        {
          "output_type": "stream",
          "text": [
            "[[[ 0  1  2  3]\n",
            "  [ 4  5  6  7]]\n",
            "\n",
            " [[ 8  9 10 11]\n",
            "  [12 13 14 15]]]\n",
            "Transposed with a tuple of axis numbers (1, 0, 2):\n",
            "[[[ 0  1  2  3]\n",
            "  [ 8  9 10 11]]\n",
            "\n",
            " [[ 4  5  6  7]\n",
            "  [12 13 14 15]]]\n",
            "eh?\n"
          ],
          "name": "stdout"
        }
      ]
    },
    {
      "metadata": {
        "id": "QHhmx_MrUUvH",
        "colab_type": "text"
      },
      "cell_type": "markdown",
      "source": [
        "Here, the axes have been reordered with the second axis first, the first axis second,\n",
        "and the last axis unchanged.\n",
        "\n",
        "Simple transposing with .T is a special case of swapping axes. ndarray has the method\n",
        "swapaxes, which takes a pair of axis numbers and switches the indicated axes to rearrange\n",
        "the data:"
      ]
    },
    {
      "metadata": {
        "deletable": true,
        "editable": true,
        "id": "qO2yX1lxaOxb",
        "colab_type": "code",
        "outputId": "5d480d27-69e7-4c06-e2b4-068cfe8047be",
        "colab": {
          "base_uri": "https://localhost:8080/",
          "height": 272
        }
      },
      "cell_type": "code",
      "source": [
        "print(arr)\n",
        "print(\"swapaxes(1, 2):\")\n",
        "arr.swapaxes(1, 2)"
      ],
      "execution_count": 0,
      "outputs": [
        {
          "output_type": "stream",
          "text": [
            "[[[ 0  1  2  3]\n",
            "  [ 4  5  6  7]]\n",
            "\n",
            " [[ 8  9 10 11]\n",
            "  [12 13 14 15]]]\n",
            "swapaxes(1, 2):\n"
          ],
          "name": "stdout"
        },
        {
          "output_type": "execute_result",
          "data": {
            "text/plain": [
              "array([[[ 0,  4],\n",
              "        [ 1,  5],\n",
              "        [ 2,  6],\n",
              "        [ 3,  7]],\n",
              "\n",
              "       [[ 8, 12],\n",
              "        [ 9, 13],\n",
              "        [10, 14],\n",
              "        [11, 15]]])"
            ]
          },
          "metadata": {
            "tags": []
          },
          "execution_count": 31
        }
      ]
    },
    {
      "metadata": {
        "id": "A8PrS1sdCNSu",
        "colab_type": "text"
      },
      "cell_type": "markdown",
      "source": [
        "swapaxes similarly returns a view on the data without making a copy."
      ]
    },
    {
      "metadata": {
        "deletable": true,
        "editable": true,
        "id": "3JLJwYcJaOxd",
        "colab_type": "text"
      },
      "cell_type": "markdown",
      "source": [
        "## 4.2 Universal Functions: Fast Element-Wise Array Functions"
      ]
    },
    {
      "metadata": {
        "id": "oC40AqcpVOUd",
        "colab_type": "text"
      },
      "cell_type": "markdown",
      "source": [
        "A universal function, or ufunc, is a function that performs element-wise operations\n",
        "on data in ndarrays. You can think of them as fast vectorized wrappers for simple\n",
        "functions that take one or more scalar values and produce one or more scalar results.\n",
        "\n",
        "Many ufuncs are simple element-wise transformations, like sqrt or exp:"
      ]
    },
    {
      "metadata": {
        "deletable": true,
        "editable": true,
        "id": "way1CsCjaOxe",
        "colab_type": "code",
        "outputId": "313109f1-0fc7-4d03-ca5f-6ca3325fe720",
        "colab": {
          "base_uri": "https://localhost:8080/",
          "height": 108
        }
      },
      "cell_type": "code",
      "source": [
        "arr = np.arange(10)\n",
        "print(arr)\n",
        "print(\"np.sqrt(arr)\", np.sqrt(arr))\n",
        "print(\"np.exp(arr)\", np.exp(arr))"
      ],
      "execution_count": 0,
      "outputs": [
        {
          "output_type": "stream",
          "text": [
            "[0 1 2 3 4 5 6 7 8 9]\n",
            "np.sqrt(arr) [0.     1.     1.4142 1.7321 2.     2.2361 2.4495 2.6458 2.8284 3.    ]\n",
            "np.exp(arr) [   1.        2.7183    7.3891   20.0855   54.5982  148.4132  403.4288 1096.6332 2980.958  8103.0839]\n"
          ],
          "name": "stdout"
        }
      ]
    },
    {
      "metadata": {
        "id": "FyxNyiMwXEv3",
        "colab_type": "text"
      },
      "cell_type": "markdown",
      "source": [
        "###Table 4-3. Unary ufuncs\n",
        "Function Description\n",
        "\n",
        "abs, fabs Compute the absolute value element-wise for integer, floating-point, or complex values\n",
        "\n",
        "sqrt Compute the square root of each element (equivalent to arr ** 0.5)\n",
        "\n",
        "square Compute the square of each element (equivalent to arr ** 2)\n",
        "\n",
        "exp Compute the exponent ex of each element\n",
        "\n",
        "log, log10, Natural logarithm (base e), log base 10, log base 2, and log(1 + x), respectively\n",
        "log2, log1p\n",
        "\n",
        "sign Compute the sign of each element: 1 (positive), 0 (zero), or –1 (negative)\n",
        "\n",
        "ceil Compute the ceiling of each element (i.e., the smallest integer greater than or equal to that\n",
        "number)\n",
        "\n",
        "floor Compute the floor of each element (i.e., the largest integer less than or equal to each element)\n",
        "\n",
        "rint Round elements to the nearest integer, preserving the dtype\n",
        "\n",
        "modf Return fractional and integral parts of array as a separate array\n",
        "\n",
        "isnan Return boolean array indicating whether each value is NaN (Not a Number)\n",
        "\n",
        "isfinite, isinf Return boolean array indicating whether each element is finite (non-inf, non-NaN) or infinite,\n",
        "respectively\n",
        "\n",
        "cos, cosh, sin, Regular and hyperbolic trigonometric functions\n",
        "sinh, tan, tanh\n",
        "\n",
        "arccos, arccosh, Inverse trigonometric functions\n",
        "arcsin, arcsinh,\n",
        "arctan, arctanh\n",
        "\n",
        "logical_not Compute truth value of not x element-wise (equivalent to ~arr).\n",
        "\n",
        "### Table 4-4. Binary universal functions\n",
        "Function Description\n",
        "\n",
        "add Add corresponding elements in arrays\n",
        "\n",
        "subtract Subtract elements in second array from first array\n",
        "\n",
        "multiply Multiply array elements\n",
        "\n",
        "divide, floor_divide Divide or floor divide (truncating the remainder)\n",
        "\n",
        "power Raise elements in first array to powers indicated in second array\n",
        "\n",
        "maximum, fmax Element-wise maximum; fmax ignores NaN\n",
        "\n",
        "minimum, fmin Element-wise minimum; fmin ignores NaN\n",
        "\n",
        "mod Element-wise modulus (remainder of division)\n",
        "\n",
        "copysign Copy sign of values in second argument to values in first argument\n",
        "\n",
        "greater, greater_equal,\n",
        "less, less_equal,\n",
        "equal, not_equal Perform element-wise comparison, yielding boolean array (equivalent to infix\n",
        "operators >, >=, <, <=, ==, !=)\n",
        "\n",
        "logical_and,\n",
        "logical_or, logical_xor Compute element-wise truth value of logical operation (equivalent to infix operators & |, ^)"
      ]
    },
    {
      "metadata": {
        "deletable": true,
        "editable": true,
        "id": "-lIh4R69aOxf",
        "colab_type": "code",
        "outputId": "3d3b6d5d-047d-4bae-fa06-b5342e17984f",
        "colab": {
          "base_uri": "https://localhost:8080/",
          "height": 68
        }
      },
      "cell_type": "code",
      "source": [
        "x = np.random.randn(8)\n",
        "y = np.random.randn(8)\n",
        "print(\"np.random.randn(8)\", x)\n",
        "print(\"np.random.randn(8)\", y)\n",
        "np.maximum(x, y)"
      ],
      "execution_count": 0,
      "outputs": [
        {
          "output_type": "stream",
          "text": [
            "np.random.randn(8) [-0.2047  0.4789 -0.5194 -0.5557  1.9658  1.3934  0.0929  0.2817]\n",
            "np.random.randn(8) [ 0.769   1.2464  1.0072 -1.2962  0.275   0.2289  1.3529  0.8864]\n"
          ],
          "name": "stdout"
        },
        {
          "output_type": "execute_result",
          "data": {
            "text/plain": [
              "array([ 0.769 ,  1.2464,  1.0072, -0.5557,  1.9658,  1.3934,  1.3529,  0.8864])"
            ]
          },
          "metadata": {
            "tags": []
          },
          "execution_count": 6
        }
      ]
    },
    {
      "metadata": {
        "id": "w5yMs7oWWYvl",
        "colab_type": "text"
      },
      "cell_type": "markdown",
      "source": [
        "Here, numpy.maximum computed the element-wise maximum of the elements in x and\n",
        "y.\n",
        "\n",
        "While not common, a ufunc can return multiple arrays. modf is one example, a vectorized\n",
        "version of the built-in Python divmod; it returns the fractional and integral\n",
        "parts of a floating-point array:"
      ]
    },
    {
      "metadata": {
        "deletable": true,
        "editable": true,
        "id": "3yRIT_6CaOxg",
        "colab_type": "code",
        "outputId": "3256b46f-7c4e-4e21-89d9-944a75f558d9",
        "colab": {
          "base_uri": "https://localhost:8080/",
          "height": 85
        }
      },
      "cell_type": "code",
      "source": [
        "arr = np.random.randn(7) * 5\n",
        "print(\"Array:\", arr)\n",
        "remainder, whole_part = np.modf(arr)\n",
        "print(\"After np.modf(arr):\")\n",
        "print(\"Fractional parts:\", remainder)\n",
        "print(\"Integral parts:\", whole_part)"
      ],
      "execution_count": 0,
      "outputs": [
        {
          "output_type": "stream",
          "text": [
            "Array: [ 3.7918 -3.3026  4.3129 -0.0502  0.25    3.3511  4.2648]\n",
            "After np.modf(arr):\n",
            "Fractional parts: [ 0.7918 -0.3026  0.3129 -0.0502  0.25    0.3511  0.2648]\n",
            "Integral parts: [ 3. -3.  4. -0.  0.  3.  4.]\n"
          ],
          "name": "stdout"
        }
      ]
    },
    {
      "metadata": {
        "deletable": true,
        "editable": true,
        "id": "fkfHb-YeaOxh",
        "colab_type": "code",
        "outputId": "7288cb0a-4852-4c6b-c058-7b1266714e71",
        "colab": {
          "base_uri": "https://localhost:8080/",
          "height": 193
        }
      },
      "cell_type": "code",
      "source": [
        "print(\"Array:\", arr)\n",
        "print(\"np.sqrt(arr)\", np.sqrt(arr))\n",
        "print(\"np.sqrt(arr, arr)\", np.sqrt(arr, arr))\n",
        "arr"
      ],
      "execution_count": 0,
      "outputs": [
        {
          "output_type": "stream",
          "text": [
            "Array: [ 3.7918 -3.3026  4.3129 -0.0502  0.25    3.3511  4.2648]\n",
            "np.sqrt(arr) [1.9473    nan 2.0768    nan 0.5    1.8306 2.0651]\n",
            "np.sqrt(arr, arr) [1.9473    nan 2.0768    nan 0.5    1.8306 2.0651]\n"
          ],
          "name": "stdout"
        },
        {
          "output_type": "stream",
          "text": [
            "/usr/local/lib/python3.6/dist-packages/ipykernel_launcher.py:2: RuntimeWarning: invalid value encountered in sqrt\n",
            "  \n",
            "/usr/local/lib/python3.6/dist-packages/ipykernel_launcher.py:3: RuntimeWarning: invalid value encountered in sqrt\n",
            "  This is separate from the ipykernel package so we can avoid doing imports until\n"
          ],
          "name": "stderr"
        },
        {
          "output_type": "execute_result",
          "data": {
            "text/plain": [
              "array([1.9473,    nan, 2.0768,    nan, 0.5   , 1.8306, 2.0651])"
            ]
          },
          "metadata": {
            "tags": []
          },
          "execution_count": 14
        }
      ]
    },
    {
      "metadata": {
        "deletable": true,
        "editable": true,
        "id": "8zodXQbjaOxi",
        "colab_type": "text"
      },
      "cell_type": "markdown",
      "source": [
        "## 4.3 Array-Oriented Programming with Arrays"
      ]
    },
    {
      "metadata": {
        "id": "Ej6-rzZvd3VQ",
        "colab_type": "text"
      },
      "cell_type": "markdown",
      "source": [
        "Using NumPy arrays enables you to express many kinds of data processing tasks as\n",
        "concise array expressions that might otherwise require writing loops. This practice of\n",
        "replacing explicit loops with array expressions is commonly referred to as vectorization.\n",
        "In general, vectorized array operations will often be one or two (or more) orders\n",
        "of magnitude faster than their pure Python equivalents, with the biggest impact in\n",
        "any kind of numerical computations. Later, in Appendix A, I explain broadcasting, a\n",
        "powerful method for vectorizing computations.\n",
        "\n",
        "As a simple example, suppose we wished to evaluate the function sqrt(x^2 + y^2)\n",
        "across a regular grid of values. The np.meshgrid function takes two 1D arrays and\n",
        "produces two 2D matrices corresponding to all pairs of (x, y) in the two arrays:"
      ]
    },
    {
      "metadata": {
        "deletable": true,
        "editable": true,
        "id": "WJ3qn0VQaOxi",
        "colab_type": "code",
        "outputId": "4a00c9a8-37ed-4f06-8481-8b3ce3370fd9",
        "colab": {
          "base_uri": "https://localhost:8080/",
          "height": 306
        }
      },
      "cell_type": "code",
      "source": [
        "points = np.arange(-5, 5, 0.01) # 1000 equally spaced points\n",
        "xs, ys = np.meshgrid(points, points)\n",
        "print(\"1000 equally spaced points with np.meshgrid:\")\n",
        "print(\"xs:\")\n",
        "print(xs)\n",
        "print(\"ys:\")\n",
        "print(ys)"
      ],
      "execution_count": 0,
      "outputs": [
        {
          "output_type": "stream",
          "text": [
            "1000 equally spaced points with np.meshgrid:\n",
            "xs:\n",
            "[[-5.   -4.99 -4.98 ...  4.97  4.98  4.99]\n",
            " [-5.   -4.99 -4.98 ...  4.97  4.98  4.99]\n",
            " [-5.   -4.99 -4.98 ...  4.97  4.98  4.99]\n",
            " ...\n",
            " [-5.   -4.99 -4.98 ...  4.97  4.98  4.99]\n",
            " [-5.   -4.99 -4.98 ...  4.97  4.98  4.99]\n",
            " [-5.   -4.99 -4.98 ...  4.97  4.98  4.99]]\n",
            "ys:\n",
            "[[-5.   -5.   -5.   ... -5.   -5.   -5.  ]\n",
            " [-4.99 -4.99 -4.99 ... -4.99 -4.99 -4.99]\n",
            " [-4.98 -4.98 -4.98 ... -4.98 -4.98 -4.98]\n",
            " ...\n",
            " [ 4.97  4.97  4.97 ...  4.97  4.97  4.97]\n",
            " [ 4.98  4.98  4.98 ...  4.98  4.98  4.98]\n",
            " [ 4.99  4.99  4.99 ...  4.99  4.99  4.99]]\n"
          ],
          "name": "stdout"
        }
      ]
    },
    {
      "metadata": {
        "deletable": true,
        "editable": true,
        "id": "ZTOQdNataOxi",
        "colab_type": "code",
        "outputId": "20d409ed-e29a-404e-e107-06f1de0bdcbe",
        "colab": {
          "base_uri": "https://localhost:8080/",
          "height": 153
        }
      },
      "cell_type": "code",
      "source": [
        "z = np.sqrt(xs ** 2 + ys ** 2)\n",
        "print(\"np.sqrt(xs ** 2 + ys ** 2):\\n\", z)"
      ],
      "execution_count": 0,
      "outputs": [
        {
          "output_type": "stream",
          "text": [
            "np.sqrt(xs ** 2 + ys ** 2):\n",
            " [[7.0711 7.064  7.0569 ... 7.0499 7.0569 7.064 ]\n",
            " [7.064  7.0569 7.0499 ... 7.0428 7.0499 7.0569]\n",
            " [7.0569 7.0499 7.0428 ... 7.0357 7.0428 7.0499]\n",
            " ...\n",
            " [7.0499 7.0428 7.0357 ... 7.0286 7.0357 7.0428]\n",
            " [7.0569 7.0499 7.0428 ... 7.0357 7.0428 7.0499]\n",
            " [7.064  7.0569 7.0499 ... 7.0428 7.0499 7.0569]]\n"
          ],
          "name": "stdout"
        }
      ]
    },
    {
      "metadata": {
        "deletable": true,
        "editable": true,
        "id": "c1tBuj8NaOxj",
        "colab_type": "code",
        "outputId": "acef1e15-604c-4495-f188-1295a549ec6a",
        "colab": {
          "base_uri": "https://localhost:8080/",
          "height": 397
        }
      },
      "cell_type": "code",
      "source": [
        "import matplotlib.pyplot as plt\n",
        "plt.title(\"Image plot of $\\sqrt{x^2 + y^2}$ for a grid of values\")\n",
        "plt.imshow(z, cmap=plt.cm.gray); plt.colorbar();"
      ],
      "execution_count": 0,
      "outputs": [
        {
          "output_type": "display_data",
          "data": {
            "image/png": "[encoded data removed]",
            "text/plain": [
              "<Figure size 720x432 with 2 Axes>"
            ]
          },
          "metadata": {
            "tags": []
          }
        }
      ]
    },
    {
      "metadata": {
        "deletable": true,
        "editable": true,
        "id": "3l-ycSMMaOxk",
        "colab_type": "code",
        "colab": {}
      },
      "cell_type": "code",
      "source": [
        "#plt.draw()"
      ],
      "execution_count": 0,
      "outputs": []
    },
    {
      "metadata": {
        "deletable": true,
        "editable": true,
        "id": "72P7VOKsaOxl",
        "colab_type": "code",
        "colab": {}
      },
      "cell_type": "code",
      "source": [
        "#plt.close('all')"
      ],
      "execution_count": 0,
      "outputs": []
    },
    {
      "metadata": {
        "deletable": true,
        "editable": true,
        "id": "J48dxdSQaOxn",
        "colab_type": "text"
      },
      "cell_type": "markdown",
      "source": [
        "### Expressing Conditional Logic as Array Operations\n",
        "The numpy.where function is a vectorized version of the ternary expression x if condition else y. Suppose we had a boolean array and two arrays of values:"
      ]
    },
    {
      "metadata": {
        "deletable": true,
        "editable": true,
        "id": "ndEcGsehaOxn",
        "colab_type": "code",
        "colab": {}
      },
      "cell_type": "code",
      "source": [
        "xarr = np.array([1.1, 1.2, 1.3, 1.4, 1.5])\n",
        "yarr = np.array([2.1, 2.2, 2.3, 2.4, 2.5])\n",
        "cond = np.array([True, False, True, True, False])"
      ],
      "execution_count": 0,
      "outputs": []
    },
    {
      "metadata": {
        "id": "TiZ0aADZgAj_",
        "colab_type": "text"
      },
      "cell_type": "markdown",
      "source": [
        "Suppose we wanted to take a value from xarr whenever the corresponding value in\n",
        "cond is True, and otherwise take the value from yarr. A list comprehension doing\n",
        "this might look like:"
      ]
    },
    {
      "metadata": {
        "deletable": true,
        "editable": true,
        "id": "qsteZTgLaOxp",
        "colab_type": "code",
        "outputId": "e70d1598-9157-4662-fd8d-41f90db9f812",
        "colab": {
          "base_uri": "https://localhost:8080/",
          "height": 34
        }
      },
      "cell_type": "code",
      "source": [
        "result = [(x if c else y)\n",
        "          for x, y, c in zip(xarr, yarr, cond)]\n",
        "result"
      ],
      "execution_count": 0,
      "outputs": [
        {
          "output_type": "execute_result",
          "data": {
            "text/plain": [
              "[1.1, 2.2, 1.3, 1.4, 2.5]"
            ]
          },
          "metadata": {
            "tags": []
          },
          "execution_count": 30
        }
      ]
    },
    {
      "metadata": {
        "id": "QZfqMg7cgR-c",
        "colab_type": "text"
      },
      "cell_type": "markdown",
      "source": [
        "This has multiple problems. First, it will not be very fast for large arrays (because all\n",
        "the work is being done in interpreted Python code). Second, it will not work with\n",
        "multidimensional arrays. With np.where you can write this very concisely:"
      ]
    },
    {
      "metadata": {
        "deletable": true,
        "editable": true,
        "id": "ay3e2ISUaOxq",
        "colab_type": "code",
        "outputId": "5ccdd63c-1eee-44f2-ccc0-77c0abcd7ab2",
        "colab": {
          "base_uri": "https://localhost:8080/",
          "height": 34
        }
      },
      "cell_type": "code",
      "source": [
        "result = np.where(cond, xarr, yarr)\n",
        "result"
      ],
      "execution_count": 0,
      "outputs": [
        {
          "output_type": "execute_result",
          "data": {
            "text/plain": [
              "array([1.1, 2.2, 1.3, 1.4, 2.5])"
            ]
          },
          "metadata": {
            "tags": []
          },
          "execution_count": 31
        }
      ]
    },
    {
      "metadata": {
        "id": "dBZsjDKdgXR0",
        "colab_type": "text"
      },
      "cell_type": "markdown",
      "source": [
        "The second and third arguments to np.where don’t need to be arrays; one or both of\n",
        "them can be scalars. A typical use of where in data analysis is to produce a new array\n",
        "of values based on another array. Suppose you had a matrix of randomly generated\n",
        "data and you wanted to replace all positive values with 2 and all negative values with\n",
        "–2. This is very easy to do with np.where:"
      ]
    },
    {
      "metadata": {
        "deletable": true,
        "editable": true,
        "id": "HUP6-yoZaOxr",
        "colab_type": "code",
        "outputId": "46cde9ef-579b-4b18-9649-e1cc7bf01d4d",
        "colab": {
          "base_uri": "https://localhost:8080/",
          "height": 221
        }
      },
      "cell_type": "code",
      "source": [
        "arr = np.random.randn(4, 4)\n",
        "print(arr)\n",
        "print(arr > 0)\n",
        "np.where(arr > 0, 2, -2)"
      ],
      "execution_count": 0,
      "outputs": [
        {
          "output_type": "stream",
          "text": [
            "[[-0.9559 -0.0235 -2.3042 -0.6525]\n",
            " [-1.2183 -1.3326  1.0746  0.7236]\n",
            " [ 0.69    1.0015 -0.5031 -0.6223]\n",
            " [-0.9212 -0.7262  0.2229  0.0513]]\n",
            "[[False False False False]\n",
            " [False False  True  True]\n",
            " [ True  True False False]\n",
            " [False False  True  True]]\n"
          ],
          "name": "stdout"
        },
        {
          "output_type": "execute_result",
          "data": {
            "text/plain": [
              "array([[-2, -2, -2, -2],\n",
              "       [-2, -2,  2,  2],\n",
              "       [ 2,  2, -2, -2],\n",
              "       [-2, -2,  2,  2]])"
            ]
          },
          "metadata": {
            "tags": []
          },
          "execution_count": 32
        }
      ]
    },
    {
      "metadata": {
        "id": "mc8nBwEug5d5",
        "colab_type": "text"
      },
      "cell_type": "markdown",
      "source": [
        "You can combine scalars and arrays when using np.where. For example, I can replace\n",
        "all positive values in arr with the constant 2 like so:"
      ]
    },
    {
      "metadata": {
        "deletable": true,
        "editable": true,
        "id": "589bh5dOaOxt",
        "colab_type": "code",
        "outputId": "fd490e8f-00f9-443f-eb78-65c0e3c27ad9",
        "colab": {
          "base_uri": "https://localhost:8080/",
          "height": 85
        }
      },
      "cell_type": "code",
      "source": [
        "np.where(arr > 0, 2, arr) # set only positive values to 2"
      ],
      "execution_count": 0,
      "outputs": [
        {
          "output_type": "execute_result",
          "data": {
            "text/plain": [
              "array([[-0.9559, -0.0235, -2.3042, -0.6525],\n",
              "       [-1.2183, -1.3326,  2.    ,  2.    ],\n",
              "       [ 2.    ,  2.    , -0.5031, -0.6223],\n",
              "       [-0.9212, -0.7262,  2.    ,  2.    ]])"
            ]
          },
          "metadata": {
            "tags": []
          },
          "execution_count": 33
        }
      ]
    },
    {
      "metadata": {
        "deletable": true,
        "editable": true,
        "id": "yAwd7RJoaOxu",
        "colab_type": "text"
      },
      "cell_type": "markdown",
      "source": [
        "### Mathematical and Statistical Methods"
      ]
    },
    {
      "metadata": {
        "id": "Id00_q-qhItA",
        "colab_type": "text"
      },
      "cell_type": "markdown",
      "source": [
        "A set of mathematical functions that compute statistics about an entire array or about\n",
        "the data along an axis are accessible as methods of the array class. You can use aggregations\n",
        "(often called reductions) like sum, mean, and std (standard deviation) either by\n",
        "calling the array instance method or using the top-level NumPy function.\n",
        "\n",
        "Here I generate some normally distributed random data and compute some aggregate\n",
        "statistics:"
      ]
    },
    {
      "metadata": {
        "deletable": true,
        "editable": true,
        "id": "yDpySH7EaOxv",
        "colab_type": "code",
        "outputId": "f74e3d2e-dd3e-45ad-b472-84e1b66a9bb9",
        "colab": {
          "base_uri": "https://localhost:8080/",
          "height": 153
        }
      },
      "cell_type": "code",
      "source": [
        "arr = np.random.randn(5, 4)\n",
        "print(\"arr:\", arr)\n",
        "print(\"arr.mean() =\", arr.mean())\n",
        "print(\"np.mean(arr) =\", np.mean(arr))\n",
        "print(\"arr.sum() =\", arr.sum())"
      ],
      "execution_count": 0,
      "outputs": [
        {
          "output_type": "stream",
          "text": [
            "arr: [[-1.1577  0.8167  0.4336  1.0107]\n",
            " [ 1.8249 -0.9975  0.8506 -0.1316]\n",
            " [ 0.9124  0.1882  2.1695 -0.1149]\n",
            " [ 2.0037  0.0296  0.7953  0.1181]\n",
            " [-0.7485  0.585   0.1527 -1.5657]]\n",
            "arr.mean() = 0.35874952203044214\n",
            "np.mean(arr) = 0.35874952203044214\n",
            "arr.sum() = 7.174990440608843\n"
          ],
          "name": "stdout"
        }
      ]
    },
    {
      "metadata": {
        "id": "v0xRIb3JjWL-",
        "colab_type": "text"
      },
      "cell_type": "markdown",
      "source": [
        "Functions like mean and sum take an optional axis argument that computes the statistic\n",
        "over the given axis, resulting in an array with one fewer dimension:"
      ]
    },
    {
      "metadata": {
        "deletable": true,
        "editable": true,
        "id": "JgwZ6EgaaOxw",
        "colab_type": "code",
        "outputId": "5c6e56b9-3838-437e-dd9c-e041ba1a75b4",
        "colab": {
          "base_uri": "https://localhost:8080/",
          "height": 51
        }
      },
      "cell_type": "code",
      "source": [
        "print(\"arr.mean(axis=1) =\", arr.mean(axis=1))\n",
        "print(\"arr.sum(axis=0) =\", arr.sum(axis=0))"
      ],
      "execution_count": 0,
      "outputs": [
        {
          "output_type": "stream",
          "text": [
            "arr.mean(axis=1) = [ 0.2758  0.3866  0.7888  0.7367 -0.3941]\n",
            "arr.sum(axis=0) = [ 2.8347  0.622   4.4016 -0.6833]\n"
          ],
          "name": "stdout"
        }
      ]
    },
    {
      "metadata": {
        "id": "V0b97YaKjdH2",
        "colab_type": "text"
      },
      "cell_type": "markdown",
      "source": [
        "Here, arr.mean(1) means “compute mean across the columns” where arr.sum(0)\n",
        "means “compute sum down the rows.”\n",
        "\n",
        "Other methods like cumsum and cumprod do not aggregate, instead producing an array\n",
        "of the intermediate results:"
      ]
    },
    {
      "metadata": {
        "deletable": true,
        "editable": true,
        "id": "GPHbgqXIaOxy",
        "colab_type": "code",
        "outputId": "6ae596fa-2b72-4de5-c7c6-b1488b75653a",
        "colab": {
          "base_uri": "https://localhost:8080/",
          "height": 51
        }
      },
      "cell_type": "code",
      "source": [
        "arr = np.array([0, 1, 2, 3, 4, 5, 6, 7])\n",
        "print(\"arr:\", arr)\n",
        "print(\"arr.cumsum() =\", arr.cumsum())"
      ],
      "execution_count": 0,
      "outputs": [
        {
          "output_type": "stream",
          "text": [
            "arr: [0 1 2 3 4 5 6 7]\n",
            "arr.cumsum() = [ 0  1  3  6 10 15 21 28]\n"
          ],
          "name": "stdout"
        }
      ]
    },
    {
      "metadata": {
        "id": "6NEyaP4Hjiwc",
        "colab_type": "text"
      },
      "cell_type": "markdown",
      "source": [
        "In multidimensional arrays, accumulation functions like cumsum return an array of\n",
        "the same size, but with the partial aggregates computed along the indicated axis\n",
        "according to each lower dimensional slice:"
      ]
    },
    {
      "metadata": {
        "deletable": true,
        "editable": true,
        "id": "2ZZo3z06aOx0",
        "colab_type": "code",
        "outputId": "fd1329d1-af67-4902-fe5b-4c9963a61d08",
        "colab": {
          "base_uri": "https://localhost:8080/",
          "height": 221
        }
      },
      "cell_type": "code",
      "source": [
        "arr = np.array([[0, 1, 2], [3, 4, 5], [6, 7, 8]])\n",
        "print(\"arr:\\n\", arr)\n",
        "print(\"arr.cumsum(axis=0) =\\n\", arr.cumsum(axis=0))\n",
        "print(\"arr.cumprod(axis=1) =\\n\", arr.cumprod(axis=1))"
      ],
      "execution_count": 0,
      "outputs": [
        {
          "output_type": "stream",
          "text": [
            "arr:\n",
            " [[0 1 2]\n",
            " [3 4 5]\n",
            " [6 7 8]]\n",
            "arr.cumsum(axis=0) =\n",
            " [[ 0  1  2]\n",
            " [ 3  5  7]\n",
            " [ 9 12 15]]\n",
            "arr.cumprod(axis=1) =\n",
            " [[  0   0   0]\n",
            " [  3  12  60]\n",
            " [  6  42 336]]\n"
          ],
          "name": "stdout"
        }
      ]
    },
    {
      "metadata": {
        "id": "irlg5e-MkB9w",
        "colab_type": "text"
      },
      "cell_type": "markdown",
      "source": [
        "###Table 4-5. Basic array statistical methods\n",
        "Method Description\n",
        "\n",
        "sum Sum of all the elements in the array or along an axis; zero-length arrays have sum 0\n",
        "\n",
        "mean Arithmetic mean; zero-length arrays have NaN mean\n",
        "\n",
        "std, var Standard deviation and variance, respectively, with optional degrees of freedom adjustment (defaultdenominator n)\n",
        "\n",
        "min, max Minimum and maximum\n",
        "\n",
        "argmin, argmax Indices of minimum and maximum elements, respectively\n",
        "\n",
        "cumsum Cumulative sum of elements starting from 0\n",
        "\n",
        "cumprod Cumulative product of elements starting from 1"
      ]
    },
    {
      "metadata": {
        "deletable": true,
        "editable": true,
        "id": "KMRlBovTaOx0",
        "colab_type": "text"
      },
      "cell_type": "markdown",
      "source": [
        "### Methods for Boolean Arrays"
      ]
    },
    {
      "metadata": {
        "id": "NYVS2QZJkXkn",
        "colab_type": "text"
      },
      "cell_type": "markdown",
      "source": [
        "Boolean values are coerced to 1 (True) and 0 (False) in the preceding methods. Thus,\n",
        "sum is often used as a means of counting True values in a boolean array:"
      ]
    },
    {
      "metadata": {
        "deletable": true,
        "editable": true,
        "id": "-X6PEKO1aOx1",
        "colab_type": "code",
        "outputId": "0ba20282-8dca-4d5b-c99a-860c6cc9f886",
        "colab": {
          "base_uri": "https://localhost:8080/",
          "height": 34
        }
      },
      "cell_type": "code",
      "source": [
        "arr = np.random.randn(100)\n",
        "(arr > 0).sum() # Number of positive values"
      ],
      "execution_count": 0,
      "outputs": [
        {
          "output_type": "execute_result",
          "data": {
            "text/plain": [
              "43"
            ]
          },
          "metadata": {
            "tags": []
          },
          "execution_count": 42
        }
      ]
    },
    {
      "metadata": {
        "id": "yXhY0yaKkbT_",
        "colab_type": "text"
      },
      "cell_type": "markdown",
      "source": [
        "There are two additional methods, any and all, useful especially for boolean arrays.\n",
        "any tests whether one or more values in an array is True, while all checks if every\n",
        "value is True:"
      ]
    },
    {
      "metadata": {
        "deletable": true,
        "editable": true,
        "id": "IaMZeS2baOx4",
        "colab_type": "code",
        "outputId": "f51481b2-0640-4540-a3d3-b4eaf963d9bf",
        "colab": {
          "base_uri": "https://localhost:8080/",
          "height": 68
        }
      },
      "cell_type": "code",
      "source": [
        "bools = np.array([False, False, True, False])\n",
        "print(\"bools:\", bools)\n",
        "print(\"bools.any() =\", bools.any())\n",
        "print(\"bools.all() =\", bools.all())"
      ],
      "execution_count": 0,
      "outputs": [
        {
          "output_type": "stream",
          "text": [
            "bools: [False False  True False]\n",
            "bools.any() = True\n",
            "bools.all() = False\n"
          ],
          "name": "stdout"
        }
      ]
    },
    {
      "metadata": {
        "id": "aLuChYD2k_qS",
        "colab_type": "text"
      },
      "cell_type": "markdown",
      "source": [
        "These methods also work with non-boolean arrays, where non-zero elements evaluate\n",
        "to True."
      ]
    },
    {
      "metadata": {
        "deletable": true,
        "editable": true,
        "id": "DodFJmIjaOx7",
        "colab_type": "text"
      },
      "cell_type": "markdown",
      "source": [
        "### Sorting"
      ]
    },
    {
      "metadata": {
        "id": "LVZBDSEdlo5y",
        "colab_type": "text"
      },
      "cell_type": "markdown",
      "source": [
        "Like Python’s built-in list type, NumPy arrays can be sorted in-place with the sort\n",
        "method:"
      ]
    },
    {
      "metadata": {
        "deletable": true,
        "editable": true,
        "id": "vuLWn8osaOx8",
        "colab_type": "code",
        "outputId": "102669ad-8c5b-49e5-a0bd-7c7e1a850ba5",
        "colab": {
          "base_uri": "https://localhost:8080/",
          "height": 51
        }
      },
      "cell_type": "code",
      "source": [
        "arr = np.random.randn(6)\n",
        "print(\"arr:\", arr)\n",
        "arr.sort()\n",
        "print(\"after arr.sort() =\", arr)"
      ],
      "execution_count": 0,
      "outputs": [
        {
          "output_type": "stream",
          "text": [
            "arr: [-0.153  -0.7519 -0.1326  1.4573  0.6095 -0.4938]\n",
            "after arr.sort() = [-0.7519 -0.4938 -0.153  -0.1326  0.6095  1.4573]\n"
          ],
          "name": "stdout"
        }
      ]
    },
    {
      "metadata": {
        "id": "FXmT6IEqlvfQ",
        "colab_type": "text"
      },
      "cell_type": "markdown",
      "source": [
        "You can sort each one-dimensional section of values in a multidimensional array inplace\n",
        "along an axis by passing the axis number to sort:"
      ]
    },
    {
      "metadata": {
        "deletable": true,
        "editable": true,
        "id": "f8RsujT8aOx-",
        "colab_type": "code",
        "outputId": "c2586c72-a5b3-4131-a60c-ae3a1025985f",
        "colab": {
          "base_uri": "https://localhost:8080/",
          "height": 221
        }
      },
      "cell_type": "code",
      "source": [
        "arr = np.random.randn(5, 3)\n",
        "print(\"arr:\\n\", arr)\n",
        "arr.sort(1)\n",
        "print(\"after arr.sort(1) =\\n\", arr)"
      ],
      "execution_count": 0,
      "outputs": [
        {
          "output_type": "stream",
          "text": [
            "arr:\n",
            " [[-0.3501  0.218  -0.8948]\n",
            " [-1.7415 -1.0523  1.4366]\n",
            " [-0.5762 -2.4203 -1.0623]\n",
            " [ 0.2374  0.001   0.0653]\n",
            " [-1.3675 -0.0303  0.9405]]\n",
            "after arr.sort(1) =\n",
            " [[-0.8948 -0.3501  0.218 ]\n",
            " [-1.7415 -1.0523  1.4366]\n",
            " [-2.4203 -1.0623 -0.5762]\n",
            " [ 0.001   0.0653  0.2374]\n",
            " [-1.3675 -0.0303  0.9405]]\n"
          ],
          "name": "stdout"
        }
      ]
    },
    {
      "metadata": {
        "id": "jZrTAvUDmJMc",
        "colab_type": "text"
      },
      "cell_type": "markdown",
      "source": [
        "The top-level method np.sort returns a sorted copy of an array instead of modifying\n",
        "the array in-place. A quick-and-dirty way to compute the quantiles of an array is to\n",
        "sort it and select the value at a particular rank:"
      ]
    },
    {
      "metadata": {
        "deletable": true,
        "editable": true,
        "id": "u7BvVQ7UaOyA",
        "colab_type": "code",
        "colab": {}
      },
      "cell_type": "code",
      "source": [
        "large_arr = np.random.randn(1000)\n",
        "print(\"large_arr:\\n\", large_arr)\n",
        "large_arr.sort()\n",
        "print(\"after large_arr.sort() =\\n\", large_arr)\n",
        "print(\"5% quantile\", large_arr[int(0.05 * len(large_arr))]) # 5% quantile"
      ],
      "execution_count": 0,
      "outputs": []
    },
    {
      "metadata": {
        "id": "9bTD68fYnASC",
        "colab_type": "text"
      },
      "cell_type": "markdown",
      "source": [
        "Several other kinds of data manipulations related\n",
        "to sorting (e.g., sorting a table of data by one or more columns) can also be found in\n",
        "pandas."
      ]
    },
    {
      "metadata": {
        "deletable": true,
        "editable": true,
        "id": "wMcNwc9JaOyB",
        "colab_type": "text"
      },
      "cell_type": "markdown",
      "source": [
        "### Unique and Other Set Logic"
      ]
    },
    {
      "metadata": {
        "id": "TccP8k5JnJi7",
        "colab_type": "text"
      },
      "cell_type": "markdown",
      "source": [
        "NumPy has some basic set operations for one-dimensional ndarrays. A commonly\n",
        "used one is np.unique, which returns the sorted unique values in an array:"
      ]
    },
    {
      "metadata": {
        "deletable": true,
        "editable": true,
        "id": "7HNTEqXtaOyC",
        "colab_type": "code",
        "outputId": "48773be7-f010-49e7-c2f7-f60b02486bc3",
        "colab": {
          "base_uri": "https://localhost:8080/",
          "height": 85
        }
      },
      "cell_type": "code",
      "source": [
        "names = np.array(['Bob', 'Joe', 'Will', 'Bob', 'Will', 'Joe', 'Joe'])\n",
        "print(\"names:\", names)\n",
        "print(\"np.unique(names):\", np.unique(names))\n",
        "\n",
        "ints = np.array([3, 3, 3, 2, 2, 1, 1, 4, 4])\n",
        "print(\"ints:\", ints)\n",
        "print(\"np.unique(ints):\", np.unique(ints))"
      ],
      "execution_count": 0,
      "outputs": [
        {
          "output_type": "stream",
          "text": [
            "names: ['Bob' 'Joe' 'Will' 'Bob' 'Will' 'Joe' 'Joe']\n",
            "np.unique(names): ['Bob' 'Joe' 'Will']\n",
            "ints: [3 3 3 2 2 1 1 4 4]\n",
            "np.unique(ints): [1 2 3 4]\n"
          ],
          "name": "stdout"
        }
      ]
    },
    {
      "metadata": {
        "id": "j37qjyauoLYO",
        "colab_type": "text"
      },
      "cell_type": "markdown",
      "source": [
        "Contrast np.unique with the pure Python alternative:"
      ]
    },
    {
      "metadata": {
        "deletable": true,
        "editable": true,
        "id": "JNdbkWawaOyD",
        "colab_type": "code",
        "outputId": "b952948a-b660-4a74-e69a-e97ad1fb6878",
        "colab": {
          "base_uri": "https://localhost:8080/",
          "height": 34
        }
      },
      "cell_type": "code",
      "source": [
        "print(\"sorted(set(names)):\", sorted(set(names)))"
      ],
      "execution_count": 0,
      "outputs": [
        {
          "output_type": "stream",
          "text": [
            "sorted(set(names)): ['Bob', 'Joe', 'Will']\n"
          ],
          "name": "stdout"
        }
      ]
    },
    {
      "metadata": {
        "id": "qgwWlBFxoQAA",
        "colab_type": "text"
      },
      "cell_type": "markdown",
      "source": [
        "Another function, np.in1d, tests membership of the values in one array in another,\n",
        "returning a boolean array:"
      ]
    },
    {
      "metadata": {
        "deletable": true,
        "editable": true,
        "id": "7qjlA0uxaOyF",
        "colab_type": "code",
        "outputId": "3eee17f4-772b-4c80-ead4-f53ab1acef1f",
        "colab": {
          "base_uri": "https://localhost:8080/",
          "height": 51
        }
      },
      "cell_type": "code",
      "source": [
        "values = np.array([6, 0, 0, 3, 2, 5, 6])\n",
        "print(\"values:\", values)\n",
        "print(\"np.in1d(values, [2, 3, 6]):\", np.in1d(values, [2, 3, 6]))"
      ],
      "execution_count": 0,
      "outputs": [
        {
          "output_type": "stream",
          "text": [
            "values: [6 0 0 3 2 5 6]\n",
            "np.in1d(values, [2, 3, 6]): [ True False False  True  True False  True]\n"
          ],
          "name": "stdout"
        }
      ]
    },
    {
      "metadata": {
        "id": "AmGYzIT9oYMQ",
        "colab_type": "text"
      },
      "cell_type": "markdown",
      "source": [
        "###Table 4-6. Array set operations\n",
        "Method Description\n",
        "unique(x) Compute the sorted, unique elements in x\n",
        "\n",
        "intersect1d(x, y) Compute the sorted, common elements in x and y\n",
        "\n",
        "union1d(x, y) Compute the sorted union of elements\n",
        "\n",
        "in1d(x, y) Compute a boolean array indicating whether each element of x is contained in y\n",
        "\n",
        "setdiff1d(x, y) Set difference, elements in x that are not in y\n",
        "\n",
        "setxor1d(x, y) Set symmetric differences; elements that are in either of the arrays, but not both"
      ]
    },
    {
      "metadata": {
        "deletable": true,
        "editable": true,
        "id": "Dpz06e8XaOyH",
        "colab_type": "text"
      },
      "cell_type": "markdown",
      "source": [
        "## 4.4 File Input and Output with Arrays"
      ]
    },
    {
      "metadata": {
        "id": "dNGKJBoWopb3",
        "colab_type": "text"
      },
      "cell_type": "markdown",
      "source": [
        "NumPy is able to save and load data to and from disk either in text or binary format.\n",
        "In this section I only discuss NumPy’s built-in binary format, since most users will\n",
        "prefer pandas and other tools for loading text or tabular data (see Chapter 6 for much\n",
        "more).\n",
        "\n",
        "np.save and np.load are the two workhorse functions for efficiently saving and loading\n",
        "array data on disk. Arrays are saved by default in an uncompressed raw binary\n",
        "format with file extension .npy:"
      ]
    },
    {
      "metadata": {
        "deletable": true,
        "editable": true,
        "id": "jSfoHFvqaOyI",
        "colab_type": "code",
        "colab": {}
      },
      "cell_type": "code",
      "source": [
        "arr = np.arange(10)\n",
        "np.save('some_array', arr)"
      ],
      "execution_count": 0,
      "outputs": []
    },
    {
      "metadata": {
        "id": "9wMha-aEo64S",
        "colab_type": "text"
      },
      "cell_type": "markdown",
      "source": [
        "If the file path does not already end in .npy, the extension will be appended. The array on disk can then be loaded with np.load:"
      ]
    },
    {
      "metadata": {
        "deletable": true,
        "editable": true,
        "id": "OZHdB2NwaOyK",
        "colab_type": "code",
        "outputId": "9278ad4b-fb5f-4b23-f50a-716722f74ab5",
        "colab": {
          "base_uri": "https://localhost:8080/",
          "height": 34
        }
      },
      "cell_type": "code",
      "source": [
        "np.load('some_array.npy')"
      ],
      "execution_count": 0,
      "outputs": [
        {
          "output_type": "execute_result",
          "data": {
            "text/plain": [
              "array([0, 1, 2, 3, 4, 5, 6, 7, 8, 9])"
            ]
          },
          "metadata": {
            "tags": []
          },
          "execution_count": 55
        }
      ]
    },
    {
      "metadata": {
        "id": "BwfwzMKcpHCq",
        "colab_type": "text"
      },
      "cell_type": "markdown",
      "source": [
        "You save multiple arrays in an uncompressed archive using np.savez and passing the arrays as keyword arguments:"
      ]
    },
    {
      "metadata": {
        "deletable": true,
        "editable": true,
        "id": "kLxc7zVRaOyM",
        "colab_type": "code",
        "colab": {}
      },
      "cell_type": "code",
      "source": [
        "np.savez('array_archive.npz', a=arr, b=arr)"
      ],
      "execution_count": 0,
      "outputs": []
    },
    {
      "metadata": {
        "id": "Mh6rfaWQpVjg",
        "colab_type": "text"
      },
      "cell_type": "markdown",
      "source": [
        "When loading an .npz file, you get back a dict-like object that loads the individual arrays lazily:"
      ]
    },
    {
      "metadata": {
        "deletable": true,
        "editable": true,
        "id": "AvA8xmScaOyN",
        "colab_type": "code",
        "outputId": "5a455947-ca5b-4234-95ee-d3c6e7912f8d",
        "colab": {
          "base_uri": "https://localhost:8080/",
          "height": 34
        }
      },
      "cell_type": "code",
      "source": [
        "arch = np.load('array_archive.npz')\n",
        "arch['b']"
      ],
      "execution_count": 0,
      "outputs": [
        {
          "output_type": "execute_result",
          "data": {
            "text/plain": [
              "array([0, 1, 2, 3, 4, 5, 6, 7, 8, 9])"
            ]
          },
          "metadata": {
            "tags": []
          },
          "execution_count": 57
        }
      ]
    },
    {
      "metadata": {
        "id": "qbhaCq5bpe52",
        "colab_type": "text"
      },
      "cell_type": "markdown",
      "source": [
        "If your data compresses well, you may wish to use numpy.savez_compressed instead:"
      ]
    },
    {
      "metadata": {
        "deletable": true,
        "editable": true,
        "id": "zhAtBcz4aOyP",
        "colab_type": "code",
        "colab": {}
      },
      "cell_type": "code",
      "source": [
        "np.savez_compressed('arrays_compressed.npz', a=arr, b=arr)"
      ],
      "execution_count": 0,
      "outputs": []
    },
    {
      "metadata": {
        "deletable": true,
        "editable": true,
        "id": "jkl3T9PEaOyQ",
        "colab_type": "code",
        "colab": {}
      },
      "cell_type": "code",
      "source": [
        "!rm some_array.npy\n",
        "!rm array_archive.npz\n",
        "!rm arrays_compressed.npz"
      ],
      "execution_count": 0,
      "outputs": []
    },
    {
      "metadata": {
        "deletable": true,
        "editable": true,
        "id": "AviNIPAoaOyR",
        "colab_type": "text"
      },
      "cell_type": "markdown",
      "source": [
        "## 4.5 Linear Algebra"
      ]
    },
    {
      "metadata": {
        "id": "5CxXxggWDPYB",
        "colab_type": "text"
      },
      "cell_type": "markdown",
      "source": [
        "Linear algebra, like matrix multiplication, decompositions, determinants, and other\n",
        "square matrix math, is an important part of any array library. Unlike some languages\n",
        "like MATLAB, multiplying two two-dimensional arrays with * is an element-wise\n",
        "product instead of a matrix dot product. Thus, there is a function dot, both an array\n",
        "method and a function in the numpy namespace, for matrix multiplication:"
      ]
    },
    {
      "metadata": {
        "deletable": true,
        "editable": true,
        "id": "Fh_OIIwLaOyS",
        "colab_type": "code",
        "colab": {
          "base_uri": "https://localhost:8080/",
          "height": 204
        },
        "outputId": "ffb5f863-7fa3-4385-86da-3cf4eeb828da"
      },
      "cell_type": "code",
      "source": [
        "x = np.array([[1., 2., 3.], [4., 5., 6.]])\n",
        "y = np.array([[6., 23.], [-1, 7], [8, 9]])\n",
        "print(\"Two arrays with dot product\")\n",
        "print(\"x:\")\n",
        "print(x)\n",
        "print(\"y:\")\n",
        "print(y)\n",
        "print(\"x.dot(y):\")\n",
        "x.dot(y)"
      ],
      "execution_count": 11,
      "outputs": [
        {
          "output_type": "stream",
          "text": [
            "Two arrays with dot product\n",
            "x:\n",
            "[[1. 2. 3.]\n",
            " [4. 5. 6.]]\n",
            "y:\n",
            "[[ 6. 23.]\n",
            " [-1.  7.]\n",
            " [ 8.  9.]]\n",
            "x.dot(y):\n"
          ],
          "name": "stdout"
        },
        {
          "output_type": "execute_result",
          "data": {
            "text/plain": [
              "array([[ 28.,  64.],\n",
              "       [ 67., 181.]])"
            ]
          },
          "metadata": {
            "tags": []
          },
          "execution_count": 11
        }
      ]
    },
    {
      "metadata": {
        "id": "yYpVTR1tEJ0w",
        "colab_type": "text"
      },
      "cell_type": "markdown",
      "source": [
        "x.dot(y) is equivalent to np.dot(x, y):"
      ]
    },
    {
      "metadata": {
        "deletable": true,
        "editable": true,
        "id": "FE5BjQ3TaOyT",
        "colab_type": "code",
        "colab": {
          "base_uri": "https://localhost:8080/",
          "height": 51
        },
        "outputId": "76c2515a-bea5-47f3-97a0-36ada033c7a5"
      },
      "cell_type": "code",
      "source": [
        "np.dot(x, y)"
      ],
      "execution_count": 12,
      "outputs": [
        {
          "output_type": "execute_result",
          "data": {
            "text/plain": [
              "array([[ 28.,  64.],\n",
              "       [ 67., 181.]])"
            ]
          },
          "metadata": {
            "tags": []
          },
          "execution_count": 12
        }
      ]
    },
    {
      "metadata": {
        "id": "ywvbhc_-EN85",
        "colab_type": "text"
      },
      "cell_type": "markdown",
      "source": [
        "A matrix product between a two-dimensional array and a suitably sized onedimensional\n",
        "array results in a one-dimensional array:"
      ]
    },
    {
      "metadata": {
        "deletable": true,
        "editable": true,
        "id": "p3CWuPYtaOyU",
        "colab_type": "code",
        "colab": {
          "base_uri": "https://localhost:8080/",
          "height": 34
        },
        "outputId": "1860666b-7bc7-402a-adde-9df077b75391"
      },
      "cell_type": "code",
      "source": [
        "np.dot(x, np.ones(3))"
      ],
      "execution_count": 13,
      "outputs": [
        {
          "output_type": "execute_result",
          "data": {
            "text/plain": [
              "array([ 6., 15.])"
            ]
          },
          "metadata": {
            "tags": []
          },
          "execution_count": 13
        }
      ]
    },
    {
      "metadata": {
        "id": "z2bP-m8cESp8",
        "colab_type": "text"
      },
      "cell_type": "markdown",
      "source": [
        "The @ symbol (as of Python 3.5) also works as an infix operator that performs matrix\n",
        "multiplication:"
      ]
    },
    {
      "metadata": {
        "deletable": true,
        "editable": true,
        "id": "taInDnhpaOyV",
        "colab_type": "code",
        "colab": {
          "base_uri": "https://localhost:8080/",
          "height": 34
        },
        "outputId": "48cceac8-2206-4a71-e9f0-1e04947258a6"
      },
      "cell_type": "code",
      "source": [
        "x @ np.ones(3)"
      ],
      "execution_count": 14,
      "outputs": [
        {
          "output_type": "execute_result",
          "data": {
            "text/plain": [
              "array([ 6., 15.])"
            ]
          },
          "metadata": {
            "tags": []
          },
          "execution_count": 14
        }
      ]
    },
    {
      "metadata": {
        "id": "LqtinE5OEaee",
        "colab_type": "text"
      },
      "cell_type": "markdown",
      "source": [
        "numpy.linalg has a standard set of matrix decompositions and things like inverse\n",
        "and determinant. These are implemented under the hood via the same industrystandard\n",
        "linear algebra libraries used in other languages like MATLAB and R, such as\n",
        "BLAS, LAPACK, or possibly (depending on your NumPy build) the proprietary Intel\n",
        "MKL (Math Kernel Library):"
      ]
    },
    {
      "metadata": {
        "deletable": true,
        "editable": true,
        "id": "LPojCW40aOyW",
        "colab_type": "code",
        "colab": {
          "base_uri": "https://localhost:8080/",
          "height": 408
        },
        "outputId": "a638bea6-afdc-4d5f-9e2f-19b48d520202"
      },
      "cell_type": "code",
      "source": [
        "from numpy.linalg import inv, qr\n",
        "X = np.random.randn(5, 5)\n",
        "mat = X.T.dot(X)\n",
        "print(\"X.T.dot(np.random.randn(5, 5)):\\n\", mat)\n",
        "print(\"inv(X.T.dot(np.random.randn(5, 5))):\\n\", inv(mat))\n",
        "print(\"mat.dot(inv(mat)):\\n\", mat.dot(inv(mat)))\n",
        "q, r = qr(mat)\n",
        "r"
      ],
      "execution_count": 15,
      "outputs": [
        {
          "output_type": "stream",
          "text": [
            "X.T.dot(np.random.randn(5, 5)):\n",
            " [[ 4.2538 -1.0645  1.4407  0.9898  1.7318]\n",
            " [-1.0645  7.4431 -1.5585  4.4972 -2.1367]\n",
            " [ 1.4407 -1.5585  2.8126  0.243   1.2786]\n",
            " [ 0.9898  4.4972  0.243   5.0897  0.305 ]\n",
            " [ 1.7318 -2.1367  1.2786  0.305   1.928 ]]\n",
            "inv(X.T.dot(np.random.randn(5, 5))):\n",
            " [[ 0.4057 -0.1875 -0.0764  0.1229 -0.541 ]\n",
            " [-0.1875  2.462   0.2537 -2.3367  3.0984]\n",
            " [-0.0764  0.2537  0.5435 -0.2369  0.0268]\n",
            " [ 0.1229 -2.3367 -0.2369  2.4239 -2.9264]\n",
            " [-0.541   3.0984  0.0268 -2.9264  4.8837]]\n",
            "mat.dot(inv(mat)):\n",
            " [[ 1.  0. -0. -0.  0.]\n",
            " [ 0.  1.  0. -0.  0.]\n",
            " [-0.  0.  1. -0. -0.]\n",
            " [ 0.  0.  0.  1.  0.]\n",
            " [-0. -0. -0.  0.  1.]]\n"
          ],
          "name": "stdout"
        },
        {
          "output_type": "execute_result",
          "data": {
            "text/plain": [
              "array([[-5.0281,  2.7734, -2.8428, -1.0619, -3.0078],\n",
              "       [ 0.    , -8.7212,  1.2925, -6.5614,  1.622 ],\n",
              "       [ 0.    ,  0.    , -2.0873, -1.0487, -0.6291],\n",
              "       [ 0.    ,  0.    ,  0.    , -1.408 , -0.955 ],\n",
              "       [ 0.    ,  0.    ,  0.    ,  0.    ,  0.1537]])"
            ]
          },
          "metadata": {
            "tags": []
          },
          "execution_count": 15
        }
      ]
    },
    {
      "metadata": {
        "id": "IqcWrQXDGMLA",
        "colab_type": "text"
      },
      "cell_type": "markdown",
      "source": [
        "The expression X.T.dot(X) computes the dot product of X with its transpose X.T."
      ]
    },
    {
      "metadata": {
        "id": "j_JYAa68F4YN",
        "colab_type": "text"
      },
      "cell_type": "markdown",
      "source": [
        "### Table 4-7. Commonly used numpy.linalg functions\n",
        "Function Description\n",
        "\n",
        "diag Return the diagonal (or off-diagonal) elements of a square matrix as a 1D array, or convert a 1D array into a square matrix with zeros on the off-diagonal\n",
        "\n",
        "dot Matrix multiplication\n",
        "\n",
        "trace Compute the sum of the diagonal elements\n",
        "\n",
        "det Compute the matrix determinant\n",
        "\n",
        "eig Compute the eigenvalues and eigenvectors of a square matrix\n",
        "\n",
        "inv Compute the inverse of a square matrix\n",
        "\n",
        "pinv Compute the Moore-Penrose pseudo-inverse of a matrix\n",
        "\n",
        "qr Compute the QR decomposition\n",
        "\n",
        "svd Compute the singular value decomposition (SVD)\n",
        "\n",
        "solve Solve the linear system Ax = b for x, where A is a square matrix\n",
        "\n",
        "lstsq Compute the least-squares solution to Ax = b"
      ]
    },
    {
      "metadata": {
        "deletable": true,
        "editable": true,
        "id": "Sk8d5bJzaOyY",
        "colab_type": "text"
      },
      "cell_type": "markdown",
      "source": [
        "## 4.6 Pseudorandom Number Generation"
      ]
    },
    {
      "metadata": {
        "id": "hiabeMhfGVIP",
        "colab_type": "text"
      },
      "cell_type": "markdown",
      "source": [
        "The numpy.random module supplements the built-in Python random with functions\n",
        "for efficiently generating whole arrays of sample values from many kinds of probability\n",
        "distributions. For example, you can get a 4 × 4 array of samples from the standard\n",
        "normal distribution using normal:"
      ]
    },
    {
      "metadata": {
        "deletable": true,
        "editable": true,
        "id": "zU4coWpKaOyY",
        "colab_type": "code",
        "colab": {
          "base_uri": "https://localhost:8080/",
          "height": 85
        },
        "outputId": "7a869bf9-3ad6-4d31-85c4-7715f3066dc5"
      },
      "cell_type": "code",
      "source": [
        "samples = np.random.normal(size=(4, 4))\n",
        "samples"
      ],
      "execution_count": 16,
      "outputs": [
        {
          "output_type": "execute_result",
          "data": {
            "text/plain": [
              "array([[-1.5657, -0.5625, -0.0327, -0.929 ],\n",
              "       [-0.4826, -0.0363,  1.0954,  0.9809],\n",
              "       [-0.5895,  1.5817, -0.5287,  0.457 ],\n",
              "       [ 0.93  , -1.5693, -1.0225, -0.4028]])"
            ]
          },
          "metadata": {
            "tags": []
          },
          "execution_count": 16
        }
      ]
    },
    {
      "metadata": {
        "id": "JnKgnv8iGZY7",
        "colab_type": "text"
      },
      "cell_type": "markdown",
      "source": [
        "Python’s built-in random module, by contrast, only samples one value at a time. As\n",
        "you can see from this benchmark, numpy.random is well over an order of magnitude\n",
        "faster for generating very large samples:"
      ]
    },
    {
      "metadata": {
        "deletable": true,
        "editable": true,
        "id": "IERjvXghaOyZ",
        "colab_type": "code",
        "colab": {
          "base_uri": "https://localhost:8080/",
          "height": 51
        },
        "outputId": "186c1855-89ff-4724-b040-5a5329227362"
      },
      "cell_type": "code",
      "source": [
        "from random import normalvariate\n",
        "N = 1000000\n",
        "%timeit samples = [normalvariate(0, 1) for _ in range(N)]\n",
        "%timeit np.random.normal(size=N)"
      ],
      "execution_count": 17,
      "outputs": [
        {
          "output_type": "stream",
          "text": [
            "1 loop, best of 3: 908 ms per loop\n",
            "10 loops, best of 3: 53.2 ms per loop\n"
          ],
          "name": "stdout"
        }
      ]
    },
    {
      "metadata": {
        "id": "UNBfaEZrGeZu",
        "colab_type": "text"
      },
      "cell_type": "markdown",
      "source": [
        "We say that these are pseudorandom numbers because they are generated by an algorithm\n",
        "with deterministic behavior based on the seed of the random number generator.\n",
        "You can change NumPy’s random number generation seed using\n",
        "np.random.seed:"
      ]
    },
    {
      "metadata": {
        "deletable": true,
        "editable": true,
        "id": "yi6NDS0KaOyb",
        "colab_type": "code",
        "colab": {}
      },
      "cell_type": "code",
      "source": [
        "np.random.seed(1234)"
      ],
      "execution_count": 0,
      "outputs": []
    },
    {
      "metadata": {
        "id": "yFiJ6fTDGjon",
        "colab_type": "text"
      },
      "cell_type": "markdown",
      "source": [
        "The data generation functions in numpy.random use a global random seed. To avoid\n",
        "global state, you can use numpy.random.RandomState to create a random number\n",
        "generator isolated from others:"
      ]
    },
    {
      "metadata": {
        "deletable": true,
        "editable": true,
        "id": "2AlMx3x4aOyc",
        "colab_type": "code",
        "colab": {
          "base_uri": "https://localhost:8080/",
          "height": 34
        },
        "outputId": "39148d6a-97a0-454c-94da-6868082038dc"
      },
      "cell_type": "code",
      "source": [
        "rng = np.random.RandomState(1234)\n",
        "rng.randn(10)"
      ],
      "execution_count": 19,
      "outputs": [
        {
          "output_type": "execute_result",
          "data": {
            "text/plain": [
              "array([ 0.4714, -1.191 ,  1.4327, -0.3127, -0.7206,  0.8872,  0.8596, -0.6365,  0.0157, -2.2427])"
            ]
          },
          "metadata": {
            "tags": []
          },
          "execution_count": 19
        }
      ]
    },
    {
      "metadata": {
        "id": "3ISeGcXdGk4j",
        "colab_type": "text"
      },
      "cell_type": "markdown",
      "source": [
        "### Table 4-8. Partial list of numpy.random functions\n",
        "Function Description\n",
        "\n",
        "seed Seed the random number generator\n",
        "\n",
        "permutation Return a random permutation of a sequence, or return a permuted range\n",
        "\n",
        "shuffle Randomly permute a sequence in-place\n",
        "\n",
        "rand Draw samples from a uniform distribution\n",
        "\n",
        "randint Draw random integers from a given low-to-high range\n",
        "\n",
        "randn Draw samples from a normal distribution with mean 0 and standard deviation 1 (MATLAB-like interface)\n",
        "\n",
        "binomial Draw samples from a binomial distribution\n",
        "\n",
        "normal Draw samples from a normal (Gaussian) distribution\n",
        "\n",
        "beta Draw samples from a beta distribution\n",
        "\n",
        "chisquare Draw samples from a chi-square distribution\n",
        "\n",
        "gamma Draw samples from a gamma distribution\n",
        "\n",
        "uniform Draw samples from a uniform [0, 1) distribution"
      ]
    },
    {
      "metadata": {
        "deletable": true,
        "editable": true,
        "id": "MGbV6chGaOyd",
        "colab_type": "text"
      },
      "cell_type": "markdown",
      "source": [
        "## 4.7 Example: Random Walks"
      ]
    },
    {
      "metadata": {
        "id": "Euio59rTHeZT",
        "colab_type": "text"
      },
      "cell_type": "markdown",
      "source": [
        "The simulation of random walks provides an illustrative application of utilizing array\n",
        "operations. Let’s first consider a simple random walk starting at 0 with steps of 1 and\n",
        "–1 occurring with equal probability.\n",
        "\n",
        "Here is a pure Python way to implement a single random walk with 1,000 steps using\n",
        "the built-in random module:"
      ]
    },
    {
      "metadata": {
        "deletable": true,
        "editable": true,
        "id": "LWtSzTxWaOye",
        "colab_type": "code",
        "colab": {}
      },
      "cell_type": "code",
      "source": [
        "import random\n",
        "position = 0\n",
        "walk = [position]\n",
        "steps = 1000\n",
        "for i in range(steps):\n",
        "    step = 1 if random.randint(0, 1) else -1\n",
        "    position += step\n",
        "    walk.append(position)"
      ],
      "execution_count": 0,
      "outputs": []
    },
    {
      "metadata": {
        "deletable": true,
        "editable": true,
        "id": "dtdqn8YUaOyg",
        "colab_type": "code",
        "colab": {
          "base_uri": "https://localhost:8080/",
          "height": 51
        },
        "outputId": "2c5fdf93-b840-4cc1-f044-139bfb83ddcc"
      },
      "cell_type": "code",
      "source": [
        "plt.figure()"
      ],
      "execution_count": 21,
      "outputs": [
        {
          "output_type": "execute_result",
          "data": {
            "text/plain": [
              "<Figure size 720x432 with 0 Axes>"
            ]
          },
          "metadata": {
            "tags": []
          },
          "execution_count": 21
        },
        {
          "output_type": "display_data",
          "data": {
            "text/plain": [
              "<Figure size 720x432 with 0 Axes>"
            ]
          },
          "metadata": {
            "tags": []
          }
        }
      ]
    },
    {
      "metadata": {
        "deletable": true,
        "editable": true,
        "id": "PGC15j3ZaOyi",
        "colab_type": "code",
        "colab": {
          "base_uri": "https://localhost:8080/",
          "height": 391
        },
        "outputId": "438fb1ac-9c43-4d07-ede0-e2bd5aca277a"
      },
      "cell_type": "code",
      "source": [
        "plt.plot(walk[:100])"
      ],
      "execution_count": 22,
      "outputs": [
        {
          "output_type": "execute_result",
          "data": {
            "text/plain": [
              "[<matplotlib.lines.Line2D at 0x7f028611fac8>]"
            ]
          },
          "metadata": {
            "tags": []
          },
          "execution_count": 22
        },
        {
          "output_type": "display_data",
          "data": {
            "image/png": "[encoded data removed]",
            "text/plain": [
              "<Figure size 720x432 with 1 Axes>"
            ]
          },
          "metadata": {
            "tags": []
          }
        }
      ]
    },
    {
      "metadata": {
        "deletable": true,
        "editable": true,
        "id": "xD7GH-teaOyk",
        "colab_type": "code",
        "colab": {}
      },
      "cell_type": "code",
      "source": [
        "np.random.seed(12345)"
      ],
      "execution_count": 0,
      "outputs": []
    },
    {
      "metadata": {
        "id": "irWMgTvnHxPR",
        "colab_type": "text"
      },
      "cell_type": "markdown",
      "source": [
        "You might make the observation that walk is simply the cumulative sum of the random\n",
        "steps and could be evaluated as an array expression. Thus, I use the np.random\n",
        "module to draw 1,000 coin flips at once, set these to 1 and –1, and compute the\n",
        "cumulative sum:"
      ]
    },
    {
      "metadata": {
        "deletable": true,
        "editable": true,
        "id": "FTfJDmCoaOym",
        "colab_type": "code",
        "colab": {}
      },
      "cell_type": "code",
      "source": [
        "nsteps = 1000\n",
        "draws = np.random.randint(0, 2, size=nsteps)\n",
        "steps = np.where(draws > 0, 1, -1)\n",
        "walk = steps.cumsum()"
      ],
      "execution_count": 0,
      "outputs": []
    },
    {
      "metadata": {
        "id": "4UJP3_xaH1e9",
        "colab_type": "text"
      },
      "cell_type": "markdown",
      "source": [
        "From this we can begin to extract statistics like the minimum and maximum value\n",
        "along the walk’s trajectory:"
      ]
    },
    {
      "metadata": {
        "deletable": true,
        "editable": true,
        "id": "vJq9dOcoaOyp",
        "colab_type": "code",
        "colab": {
          "base_uri": "https://localhost:8080/",
          "height": 51
        },
        "outputId": "01bd65cd-a844-4af2-887d-62bc58919706"
      },
      "cell_type": "code",
      "source": [
        "print(walk.min())\n",
        "print(walk.max())"
      ],
      "execution_count": 28,
      "outputs": [
        {
          "output_type": "stream",
          "text": [
            "-3\n",
            "31\n"
          ],
          "name": "stdout"
        }
      ]
    },
    {
      "metadata": {
        "id": "gfxV01fUILyu",
        "colab_type": "text"
      },
      "cell_type": "markdown",
      "source": [
        "A more complicated statistic is the first crossing time, the step at which the random\n",
        "walk reaches a particular value. Here we might want to know how long it took the\n",
        "random walk to get at least 10 steps away from the origin 0 in either direction.\n",
        "np.abs(walk) >= 10 gives us a boolean array indicating where the walk has reached\n",
        "or exceeded 10, but we want the index of the first 10 or –10. Turns out, we can compute\n",
        "this using argmax, which returns the first index of the maximum value in the\n",
        "boolean array (True is the maximum value):"
      ]
    },
    {
      "metadata": {
        "deletable": true,
        "editable": true,
        "id": "KdF64qjsaOys",
        "colab_type": "code",
        "colab": {
          "base_uri": "https://localhost:8080/",
          "height": 34
        },
        "outputId": "ffd5e5ba-1f24-45d7-8223-cfcff11f109c"
      },
      "cell_type": "code",
      "source": [
        "(np.abs(walk) >= 10).argmax()"
      ],
      "execution_count": 29,
      "outputs": [
        {
          "output_type": "execute_result",
          "data": {
            "text/plain": [
              "37"
            ]
          },
          "metadata": {
            "tags": []
          },
          "execution_count": 29
        }
      ]
    },
    {
      "metadata": {
        "id": "_UoQvCGUIRtV",
        "colab_type": "text"
      },
      "cell_type": "markdown",
      "source": [
        "Note that using argmax here is not always efficient because it always makes a full scan\n",
        "of the array. In this special case, once a True is observed we know it to be the maximum\n",
        "value."
      ]
    },
    {
      "metadata": {
        "deletable": true,
        "editable": true,
        "id": "OEJOldd4aOyt",
        "colab_type": "text"
      },
      "cell_type": "markdown",
      "source": [
        "### Simulating Many Random Walks at Once"
      ]
    },
    {
      "metadata": {
        "id": "TLlA3_zJIYe7",
        "colab_type": "text"
      },
      "cell_type": "markdown",
      "source": [
        "If your goal was to simulate many random walks, say 5,000 of them, you can generate\n",
        "all of the random walks with minor modifications to the preceding code. If passed a\n",
        "2-tuple, the numpy.random functions will generate a two-dimensional array of draws,\n",
        "and we can compute the cumulative sum across the rows to compute all 5,000 random\n",
        "walks in one shot:"
      ]
    },
    {
      "metadata": {
        "deletable": true,
        "editable": true,
        "id": "cwbj-vDRaOyt",
        "colab_type": "code",
        "colab": {
          "base_uri": "https://localhost:8080/",
          "height": 136
        },
        "outputId": "0f01d9e9-da63-49fd-aa1a-1b8aabe17964"
      },
      "cell_type": "code",
      "source": [
        "nwalks = 5000\n",
        "nsteps = 1000\n",
        "draws = np.random.randint(0, 2, size=(nwalks, nsteps)) # 0 or 1\n",
        "steps = np.where(draws > 0, 1, -1)\n",
        "walks = steps.cumsum(1)\n",
        "walks"
      ],
      "execution_count": 30,
      "outputs": [
        {
          "output_type": "execute_result",
          "data": {
            "text/plain": [
              "array([[  1,   0,   1, ...,   8,   7,   8],\n",
              "       [  1,   0,  -1, ...,  34,  33,  32],\n",
              "       [  1,   0,  -1, ...,   4,   5,   4],\n",
              "       ...,\n",
              "       [  1,   2,   1, ...,  24,  25,  26],\n",
              "       [  1,   2,   3, ...,  14,  13,  14],\n",
              "       [ -1,  -2,  -3, ..., -24, -23, -22]])"
            ]
          },
          "metadata": {
            "tags": []
          },
          "execution_count": 30
        }
      ]
    },
    {
      "metadata": {
        "id": "Q26F7Ak6Ihiu",
        "colab_type": "text"
      },
      "cell_type": "markdown",
      "source": [
        "Now, we can compute the maximum and minimum values obtained over all of the\n",
        "walks:"
      ]
    },
    {
      "metadata": {
        "deletable": true,
        "editable": true,
        "id": "CsJswRqgaOyu",
        "colab_type": "code",
        "colab": {
          "base_uri": "https://localhost:8080/",
          "height": 34
        },
        "outputId": "ce3506d9-0e14-445b-e9ce-ec8b4b570034"
      },
      "cell_type": "code",
      "source": [
        "walks.max(), walks.min()"
      ],
      "execution_count": 31,
      "outputs": [
        {
          "output_type": "execute_result",
          "data": {
            "text/plain": [
              "(138, -133)"
            ]
          },
          "metadata": {
            "tags": []
          },
          "execution_count": 31
        }
      ]
    },
    {
      "metadata": {
        "id": "hjpk9Eh9JBhh",
        "colab_type": "text"
      },
      "cell_type": "markdown",
      "source": [
        "Out of these walks, let’s compute the minimum crossing time to 30 or –30. This is\n",
        "slightly tricky because not all 5,000 of them reach 30. We can check this using the any\n",
        "method:"
      ]
    },
    {
      "metadata": {
        "deletable": true,
        "editable": true,
        "id": "XSHpbVQoaOyw",
        "colab_type": "code",
        "colab": {
          "base_uri": "https://localhost:8080/",
          "height": 34
        },
        "outputId": "a173ac49-5fa7-41a4-ea03-accfd3998e34"
      },
      "cell_type": "code",
      "source": [
        "hits30 = (np.abs(walks) >= 30).any(1)\n",
        "hits30, hits30.sum() # Number that hit 30 or -30"
      ],
      "execution_count": 32,
      "outputs": [
        {
          "output_type": "execute_result",
          "data": {
            "text/plain": [
              "(array([False,  True, False, ..., False,  True, False]), 3410)"
            ]
          },
          "metadata": {
            "tags": []
          },
          "execution_count": 32
        }
      ]
    },
    {
      "metadata": {
        "id": "JsBjU85zJLaY",
        "colab_type": "text"
      },
      "cell_type": "markdown",
      "source": [
        "We can use this boolean array to select out the rows of walks that actually cross the\n",
        "absolute 30 level and call argmax across axis 1 to get the crossing times:"
      ]
    },
    {
      "metadata": {
        "deletable": true,
        "editable": true,
        "id": "338728pbaOyy",
        "colab_type": "code",
        "colab": {
          "base_uri": "https://localhost:8080/",
          "height": 34
        },
        "outputId": "37bac14e-a7fb-4d4e-ea95-7a260338131d"
      },
      "cell_type": "code",
      "source": [
        "crossing_times = (np.abs(walks[hits30]) >= 30).argmax(1)\n",
        "crossing_times.mean()"
      ],
      "execution_count": 33,
      "outputs": [
        {
          "output_type": "execute_result",
          "data": {
            "text/plain": [
              "498.8897360703812"
            ]
          },
          "metadata": {
            "tags": []
          },
          "execution_count": 33
        }
      ]
    },
    {
      "metadata": {
        "id": "aEZH6lO7JR57",
        "colab_type": "text"
      },
      "cell_type": "markdown",
      "source": [
        "Feel free to experiment with other distributions for the steps other than equal-sized\n",
        "coin flips. You need only use a different random number generation function, like\n",
        "normal to generate normally distributed steps with some mean and standard\n",
        "deviation:"
      ]
    },
    {
      "metadata": {
        "deletable": true,
        "editable": true,
        "id": "qJOCwlANaOzM",
        "colab_type": "code",
        "colab": {}
      },
      "cell_type": "code",
      "source": [
        "steps = np.random.normal(loc=0, scale=0.25,\n",
        "                         size=(nwalks, nsteps))"
      ],
      "execution_count": 0,
      "outputs": []
    },
    {
      "metadata": {
        "deletable": true,
        "editable": true,
        "id": "mNBzZkg-aOzN",
        "colab_type": "text"
      },
      "cell_type": "markdown",
      "source": [
        "## 4.8 Conclusion\n",
        "While much of the rest of the book will focus on building data wrangling skills with\n",
        "pandas, we will continue to work in a similar array-based style. In Appendix A, we\n",
        "will dig deeper into NumPy features to help you further develop your array computing\n",
        "skills."
      ]
    }
  ]
}