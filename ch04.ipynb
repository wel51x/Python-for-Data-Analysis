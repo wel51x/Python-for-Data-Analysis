{
  "nbformat": 4,
  "nbformat_minor": 0,
  "metadata": {
    "colab": {
      "name": "ch04.ipynb",
      "version": "0.3.2",
      "provenance": [],
      "collapsed_sections": [
        "3JLJwYcJaOxd",
        "8zodXQbjaOxi",
        "J48dxdSQaOxn",
        "yAwd7RJoaOxu",
        "KMRlBovTaOx0",
        "DodFJmIjaOx7",
        "wMcNwc9JaOyB",
        "Dpz06e8XaOyH",
        "AviNIPAoaOyR",
        "Sk8d5bJzaOyY",
        "MGbV6chGaOyd",
        "OEJOldd4aOyt",
        "mNBzZkg-aOzN"
      ],
      "include_colab_link": true
    },
    "kernelspec": {
      "display_name": "Python 3",
      "language": "python",
      "name": "python3"
    }
  },
  "cells": [
    {
      "cell_type": "markdown",
      "metadata": {
        "id": "view-in-github",
        "colab_type": "text"
      },
      "source": [
        "<a href=\"https://colab.research.google.com/github/wel51x/Python-for-Data-Analysis/blob/master/ch04.ipynb\" target=\"_parent\"><img src=\"https://colab.research.google.com/assets/colab-badge.svg\" alt=\"Open In Colab\"/></a>"
      ]
    },
    {
      "metadata": {
        "deletable": true,
        "editable": true,
        "id": "WOu2eTczaOuO",
        "colab_type": "text"
      },
      "cell_type": "markdown",
      "source": [
        "# NumPy Basics: Arrays and Vectorized Computation"
      ]
    },
    {
      "metadata": {
        "deletable": true,
        "editable": true,
        "id": "ATCZwmZLaOuR",
        "colab_type": "code",
        "colab": {}
      },
      "cell_type": "code",
      "source": [
        "import numpy as np\n",
        "np.random.seed(12345)\n",
        "import matplotlib.pyplot as plt\n",
        "plt.rc('figure', figsize=(10, 6))\n",
        "np.set_printoptions(precision=4, suppress=True)"
      ],
      "execution_count": 0,
      "outputs": []
    },
    {
      "metadata": {
        "deletable": true,
        "editable": true,
        "id": "qUzyHGHsaOua",
        "colab_type": "code",
        "colab": {}
      },
      "cell_type": "code",
      "source": [
        "import numpy as np\n",
        "my_arr = np.arange(1000000)\n",
        "my_list = list(range(1000000))"
      ],
      "execution_count": 0,
      "outputs": []
    },
    {
      "metadata": {
        "deletable": true,
        "editable": true,
        "id": "6N1CmlytaOuj",
        "colab_type": "code",
        "outputId": "17918dc1-5241-431f-c24d-21e35d072b94",
        "colab": {
          "base_uri": "https://localhost:8080/",
          "height": 85
        }
      },
      "cell_type": "code",
      "source": [
        "%time for _ in range(10): my_arr2 = my_arr ** 2\n",
        "%time for _ in range(10): my_list2 = [x ** 2 for x in my_list]"
      ],
      "execution_count": 0,
      "outputs": [
        {
          "output_type": "stream",
          "text": [
            "CPU times: user 23.4 ms, sys: 2.39 ms, total: 25.8 ms\n",
            "Wall time: 34.8 ms\n",
            "CPU times: user 3.05 s, sys: 167 ms, total: 3.22 s\n",
            "Wall time: 3.22 s\n"
          ],
          "name": "stdout"
        }
      ]
    },
    {
      "metadata": {
        "id": "sAdTjZEhOlMn",
        "colab_type": "code",
        "outputId": "2e94fa8f-031c-4b86-8dfa-4b890294ac9b",
        "colab": {
          "base_uri": "https://localhost:8080/",
          "height": 374
        }
      },
      "cell_type": "code",
      "source": [
        "# Derek S Test\n",
        "import random\n",
        "dice = [1, 2, 3, 4, 5, 6]\n",
        "tests = [random.choice(dice) + random.choice(dice) for _ in range(100000)]\n",
        "plt.hist(tests, bins = range(1, 14));"
      ],
      "execution_count": 0,
      "outputs": [
        {
          "output_type": "display_data",
          "data": {
            "image/png": "[encoded data removed]",
            "text/plain": [
              "<Figure size 720x432 with 1 Axes>"
            ]
          },
          "metadata": {
            "tags": []
          }
        }
      ]
    },
    {
      "metadata": {
        "deletable": true,
        "editable": true,
        "id": "GbcpCf_UaOuq",
        "colab_type": "text"
      },
      "cell_type": "markdown",
      "source": [
        "## The NumPy ndarray: A Multidimensional Array Object"
      ]
    },
    {
      "metadata": {
        "deletable": true,
        "editable": true,
        "id": "Xgn6ffuraOus",
        "colab_type": "code",
        "outputId": "dbb3a7b8-d17d-46c7-bf96-035603969737",
        "colab": {
          "base_uri": "https://localhost:8080/",
          "height": 51
        }
      },
      "cell_type": "code",
      "source": [
        "import numpy as np\n",
        "# Generate some random data\n",
        "data = np.random.randn(2, 3)\n",
        "data"
      ],
      "execution_count": 0,
      "outputs": [
        {
          "output_type": "execute_result",
          "data": {
            "text/plain": [
              "array([[-0.2047,  0.4789, -0.5194],\n",
              "       [-0.5557,  1.9658,  1.3934]])"
            ]
          },
          "metadata": {
            "tags": []
          },
          "execution_count": 8
        }
      ]
    },
    {
      "metadata": {
        "deletable": true,
        "editable": true,
        "id": "j2pJVQNuaOu2",
        "colab_type": "code",
        "outputId": "622f7ca3-1e6f-4e3b-ea14-ae67cccf395b",
        "colab": {
          "base_uri": "https://localhost:8080/",
          "height": 51
        }
      },
      "cell_type": "code",
      "source": [
        "data * 10\n",
        "data + data"
      ],
      "execution_count": 0,
      "outputs": [
        {
          "output_type": "execute_result",
          "data": {
            "text/plain": [
              "array([[-0.4094,  0.9579, -1.0389],\n",
              "       [-1.1115,  3.9316,  2.7868]])"
            ]
          },
          "metadata": {
            "tags": []
          },
          "execution_count": 9
        }
      ]
    },
    {
      "metadata": {
        "deletable": true,
        "editable": true,
        "id": "Zo5TRXRVaOu8",
        "colab_type": "code",
        "outputId": "d706659f-61f0-48bf-fd5f-995a5b440f97",
        "colab": {
          "base_uri": "https://localhost:8080/",
          "height": 34
        }
      },
      "cell_type": "code",
      "source": [
        "data.shape\n",
        "data.dtype"
      ],
      "execution_count": 0,
      "outputs": [
        {
          "output_type": "execute_result",
          "data": {
            "text/plain": [
              "dtype('float64')"
            ]
          },
          "metadata": {
            "tags": []
          },
          "execution_count": 10
        }
      ]
    },
    {
      "metadata": {
        "deletable": true,
        "editable": true,
        "id": "AY0eO_ZNaOvF",
        "colab_type": "text"
      },
      "cell_type": "markdown",
      "source": [
        "### Creating ndarrays"
      ]
    },
    {
      "metadata": {
        "deletable": true,
        "editable": true,
        "id": "OZP1hG5BaOvH",
        "colab_type": "code",
        "outputId": "9e9b523d-c7fb-4710-bc17-007410d2e944",
        "colab": {
          "base_uri": "https://localhost:8080/",
          "height": 34
        }
      },
      "cell_type": "code",
      "source": [
        "data1 = [6, 7.5, 8, 0, 1]\n",
        "arr1 = np.array(data1)\n",
        "arr1"
      ],
      "execution_count": 0,
      "outputs": [
        {
          "output_type": "execute_result",
          "data": {
            "text/plain": [
              "array([6. , 7.5, 8. , 0. , 1. ])"
            ]
          },
          "metadata": {
            "tags": []
          },
          "execution_count": 11
        }
      ]
    },
    {
      "metadata": {
        "deletable": true,
        "editable": true,
        "id": "e0NJrOC0aOvK",
        "colab_type": "code",
        "outputId": "94d21523-4dab-484b-f309-817c0ea29d6f",
        "colab": {
          "base_uri": "https://localhost:8080/",
          "height": 51
        }
      },
      "cell_type": "code",
      "source": [
        "data2 = [[1, 2, 3, 4], [5, 6, 7, 8]]\n",
        "arr2 = np.array(data2)\n",
        "arr2"
      ],
      "execution_count": 0,
      "outputs": [
        {
          "output_type": "execute_result",
          "data": {
            "text/plain": [
              "array([[1, 2, 3, 4],\n",
              "       [5, 6, 7, 8]])"
            ]
          },
          "metadata": {
            "tags": []
          },
          "execution_count": 12
        }
      ]
    },
    {
      "metadata": {
        "deletable": true,
        "editable": true,
        "id": "Z0BOZt6zaOvP",
        "colab_type": "code",
        "outputId": "bce9e362-e624-43be-b760-3c9b4fa92dad",
        "colab": {
          "base_uri": "https://localhost:8080/",
          "height": 34
        }
      },
      "cell_type": "code",
      "source": [
        "arr2.ndim, arr2.shape"
      ],
      "execution_count": 0,
      "outputs": [
        {
          "output_type": "execute_result",
          "data": {
            "text/plain": [
              "(2, (2, 4))"
            ]
          },
          "metadata": {
            "tags": []
          },
          "execution_count": 14
        }
      ]
    },
    {
      "metadata": {
        "deletable": true,
        "editable": true,
        "id": "4N36G7sVaOvV",
        "colab_type": "code",
        "outputId": "4c994dcc-b6e2-44ae-82a9-0bcf8ab5d85d",
        "colab": {
          "base_uri": "https://localhost:8080/",
          "height": 34
        }
      },
      "cell_type": "code",
      "source": [
        "arr1.dtype, arr2.dtype"
      ],
      "execution_count": 0,
      "outputs": [
        {
          "output_type": "execute_result",
          "data": {
            "text/plain": [
              "(dtype('float64'), dtype('int64'))"
            ]
          },
          "metadata": {
            "tags": []
          },
          "execution_count": 15
        }
      ]
    },
    {
      "metadata": {
        "deletable": true,
        "editable": true,
        "id": "ccu3YLwkaOvb",
        "colab_type": "code",
        "outputId": "374bea24-b742-4648-9d90-18f08e6d976c",
        "colab": {
          "base_uri": "https://localhost:8080/",
          "height": 204
        }
      },
      "cell_type": "code",
      "source": [
        "print(np.zeros(10))\n",
        "print(np.zeros((3, 6)))\n",
        "np.empty((2, 3, 2))"
      ],
      "execution_count": 0,
      "outputs": [
        {
          "output_type": "stream",
          "text": [
            "[0. 0. 0. 0. 0. 0. 0. 0. 0. 0.]\n",
            "[[0. 0. 0. 0. 0. 0.]\n",
            " [0. 0. 0. 0. 0. 0.]\n",
            " [0. 0. 0. 0. 0. 0.]]\n"
          ],
          "name": "stdout"
        },
        {
          "output_type": "execute_result",
          "data": {
            "text/plain": [
              "array([[[0., 0.],\n",
              "        [0., 0.],\n",
              "        [0., 0.]],\n",
              "\n",
              "       [[0., 0.],\n",
              "        [0., 0.],\n",
              "        [0., 0.]]])"
            ]
          },
          "metadata": {
            "tags": []
          },
          "execution_count": 17
        }
      ]
    },
    {
      "metadata": {
        "deletable": true,
        "editable": true,
        "id": "NTpICg9baOve",
        "colab_type": "code",
        "outputId": "6a139ea2-badf-4b20-f076-74f0418c91bb",
        "colab": {
          "base_uri": "https://localhost:8080/",
          "height": 34
        }
      },
      "cell_type": "code",
      "source": [
        "np.arange(15)"
      ],
      "execution_count": 0,
      "outputs": [
        {
          "output_type": "execute_result",
          "data": {
            "text/plain": [
              "array([ 0,  1,  2,  3,  4,  5,  6,  7,  8,  9, 10, 11, 12, 13, 14])"
            ]
          },
          "metadata": {
            "tags": []
          },
          "execution_count": 18
        }
      ]
    },
    {
      "metadata": {
        "deletable": true,
        "editable": true,
        "id": "5xpFwL5PaOvk",
        "colab_type": "text"
      },
      "cell_type": "markdown",
      "source": [
        "### Data Types for ndarrays"
      ]
    },
    {
      "metadata": {
        "deletable": true,
        "editable": true,
        "id": "aL-ZomujaOvl",
        "colab_type": "code",
        "outputId": "4443b8a9-bffd-4b81-eba9-b95d24c9cf8f",
        "colab": {
          "base_uri": "https://localhost:8080/",
          "height": 34
        }
      },
      "cell_type": "code",
      "source": [
        "arr1 = np.array([1, 2, 3], dtype=np.float64)\n",
        "arr2 = np.array([1, 2, 3], dtype=np.int32)\n",
        "print(arr1.dtype, arr2.dtype)"
      ],
      "execution_count": 0,
      "outputs": [
        {
          "output_type": "stream",
          "text": [
            "float64 int32\n"
          ],
          "name": "stdout"
        }
      ]
    },
    {
      "metadata": {
        "deletable": true,
        "editable": true,
        "id": "GtTSy8YIaOvo",
        "colab_type": "code",
        "outputId": "afa96734-f412-41cd-be03-f76ff1d6ba05",
        "colab": {
          "base_uri": "https://localhost:8080/",
          "height": 51
        }
      },
      "cell_type": "code",
      "source": [
        "arr = np.array([1, 2, 3, 4, 5])\n",
        "print(arr.dtype)\n",
        "float_arr = arr.astype(np.float64)\n",
        "float_arr.dtype"
      ],
      "execution_count": 0,
      "outputs": [
        {
          "output_type": "stream",
          "text": [
            "int64\n"
          ],
          "name": "stdout"
        },
        {
          "output_type": "execute_result",
          "data": {
            "text/plain": [
              "dtype('float64')"
            ]
          },
          "metadata": {
            "tags": []
          },
          "execution_count": 21
        }
      ]
    },
    {
      "metadata": {
        "deletable": true,
        "editable": true,
        "id": "w0K3hhfkaOvr",
        "colab_type": "code",
        "outputId": "165d15e9-f741-409b-cb45-b8bb74f7d0f6",
        "colab": {
          "base_uri": "https://localhost:8080/",
          "height": 51
        }
      },
      "cell_type": "code",
      "source": [
        "arr = np.array([3.7, -1.2, -2.6, 0.5, 12.9, 10.1])\n",
        "print(arr)\n",
        "arr.astype(np.int32)"
      ],
      "execution_count": 0,
      "outputs": [
        {
          "output_type": "stream",
          "text": [
            "[ 3.7 -1.2 -2.6  0.5 12.9 10.1]\n"
          ],
          "name": "stdout"
        },
        {
          "output_type": "execute_result",
          "data": {
            "text/plain": [
              "array([ 3, -1, -2,  0, 12, 10], dtype=int32)"
            ]
          },
          "metadata": {
            "tags": []
          },
          "execution_count": 22
        }
      ]
    },
    {
      "metadata": {
        "deletable": true,
        "editable": true,
        "id": "mHuK3rWoaOvu",
        "colab_type": "code",
        "outputId": "4bb9d02d-c901-4876-e188-b02e0add504b",
        "colab": {
          "base_uri": "https://localhost:8080/",
          "height": 34
        }
      },
      "cell_type": "code",
      "source": [
        "numeric_strings = np.array(['1.25', '-9.6', '42'], dtype=np.string_)\n",
        "numeric_strings.astype(float)"
      ],
      "execution_count": 0,
      "outputs": [
        {
          "output_type": "execute_result",
          "data": {
            "text/plain": [
              "array([ 1.25, -9.6 , 42.  ])"
            ]
          },
          "metadata": {
            "tags": []
          },
          "execution_count": 23
        }
      ]
    },
    {
      "metadata": {
        "id": "CTQuTVn0hkgC",
        "colab_type": "text"
      },
      "cell_type": "markdown",
      "source": [
        "==>> If casting were to fail for some reason (like a string that cannot be converted to\n",
        "float64), a ValueError will be raised. Above I was a bit lazy and wrote float instead\n",
        "of np.float64; NumPy aliases the Python types to its own equivalent data dtypes."
      ]
    },
    {
      "metadata": {
        "deletable": true,
        "editable": true,
        "id": "1DfgbAtjaOvx",
        "colab_type": "code",
        "outputId": "5b143297-dd5a-42f0-f458-776df98a3cd2",
        "colab": {
          "base_uri": "https://localhost:8080/",
          "height": 34
        }
      },
      "cell_type": "code",
      "source": [
        "int_array = np.arange(10)\n",
        "calibers = np.array([.22, .270, .357, .380, .44, .50], dtype=np.float64)\n",
        "int_array.astype(calibers.dtype)"
      ],
      "execution_count": 0,
      "outputs": [
        {
          "output_type": "execute_result",
          "data": {
            "text/plain": [
              "array([0., 1., 2., 3., 4., 5., 6., 7., 8., 9.])"
            ]
          },
          "metadata": {
            "tags": []
          },
          "execution_count": 24
        }
      ]
    },
    {
      "metadata": {
        "id": "_XttPvqih7J_",
        "colab_type": "text"
      },
      "cell_type": "markdown",
      "source": [
        "==>> Calling astype always creates a new array (a copy of the data), even\n",
        "if the new dtype is the same as the old dtype."
      ]
    },
    {
      "metadata": {
        "deletable": true,
        "editable": true,
        "id": "z-q1MDXTaOv1",
        "colab_type": "code",
        "outputId": "f70b1e87-b34e-46df-b25f-8fb41ef87eba",
        "colab": {
          "base_uri": "https://localhost:8080/",
          "height": 51
        }
      },
      "cell_type": "code",
      "source": [
        "empty_uint32 = np.empty(8, dtype='u4')\n",
        "empty_uint32"
      ],
      "execution_count": 0,
      "outputs": [
        {
          "output_type": "execute_result",
          "data": {
            "text/plain": [
              "array([         0, 1075314688,          0, 1075707904,          0,\n",
              "       1075838976,          0, 1072693248], dtype=uint32)"
            ]
          },
          "metadata": {
            "tags": []
          },
          "execution_count": 25
        }
      ]
    },
    {
      "metadata": {
        "deletable": true,
        "editable": true,
        "id": "eJtj3nU8aOv7",
        "colab_type": "text"
      },
      "cell_type": "markdown",
      "source": [
        "### Arithmetic with NumPy Arrays"
      ]
    },
    {
      "metadata": {
        "deletable": true,
        "editable": true,
        "id": "HZDkdzTAaOv8",
        "colab_type": "code",
        "outputId": "3f280974-8169-4b98-d2eb-4ad2680836f2",
        "colab": {
          "base_uri": "https://localhost:8080/",
          "height": 119
        }
      },
      "cell_type": "code",
      "source": [
        "arr = np.array([[1., 2., 3.], [4., 5., 6.]])\n",
        "print(arr)\n",
        "print(arr * arr)\n",
        "print(arr - arr)"
      ],
      "execution_count": 0,
      "outputs": [
        {
          "output_type": "stream",
          "text": [
            "[[1. 2. 3.]\n",
            " [4. 5. 6.]]\n",
            "[[ 1.  4.  9.]\n",
            " [16. 25. 36.]]\n",
            "[[0. 0. 0.]\n",
            " [0. 0. 0.]]\n"
          ],
          "name": "stdout"
        }
      ]
    },
    {
      "metadata": {
        "deletable": true,
        "editable": true,
        "id": "K1RJwsANaOv_",
        "colab_type": "code",
        "outputId": "aac5adcb-1f83-4e22-d9bb-cff0404e598d",
        "colab": {
          "base_uri": "https://localhost:8080/",
          "height": 85
        }
      },
      "cell_type": "code",
      "source": [
        "print(1 / arr, \"\\n\", arr ** 0.5)"
      ],
      "execution_count": 0,
      "outputs": [
        {
          "output_type": "stream",
          "text": [
            "[[1.     0.5    0.3333]\n",
            " [0.25   0.2    0.1667]] \n",
            " [[1.     1.4142 1.7321]\n",
            " [2.     2.2361 2.4495]]\n"
          ],
          "name": "stdout"
        }
      ]
    },
    {
      "metadata": {
        "deletable": true,
        "editable": true,
        "id": "AsT2tcHuaOwH",
        "colab_type": "code",
        "outputId": "5114bf22-8e77-4f03-9116-e3daed6876c2",
        "colab": {
          "base_uri": "https://localhost:8080/",
          "height": 119
        }
      },
      "cell_type": "code",
      "source": [
        "arr2 = np.array([[0., 4., 1.], [7., 2., 12.]])\n",
        "print(arr)\n",
        "print(arr2)\n",
        "print(arr2 > arr)"
      ],
      "execution_count": 0,
      "outputs": [
        {
          "output_type": "stream",
          "text": [
            "[[1. 2. 3.]\n",
            " [4. 5. 6.]]\n",
            "[[ 0.  4.  1.]\n",
            " [ 7.  2. 12.]]\n",
            "[[False  True False]\n",
            " [ True False  True]]\n"
          ],
          "name": "stdout"
        }
      ]
    },
    {
      "metadata": {
        "deletable": true,
        "editable": true,
        "id": "OIVYsF44aOwJ",
        "colab_type": "text"
      },
      "cell_type": "markdown",
      "source": [
        "### Basic Indexing and Slicing"
      ]
    },
    {
      "metadata": {
        "deletable": true,
        "editable": true,
        "id": "pWz7W8kfaOwL",
        "colab_type": "code",
        "outputId": "a038ca2b-738e-4af7-ff3b-b06ddc371524",
        "colab": {
          "base_uri": "https://localhost:8080/",
          "height": 68
        }
      },
      "cell_type": "code",
      "source": [
        "arr = np.arange(10)\n",
        "print(arr)\n",
        "print(\"arr[5] =\", arr[5], \"arr[5:8] =\", arr[5:8])\n",
        "\n",
        "arr[5:8] = 12\n",
        "arr"
      ],
      "execution_count": 0,
      "outputs": [
        {
          "output_type": "stream",
          "text": [
            "[0 1 2 3 4 5 6 7 8 9]\n",
            "arr[5] = 5 arr[5:8] = [5 6 7]\n"
          ],
          "name": "stdout"
        },
        {
          "output_type": "execute_result",
          "data": {
            "text/plain": [
              "array([ 0,  1,  2,  3,  4, 12, 12, 12,  8,  9])"
            ]
          },
          "metadata": {
            "tags": []
          },
          "execution_count": 10
        }
      ]
    },
    {
      "metadata": {
        "deletable": true,
        "editable": true,
        "id": "lCiL-KZuaOwb",
        "colab_type": "code",
        "outputId": "9a135d79-25ce-4936-ee88-3018ee3ce399",
        "colab": {
          "base_uri": "https://localhost:8080/",
          "height": 34
        }
      },
      "cell_type": "code",
      "source": [
        "arr_slice = arr[5:8]\n",
        "arr_slice"
      ],
      "execution_count": 0,
      "outputs": [
        {
          "output_type": "execute_result",
          "data": {
            "text/plain": [
              "array([12, 12, 12])"
            ]
          },
          "metadata": {
            "tags": []
          },
          "execution_count": 11
        }
      ]
    },
    {
      "metadata": {
        "id": "13hnCm5ukD2M",
        "colab_type": "text"
      },
      "cell_type": "markdown",
      "source": [
        "==>> data is not copied, and any modifications to the view will be\n",
        "reflected in the source array."
      ]
    },
    {
      "metadata": {
        "deletable": true,
        "editable": true,
        "id": "_L9OY1BdaOwd",
        "colab_type": "code",
        "outputId": "fd7a3f0d-6773-4b2e-b8a8-5dcd1b63c218",
        "colab": {
          "base_uri": "https://localhost:8080/",
          "height": 51
        }
      },
      "cell_type": "code",
      "source": [
        "arr_slice[1] = 12345\n",
        "arr"
      ],
      "execution_count": 0,
      "outputs": [
        {
          "output_type": "execute_result",
          "data": {
            "text/plain": [
              "array([    0,     1,     2,     3,     4,    12, 12345,    12,     8,\n",
              "           9])"
            ]
          },
          "metadata": {
            "tags": []
          },
          "execution_count": 12
        }
      ]
    },
    {
      "metadata": {
        "deletable": true,
        "editable": true,
        "id": "mzD3PEgRaOwf",
        "colab_type": "code",
        "outputId": "e1616e70-d4da-4689-8ecb-06d76da647fd",
        "colab": {
          "base_uri": "https://localhost:8080/",
          "height": 34
        }
      },
      "cell_type": "code",
      "source": [
        "arr_slice[:] = 64\n",
        "arr"
      ],
      "execution_count": 0,
      "outputs": [
        {
          "output_type": "execute_result",
          "data": {
            "text/plain": [
              "array([ 0,  1,  2,  3,  4, 64, 64, 64,  8,  9])"
            ]
          },
          "metadata": {
            "tags": []
          },
          "execution_count": 13
        }
      ]
    },
    {
      "metadata": {
        "id": "k-h35LGJkeSc",
        "colab_type": "text"
      },
      "cell_type": "markdown",
      "source": [
        "==>> If you want a copy of a slice of an ndarray instead of a view, you\n",
        "will need to explicitly copy the array—for example,\n",
        "arr[5:8].copy()."
      ]
    },
    {
      "metadata": {
        "deletable": true,
        "editable": true,
        "id": "e7S-HkqraOwi",
        "colab_type": "code",
        "outputId": "7ea806bf-b650-4792-e8ef-1d3c5966741f",
        "colab": {
          "base_uri": "https://localhost:8080/",
          "height": 34
        }
      },
      "cell_type": "code",
      "source": [
        "arr2d = np.array([[1, 2, 3], [4, 5, 6], [7, 8, 9]])\n",
        "arr2d[2]"
      ],
      "execution_count": 0,
      "outputs": [
        {
          "output_type": "execute_result",
          "data": {
            "text/plain": [
              "array([7, 8, 9])"
            ]
          },
          "metadata": {
            "tags": []
          },
          "execution_count": 14
        }
      ]
    },
    {
      "metadata": {
        "deletable": true,
        "editable": true,
        "id": "u23ZL3G1aOwk",
        "colab_type": "code",
        "outputId": "09284a90-852c-4c7c-a76b-d98294c9b4a8",
        "colab": {
          "base_uri": "https://localhost:8080/",
          "height": 34
        }
      },
      "cell_type": "code",
      "source": [
        "arr2d[0][2]\n",
        "arr2d[0, 2]"
      ],
      "execution_count": 0,
      "outputs": [
        {
          "output_type": "execute_result",
          "data": {
            "text/plain": [
              "3"
            ]
          },
          "metadata": {
            "tags": []
          },
          "execution_count": 16
        }
      ]
    },
    {
      "metadata": {
        "deletable": true,
        "editable": true,
        "id": "ShXX58FSaOwm",
        "colab_type": "code",
        "outputId": "6d6ab7d2-cd8f-40e2-9879-db1b91fb8b5b",
        "colab": {
          "base_uri": "https://localhost:8080/",
          "height": 102
        }
      },
      "cell_type": "code",
      "source": [
        "arr3d = np.array([[[1, 2, 3], [4, 5, 6]], [[7, 8, 9], [10, 11, 12]]])\n",
        "arr3d"
      ],
      "execution_count": 0,
      "outputs": [
        {
          "output_type": "execute_result",
          "data": {
            "text/plain": [
              "array([[[ 1,  2,  3],\n",
              "        [ 4,  5,  6]],\n",
              "\n",
              "       [[ 7,  8,  9],\n",
              "        [10, 11, 12]]])"
            ]
          },
          "metadata": {
            "tags": []
          },
          "execution_count": 17
        }
      ]
    },
    {
      "metadata": {
        "deletable": true,
        "editable": true,
        "id": "yEnNARXDaOwo",
        "colab_type": "code",
        "outputId": "2b0f4803-7896-4fe4-9704-f65eb5d2fe91",
        "colab": {
          "base_uri": "https://localhost:8080/",
          "height": 51
        }
      },
      "cell_type": "code",
      "source": [
        "arr3d[0]"
      ],
      "execution_count": 0,
      "outputs": [
        {
          "output_type": "execute_result",
          "data": {
            "text/plain": [
              "array([[1, 2, 3],\n",
              "       [4, 5, 6]])"
            ]
          },
          "metadata": {
            "tags": []
          },
          "execution_count": 18
        }
      ]
    },
    {
      "metadata": {
        "deletable": true,
        "editable": true,
        "id": "al9G7DOBaOwq",
        "colab_type": "code",
        "outputId": "b6eade0a-270d-4dd9-faa1-84aa209d2b61",
        "colab": {
          "base_uri": "https://localhost:8080/",
          "height": 102
        }
      },
      "cell_type": "code",
      "source": [
        "old_values = arr3d[0].copy()\n",
        "arr3d[0] = 42\n",
        "arr3d"
      ],
      "execution_count": 0,
      "outputs": [
        {
          "output_type": "execute_result",
          "data": {
            "text/plain": [
              "array([[[42, 42, 42],\n",
              "        [42, 42, 42]],\n",
              "\n",
              "       [[ 7,  8,  9],\n",
              "        [10, 11, 12]]])"
            ]
          },
          "metadata": {
            "tags": []
          },
          "execution_count": 19
        }
      ]
    },
    {
      "metadata": {
        "id": "cUZ6Zimuk61B",
        "colab_type": "code",
        "outputId": "2497a79f-e9c9-4b9f-f7e4-d2dd4f5f7666",
        "colab": {
          "base_uri": "https://localhost:8080/",
          "height": 102
        }
      },
      "cell_type": "code",
      "source": [
        "arr3d[0] = old_values\n",
        "arr3d"
      ],
      "execution_count": 0,
      "outputs": [
        {
          "output_type": "execute_result",
          "data": {
            "text/plain": [
              "array([[[ 1,  2,  3],\n",
              "        [ 4,  5,  6]],\n",
              "\n",
              "       [[ 7,  8,  9],\n",
              "        [10, 11, 12]]])"
            ]
          },
          "metadata": {
            "tags": []
          },
          "execution_count": 20
        }
      ]
    },
    {
      "metadata": {
        "deletable": true,
        "editable": true,
        "id": "jtwWLtRtaOwt",
        "colab_type": "code",
        "outputId": "1024b23b-b1a7-4943-a924-bd33f651b100",
        "colab": {
          "base_uri": "https://localhost:8080/",
          "height": 34
        }
      },
      "cell_type": "code",
      "source": [
        "arr3d[1, 0]"
      ],
      "execution_count": 0,
      "outputs": [
        {
          "output_type": "execute_result",
          "data": {
            "text/plain": [
              "array([7, 8, 9])"
            ]
          },
          "metadata": {
            "tags": []
          },
          "execution_count": 21
        }
      ]
    },
    {
      "metadata": {
        "deletable": true,
        "editable": true,
        "id": "6uF1K3qtaOwv",
        "colab_type": "code",
        "outputId": "066a5296-51bf-4d05-95bc-584af4384a74",
        "colab": {
          "base_uri": "https://localhost:8080/",
          "height": 51
        }
      },
      "cell_type": "code",
      "source": [
        "x = arr3d[1]\n",
        "x, x[0]"
      ],
      "execution_count": 0,
      "outputs": [
        {
          "output_type": "execute_result",
          "data": {
            "text/plain": [
              "(array([[ 7,  8,  9],\n",
              "        [10, 11, 12]]), array([7, 8, 9]))"
            ]
          },
          "metadata": {
            "tags": []
          },
          "execution_count": 22
        }
      ]
    },
    {
      "metadata": {
        "deletable": true,
        "editable": true,
        "id": "QOzvWIcZaOww",
        "colab_type": "text"
      },
      "cell_type": "markdown",
      "source": [
        "#### Indexing with slices"
      ]
    },
    {
      "metadata": {
        "deletable": true,
        "editable": true,
        "id": "ZTySsPeTaOwx",
        "colab_type": "code",
        "outputId": "24489e5f-4a8d-45eb-d076-d036ca67d295",
        "colab": {
          "base_uri": "https://localhost:8080/",
          "height": 51
        }
      },
      "cell_type": "code",
      "source": [
        "print(arr)\n",
        "print(arr[1:6])"
      ],
      "execution_count": 0,
      "outputs": [
        {
          "output_type": "stream",
          "text": [
            "[ 0  1  2  3  4 64 64 64  8  9]\n",
            "[ 1  2  3  4 64]\n"
          ],
          "name": "stdout"
        }
      ]
    },
    {
      "metadata": {
        "deletable": true,
        "editable": true,
        "id": "qvtS4l-XaOwz",
        "colab_type": "code",
        "outputId": "3136d23b-c4b0-4b43-d28c-aea28e2ba56c",
        "colab": {
          "base_uri": "https://localhost:8080/",
          "height": 102
        }
      },
      "cell_type": "code",
      "source": [
        "print(arr2d)\n",
        "print(arr2d[:2])"
      ],
      "execution_count": 0,
      "outputs": [
        {
          "output_type": "stream",
          "text": [
            "[[1 2 3]\n",
            " [4 5 6]\n",
            " [7 8 9]]\n",
            "[[1 2 3]\n",
            " [4 5 6]]\n"
          ],
          "name": "stdout"
        }
      ]
    },
    {
      "metadata": {
        "deletable": true,
        "editable": true,
        "id": "euY2sL_vaOw1",
        "colab_type": "code",
        "outputId": "5f9f91b9-9f8b-4001-cf60-ffc948d47d8a",
        "colab": {
          "base_uri": "https://localhost:8080/",
          "height": 51
        }
      },
      "cell_type": "code",
      "source": [
        "arr2d[:2, 1:]"
      ],
      "execution_count": 0,
      "outputs": [
        {
          "output_type": "execute_result",
          "data": {
            "text/plain": [
              "array([[2, 3],\n",
              "       [5, 6]])"
            ]
          },
          "metadata": {
            "tags": []
          },
          "execution_count": 25
        }
      ]
    },
    {
      "metadata": {
        "deletable": true,
        "editable": true,
        "id": "RbWoSTWJaOw3",
        "colab_type": "code",
        "outputId": "32524104-74d3-46ef-b51d-82f12811babf",
        "colab": {
          "base_uri": "https://localhost:8080/",
          "height": 34
        }
      },
      "cell_type": "code",
      "source": [
        "arr2d[1, :2]"
      ],
      "execution_count": 0,
      "outputs": [
        {
          "output_type": "execute_result",
          "data": {
            "text/plain": [
              "array([4, 5])"
            ]
          },
          "metadata": {
            "tags": []
          },
          "execution_count": 26
        }
      ]
    },
    {
      "metadata": {
        "deletable": true,
        "editable": true,
        "id": "vLpTdT9SaOw4",
        "colab_type": "code",
        "outputId": "24f65672-d1cd-4cb5-afd8-6c7296430af1",
        "colab": {
          "base_uri": "https://localhost:8080/",
          "height": 34
        }
      },
      "cell_type": "code",
      "source": [
        "arr2d[:2, 2]"
      ],
      "execution_count": 0,
      "outputs": [
        {
          "output_type": "execute_result",
          "data": {
            "text/plain": [
              "array([3, 6])"
            ]
          },
          "metadata": {
            "tags": []
          },
          "execution_count": 27
        }
      ]
    },
    {
      "metadata": {
        "deletable": true,
        "editable": true,
        "id": "ZuVk3hgOaOw6",
        "colab_type": "code",
        "outputId": "ff47064a-4e90-4acf-8fee-c389acc725d3",
        "colab": {
          "base_uri": "https://localhost:8080/",
          "height": 68
        }
      },
      "cell_type": "code",
      "source": [
        "arr2d[:, :1]"
      ],
      "execution_count": 0,
      "outputs": [
        {
          "output_type": "execute_result",
          "data": {
            "text/plain": [
              "array([[1],\n",
              "       [4],\n",
              "       [7]])"
            ]
          },
          "metadata": {
            "tags": []
          },
          "execution_count": 28
        }
      ]
    },
    {
      "metadata": {
        "deletable": true,
        "editable": true,
        "id": "6KC8NFE7aOw7",
        "colab_type": "code",
        "outputId": "9e402166-3044-4787-a097-b2012fdbea7f",
        "colab": {
          "base_uri": "https://localhost:8080/",
          "height": 68
        }
      },
      "cell_type": "code",
      "source": [
        "arr2d[:2, 1:] = 0\n",
        "arr2d"
      ],
      "execution_count": 0,
      "outputs": [
        {
          "output_type": "execute_result",
          "data": {
            "text/plain": [
              "array([[1, 0, 0],\n",
              "       [4, 0, 0],\n",
              "       [7, 8, 9]])"
            ]
          },
          "metadata": {
            "tags": []
          },
          "execution_count": 29
        }
      ]
    },
    {
      "metadata": {
        "deletable": true,
        "editable": true,
        "id": "vpdMiHQyaOw9",
        "colab_type": "text"
      },
      "cell_type": "markdown",
      "source": [
        "### Boolean Indexing"
      ]
    },
    {
      "metadata": {
        "deletable": true,
        "editable": true,
        "id": "U6uFoXyaaOw-",
        "colab_type": "code",
        "outputId": "12b6c9b7-847d-416f-bab9-6eb0a0f26e90",
        "colab": {
          "base_uri": "https://localhost:8080/",
          "height": 153
        }
      },
      "cell_type": "code",
      "source": [
        "names = np.array(['Bob', 'Joe', 'Will', 'Bob', 'Will', 'Joe', 'Joe'])\n",
        "data = np.random.randn(7, 4)\n",
        "print(names)\n",
        "print(data)"
      ],
      "execution_count": 0,
      "outputs": [
        {
          "output_type": "stream",
          "text": [
            "['Bob' 'Joe' 'Will' 'Bob' 'Will' 'Joe' 'Joe']\n",
            "[[-0.2047  0.4789 -0.5194 -0.5557]\n",
            " [ 1.9658  1.3934  0.0929  0.2817]\n",
            " [ 0.769   1.2464  1.0072 -1.2962]\n",
            " [ 0.275   0.2289  1.3529  0.8864]\n",
            " [-2.0016 -0.3718  1.669  -0.4386]\n",
            " [-0.5397  0.477   3.2489 -1.0212]\n",
            " [-0.5771  0.1241  0.3026  0.5238]]\n"
          ],
          "name": "stdout"
        }
      ]
    },
    {
      "metadata": {
        "deletable": true,
        "editable": true,
        "id": "W5ZcrT9saOxA",
        "colab_type": "code",
        "outputId": "5598d17c-f148-4ba6-cf65-13dd769b767e",
        "colab": {
          "base_uri": "https://localhost:8080/",
          "height": 34
        }
      },
      "cell_type": "code",
      "source": [
        "names == 'Bob'"
      ],
      "execution_count": 0,
      "outputs": [
        {
          "output_type": "execute_result",
          "data": {
            "text/plain": [
              "array([ True, False, False,  True, False, False, False])"
            ]
          },
          "metadata": {
            "tags": []
          },
          "execution_count": 31
        }
      ]
    },
    {
      "metadata": {
        "deletable": true,
        "editable": true,
        "id": "5CH6eDgPaOxC",
        "colab_type": "code",
        "outputId": "5d53a494-7aa6-4096-f8e4-16289bedcaf2",
        "colab": {
          "base_uri": "https://localhost:8080/",
          "height": 51
        }
      },
      "cell_type": "code",
      "source": [
        "data[names == 'Bob']"
      ],
      "execution_count": 0,
      "outputs": [
        {
          "output_type": "execute_result",
          "data": {
            "text/plain": [
              "array([[-0.2047,  0.4789, -0.5194, -0.5557],\n",
              "       [ 0.275 ,  0.2289,  1.3529,  0.8864]])"
            ]
          },
          "metadata": {
            "tags": []
          },
          "execution_count": 32
        }
      ]
    },
    {
      "metadata": {
        "id": "-RWMJm-yv6RL",
        "colab_type": "text"
      },
      "cell_type": "markdown",
      "source": [
        "==>> Boolean selection will not fail if the boolean array is not the correct\n",
        "length, so I recommend care when using this feature."
      ]
    },
    {
      "metadata": {
        "deletable": true,
        "editable": true,
        "id": "zMUvaWZfaOxE",
        "colab_type": "code",
        "outputId": "c356f707-035e-4774-dbba-8363d59e3a51",
        "colab": {
          "base_uri": "https://localhost:8080/",
          "height": 68
        }
      },
      "cell_type": "code",
      "source": [
        "print(data[names == 'Bob', 2:])\n",
        "print(data[names == 'Bob', 3])"
      ],
      "execution_count": 0,
      "outputs": [
        {
          "output_type": "stream",
          "text": [
            "[[-0.5194 -0.5557]\n",
            " [ 1.3529  0.8864]]\n",
            "[-0.5557  0.8864]\n"
          ],
          "name": "stdout"
        }
      ]
    },
    {
      "metadata": {
        "deletable": true,
        "editable": true,
        "id": "WGEy_ZSXaOxG",
        "colab_type": "code",
        "outputId": "f26dad92-dc4b-4bc4-d296-b662f95a98d1",
        "colab": {
          "base_uri": "https://localhost:8080/",
          "height": 119
        }
      },
      "cell_type": "code",
      "source": [
        "print(names != 'Bob')\n",
        "print(data[~(names == 'Bob')])"
      ],
      "execution_count": 0,
      "outputs": [
        {
          "output_type": "stream",
          "text": [
            "[False  True  True False  True  True  True]\n",
            "[[ 1.9658  1.3934  0.0929  0.2817]\n",
            " [ 0.769   1.2464  1.0072 -1.2962]\n",
            " [-2.0016 -0.3718  1.669  -0.4386]\n",
            " [-0.5397  0.477   3.2489 -1.0212]\n",
            " [-0.5771  0.1241  0.3026  0.5238]]\n"
          ],
          "name": "stdout"
        }
      ]
    },
    {
      "metadata": {
        "deletable": true,
        "editable": true,
        "id": "WgMqa9_vaOxJ",
        "colab_type": "code",
        "outputId": "b17c3924-09aa-4fd2-9f95-ae8ce52c9706",
        "colab": {
          "base_uri": "https://localhost:8080/",
          "height": 102
        }
      },
      "cell_type": "code",
      "source": [
        "cond = names == 'Bob'\n",
        "data[~cond]"
      ],
      "execution_count": 0,
      "outputs": [
        {
          "output_type": "execute_result",
          "data": {
            "text/plain": [
              "array([[ 1.9658,  1.3934,  0.0929,  0.2817],\n",
              "       [ 0.769 ,  1.2464,  1.0072, -1.2962],\n",
              "       [-2.0016, -0.3718,  1.669 , -0.4386],\n",
              "       [-0.5397,  0.477 ,  3.2489, -1.0212],\n",
              "       [-0.5771,  0.1241,  0.3026,  0.5238]])"
            ]
          },
          "metadata": {
            "tags": []
          },
          "execution_count": 35
        }
      ]
    },
    {
      "metadata": {
        "deletable": true,
        "editable": true,
        "id": "ujnqrXCxaOxL",
        "colab_type": "code",
        "outputId": "8d2631c9-c297-4219-88ee-4f535b0324d2",
        "colab": {
          "base_uri": "https://localhost:8080/",
          "height": 102
        }
      },
      "cell_type": "code",
      "source": [
        "mask = (names == 'Bob') | (names == 'Will')\n",
        "print(mask)\n",
        "print(data[mask])"
      ],
      "execution_count": 0,
      "outputs": [
        {
          "output_type": "stream",
          "text": [
            "[ True False  True  True  True False False]\n",
            "[[-0.2047  0.4789 -0.5194 -0.5557]\n",
            " [ 0.769   1.2464  1.0072 -1.2962]\n",
            " [ 0.275   0.2289  1.3529  0.8864]\n",
            " [-2.0016 -0.3718  1.669  -0.4386]]\n"
          ],
          "name": "stdout"
        }
      ]
    },
    {
      "metadata": {
        "id": "jhbBBC5-xPtg",
        "colab_type": "text"
      },
      "cell_type": "markdown",
      "source": [
        "==>> The Python keywords and and or do not work with boolean arrays.\n",
        "Use & (and) and | (or) instead."
      ]
    },
    {
      "metadata": {
        "deletable": true,
        "editable": true,
        "id": "lXgAnqZTaOxN",
        "colab_type": "code",
        "outputId": "a4f867ca-80a9-4830-cbbc-f7249ad993e4",
        "colab": {
          "base_uri": "https://localhost:8080/",
          "height": 136
        }
      },
      "cell_type": "code",
      "source": [
        "data[data < 0] = 0\n",
        "data"
      ],
      "execution_count": 0,
      "outputs": [
        {
          "output_type": "execute_result",
          "data": {
            "text/plain": [
              "array([[0.    , 0.4789, 0.    , 0.    ],\n",
              "       [1.9658, 1.3934, 0.0929, 0.2817],\n",
              "       [0.769 , 1.2464, 1.0072, 0.    ],\n",
              "       [0.275 , 0.2289, 1.3529, 0.8864],\n",
              "       [0.    , 0.    , 1.669 , 0.    ],\n",
              "       [0.    , 0.477 , 3.2489, 0.    ],\n",
              "       [0.    , 0.1241, 0.3026, 0.5238]])"
            ]
          },
          "metadata": {
            "tags": []
          },
          "execution_count": 37
        }
      ]
    },
    {
      "metadata": {
        "deletable": true,
        "editable": true,
        "id": "HudBhh6DaOxP",
        "colab_type": "code",
        "outputId": "8e4de6d2-e2d1-4991-a476-af68eeb88058",
        "colab": {
          "base_uri": "https://localhost:8080/",
          "height": 136
        }
      },
      "cell_type": "code",
      "source": [
        "data[names != 'Joe'] = 7\n",
        "data"
      ],
      "execution_count": 0,
      "outputs": [
        {
          "output_type": "execute_result",
          "data": {
            "text/plain": [
              "array([[7.    , 7.    , 7.    , 7.    ],\n",
              "       [1.9658, 1.3934, 0.0929, 0.2817],\n",
              "       [7.    , 7.    , 7.    , 7.    ],\n",
              "       [7.    , 7.    , 7.    , 7.    ],\n",
              "       [7.    , 7.    , 7.    , 7.    ],\n",
              "       [0.    , 0.477 , 3.2489, 0.    ],\n",
              "       [0.    , 0.1241, 0.3026, 0.5238]])"
            ]
          },
          "metadata": {
            "tags": []
          },
          "execution_count": 38
        }
      ]
    },
    {
      "metadata": {
        "deletable": true,
        "editable": true,
        "id": "9AT0IEgdaOxQ",
        "colab_type": "text"
      },
      "cell_type": "markdown",
      "source": [
        "### Fancy Indexing"
      ]
    },
    {
      "metadata": {
        "deletable": true,
        "editable": true,
        "id": "YUsdHWCiaOxQ",
        "colab_type": "code",
        "outputId": "9bd4563f-71e2-4a01-da8e-865b0548f9a1",
        "colab": {
          "base_uri": "https://localhost:8080/",
          "height": 153
        }
      },
      "cell_type": "code",
      "source": [
        "arr = np.empty((8, 4))\n",
        "for i in range(8):\n",
        "    arr[i] = i\n",
        "arr"
      ],
      "execution_count": 0,
      "outputs": [
        {
          "output_type": "execute_result",
          "data": {
            "text/plain": [
              "array([[0., 0., 0., 0.],\n",
              "       [1., 1., 1., 1.],\n",
              "       [2., 2., 2., 2.],\n",
              "       [3., 3., 3., 3.],\n",
              "       [4., 4., 4., 4.],\n",
              "       [5., 5., 5., 5.],\n",
              "       [6., 6., 6., 6.],\n",
              "       [7., 7., 7., 7.]])"
            ]
          },
          "metadata": {
            "tags": []
          },
          "execution_count": 18
        }
      ]
    },
    {
      "metadata": {
        "deletable": true,
        "editable": true,
        "id": "8NZ1IYChaOxS",
        "colab_type": "code",
        "outputId": "1f8a3e23-1d2c-4753-c7dc-71c310c96030",
        "colab": {
          "base_uri": "https://localhost:8080/",
          "height": 85
        }
      },
      "cell_type": "code",
      "source": [
        "arr[[4, 3, 0, 6]]"
      ],
      "execution_count": 0,
      "outputs": [
        {
          "output_type": "execute_result",
          "data": {
            "text/plain": [
              "array([[4., 4., 4., 4.],\n",
              "       [3., 3., 3., 3.],\n",
              "       [0., 0., 0., 0.],\n",
              "       [6., 6., 6., 6.]])"
            ]
          },
          "metadata": {
            "tags": []
          },
          "execution_count": 19
        }
      ]
    },
    {
      "metadata": {
        "deletable": true,
        "editable": true,
        "id": "fDQ1O6sAaOxU",
        "colab_type": "code",
        "outputId": "b6ea4bbc-b9fd-452c-fc2d-aba04aa67ed2",
        "colab": {
          "base_uri": "https://localhost:8080/",
          "height": 68
        }
      },
      "cell_type": "code",
      "source": [
        "arr[[-3, -5, -7]]"
      ],
      "execution_count": 0,
      "outputs": [
        {
          "output_type": "execute_result",
          "data": {
            "text/plain": [
              "array([[5., 5., 5., 5.],\n",
              "       [3., 3., 3., 3.],\n",
              "       [1., 1., 1., 1.]])"
            ]
          },
          "metadata": {
            "tags": []
          },
          "execution_count": 20
        }
      ]
    },
    {
      "metadata": {
        "deletable": true,
        "editable": true,
        "id": "Z9DgppmxaOxW",
        "colab_type": "code",
        "outputId": "282caa10-6662-41f0-b374-476b8a046e56",
        "colab": {
          "base_uri": "https://localhost:8080/",
          "height": 170
        }
      },
      "cell_type": "code",
      "source": [
        "arr = np.arange(32).reshape((8, 4))\n",
        "print(arr)\n",
        "# the elements (1, 0), (5, 3), (7, 1), and (2, 2) are selected\n",
        "print(arr[[1, 5, 7, 2], [0, 3, 1, 2]])"
      ],
      "execution_count": 0,
      "outputs": [
        {
          "output_type": "stream",
          "text": [
            "[[ 0  1  2  3]\n",
            " [ 4  5  6  7]\n",
            " [ 8  9 10 11]\n",
            " [12 13 14 15]\n",
            " [16 17 18 19]\n",
            " [20 21 22 23]\n",
            " [24 25 26 27]\n",
            " [28 29 30 31]]\n",
            "[ 4 23 29 10]\n"
          ],
          "name": "stdout"
        }
      ]
    },
    {
      "metadata": {
        "deletable": true,
        "editable": true,
        "id": "k8e2t_MIaOxX",
        "colab_type": "code",
        "outputId": "403b0482-ed4d-4850-f9d0-4164adbc60d4",
        "colab": {
          "base_uri": "https://localhost:8080/",
          "height": 85
        }
      },
      "cell_type": "code",
      "source": [
        "# Jeez, this is all fucked-up\n",
        "arr[[1, 5, 7, 2]][:, [0, 3, 1, 2]]"
      ],
      "execution_count": 0,
      "outputs": [
        {
          "output_type": "execute_result",
          "data": {
            "text/plain": [
              "array([[ 4,  7,  5,  6],\n",
              "       [20, 23, 21, 22],\n",
              "       [28, 31, 29, 30],\n",
              "       [ 8, 11,  9, 10]])"
            ]
          },
          "metadata": {
            "tags": []
          },
          "execution_count": 22
        }
      ]
    },
    {
      "metadata": {
        "id": "KpN6qzDoSq-u",
        "colab_type": "text"
      },
      "cell_type": "markdown",
      "source": [
        "Here the elements (1, 0), (5, 3), (7, 1), and (2, 2) were selected. Regardless of\n",
        "how many dimensions the array has (here, only 2), the result of fancy indexing is\n",
        "always one-dimensional.\n",
        "\n",
        "The behavior of fancy indexing in this case is a bit different from what some users\n",
        "might have expected (myself included), which is the rectangular region formed by\n",
        "selecting a subset of the matrix’s rows and columns. Here is one way to get that:"
      ]
    },
    {
      "metadata": {
        "id": "3dN6udlYS4iF",
        "colab_type": "code",
        "outputId": "46fb4222-ee52-4d74-b76c-5fa477f66a25",
        "colab": {
          "base_uri": "https://localhost:8080/",
          "height": 85
        }
      },
      "cell_type": "code",
      "source": [
        "arr[[1, 5, 7, 2]][:, [0, 3, 1, 2]]"
      ],
      "execution_count": 0,
      "outputs": [
        {
          "output_type": "execute_result",
          "data": {
            "text/plain": [
              "array([[ 4,  7,  5,  6],\n",
              "       [20, 23, 21, 22],\n",
              "       [28, 31, 29, 30],\n",
              "       [ 8, 11,  9, 10]])"
            ]
          },
          "metadata": {
            "tags": []
          },
          "execution_count": 23
        }
      ]
    },
    {
      "metadata": {
        "deletable": true,
        "editable": true,
        "id": "VrlONVS9aOxY",
        "colab_type": "text"
      },
      "cell_type": "markdown",
      "source": [
        "### Transposing Arrays and Swapping Axes"
      ]
    },
    {
      "metadata": {
        "deletable": true,
        "editable": true,
        "id": "5CS7DUnpaOxZ",
        "colab_type": "code",
        "outputId": "76303282-6086-457e-b405-0b10bcdd0cd7",
        "colab": {
          "base_uri": "https://localhost:8080/",
          "height": 170
        }
      },
      "cell_type": "code",
      "source": [
        "arr = np.arange(15).reshape((3, 5))\n",
        "print(arr)\n",
        "print(\"Transposed:\")\n",
        "arr.T"
      ],
      "execution_count": 0,
      "outputs": [
        {
          "output_type": "stream",
          "text": [
            "[[ 0  1  2  3  4]\n",
            " [ 5  6  7  8  9]\n",
            " [10 11 12 13 14]]\n",
            "Transposed:\n"
          ],
          "name": "stdout"
        },
        {
          "output_type": "execute_result",
          "data": {
            "text/plain": [
              "array([[ 0,  5, 10],\n",
              "       [ 1,  6, 11],\n",
              "       [ 2,  7, 12],\n",
              "       [ 3,  8, 13],\n",
              "       [ 4,  9, 14]])"
            ]
          },
          "metadata": {
            "tags": []
          },
          "execution_count": 24
        }
      ]
    },
    {
      "metadata": {
        "deletable": true,
        "editable": true,
        "id": "jiD0Lvp2aOxZ",
        "colab_type": "code",
        "outputId": "0080f806-e0b9-40c6-8fcf-6486c97c0d83",
        "colab": {
          "base_uri": "https://localhost:8080/",
          "height": 187
        }
      },
      "cell_type": "code",
      "source": [
        "arr = np.random.randn(6, 3)\n",
        "print(arr)\n",
        "print(\"inner matrix product with self transposed using np.dot:\")\n",
        "np.dot(arr.T, arr)"
      ],
      "execution_count": 0,
      "outputs": [
        {
          "output_type": "stream",
          "text": [
            "[[-1.2659  0.1198 -1.0635]\n",
            " [ 0.3329 -2.3594 -0.1995]\n",
            " [-1.542  -0.9707 -1.307 ]\n",
            " [ 0.2863  0.378  -0.7539]\n",
            " [ 0.3313  1.3497  0.0699]\n",
            " [ 0.2467 -0.0119  1.0048]]\n",
            "inner matrix product with self transposed using np.dot:\n"
          ],
          "name": "stdout"
        },
        {
          "output_type": "execute_result",
          "data": {
            "text/plain": [
              "array([[4.3437, 1.1122, 3.3505],\n",
              "       [1.1122, 8.4884, 1.4096],\n",
              "       [3.3505, 1.4096, 4.4621]])"
            ]
          },
          "metadata": {
            "tags": []
          },
          "execution_count": 26
        }
      ]
    },
    {
      "metadata": {
        "deletable": true,
        "editable": true,
        "id": "SnuO2-EcaOxa",
        "colab_type": "code",
        "outputId": "18105c2a-a4ea-483f-d0a4-e9ec18bde61f",
        "colab": {
          "base_uri": "https://localhost:8080/",
          "height": 221
        }
      },
      "cell_type": "code",
      "source": [
        "arr = np.arange(16).reshape((2, 2, 4))\n",
        "print(arr)\n",
        "print(\"Transposed with a tuple of axis numbers (1, 0, 2):\")\n",
        "print(arr.transpose((1, 0, 2)))\n",
        "print(\"eh?\")"
      ],
      "execution_count": 0,
      "outputs": [
        {
          "output_type": "stream",
          "text": [
            "[[[ 0  1  2  3]\n",
            "  [ 4  5  6  7]]\n",
            "\n",
            " [[ 8  9 10 11]\n",
            "  [12 13 14 15]]]\n",
            "Transposed with a tuple of axis numbers (1, 0, 2):\n",
            "[[[ 0  1  2  3]\n",
            "  [ 8  9 10 11]]\n",
            "\n",
            " [[ 4  5  6  7]\n",
            "  [12 13 14 15]]]\n",
            "eh?\n"
          ],
          "name": "stdout"
        }
      ]
    },
    {
      "metadata": {
        "id": "QHhmx_MrUUvH",
        "colab_type": "text"
      },
      "cell_type": "markdown",
      "source": [
        "Here, the axes have been reordered with the second axis first, the first axis second,\n",
        "and the last axis unchanged.\n",
        "\n",
        "Simple transposing with .T is a special case of swapping axes. ndarray has the method\n",
        "swapaxes, which takes a pair of axis numbers and switches the indicated axes to rearrange\n",
        "the data:"
      ]
    },
    {
      "metadata": {
        "deletable": true,
        "editable": true,
        "id": "qO2yX1lxaOxb",
        "colab_type": "code",
        "outputId": "5d480d27-69e7-4c06-e2b4-068cfe8047be",
        "colab": {
          "base_uri": "https://localhost:8080/",
          "height": 272
        }
      },
      "cell_type": "code",
      "source": [
        "print(arr)\n",
        "print(\"swapaxes(1, 2):\")\n",
        "arr.swapaxes(1, 2)"
      ],
      "execution_count": 0,
      "outputs": [
        {
          "output_type": "stream",
          "text": [
            "[[[ 0  1  2  3]\n",
            "  [ 4  5  6  7]]\n",
            "\n",
            " [[ 8  9 10 11]\n",
            "  [12 13 14 15]]]\n",
            "swapaxes(1, 2):\n"
          ],
          "name": "stdout"
        },
        {
          "output_type": "execute_result",
          "data": {
            "text/plain": [
              "array([[[ 0,  4],\n",
              "        [ 1,  5],\n",
              "        [ 2,  6],\n",
              "        [ 3,  7]],\n",
              "\n",
              "       [[ 8, 12],\n",
              "        [ 9, 13],\n",
              "        [10, 14],\n",
              "        [11, 15]]])"
            ]
          },
          "metadata": {
            "tags": []
          },
          "execution_count": 31
        }
      ]
    },
    {
      "metadata": {
        "deletable": true,
        "editable": true,
        "id": "3JLJwYcJaOxd",
        "colab_type": "text"
      },
      "cell_type": "markdown",
      "source": [
        "## Universal Functions: Fast Element-Wise Array Functions"
      ]
    },
    {
      "metadata": {
        "deletable": true,
        "editable": true,
        "id": "way1CsCjaOxe",
        "colab_type": "code",
        "colab": {}
      },
      "cell_type": "code",
      "source": [
        "arr = np.arange(10)\n",
        "arr\n",
        "np.sqrt(arr)\n",
        "np.exp(arr)"
      ],
      "execution_count": 0,
      "outputs": []
    },
    {
      "metadata": {
        "deletable": true,
        "editable": true,
        "id": "-lIh4R69aOxf",
        "colab_type": "code",
        "colab": {}
      },
      "cell_type": "code",
      "source": [
        "x = np.random.randn(8)\n",
        "y = np.random.randn(8)\n",
        "x\n",
        "y\n",
        "np.maximum(x, y)"
      ],
      "execution_count": 0,
      "outputs": []
    },
    {
      "metadata": {
        "deletable": true,
        "editable": true,
        "id": "3yRIT_6CaOxg",
        "colab_type": "code",
        "colab": {}
      },
      "cell_type": "code",
      "source": [
        "arr = np.random.randn(7) * 5\n",
        "arr\n",
        "remainder, whole_part = np.modf(arr)\n",
        "remainder\n",
        "whole_part"
      ],
      "execution_count": 0,
      "outputs": []
    },
    {
      "metadata": {
        "deletable": true,
        "editable": true,
        "id": "fkfHb-YeaOxh",
        "colab_type": "code",
        "colab": {}
      },
      "cell_type": "code",
      "source": [
        "arr\n",
        "np.sqrt(arr)\n",
        "np.sqrt(arr, arr)\n",
        "arr"
      ],
      "execution_count": 0,
      "outputs": []
    },
    {
      "metadata": {
        "deletable": true,
        "editable": true,
        "id": "8zodXQbjaOxi",
        "colab_type": "text"
      },
      "cell_type": "markdown",
      "source": [
        "## Array-Oriented Programming with Arrays"
      ]
    },
    {
      "metadata": {
        "deletable": true,
        "editable": true,
        "id": "WJ3qn0VQaOxi",
        "colab_type": "code",
        "colab": {}
      },
      "cell_type": "code",
      "source": [
        "points = np.arange(-5, 5, 0.01) # 1000 equally spaced points\n",
        "xs, ys = np.meshgrid(points, points)\n",
        "ys"
      ],
      "execution_count": 0,
      "outputs": []
    },
    {
      "metadata": {
        "deletable": true,
        "editable": true,
        "id": "ZTOQdNataOxi",
        "colab_type": "code",
        "colab": {}
      },
      "cell_type": "code",
      "source": [
        "z = np.sqrt(xs ** 2 + ys ** 2)\n",
        "z"
      ],
      "execution_count": 0,
      "outputs": []
    },
    {
      "metadata": {
        "deletable": true,
        "editable": true,
        "id": "c1tBuj8NaOxj",
        "colab_type": "code",
        "colab": {}
      },
      "cell_type": "code",
      "source": [
        "import matplotlib.pyplot as plt\n",
        "plt.imshow(z, cmap=plt.cm.gray); plt.colorbar()\n",
        "plt.title(\"Image plot of $\\sqrt{x^2 + y^2}$ for a grid of values\")"
      ],
      "execution_count": 0,
      "outputs": []
    },
    {
      "metadata": {
        "deletable": true,
        "editable": true,
        "id": "3l-ycSMMaOxk",
        "colab_type": "code",
        "colab": {}
      },
      "cell_type": "code",
      "source": [
        "plt.draw()"
      ],
      "execution_count": 0,
      "outputs": []
    },
    {
      "metadata": {
        "deletable": true,
        "editable": true,
        "id": "72P7VOKsaOxl",
        "colab_type": "code",
        "colab": {}
      },
      "cell_type": "code",
      "source": [
        "plt.close('all')"
      ],
      "execution_count": 0,
      "outputs": []
    },
    {
      "metadata": {
        "deletable": true,
        "editable": true,
        "id": "J48dxdSQaOxn",
        "colab_type": "text"
      },
      "cell_type": "markdown",
      "source": [
        "### Expressing Conditional Logic as Array Operations"
      ]
    },
    {
      "metadata": {
        "deletable": true,
        "editable": true,
        "id": "ndEcGsehaOxn",
        "colab_type": "code",
        "colab": {}
      },
      "cell_type": "code",
      "source": [
        "xarr = np.array([1.1, 1.2, 1.3, 1.4, 1.5])\n",
        "yarr = np.array([2.1, 2.2, 2.3, 2.4, 2.5])\n",
        "cond = np.array([True, False, True, True, False])"
      ],
      "execution_count": 0,
      "outputs": []
    },
    {
      "metadata": {
        "deletable": true,
        "editable": true,
        "id": "qsteZTgLaOxp",
        "colab_type": "code",
        "colab": {}
      },
      "cell_type": "code",
      "source": [
        "result = [(x if c else y)\n",
        "          for x, y, c in zip(xarr, yarr, cond)]\n",
        "result"
      ],
      "execution_count": 0,
      "outputs": []
    },
    {
      "metadata": {
        "deletable": true,
        "editable": true,
        "id": "ay3e2ISUaOxq",
        "colab_type": "code",
        "colab": {}
      },
      "cell_type": "code",
      "source": [
        "result = np.where(cond, xarr, yarr)\n",
        "result"
      ],
      "execution_count": 0,
      "outputs": []
    },
    {
      "metadata": {
        "deletable": true,
        "editable": true,
        "id": "HUP6-yoZaOxr",
        "colab_type": "code",
        "colab": {}
      },
      "cell_type": "code",
      "source": [
        "arr = np.random.randn(4, 4)\n",
        "arr\n",
        "arr > 0\n",
        "np.where(arr > 0, 2, -2)"
      ],
      "execution_count": 0,
      "outputs": []
    },
    {
      "metadata": {
        "deletable": true,
        "editable": true,
        "id": "589bh5dOaOxt",
        "colab_type": "code",
        "colab": {}
      },
      "cell_type": "code",
      "source": [
        "np.where(arr > 0, 2, arr) # set only positive values to 2"
      ],
      "execution_count": 0,
      "outputs": []
    },
    {
      "metadata": {
        "deletable": true,
        "editable": true,
        "id": "yAwd7RJoaOxu",
        "colab_type": "text"
      },
      "cell_type": "markdown",
      "source": [
        "### Mathematical and Statistical Methods"
      ]
    },
    {
      "metadata": {
        "deletable": true,
        "editable": true,
        "id": "yDpySH7EaOxv",
        "colab_type": "code",
        "colab": {}
      },
      "cell_type": "code",
      "source": [
        "arr = np.random.randn(5, 4)\n",
        "arr\n",
        "arr.mean()\n",
        "np.mean(arr)\n",
        "arr.sum()"
      ],
      "execution_count": 0,
      "outputs": []
    },
    {
      "metadata": {
        "deletable": true,
        "editable": true,
        "id": "JgwZ6EgaaOxw",
        "colab_type": "code",
        "colab": {}
      },
      "cell_type": "code",
      "source": [
        "arr.mean(axis=1)\n",
        "arr.sum(axis=0)"
      ],
      "execution_count": 0,
      "outputs": []
    },
    {
      "metadata": {
        "deletable": true,
        "editable": true,
        "id": "GPHbgqXIaOxy",
        "colab_type": "code",
        "colab": {}
      },
      "cell_type": "code",
      "source": [
        "arr = np.array([0, 1, 2, 3, 4, 5, 6, 7])\n",
        "arr.cumsum()"
      ],
      "execution_count": 0,
      "outputs": []
    },
    {
      "metadata": {
        "deletable": true,
        "editable": true,
        "id": "2ZZo3z06aOx0",
        "colab_type": "code",
        "colab": {}
      },
      "cell_type": "code",
      "source": [
        "arr = np.array([[0, 1, 2], [3, 4, 5], [6, 7, 8]])\n",
        "arr\n",
        "arr.cumsum(axis=0)\n",
        "arr.cumprod(axis=1)"
      ],
      "execution_count": 0,
      "outputs": []
    },
    {
      "metadata": {
        "deletable": true,
        "editable": true,
        "id": "KMRlBovTaOx0",
        "colab_type": "text"
      },
      "cell_type": "markdown",
      "source": [
        "### Methods for Boolean Arrays"
      ]
    },
    {
      "metadata": {
        "deletable": true,
        "editable": true,
        "id": "-X6PEKO1aOx1",
        "colab_type": "code",
        "colab": {}
      },
      "cell_type": "code",
      "source": [
        "arr = np.random.randn(100)\n",
        "(arr > 0).sum() # Number of positive values"
      ],
      "execution_count": 0,
      "outputs": []
    },
    {
      "metadata": {
        "deletable": true,
        "editable": true,
        "id": "IaMZeS2baOx4",
        "colab_type": "code",
        "colab": {}
      },
      "cell_type": "code",
      "source": [
        "bools = np.array([False, False, True, False])\n",
        "bools.any()\n",
        "bools.all()"
      ],
      "execution_count": 0,
      "outputs": []
    },
    {
      "metadata": {
        "deletable": true,
        "editable": true,
        "id": "DodFJmIjaOx7",
        "colab_type": "text"
      },
      "cell_type": "markdown",
      "source": [
        "### Sorting"
      ]
    },
    {
      "metadata": {
        "deletable": true,
        "editable": true,
        "id": "vuLWn8osaOx8",
        "colab_type": "code",
        "colab": {}
      },
      "cell_type": "code",
      "source": [
        "arr = np.random.randn(6)\n",
        "arr\n",
        "arr.sort()\n",
        "arr"
      ],
      "execution_count": 0,
      "outputs": []
    },
    {
      "metadata": {
        "deletable": true,
        "editable": true,
        "id": "f8RsujT8aOx-",
        "colab_type": "code",
        "colab": {}
      },
      "cell_type": "code",
      "source": [
        "arr = np.random.randn(5, 3)\n",
        "arr\n",
        "arr.sort(1)\n",
        "arr"
      ],
      "execution_count": 0,
      "outputs": []
    },
    {
      "metadata": {
        "deletable": true,
        "editable": true,
        "id": "u7BvVQ7UaOyA",
        "colab_type": "code",
        "colab": {}
      },
      "cell_type": "code",
      "source": [
        "large_arr = np.random.randn(1000)\n",
        "large_arr.sort()\n",
        "large_arr[int(0.05 * len(large_arr))] # 5% quantile"
      ],
      "execution_count": 0,
      "outputs": []
    },
    {
      "metadata": {
        "deletable": true,
        "editable": true,
        "id": "wMcNwc9JaOyB",
        "colab_type": "text"
      },
      "cell_type": "markdown",
      "source": [
        "### Unique and Other Set Logic"
      ]
    },
    {
      "metadata": {
        "deletable": true,
        "editable": true,
        "id": "7HNTEqXtaOyC",
        "colab_type": "code",
        "colab": {}
      },
      "cell_type": "code",
      "source": [
        "names = np.array(['Bob', 'Joe', 'Will', 'Bob', 'Will', 'Joe', 'Joe'])\n",
        "np.unique(names)\n",
        "ints = np.array([3, 3, 3, 2, 2, 1, 1, 4, 4])\n",
        "np.unique(ints)"
      ],
      "execution_count": 0,
      "outputs": []
    },
    {
      "metadata": {
        "deletable": true,
        "editable": true,
        "id": "JNdbkWawaOyD",
        "colab_type": "code",
        "colab": {}
      },
      "cell_type": "code",
      "source": [
        "sorted(set(names))"
      ],
      "execution_count": 0,
      "outputs": []
    },
    {
      "metadata": {
        "deletable": true,
        "editable": true,
        "id": "7qjlA0uxaOyF",
        "colab_type": "code",
        "colab": {}
      },
      "cell_type": "code",
      "source": [
        "values = np.array([6, 0, 0, 3, 2, 5, 6])\n",
        "np.in1d(values, [2, 3, 6])"
      ],
      "execution_count": 0,
      "outputs": []
    },
    {
      "metadata": {
        "deletable": true,
        "editable": true,
        "id": "Dpz06e8XaOyH",
        "colab_type": "text"
      },
      "cell_type": "markdown",
      "source": [
        "## File Input and Output with Arrays"
      ]
    },
    {
      "metadata": {
        "deletable": true,
        "editable": true,
        "id": "jSfoHFvqaOyI",
        "colab_type": "code",
        "colab": {}
      },
      "cell_type": "code",
      "source": [
        "arr = np.arange(10)\n",
        "np.save('some_array', arr)"
      ],
      "execution_count": 0,
      "outputs": []
    },
    {
      "metadata": {
        "deletable": true,
        "editable": true,
        "id": "OZHdB2NwaOyK",
        "colab_type": "code",
        "colab": {}
      },
      "cell_type": "code",
      "source": [
        "np.load('some_array.npy')"
      ],
      "execution_count": 0,
      "outputs": []
    },
    {
      "metadata": {
        "deletable": true,
        "editable": true,
        "id": "kLxc7zVRaOyM",
        "colab_type": "code",
        "colab": {}
      },
      "cell_type": "code",
      "source": [
        "np.savez('array_archive.npz', a=arr, b=arr)"
      ],
      "execution_count": 0,
      "outputs": []
    },
    {
      "metadata": {
        "deletable": true,
        "editable": true,
        "id": "AvA8xmScaOyN",
        "colab_type": "code",
        "colab": {}
      },
      "cell_type": "code",
      "source": [
        "arch = np.load('array_archive.npz')\n",
        "arch['b']"
      ],
      "execution_count": 0,
      "outputs": []
    },
    {
      "metadata": {
        "deletable": true,
        "editable": true,
        "id": "zhAtBcz4aOyP",
        "colab_type": "code",
        "colab": {}
      },
      "cell_type": "code",
      "source": [
        "np.savez_compressed('arrays_compressed.npz', a=arr, b=arr)"
      ],
      "execution_count": 0,
      "outputs": []
    },
    {
      "metadata": {
        "deletable": true,
        "editable": true,
        "id": "jkl3T9PEaOyQ",
        "colab_type": "code",
        "colab": {}
      },
      "cell_type": "code",
      "source": [
        "!rm some_array.npy\n",
        "!rm array_archive.npz\n",
        "!rm arrays_compressed.npz"
      ],
      "execution_count": 0,
      "outputs": []
    },
    {
      "metadata": {
        "deletable": true,
        "editable": true,
        "id": "AviNIPAoaOyR",
        "colab_type": "text"
      },
      "cell_type": "markdown",
      "source": [
        "## Linear Algebra"
      ]
    },
    {
      "metadata": {
        "deletable": true,
        "editable": true,
        "id": "Fh_OIIwLaOyS",
        "colab_type": "code",
        "colab": {}
      },
      "cell_type": "code",
      "source": [
        "x = np.array([[1., 2., 3.], [4., 5., 6.]])\n",
        "y = np.array([[6., 23.], [-1, 7], [8, 9]])\n",
        "x\n",
        "y\n",
        "x.dot(y)"
      ],
      "execution_count": 0,
      "outputs": []
    },
    {
      "metadata": {
        "deletable": true,
        "editable": true,
        "id": "FE5BjQ3TaOyT",
        "colab_type": "code",
        "colab": {}
      },
      "cell_type": "code",
      "source": [
        "np.dot(x, y)"
      ],
      "execution_count": 0,
      "outputs": []
    },
    {
      "metadata": {
        "deletable": true,
        "editable": true,
        "id": "p3CWuPYtaOyU",
        "colab_type": "code",
        "colab": {}
      },
      "cell_type": "code",
      "source": [
        "np.dot(x, np.ones(3))"
      ],
      "execution_count": 0,
      "outputs": []
    },
    {
      "metadata": {
        "deletable": true,
        "editable": true,
        "id": "taInDnhpaOyV",
        "colab_type": "code",
        "colab": {}
      },
      "cell_type": "code",
      "source": [
        "x @ np.ones(3)"
      ],
      "execution_count": 0,
      "outputs": []
    },
    {
      "metadata": {
        "deletable": true,
        "editable": true,
        "id": "LPojCW40aOyW",
        "colab_type": "code",
        "colab": {}
      },
      "cell_type": "code",
      "source": [
        "from numpy.linalg import inv, qr\n",
        "X = np.random.randn(5, 5)\n",
        "mat = X.T.dot(X)\n",
        "inv(mat)\n",
        "mat.dot(inv(mat))\n",
        "q, r = qr(mat)\n",
        "r"
      ],
      "execution_count": 0,
      "outputs": []
    },
    {
      "metadata": {
        "deletable": true,
        "editable": true,
        "id": "Sk8d5bJzaOyY",
        "colab_type": "text"
      },
      "cell_type": "markdown",
      "source": [
        "## Pseudorandom Number Generation"
      ]
    },
    {
      "metadata": {
        "deletable": true,
        "editable": true,
        "id": "zU4coWpKaOyY",
        "colab_type": "code",
        "colab": {}
      },
      "cell_type": "code",
      "source": [
        "samples = np.random.normal(size=(4, 4))\n",
        "samples"
      ],
      "execution_count": 0,
      "outputs": []
    },
    {
      "metadata": {
        "deletable": true,
        "editable": true,
        "id": "IERjvXghaOyZ",
        "colab_type": "code",
        "colab": {}
      },
      "cell_type": "code",
      "source": [
        "from random import normalvariate\n",
        "N = 1000000\n",
        "%timeit samples = [normalvariate(0, 1) for _ in range(N)]\n",
        "%timeit np.random.normal(size=N)"
      ],
      "execution_count": 0,
      "outputs": []
    },
    {
      "metadata": {
        "deletable": true,
        "editable": true,
        "id": "yi6NDS0KaOyb",
        "colab_type": "code",
        "colab": {}
      },
      "cell_type": "code",
      "source": [
        "np.random.seed(1234)"
      ],
      "execution_count": 0,
      "outputs": []
    },
    {
      "metadata": {
        "deletable": true,
        "editable": true,
        "id": "2AlMx3x4aOyc",
        "colab_type": "code",
        "colab": {}
      },
      "cell_type": "code",
      "source": [
        "rng = np.random.RandomState(1234)\n",
        "rng.randn(10)"
      ],
      "execution_count": 0,
      "outputs": []
    },
    {
      "metadata": {
        "deletable": true,
        "editable": true,
        "id": "MGbV6chGaOyd",
        "colab_type": "text"
      },
      "cell_type": "markdown",
      "source": [
        "## Example: Random Walks"
      ]
    },
    {
      "metadata": {
        "deletable": true,
        "editable": true,
        "id": "LWtSzTxWaOye",
        "colab_type": "code",
        "colab": {}
      },
      "cell_type": "code",
      "source": [
        "import random\n",
        "position = 0\n",
        "walk = [position]\n",
        "steps = 1000\n",
        "for i in range(steps):\n",
        "    step = 1 if random.randint(0, 1) else -1\n",
        "    position += step\n",
        "    walk.append(position)"
      ],
      "execution_count": 0,
      "outputs": []
    },
    {
      "metadata": {
        "deletable": true,
        "editable": true,
        "id": "dtdqn8YUaOyg",
        "colab_type": "code",
        "colab": {}
      },
      "cell_type": "code",
      "source": [
        "plt.figure()"
      ],
      "execution_count": 0,
      "outputs": []
    },
    {
      "metadata": {
        "deletable": true,
        "editable": true,
        "id": "PGC15j3ZaOyi",
        "colab_type": "code",
        "colab": {}
      },
      "cell_type": "code",
      "source": [
        "plt.plot(walk[:100])"
      ],
      "execution_count": 0,
      "outputs": []
    },
    {
      "metadata": {
        "deletable": true,
        "editable": true,
        "id": "xD7GH-teaOyk",
        "colab_type": "code",
        "colab": {}
      },
      "cell_type": "code",
      "source": [
        "np.random.seed(12345)"
      ],
      "execution_count": 0,
      "outputs": []
    },
    {
      "metadata": {
        "deletable": true,
        "editable": true,
        "id": "FTfJDmCoaOym",
        "colab_type": "code",
        "colab": {}
      },
      "cell_type": "code",
      "source": [
        "nsteps = 1000\n",
        "draws = np.random.randint(0, 2, size=nsteps)\n",
        "steps = np.where(draws > 0, 1, -1)\n",
        "walk = steps.cumsum()"
      ],
      "execution_count": 0,
      "outputs": []
    },
    {
      "metadata": {
        "deletable": true,
        "editable": true,
        "id": "vJq9dOcoaOyp",
        "colab_type": "code",
        "colab": {}
      },
      "cell_type": "code",
      "source": [
        "walk.min()\n",
        "walk.max()"
      ],
      "execution_count": 0,
      "outputs": []
    },
    {
      "metadata": {
        "deletable": true,
        "editable": true,
        "id": "KdF64qjsaOys",
        "colab_type": "code",
        "colab": {}
      },
      "cell_type": "code",
      "source": [
        "(np.abs(walk) >= 10).argmax()"
      ],
      "execution_count": 0,
      "outputs": []
    },
    {
      "metadata": {
        "deletable": true,
        "editable": true,
        "id": "OEJOldd4aOyt",
        "colab_type": "text"
      },
      "cell_type": "markdown",
      "source": [
        "### Simulating Many Random Walks at Once"
      ]
    },
    {
      "metadata": {
        "deletable": true,
        "editable": true,
        "id": "cwbj-vDRaOyt",
        "colab_type": "code",
        "colab": {}
      },
      "cell_type": "code",
      "source": [
        "nwalks = 5000\n",
        "nsteps = 1000\n",
        "draws = np.random.randint(0, 2, size=(nwalks, nsteps)) # 0 or 1\n",
        "steps = np.where(draws > 0, 1, -1)\n",
        "walks = steps.cumsum(1)\n",
        "walks"
      ],
      "execution_count": 0,
      "outputs": []
    },
    {
      "metadata": {
        "deletable": true,
        "editable": true,
        "id": "CsJswRqgaOyu",
        "colab_type": "code",
        "colab": {}
      },
      "cell_type": "code",
      "source": [
        "walks.max()\n",
        "walks.min()"
      ],
      "execution_count": 0,
      "outputs": []
    },
    {
      "metadata": {
        "deletable": true,
        "editable": true,
        "id": "XSHpbVQoaOyw",
        "colab_type": "code",
        "colab": {}
      },
      "cell_type": "code",
      "source": [
        "hits30 = (np.abs(walks) >= 30).any(1)\n",
        "hits30\n",
        "hits30.sum() # Number that hit 30 or -30"
      ],
      "execution_count": 0,
      "outputs": []
    },
    {
      "metadata": {
        "deletable": true,
        "editable": true,
        "id": "338728pbaOyy",
        "colab_type": "code",
        "colab": {}
      },
      "cell_type": "code",
      "source": [
        "crossing_times = (np.abs(walks[hits30]) >= 30).argmax(1)\n",
        "crossing_times.mean()"
      ],
      "execution_count": 0,
      "outputs": []
    },
    {
      "metadata": {
        "deletable": true,
        "editable": true,
        "id": "qJOCwlANaOzM",
        "colab_type": "code",
        "colab": {}
      },
      "cell_type": "code",
      "source": [
        "steps = np.random.normal(loc=0, scale=0.25,\n",
        "                         size=(nwalks, nsteps))"
      ],
      "execution_count": 0,
      "outputs": []
    },
    {
      "metadata": {
        "deletable": true,
        "editable": true,
        "id": "mNBzZkg-aOzN",
        "colab_type": "text"
      },
      "cell_type": "markdown",
      "source": [
        "## Conclusion"
      ]
    }
  ]
}