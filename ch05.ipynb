{
  "nbformat": 4,
  "nbformat_minor": 0,
  "metadata": {
    "colab": {
      "name": "ch05.ipynb",
      "version": "0.3.2",
      "provenance": [],
      "collapsed_sections": [
        "-RtEk426LJxs",
        "D_pM8mpeLJyf",
        "e4i36NkwLJyq",
        "Zbjp_0TFLJy5",
        "yLoIOtroLJzC",
        "zRp-fnDLLJzM",
        "yFb4E0xwLJzR",
        "Wq6nan5nLJzY",
        "XyIdrQXALJzo",
        "hddPETh_LJz7",
        "8_gPhBmALJ0K",
        "QdVPG6HLLJ0S",
        "GAPM3bKGLJ0f",
        "0b0xwSgULJ0x",
        "cNgSQ2YsLJ08"
      ],
      "include_colab_link": true
    },
    "kernelspec": {
      "display_name": "Python 3",
      "language": "python",
      "name": "python3"
    }
  },
  "cells": [
    {
      "cell_type": "markdown",
      "metadata": {
        "id": "view-in-github",
        "colab_type": "text"
      },
      "source": [
        "<a href=\"https://colab.research.google.com/github/wel51x/Python-for-Data-Analysis/blob/master/ch05.ipynb\" target=\"_parent\"><img src=\"https://colab.research.google.com/assets/colab-badge.svg\" alt=\"Open In Colab\"/></a>"
      ]
    },
    {
      "metadata": {
        "deletable": true,
        "editable": true,
        "id": "G7Sz9d7mLJwT",
        "colab_type": "text"
      },
      "cell_type": "markdown",
      "source": [
        "# CHAPTER 5: Getting Started with pandas\n",
        "pandas will be a major tool of interest throughout much of the rest of the book. It\n",
        "contains data structures and data manipulation tools designed to make data cleaning\n",
        "and analysis fast and easy in Python. pandas is often used in tandem with numerical\n",
        "computing tools like NumPy and SciPy, analytical libraries like statsmodels and\n",
        "scikit-learn, and data visualization libraries like matplotlib. pandas adopts significant\n",
        "parts of NumPy’s idiomatic style of array-based computing, especially array-based\n",
        "functions and a preference for data processing without for loops.\n",
        "\n",
        "While pandas adopts many coding idioms from NumPy, the biggest difference is that\n",
        "pandas is designed for working with tabular or heterogeneous data. NumPy, by contrast,\n",
        "is best suited for working with homogeneous numerical array data.\n",
        "\n",
        "Since becoming an open source project in 2010, pandas has matured into a quite\n",
        "large library that’s applicable in a broad set of real-world use cases. The developer\n",
        "community has grown to over 800 distinct contributors, who’ve been helping build\n",
        "the project as they’ve used it to solve their day-to-day data problems.\n",
        "\n",
        "Throughout the rest of the book, I use the following import convention for pandas:\n",
        "\n",
        "In [1]: import pandas as pd\n",
        "\n",
        "Thus, whenever you see pd. in code, it’s referring to pandas. You may also find it easier\n",
        "to import Series and DataFrame into the local namespace since they are so frequently\n",
        "used:\n",
        "\n",
        "In [2]: from pandas import Series, DataFrame\n",
        "\n"
      ]
    },
    {
      "metadata": {
        "deletable": true,
        "editable": true,
        "id": "GQ6UvpWbLJwZ",
        "colab_type": "code",
        "colab": {}
      },
      "cell_type": "code",
      "source": [
        "import pandas as pd"
      ],
      "execution_count": 0,
      "outputs": []
    },
    {
      "metadata": {
        "deletable": true,
        "editable": true,
        "id": "c1uHuRFaLJwo",
        "colab_type": "code",
        "colab": {}
      },
      "cell_type": "code",
      "source": [
        "from pandas import Series, DataFrame"
      ],
      "execution_count": 0,
      "outputs": []
    },
    {
      "metadata": {
        "deletable": true,
        "editable": true,
        "id": "ODkJf7EZLJwy",
        "colab_type": "code",
        "colab": {}
      },
      "cell_type": "code",
      "source": [
        "import numpy as np\n",
        "np.random.seed(12345)\n",
        "import matplotlib.pyplot as plt\n",
        "plt.rc('figure', figsize=(10, 6))\n",
        "PREVIOUS_MAX_ROWS = pd.options.display.max_rows\n",
        "pd.options.display.max_rows = 20\n",
        "np.set_printoptions(precision=4, suppress=True)"
      ],
      "execution_count": 0,
      "outputs": []
    },
    {
      "metadata": {
        "deletable": true,
        "editable": true,
        "id": "8jY9fW-SLJw8",
        "colab_type": "text"
      },
      "cell_type": "markdown",
      "source": [
        "## 5.1 Introduction to pandas Data Structures\n",
        "To get started with pandas, you will need to get comfortable with its two workhorse\n",
        "data structures: Series and DataFrame. While they are not a universal solution for\n",
        "every problem, they provide a solid, easy-to-use basis for most applications."
      ]
    },
    {
      "metadata": {
        "deletable": true,
        "editable": true,
        "id": "nCCC4HxwLJw-",
        "colab_type": "text"
      },
      "cell_type": "markdown",
      "source": [
        "### Series"
      ]
    },
    {
      "metadata": {
        "id": "Zqj_-rTpNOnW",
        "colab_type": "text"
      },
      "cell_type": "markdown",
      "source": [
        "A Series is a one-dimensional array-like object containing a sequence of values (of\n",
        "similar types to NumPy types) and an associated array of data labels, called its index.\n",
        "The simplest Series is formed from only an array of data:"
      ]
    },
    {
      "metadata": {
        "deletable": true,
        "editable": true,
        "id": "BgoI5gHPLJw_",
        "colab_type": "code",
        "colab": {
          "base_uri": "https://localhost:8080/",
          "height": 102
        },
        "outputId": "cbd93b15-f38e-49bf-b70f-c7e8f39fd9b1"
      },
      "cell_type": "code",
      "source": [
        "obj = pd.Series([4, 7, -5, 3])\n",
        "obj"
      ],
      "execution_count": 4,
      "outputs": [
        {
          "output_type": "execute_result",
          "data": {
            "text/plain": [
              "0    4\n",
              "1    7\n",
              "2   -5\n",
              "3    3\n",
              "dtype: int64"
            ]
          },
          "metadata": {
            "tags": []
          },
          "execution_count": 4
        }
      ]
    },
    {
      "metadata": {
        "id": "NbDKwpoeNWJm",
        "colab_type": "text"
      },
      "cell_type": "markdown",
      "source": [
        "The string representation of a Series displayed interactively shows the index on the\n",
        "left and the values on the right. Since we did not specify an index for the data, a\n",
        "default one consisting of the integers 0 through N - 1 (where N is the length of the\n",
        "data) is created. You can get the array representation and index object of the Series via\n",
        "its values and index attributes, respectively:"
      ]
    },
    {
      "metadata": {
        "deletable": true,
        "editable": true,
        "id": "1tti6zEFLJxJ",
        "colab_type": "code",
        "colab": {
          "base_uri": "https://localhost:8080/",
          "height": 34
        },
        "outputId": "439f100d-7c9a-4eb5-d3a3-914f468fc91a"
      },
      "cell_type": "code",
      "source": [
        "obj.values, obj.index  # like range(4)"
      ],
      "execution_count": 5,
      "outputs": [
        {
          "output_type": "execute_result",
          "data": {
            "text/plain": [
              "(array([ 4,  7, -5,  3]), RangeIndex(start=0, stop=4, step=1))"
            ]
          },
          "metadata": {
            "tags": []
          },
          "execution_count": 5
        }
      ]
    },
    {
      "metadata": {
        "id": "pisqgU5rOjv5",
        "colab_type": "text"
      },
      "cell_type": "markdown",
      "source": [
        "Often it will be desirable to create a Series with an index identifying each data point\n",
        "with a label:"
      ]
    },
    {
      "metadata": {
        "deletable": true,
        "editable": true,
        "id": "wwlJKnmJLJxM",
        "colab_type": "code",
        "colab": {
          "base_uri": "https://localhost:8080/",
          "height": 102
        },
        "outputId": "2aae6559-ce1b-4655-f773-9bb142c7da91"
      },
      "cell_type": "code",
      "source": [
        "obj2 = pd.Series([4, 7, -5, 3], index=['d', 'b', 'a', 'c'])\n",
        "obj2, sorted(obj2), obj2.index"
      ],
      "execution_count": 8,
      "outputs": [
        {
          "output_type": "execute_result",
          "data": {
            "text/plain": [
              "(d    4\n",
              " b    7\n",
              " a   -5\n",
              " c    3\n",
              " dtype: int64, [-5, 3, 4, 7], Index(['d', 'b', 'a', 'c'], dtype='object'))"
            ]
          },
          "metadata": {
            "tags": []
          },
          "execution_count": 8
        }
      ]
    },
    {
      "metadata": {
        "id": "yw8IwLHsPGmf",
        "colab_type": "text"
      },
      "cell_type": "markdown",
      "source": [
        "Compared with NumPy arrays, you can use labels in the index when selecting single\n",
        "values or a set of values:"
      ]
    },
    {
      "metadata": {
        "deletable": true,
        "editable": true,
        "id": "42Cr-m_lLJxT",
        "colab_type": "code",
        "colab": {
          "base_uri": "https://localhost:8080/",
          "height": 102
        },
        "outputId": "9703ed4f-7187-4543-e520-1b15934fd27d"
      },
      "cell_type": "code",
      "source": [
        "print(obj2['a'])\n",
        "obj2['d'] = 6\n",
        "obj2[['c', 'a', 'd']]"
      ],
      "execution_count": 9,
      "outputs": [
        {
          "output_type": "stream",
          "text": [
            "-5\n"
          ],
          "name": "stdout"
        },
        {
          "output_type": "execute_result",
          "data": {
            "text/plain": [
              "c    3\n",
              "a   -5\n",
              "d    6\n",
              "dtype: int64"
            ]
          },
          "metadata": {
            "tags": []
          },
          "execution_count": 9
        }
      ]
    },
    {
      "metadata": {
        "id": "RS0QbsK3PcHt",
        "colab_type": "text"
      },
      "cell_type": "markdown",
      "source": [
        "Here ['c', 'a', 'd'] is interpreted as a list of indices, even though it contains\n",
        "strings instead of integers.\n",
        "\n",
        "Using NumPy functions or NumPy-like operations, such as filtering with a boolean\n",
        "array, scalar multiplication, or applying math functions, will preserve the index-value\n",
        "link:"
      ]
    },
    {
      "metadata": {
        "deletable": true,
        "editable": true,
        "id": "esLvNm5iLJxX",
        "colab_type": "code",
        "colab": {
          "base_uri": "https://localhost:8080/",
          "height": 255
        },
        "outputId": "6e40b4f2-9299-41fb-fdc1-b3f4f952cf67"
      },
      "cell_type": "code",
      "source": [
        "print(obj2[obj2 > 0])\n",
        "print(obj2 * 2)\n",
        "print(np.exp(obj2))"
      ],
      "execution_count": 10,
      "outputs": [
        {
          "output_type": "stream",
          "text": [
            "d    6\n",
            "b    7\n",
            "c    3\n",
            "dtype: int64\n",
            "d    12\n",
            "b    14\n",
            "a   -10\n",
            "c     6\n",
            "dtype: int64\n",
            "d     403.428793\n",
            "b    1096.633158\n",
            "a       0.006738\n",
            "c      20.085537\n",
            "dtype: float64\n"
          ],
          "name": "stdout"
        }
      ]
    },
    {
      "metadata": {
        "id": "zp-n-nd4QCfc",
        "colab_type": "text"
      },
      "cell_type": "markdown",
      "source": [
        "Another way to think about a Series is as a fixed-length, ordered dict, as it is a mapping\n",
        "of index values to data values. It can be used in many contexts where you might\n",
        "use a dict:"
      ]
    },
    {
      "metadata": {
        "deletable": true,
        "editable": true,
        "id": "QXzAeWZ6LJxZ",
        "colab_type": "code",
        "colab": {
          "base_uri": "https://localhost:8080/",
          "height": 34
        },
        "outputId": "56434bec-ed1f-43c7-a862-90c77c07360e"
      },
      "cell_type": "code",
      "source": [
        "'b' in obj2, 'e' in obj2"
      ],
      "execution_count": 11,
      "outputs": [
        {
          "output_type": "execute_result",
          "data": {
            "text/plain": [
              "(True, False)"
            ]
          },
          "metadata": {
            "tags": []
          },
          "execution_count": 11
        }
      ]
    },
    {
      "metadata": {
        "id": "iQJdSRMyQaEe",
        "colab_type": "text"
      },
      "cell_type": "markdown",
      "source": [
        "Should you have data contained in a Python dict, you can create a Series from it by\n",
        "passing the dict:"
      ]
    },
    {
      "metadata": {
        "deletable": true,
        "editable": true,
        "id": "IQz1Oap2LJxc",
        "colab_type": "code",
        "colab": {
          "base_uri": "https://localhost:8080/",
          "height": 102
        },
        "outputId": "deea0100-4bf9-413a-b8d6-9b9403e37e16"
      },
      "cell_type": "code",
      "source": [
        "sdata = {'Ohio': 35000, 'Texas': 71000, 'Oregon': 16000, 'Utah': 5000}\n",
        "obj3 = pd.Series(sdata)\n",
        "obj3"
      ],
      "execution_count": 12,
      "outputs": [
        {
          "output_type": "execute_result",
          "data": {
            "text/plain": [
              "Ohio      35000\n",
              "Oregon    16000\n",
              "Texas     71000\n",
              "Utah       5000\n",
              "dtype: int64"
            ]
          },
          "metadata": {
            "tags": []
          },
          "execution_count": 12
        }
      ]
    },
    {
      "metadata": {
        "id": "J24eyBJ3Qm_5",
        "colab_type": "text"
      },
      "cell_type": "markdown",
      "source": [
        "When you are only passing a dict, the index in the resulting Series will have the dict’s\n",
        "keys in sorted order. You can override this by passing the dict keys in the order you\n",
        "want them to appear in the resulting Series:"
      ]
    },
    {
      "metadata": {
        "deletable": true,
        "editable": true,
        "id": "2ACCSO9oLJxd",
        "colab_type": "code",
        "colab": {
          "base_uri": "https://localhost:8080/",
          "height": 102
        },
        "outputId": "a0423458-6b07-4134-f566-c90d29361320"
      },
      "cell_type": "code",
      "source": [
        "states = ['California', 'Ohio', 'Oregon', 'Texas']\n",
        "obj4 = pd.Series(sdata, index=states)\n",
        "obj4"
      ],
      "execution_count": 13,
      "outputs": [
        {
          "output_type": "execute_result",
          "data": {
            "text/plain": [
              "California        NaN\n",
              "Ohio          35000.0\n",
              "Oregon        16000.0\n",
              "Texas         71000.0\n",
              "dtype: float64"
            ]
          },
          "metadata": {
            "tags": []
          },
          "execution_count": 13
        }
      ]
    },
    {
      "metadata": {
        "id": "RMh4idz2Qz5l",
        "colab_type": "text"
      },
      "cell_type": "markdown",
      "source": [
        "Here, three values found in sdata were placed in the appropriate locations, but since\n",
        "no value for 'California' was found, it appears as NaN (not a number), which is considered\n",
        "in pandas to mark missing or NA values. Since 'Utah' was not included in\n",
        "states, it is excluded from the resulting object.\n",
        "\n",
        "I will use the terms “missing” or “NA” interchangeably to refer to missing data. The\n",
        "isnull and notnull functions in pandas should be used to detect missing data:"
      ]
    },
    {
      "metadata": {
        "deletable": true,
        "editable": true,
        "id": "BgW9Bm-rLJxg",
        "colab_type": "code",
        "colab": {
          "base_uri": "https://localhost:8080/",
          "height": 102
        },
        "outputId": "60faf901-817f-47a2-ee32-d2770daa7902"
      },
      "cell_type": "code",
      "source": [
        "pd.isnull(obj4)"
      ],
      "execution_count": 15,
      "outputs": [
        {
          "output_type": "execute_result",
          "data": {
            "text/plain": [
              "California     True\n",
              "Ohio          False\n",
              "Oregon        False\n",
              "Texas         False\n",
              "dtype: bool"
            ]
          },
          "metadata": {
            "tags": []
          },
          "execution_count": 15
        }
      ]
    },
    {
      "metadata": {
        "id": "qK2yIs0SRIgJ",
        "colab_type": "code",
        "colab": {
          "base_uri": "https://localhost:8080/",
          "height": 102
        },
        "outputId": "b29e2461-b0d9-4a8e-b9cc-9e48d52574bf"
      },
      "cell_type": "code",
      "source": [
        "pd.notnull(obj4)"
      ],
      "execution_count": 16,
      "outputs": [
        {
          "output_type": "execute_result",
          "data": {
            "text/plain": [
              "California    False\n",
              "Ohio           True\n",
              "Oregon         True\n",
              "Texas          True\n",
              "dtype: bool"
            ]
          },
          "metadata": {
            "tags": []
          },
          "execution_count": 16
        }
      ]
    },
    {
      "metadata": {
        "id": "shw01SGtRTdr",
        "colab_type": "text"
      },
      "cell_type": "markdown",
      "source": [
        "Series also has these as instance methods:"
      ]
    },
    {
      "metadata": {
        "deletable": true,
        "editable": true,
        "id": "RA7SdcuQLJxi",
        "colab_type": "code",
        "colab": {
          "base_uri": "https://localhost:8080/",
          "height": 102
        },
        "outputId": "0aa6cc2f-dbb0-4099-8eb5-eccd076b52f8"
      },
      "cell_type": "code",
      "source": [
        "obj4.isnull()"
      ],
      "execution_count": 17,
      "outputs": [
        {
          "output_type": "execute_result",
          "data": {
            "text/plain": [
              "California     True\n",
              "Ohio          False\n",
              "Oregon        False\n",
              "Texas         False\n",
              "dtype: bool"
            ]
          },
          "metadata": {
            "tags": []
          },
          "execution_count": 17
        }
      ]
    },
    {
      "metadata": {
        "id": "HOOUQIJNRYER",
        "colab_type": "text"
      },
      "cell_type": "markdown",
      "source": [
        "A useful Series feature for many applications is that it automatically aligns by index\n",
        "label in arithmetic operations:"
      ]
    },
    {
      "metadata": {
        "deletable": true,
        "editable": true,
        "id": "KmfS8gYSLJxk",
        "colab_type": "code",
        "colab": {
          "base_uri": "https://localhost:8080/",
          "height": 289
        },
        "outputId": "d4b63452-744c-4962-8a7c-c7903434a9a0"
      },
      "cell_type": "code",
      "source": [
        "print(obj3)\n",
        "print(obj4)\n",
        "obj3 + obj4"
      ],
      "execution_count": 19,
      "outputs": [
        {
          "output_type": "stream",
          "text": [
            "Ohio      35000\n",
            "Oregon    16000\n",
            "Texas     71000\n",
            "Utah       5000\n",
            "dtype: int64\n",
            "California        NaN\n",
            "Ohio          35000.0\n",
            "Oregon        16000.0\n",
            "Texas         71000.0\n",
            "dtype: float64\n"
          ],
          "name": "stdout"
        },
        {
          "output_type": "execute_result",
          "data": {
            "text/plain": [
              "California         NaN\n",
              "Ohio           70000.0\n",
              "Oregon         32000.0\n",
              "Texas         142000.0\n",
              "Utah               NaN\n",
              "dtype: float64"
            ]
          },
          "metadata": {
            "tags": []
          },
          "execution_count": 19
        }
      ]
    },
    {
      "metadata": {
        "id": "ICaJjreGR_1P",
        "colab_type": "text"
      },
      "cell_type": "markdown",
      "source": [
        "If you have experience\n",
        "with databases, you can think about this as being similar to a join operation.\n",
        "\n",
        "Both the Series object itself and its index have a name attribute, which integrates with\n",
        "other key areas of pandas functionality:"
      ]
    },
    {
      "metadata": {
        "deletable": true,
        "editable": true,
        "id": "hkMIaOPpLJxo",
        "colab_type": "code",
        "colab": {
          "base_uri": "https://localhost:8080/",
          "height": 119
        },
        "outputId": "81d1150b-0c0b-407d-9b37-d17286dbadf7"
      },
      "cell_type": "code",
      "source": [
        "obj4.name = 'population'\n",
        "obj4.index.name = 'state'\n",
        "obj4"
      ],
      "execution_count": 20,
      "outputs": [
        {
          "output_type": "execute_result",
          "data": {
            "text/plain": [
              "state\n",
              "California        NaN\n",
              "Ohio          35000.0\n",
              "Oregon        16000.0\n",
              "Texas         71000.0\n",
              "Name: population, dtype: float64"
            ]
          },
          "metadata": {
            "tags": []
          },
          "execution_count": 20
        }
      ]
    },
    {
      "metadata": {
        "id": "ljeLWu_DSL_2",
        "colab_type": "text"
      },
      "cell_type": "markdown",
      "source": [
        "A Series’s index can be altered in-place by assignment:"
      ]
    },
    {
      "metadata": {
        "deletable": true,
        "editable": true,
        "id": "I-bmtXJ4LJxq",
        "colab_type": "code",
        "colab": {
          "base_uri": "https://localhost:8080/",
          "height": 187
        },
        "outputId": "31bda04b-3bde-4e0e-f242-33c79f7c4dfa"
      },
      "cell_type": "code",
      "source": [
        "print(obj)\n",
        "obj.index = ['Bob', 'Steve', 'Jeff', 'Ryan']\n",
        "obj"
      ],
      "execution_count": 21,
      "outputs": [
        {
          "output_type": "stream",
          "text": [
            "0    4\n",
            "1    7\n",
            "2   -5\n",
            "3    3\n",
            "dtype: int64\n"
          ],
          "name": "stdout"
        },
        {
          "output_type": "execute_result",
          "data": {
            "text/plain": [
              "Bob      4\n",
              "Steve    7\n",
              "Jeff    -5\n",
              "Ryan     3\n",
              "dtype: int64"
            ]
          },
          "metadata": {
            "tags": []
          },
          "execution_count": 21
        }
      ]
    },
    {
      "metadata": {
        "deletable": true,
        "editable": true,
        "id": "-RtEk426LJxs",
        "colab_type": "text"
      },
      "cell_type": "markdown",
      "source": [
        "### DataFrame"
      ]
    },
    {
      "metadata": {
        "deletable": true,
        "editable": true,
        "id": "GdL8M0mVLJxt",
        "colab_type": "code",
        "colab": {}
      },
      "cell_type": "code",
      "source": [
        "data = {'state': ['Ohio', 'Ohio', 'Ohio', 'Nevada', 'Nevada', 'Nevada'],\n",
        "        'year': [2000, 2001, 2002, 2001, 2002, 2003],\n",
        "        'pop': [1.5, 1.7, 3.6, 2.4, 2.9, 3.2]}\n",
        "frame = pd.DataFrame(data)"
      ],
      "execution_count": 0,
      "outputs": []
    },
    {
      "metadata": {
        "deletable": true,
        "editable": true,
        "id": "Deu2uTWvLJxx",
        "colab_type": "code",
        "colab": {}
      },
      "cell_type": "code",
      "source": [
        "frame"
      ],
      "execution_count": 0,
      "outputs": []
    },
    {
      "metadata": {
        "deletable": true,
        "editable": true,
        "id": "-QVqYeQ1LJx0",
        "colab_type": "code",
        "colab": {}
      },
      "cell_type": "code",
      "source": [
        "frame.head()"
      ],
      "execution_count": 0,
      "outputs": []
    },
    {
      "metadata": {
        "deletable": true,
        "editable": true,
        "id": "1YuAsYMbLJx2",
        "colab_type": "code",
        "colab": {}
      },
      "cell_type": "code",
      "source": [
        "pd.DataFrame(data, columns=['year', 'state', 'pop'])"
      ],
      "execution_count": 0,
      "outputs": []
    },
    {
      "metadata": {
        "deletable": true,
        "editable": true,
        "id": "BtdDMgLSLJx5",
        "colab_type": "code",
        "colab": {}
      },
      "cell_type": "code",
      "source": [
        "frame2 = pd.DataFrame(data, columns=['year', 'state', 'pop', 'debt'],\n",
        "                      index=['one', 'two', 'three', 'four',\n",
        "                             'five', 'six'])\n",
        "frame2\n",
        "frame2.columns"
      ],
      "execution_count": 0,
      "outputs": []
    },
    {
      "metadata": {
        "deletable": true,
        "editable": true,
        "id": "HHtiGUwzLJx7",
        "colab_type": "code",
        "colab": {}
      },
      "cell_type": "code",
      "source": [
        "frame2['state']\n",
        "frame2.year"
      ],
      "execution_count": 0,
      "outputs": []
    },
    {
      "metadata": {
        "deletable": true,
        "editable": true,
        "id": "M7lpxE_tLJx9",
        "colab_type": "code",
        "colab": {}
      },
      "cell_type": "code",
      "source": [
        "frame2.loc['three']"
      ],
      "execution_count": 0,
      "outputs": []
    },
    {
      "metadata": {
        "deletable": true,
        "editable": true,
        "id": "X9vtexHeLJx-",
        "colab_type": "code",
        "colab": {}
      },
      "cell_type": "code",
      "source": [
        "frame2['debt'] = 16.5\n",
        "frame2\n",
        "frame2['debt'] = np.arange(6.)\n",
        "frame2"
      ],
      "execution_count": 0,
      "outputs": []
    },
    {
      "metadata": {
        "deletable": true,
        "editable": true,
        "id": "2uZlMYOyLJyA",
        "colab_type": "code",
        "colab": {}
      },
      "cell_type": "code",
      "source": [
        "val = pd.Series([-1.2, -1.5, -1.7], index=['two', 'four', 'five'])\n",
        "frame2['debt'] = val\n",
        "frame2"
      ],
      "execution_count": 0,
      "outputs": []
    },
    {
      "metadata": {
        "deletable": true,
        "editable": true,
        "id": "UAtg-KaQLJyC",
        "colab_type": "code",
        "colab": {}
      },
      "cell_type": "code",
      "source": [
        "frame2['eastern'] = frame2.state == 'Ohio'\n",
        "frame2"
      ],
      "execution_count": 0,
      "outputs": []
    },
    {
      "metadata": {
        "deletable": true,
        "editable": true,
        "id": "KDHLM-6bLJyE",
        "colab_type": "code",
        "colab": {}
      },
      "cell_type": "code",
      "source": [
        "del frame2['eastern']\n",
        "frame2.columns"
      ],
      "execution_count": 0,
      "outputs": []
    },
    {
      "metadata": {
        "deletable": true,
        "editable": true,
        "id": "dVHroX1dLJyH",
        "colab_type": "code",
        "colab": {}
      },
      "cell_type": "code",
      "source": [
        "pop = {'Nevada': {2001: 2.4, 2002: 2.9},\n",
        "       'Ohio': {2000: 1.5, 2001: 1.7, 2002: 3.6}}"
      ],
      "execution_count": 0,
      "outputs": []
    },
    {
      "metadata": {
        "deletable": true,
        "editable": true,
        "id": "v9ICDpW_LJyN",
        "colab_type": "code",
        "colab": {}
      },
      "cell_type": "code",
      "source": [
        "frame3 = pd.DataFrame(pop)\n",
        "frame3"
      ],
      "execution_count": 0,
      "outputs": []
    },
    {
      "metadata": {
        "deletable": true,
        "editable": true,
        "id": "hVH2u6k4LJyQ",
        "colab_type": "code",
        "colab": {}
      },
      "cell_type": "code",
      "source": [
        "frame3.T"
      ],
      "execution_count": 0,
      "outputs": []
    },
    {
      "metadata": {
        "deletable": true,
        "editable": true,
        "id": "oJ-n-dlFLJyT",
        "colab_type": "code",
        "colab": {}
      },
      "cell_type": "code",
      "source": [
        "pd.DataFrame(pop, index=[2001, 2002, 2003])"
      ],
      "execution_count": 0,
      "outputs": []
    },
    {
      "metadata": {
        "deletable": true,
        "editable": true,
        "id": "w3CqzPwDLJyW",
        "colab_type": "code",
        "colab": {}
      },
      "cell_type": "code",
      "source": [
        "pdata = {'Ohio': frame3['Ohio'][:-1],\n",
        "         'Nevada': frame3['Nevada'][:2]}\n",
        "pd.DataFrame(pdata)"
      ],
      "execution_count": 0,
      "outputs": []
    },
    {
      "metadata": {
        "deletable": true,
        "editable": true,
        "id": "XDRY_pHjLJyY",
        "colab_type": "code",
        "colab": {}
      },
      "cell_type": "code",
      "source": [
        "frame3.index.name = 'year'; frame3.columns.name = 'state'\n",
        "frame3"
      ],
      "execution_count": 0,
      "outputs": []
    },
    {
      "metadata": {
        "deletable": true,
        "editable": true,
        "id": "RQSPRTnlLJya",
        "colab_type": "code",
        "colab": {}
      },
      "cell_type": "code",
      "source": [
        "frame3.values"
      ],
      "execution_count": 0,
      "outputs": []
    },
    {
      "metadata": {
        "deletable": true,
        "editable": true,
        "id": "l9-OaAmzLJyd",
        "colab_type": "code",
        "colab": {}
      },
      "cell_type": "code",
      "source": [
        "frame2.values"
      ],
      "execution_count": 0,
      "outputs": []
    },
    {
      "metadata": {
        "deletable": true,
        "editable": true,
        "id": "D_pM8mpeLJyf",
        "colab_type": "text"
      },
      "cell_type": "markdown",
      "source": [
        "### Index Objects"
      ]
    },
    {
      "metadata": {
        "deletable": true,
        "editable": true,
        "id": "gzrNEtUCLJyg",
        "colab_type": "code",
        "colab": {}
      },
      "cell_type": "code",
      "source": [
        "obj = pd.Series(range(3), index=['a', 'b', 'c'])\n",
        "index = obj.index\n",
        "index\n",
        "index[1:]"
      ],
      "execution_count": 0,
      "outputs": []
    },
    {
      "metadata": {
        "deletable": true,
        "editable": true,
        "id": "xz5S_B1xLJyi",
        "colab_type": "text"
      },
      "cell_type": "markdown",
      "source": [
        "index[1] = 'd'  # TypeError"
      ]
    },
    {
      "metadata": {
        "deletable": true,
        "editable": true,
        "id": "FT-KRnvbLJyj",
        "colab_type": "code",
        "colab": {}
      },
      "cell_type": "code",
      "source": [
        "labels = pd.Index(np.arange(3))\n",
        "labels\n",
        "obj2 = pd.Series([1.5, -2.5, 0], index=labels)\n",
        "obj2\n",
        "obj2.index is labels"
      ],
      "execution_count": 0,
      "outputs": []
    },
    {
      "metadata": {
        "deletable": true,
        "editable": true,
        "id": "QUNlUDunLJyl",
        "colab_type": "code",
        "colab": {}
      },
      "cell_type": "code",
      "source": [
        "frame3\n",
        "frame3.columns\n",
        "'Ohio' in frame3.columns\n",
        "2003 in frame3.index"
      ],
      "execution_count": 0,
      "outputs": []
    },
    {
      "metadata": {
        "deletable": true,
        "editable": true,
        "id": "A6cr-fY7LJyn",
        "colab_type": "code",
        "colab": {}
      },
      "cell_type": "code",
      "source": [
        "dup_labels = pd.Index(['foo', 'foo', 'bar', 'bar'])\n",
        "dup_labels"
      ],
      "execution_count": 0,
      "outputs": []
    },
    {
      "metadata": {
        "deletable": true,
        "editable": true,
        "id": "JVa2mYXdLJyp",
        "colab_type": "text"
      },
      "cell_type": "markdown",
      "source": [
        "## Essential Functionality"
      ]
    },
    {
      "metadata": {
        "deletable": true,
        "editable": true,
        "id": "e4i36NkwLJyq",
        "colab_type": "text"
      },
      "cell_type": "markdown",
      "source": [
        "### Reindexing"
      ]
    },
    {
      "metadata": {
        "deletable": true,
        "editable": true,
        "id": "Vy0e2XU1LJyq",
        "colab_type": "code",
        "colab": {}
      },
      "cell_type": "code",
      "source": [
        "obj = pd.Series([4.5, 7.2, -5.3, 3.6], index=['d', 'b', 'a', 'c'])\n",
        "obj"
      ],
      "execution_count": 0,
      "outputs": []
    },
    {
      "metadata": {
        "deletable": true,
        "editable": true,
        "id": "gosv8QUoLJys",
        "colab_type": "code",
        "colab": {}
      },
      "cell_type": "code",
      "source": [
        "obj2 = obj.reindex(['a', 'b', 'c', 'd', 'e'])\n",
        "obj2"
      ],
      "execution_count": 0,
      "outputs": []
    },
    {
      "metadata": {
        "deletable": true,
        "editable": true,
        "id": "JMQ4sRdwLJyu",
        "colab_type": "code",
        "colab": {}
      },
      "cell_type": "code",
      "source": [
        "obj3 = pd.Series(['blue', 'purple', 'yellow'], index=[0, 2, 4])\n",
        "obj3\n",
        "obj3.reindex(range(6), method='ffill')"
      ],
      "execution_count": 0,
      "outputs": []
    },
    {
      "metadata": {
        "deletable": true,
        "editable": true,
        "id": "r7W-vZ3FLJyv",
        "colab_type": "code",
        "colab": {}
      },
      "cell_type": "code",
      "source": [
        "frame = pd.DataFrame(np.arange(9).reshape((3, 3)),\n",
        "                     index=['a', 'c', 'd'],\n",
        "                     columns=['Ohio', 'Texas', 'California'])\n",
        "frame\n",
        "frame2 = frame.reindex(['a', 'b', 'c', 'd'])\n",
        "frame2"
      ],
      "execution_count": 0,
      "outputs": []
    },
    {
      "metadata": {
        "deletable": true,
        "editable": true,
        "id": "ukZj_8VpLJyx",
        "colab_type": "code",
        "colab": {}
      },
      "cell_type": "code",
      "source": [
        "states = ['Texas', 'Utah', 'California']\n",
        "frame.reindex(columns=states)"
      ],
      "execution_count": 0,
      "outputs": []
    },
    {
      "metadata": {
        "deletable": true,
        "editable": true,
        "id": "V73QBqwALJy3",
        "colab_type": "code",
        "colab": {}
      },
      "cell_type": "code",
      "source": [
        "frame.loc[['a', 'b', 'c', 'd'], states]"
      ],
      "execution_count": 0,
      "outputs": []
    },
    {
      "metadata": {
        "deletable": true,
        "editable": true,
        "id": "Zbjp_0TFLJy5",
        "colab_type": "text"
      },
      "cell_type": "markdown",
      "source": [
        "### Dropping Entries from an Axis"
      ]
    },
    {
      "metadata": {
        "deletable": true,
        "editable": true,
        "id": "HzRt4KspLJy6",
        "colab_type": "code",
        "colab": {}
      },
      "cell_type": "code",
      "source": [
        "obj = pd.Series(np.arange(5.), index=['a', 'b', 'c', 'd', 'e'])\n",
        "obj\n",
        "new_obj = obj.drop('c')\n",
        "new_obj\n",
        "obj.drop(['d', 'c'])"
      ],
      "execution_count": 0,
      "outputs": []
    },
    {
      "metadata": {
        "deletable": true,
        "editable": true,
        "id": "YIRRpQgFLJy7",
        "colab_type": "code",
        "colab": {}
      },
      "cell_type": "code",
      "source": [
        "data = pd.DataFrame(np.arange(16).reshape((4, 4)),\n",
        "                    index=['Ohio', 'Colorado', 'Utah', 'New York'],\n",
        "                    columns=['one', 'two', 'three', 'four'])\n",
        "data"
      ],
      "execution_count": 0,
      "outputs": []
    },
    {
      "metadata": {
        "deletable": true,
        "editable": true,
        "id": "SIXScBzBLJy_",
        "colab_type": "code",
        "colab": {}
      },
      "cell_type": "code",
      "source": [
        "data.drop(['Colorado', 'Ohio'])"
      ],
      "execution_count": 0,
      "outputs": []
    },
    {
      "metadata": {
        "deletable": true,
        "editable": true,
        "id": "WVpNSguoLJzA",
        "colab_type": "code",
        "colab": {}
      },
      "cell_type": "code",
      "source": [
        "data.drop('two', axis=1)\n",
        "data.drop(['two', 'four'], axis='columns')"
      ],
      "execution_count": 0,
      "outputs": []
    },
    {
      "metadata": {
        "deletable": true,
        "editable": true,
        "id": "ct6GJL4SLJzB",
        "colab_type": "code",
        "colab": {}
      },
      "cell_type": "code",
      "source": [
        "obj.drop('c', inplace=True)\n",
        "obj"
      ],
      "execution_count": 0,
      "outputs": []
    },
    {
      "metadata": {
        "deletable": true,
        "editable": true,
        "id": "yLoIOtroLJzC",
        "colab_type": "text"
      },
      "cell_type": "markdown",
      "source": [
        "### Indexing, Selection, and Filtering"
      ]
    },
    {
      "metadata": {
        "deletable": true,
        "editable": true,
        "id": "ZIjMBl6oLJzD",
        "colab_type": "code",
        "colab": {}
      },
      "cell_type": "code",
      "source": [
        "obj = pd.Series(np.arange(4.), index=['a', 'b', 'c', 'd'])\n",
        "obj\n",
        "obj['b']\n",
        "obj[1]\n",
        "obj[2:4]\n",
        "obj[['b', 'a', 'd']]\n",
        "obj[[1, 3]]\n",
        "obj[obj < 2]"
      ],
      "execution_count": 0,
      "outputs": []
    },
    {
      "metadata": {
        "deletable": true,
        "editable": true,
        "id": "qb-MEnusLJzE",
        "colab_type": "code",
        "colab": {}
      },
      "cell_type": "code",
      "source": [
        "obj['b':'c']"
      ],
      "execution_count": 0,
      "outputs": []
    },
    {
      "metadata": {
        "deletable": true,
        "editable": true,
        "id": "lJCe32PjLJzF",
        "colab_type": "code",
        "colab": {}
      },
      "cell_type": "code",
      "source": [
        "obj['b':'c'] = 5\n",
        "obj"
      ],
      "execution_count": 0,
      "outputs": []
    },
    {
      "metadata": {
        "deletable": true,
        "editable": true,
        "id": "fEW67WFOLJzI",
        "colab_type": "code",
        "colab": {}
      },
      "cell_type": "code",
      "source": [
        "data = pd.DataFrame(np.arange(16).reshape((4, 4)),\n",
        "                    index=['Ohio', 'Colorado', 'Utah', 'New York'],\n",
        "                    columns=['one', 'two', 'three', 'four'])\n",
        "data\n",
        "data['two']\n",
        "data[['three', 'one']]"
      ],
      "execution_count": 0,
      "outputs": []
    },
    {
      "metadata": {
        "deletable": true,
        "editable": true,
        "id": "rL23iqgsLJzJ",
        "colab_type": "code",
        "colab": {}
      },
      "cell_type": "code",
      "source": [
        "data[:2]\n",
        "data[data['three'] > 5]"
      ],
      "execution_count": 0,
      "outputs": []
    },
    {
      "metadata": {
        "deletable": true,
        "editable": true,
        "id": "EectpyipLJzK",
        "colab_type": "code",
        "colab": {}
      },
      "cell_type": "code",
      "source": [
        "data < 5\n",
        "data[data < 5] = 0\n",
        "data"
      ],
      "execution_count": 0,
      "outputs": []
    },
    {
      "metadata": {
        "deletable": true,
        "editable": true,
        "id": "zRp-fnDLLJzM",
        "colab_type": "text"
      },
      "cell_type": "markdown",
      "source": [
        "#### Selection with loc and iloc"
      ]
    },
    {
      "metadata": {
        "deletable": true,
        "editable": true,
        "id": "IAUYe2ioLJzM",
        "colab_type": "code",
        "colab": {}
      },
      "cell_type": "code",
      "source": [
        "data.loc['Colorado', ['two', 'three']]"
      ],
      "execution_count": 0,
      "outputs": []
    },
    {
      "metadata": {
        "deletable": true,
        "editable": true,
        "id": "x_szA5YtLJzO",
        "colab_type": "code",
        "colab": {}
      },
      "cell_type": "code",
      "source": [
        "data.iloc[2, [3, 0, 1]]\n",
        "data.iloc[2]\n",
        "data.iloc[[1, 2], [3, 0, 1]]"
      ],
      "execution_count": 0,
      "outputs": []
    },
    {
      "metadata": {
        "deletable": true,
        "editable": true,
        "id": "Wuj-pKk6LJzP",
        "colab_type": "code",
        "colab": {}
      },
      "cell_type": "code",
      "source": [
        "data.loc[:'Utah', 'two']\n",
        "data.iloc[:, :3][data.three > 5]"
      ],
      "execution_count": 0,
      "outputs": []
    },
    {
      "metadata": {
        "deletable": true,
        "editable": true,
        "id": "yFb4E0xwLJzR",
        "colab_type": "text"
      },
      "cell_type": "markdown",
      "source": [
        "### Integer Indexes"
      ]
    },
    {
      "metadata": {
        "deletable": true,
        "editable": true,
        "id": "ZuWiK7eTLJzR",
        "colab_type": "text"
      },
      "cell_type": "markdown",
      "source": [
        "ser = pd.Series(np.arange(3.))\n",
        "ser\n",
        "ser[-1]"
      ]
    },
    {
      "metadata": {
        "deletable": true,
        "editable": true,
        "id": "AvyWXwVwLJzR",
        "colab_type": "code",
        "colab": {}
      },
      "cell_type": "code",
      "source": [
        "ser = pd.Series(np.arange(3.))"
      ],
      "execution_count": 0,
      "outputs": []
    },
    {
      "metadata": {
        "deletable": true,
        "editable": true,
        "id": "uY-JefXULJzS",
        "colab_type": "code",
        "colab": {}
      },
      "cell_type": "code",
      "source": [
        "ser"
      ],
      "execution_count": 0,
      "outputs": []
    },
    {
      "metadata": {
        "deletable": true,
        "editable": true,
        "id": "l_AU_eEuLJzU",
        "colab_type": "code",
        "colab": {}
      },
      "cell_type": "code",
      "source": [
        "ser2 = pd.Series(np.arange(3.), index=['a', 'b', 'c'])\n",
        "ser2[-1]"
      ],
      "execution_count": 0,
      "outputs": []
    },
    {
      "metadata": {
        "deletable": true,
        "editable": true,
        "id": "8eTkOYn0LJzW",
        "colab_type": "code",
        "colab": {}
      },
      "cell_type": "code",
      "source": [
        "ser[:1]\n",
        "ser.loc[:1]\n",
        "ser.iloc[:1]"
      ],
      "execution_count": 0,
      "outputs": []
    },
    {
      "metadata": {
        "deletable": true,
        "editable": true,
        "id": "Wq6nan5nLJzY",
        "colab_type": "text"
      },
      "cell_type": "markdown",
      "source": [
        "### Arithmetic and Data Alignment"
      ]
    },
    {
      "metadata": {
        "deletable": true,
        "editable": true,
        "id": "QkqGtuPqLJzb",
        "colab_type": "code",
        "colab": {}
      },
      "cell_type": "code",
      "source": [
        "s1 = pd.Series([7.3, -2.5, 3.4, 1.5], index=['a', 'c', 'd', 'e'])\n",
        "s2 = pd.Series([-2.1, 3.6, -1.5, 4, 3.1],\n",
        "               index=['a', 'c', 'e', 'f', 'g'])\n",
        "s1\n",
        "s2"
      ],
      "execution_count": 0,
      "outputs": []
    },
    {
      "metadata": {
        "deletable": true,
        "editable": true,
        "id": "fji0fVXELJzc",
        "colab_type": "code",
        "colab": {}
      },
      "cell_type": "code",
      "source": [
        "s1 + s2"
      ],
      "execution_count": 0,
      "outputs": []
    },
    {
      "metadata": {
        "deletable": true,
        "editable": true,
        "id": "OVQO6faHLJzd",
        "colab_type": "code",
        "colab": {}
      },
      "cell_type": "code",
      "source": [
        "df1 = pd.DataFrame(np.arange(9.).reshape((3, 3)), columns=list('bcd'),\n",
        "                   index=['Ohio', 'Texas', 'Colorado'])\n",
        "df2 = pd.DataFrame(np.arange(12.).reshape((4, 3)), columns=list('bde'),\n",
        "                   index=['Utah', 'Ohio', 'Texas', 'Oregon'])\n",
        "df1\n",
        "df2"
      ],
      "execution_count": 0,
      "outputs": []
    },
    {
      "metadata": {
        "deletable": true,
        "editable": true,
        "id": "EuCbknYTLJze",
        "colab_type": "code",
        "colab": {}
      },
      "cell_type": "code",
      "source": [
        "df1 + df2"
      ],
      "execution_count": 0,
      "outputs": []
    },
    {
      "metadata": {
        "deletable": true,
        "editable": true,
        "id": "Ok-GNeoBLJzm",
        "colab_type": "code",
        "colab": {}
      },
      "cell_type": "code",
      "source": [
        "df1 = pd.DataFrame({'A': [1, 2]})\n",
        "df2 = pd.DataFrame({'B': [3, 4]})\n",
        "df1\n",
        "df2\n",
        "df1 - df2"
      ],
      "execution_count": 0,
      "outputs": []
    },
    {
      "metadata": {
        "deletable": true,
        "editable": true,
        "id": "XyIdrQXALJzo",
        "colab_type": "text"
      },
      "cell_type": "markdown",
      "source": [
        "#### Arithmetic methods with fill values"
      ]
    },
    {
      "metadata": {
        "deletable": true,
        "editable": true,
        "id": "smX8UdTcLJzp",
        "colab_type": "code",
        "colab": {}
      },
      "cell_type": "code",
      "source": [
        "df1 = pd.DataFrame(np.arange(12.).reshape((3, 4)),\n",
        "                   columns=list('abcd'))\n",
        "df2 = pd.DataFrame(np.arange(20.).reshape((4, 5)),\n",
        "                   columns=list('abcde'))\n",
        "df2.loc[1, 'b'] = np.nan\n",
        "df1\n",
        "df2"
      ],
      "execution_count": 0,
      "outputs": []
    },
    {
      "metadata": {
        "deletable": true,
        "editable": true,
        "id": "2zJuAkipLJzq",
        "colab_type": "code",
        "colab": {}
      },
      "cell_type": "code",
      "source": [
        "df1 + df2"
      ],
      "execution_count": 0,
      "outputs": []
    },
    {
      "metadata": {
        "deletable": true,
        "editable": true,
        "id": "xo22f-zOLJzs",
        "colab_type": "code",
        "colab": {}
      },
      "cell_type": "code",
      "source": [
        "df1.add(df2, fill_value=0)"
      ],
      "execution_count": 0,
      "outputs": []
    },
    {
      "metadata": {
        "deletable": true,
        "editable": true,
        "id": "owLRLuCjLJzt",
        "colab_type": "code",
        "colab": {}
      },
      "cell_type": "code",
      "source": [
        "1 / df1\n",
        "df1.rdiv(1)"
      ],
      "execution_count": 0,
      "outputs": []
    },
    {
      "metadata": {
        "deletable": true,
        "editable": true,
        "id": "AkMYPSEGLJz1",
        "colab_type": "code",
        "colab": {}
      },
      "cell_type": "code",
      "source": [
        "df1.reindex(columns=df2.columns, fill_value=0)"
      ],
      "execution_count": 0,
      "outputs": []
    },
    {
      "metadata": {
        "deletable": true,
        "editable": true,
        "id": "hddPETh_LJz7",
        "colab_type": "text"
      },
      "cell_type": "markdown",
      "source": [
        "#### Operations between DataFrame and Series"
      ]
    },
    {
      "metadata": {
        "deletable": true,
        "editable": true,
        "id": "G6YXfndsLJz7",
        "colab_type": "code",
        "colab": {}
      },
      "cell_type": "code",
      "source": [
        "arr = np.arange(12.).reshape((3, 4))\n",
        "arr\n",
        "arr[0]\n",
        "arr - arr[0]"
      ],
      "execution_count": 0,
      "outputs": []
    },
    {
      "metadata": {
        "deletable": true,
        "editable": true,
        "id": "0avRzUfnLJ0A",
        "colab_type": "code",
        "colab": {}
      },
      "cell_type": "code",
      "source": [
        "frame = pd.DataFrame(np.arange(12.).reshape((4, 3)),\n",
        "                     columns=list('bde'),\n",
        "                     index=['Utah', 'Ohio', 'Texas', 'Oregon'])\n",
        "series = frame.iloc[0]\n",
        "frame\n",
        "series"
      ],
      "execution_count": 0,
      "outputs": []
    },
    {
      "metadata": {
        "deletable": true,
        "editable": true,
        "id": "YfNKyg_OLJ0B",
        "colab_type": "code",
        "colab": {}
      },
      "cell_type": "code",
      "source": [
        "frame - series"
      ],
      "execution_count": 0,
      "outputs": []
    },
    {
      "metadata": {
        "deletable": true,
        "editable": true,
        "id": "k6lfq0kuLJ0D",
        "colab_type": "code",
        "colab": {}
      },
      "cell_type": "code",
      "source": [
        "series2 = pd.Series(range(3), index=['b', 'e', 'f'])\n",
        "frame + series2"
      ],
      "execution_count": 0,
      "outputs": []
    },
    {
      "metadata": {
        "deletable": true,
        "editable": true,
        "id": "O7yDGw0cLJ0F",
        "colab_type": "code",
        "colab": {}
      },
      "cell_type": "code",
      "source": [
        "series3 = frame['d']\n",
        "frame\n",
        "series3\n",
        "frame.sub(series3, axis='index')"
      ],
      "execution_count": 0,
      "outputs": []
    },
    {
      "metadata": {
        "deletable": true,
        "editable": true,
        "id": "8_gPhBmALJ0K",
        "colab_type": "text"
      },
      "cell_type": "markdown",
      "source": [
        "### Function Application and Mapping"
      ]
    },
    {
      "metadata": {
        "deletable": true,
        "editable": true,
        "id": "6kR0gHvHLJ0K",
        "colab_type": "code",
        "colab": {}
      },
      "cell_type": "code",
      "source": [
        "frame = pd.DataFrame(np.random.randn(4, 3), columns=list('bde'),\n",
        "                     index=['Utah', 'Ohio', 'Texas', 'Oregon'])\n",
        "frame\n",
        "np.abs(frame)"
      ],
      "execution_count": 0,
      "outputs": []
    },
    {
      "metadata": {
        "deletable": true,
        "editable": true,
        "id": "6El_x-B9LJ0M",
        "colab_type": "code",
        "colab": {}
      },
      "cell_type": "code",
      "source": [
        "f = lambda x: x.max() - x.min()\n",
        "frame.apply(f)"
      ],
      "execution_count": 0,
      "outputs": []
    },
    {
      "metadata": {
        "deletable": true,
        "editable": true,
        "id": "7iMT5XpALJ0N",
        "colab_type": "code",
        "colab": {}
      },
      "cell_type": "code",
      "source": [
        "frame.apply(f, axis='columns')"
      ],
      "execution_count": 0,
      "outputs": []
    },
    {
      "metadata": {
        "deletable": true,
        "editable": true,
        "id": "2-J4fY2gLJ0O",
        "colab_type": "code",
        "colab": {}
      },
      "cell_type": "code",
      "source": [
        "def f(x):\n",
        "    return pd.Series([x.min(), x.max()], index=['min', 'max'])\n",
        "frame.apply(f)"
      ],
      "execution_count": 0,
      "outputs": []
    },
    {
      "metadata": {
        "deletable": true,
        "editable": true,
        "id": "5pSgJjJOLJ0P",
        "colab_type": "code",
        "colab": {}
      },
      "cell_type": "code",
      "source": [
        "format = lambda x: '%.2f' % x\n",
        "frame.applymap(format)"
      ],
      "execution_count": 0,
      "outputs": []
    },
    {
      "metadata": {
        "deletable": true,
        "editable": true,
        "id": "IsGblIRrLJ0R",
        "colab_type": "code",
        "colab": {}
      },
      "cell_type": "code",
      "source": [
        "frame['e'].map(format)"
      ],
      "execution_count": 0,
      "outputs": []
    },
    {
      "metadata": {
        "deletable": true,
        "editable": true,
        "id": "QdVPG6HLLJ0S",
        "colab_type": "text"
      },
      "cell_type": "markdown",
      "source": [
        "### Sorting and Ranking"
      ]
    },
    {
      "metadata": {
        "deletable": true,
        "editable": true,
        "id": "dKb-owFsLJ0T",
        "colab_type": "code",
        "colab": {}
      },
      "cell_type": "code",
      "source": [
        "obj = pd.Series(range(4), index=['d', 'a', 'b', 'c'])\n",
        "obj.sort_index()"
      ],
      "execution_count": 0,
      "outputs": []
    },
    {
      "metadata": {
        "deletable": true,
        "editable": true,
        "id": "dfcFKFeoLJ0U",
        "colab_type": "code",
        "colab": {}
      },
      "cell_type": "code",
      "source": [
        "frame = pd.DataFrame(np.arange(8).reshape((2, 4)),\n",
        "                     index=['three', 'one'],\n",
        "                     columns=['d', 'a', 'b', 'c'])\n",
        "frame.sort_index()\n",
        "frame.sort_index(axis=1)"
      ],
      "execution_count": 0,
      "outputs": []
    },
    {
      "metadata": {
        "deletable": true,
        "editable": true,
        "id": "xeX3FqVVLJ0V",
        "colab_type": "code",
        "colab": {}
      },
      "cell_type": "code",
      "source": [
        "frame.sort_index(axis=1, ascending=False)"
      ],
      "execution_count": 0,
      "outputs": []
    },
    {
      "metadata": {
        "deletable": true,
        "editable": true,
        "id": "fonnbyKZLJ0W",
        "colab_type": "code",
        "colab": {}
      },
      "cell_type": "code",
      "source": [
        "obj = pd.Series([4, 7, -3, 2])\n",
        "obj.sort_values()"
      ],
      "execution_count": 0,
      "outputs": []
    },
    {
      "metadata": {
        "deletable": true,
        "editable": true,
        "id": "9XTaPWuYLJ0X",
        "colab_type": "code",
        "colab": {}
      },
      "cell_type": "code",
      "source": [
        "obj = pd.Series([4, np.nan, 7, np.nan, -3, 2])\n",
        "obj.sort_values()"
      ],
      "execution_count": 0,
      "outputs": []
    },
    {
      "metadata": {
        "deletable": true,
        "editable": true,
        "id": "ets6rh8ULJ0Y",
        "colab_type": "code",
        "colab": {}
      },
      "cell_type": "code",
      "source": [
        "frame = pd.DataFrame({'b': [4, 7, -3, 2], 'a': [0, 1, 0, 1]})\n",
        "frame\n",
        "frame.sort_values(by='b')"
      ],
      "execution_count": 0,
      "outputs": []
    },
    {
      "metadata": {
        "deletable": true,
        "editable": true,
        "id": "K5_AFINALJ0Z",
        "colab_type": "code",
        "colab": {}
      },
      "cell_type": "code",
      "source": [
        "frame.sort_values(by=['a', 'b'])"
      ],
      "execution_count": 0,
      "outputs": []
    },
    {
      "metadata": {
        "deletable": true,
        "editable": true,
        "id": "w4AYteszLJ0a",
        "colab_type": "code",
        "colab": {}
      },
      "cell_type": "code",
      "source": [
        "obj = pd.Series([7, -5, 7, 4, 2, 0, 4])\n",
        "obj.rank()"
      ],
      "execution_count": 0,
      "outputs": []
    },
    {
      "metadata": {
        "deletable": true,
        "editable": true,
        "id": "Ate3arliLJ0b",
        "colab_type": "code",
        "colab": {}
      },
      "cell_type": "code",
      "source": [
        "obj.rank(method='first')"
      ],
      "execution_count": 0,
      "outputs": []
    },
    {
      "metadata": {
        "deletable": true,
        "editable": true,
        "id": "k4MhjITCLJ0d",
        "colab_type": "code",
        "colab": {}
      },
      "cell_type": "code",
      "source": [
        "# Assign tie values the maximum rank in the group\n",
        "obj.rank(ascending=False, method='max')"
      ],
      "execution_count": 0,
      "outputs": []
    },
    {
      "metadata": {
        "deletable": true,
        "editable": true,
        "id": "wnOHknsCLJ0e",
        "colab_type": "code",
        "colab": {}
      },
      "cell_type": "code",
      "source": [
        "frame = pd.DataFrame({'b': [4.3, 7, -3, 2], 'a': [0, 1, 0, 1],\n",
        "                      'c': [-2, 5, 8, -2.5]})\n",
        "frame\n",
        "frame.rank(axis='columns')"
      ],
      "execution_count": 0,
      "outputs": []
    },
    {
      "metadata": {
        "deletable": true,
        "editable": true,
        "id": "GAPM3bKGLJ0f",
        "colab_type": "text"
      },
      "cell_type": "markdown",
      "source": [
        "### Axis Indexes with Duplicate Labels"
      ]
    },
    {
      "metadata": {
        "deletable": true,
        "editable": true,
        "id": "8xU2547yLJ0g",
        "colab_type": "code",
        "colab": {}
      },
      "cell_type": "code",
      "source": [
        "obj = pd.Series(range(5), index=['a', 'a', 'b', 'b', 'c'])\n",
        "obj"
      ],
      "execution_count": 0,
      "outputs": []
    },
    {
      "metadata": {
        "deletable": true,
        "editable": true,
        "id": "1qA4V6qVLJ0h",
        "colab_type": "code",
        "colab": {}
      },
      "cell_type": "code",
      "source": [
        "obj.index.is_unique"
      ],
      "execution_count": 0,
      "outputs": []
    },
    {
      "metadata": {
        "deletable": true,
        "editable": true,
        "id": "Lxy_7eSVLJ0j",
        "colab_type": "code",
        "colab": {}
      },
      "cell_type": "code",
      "source": [
        "obj['a']\n",
        "obj['c']"
      ],
      "execution_count": 0,
      "outputs": []
    },
    {
      "metadata": {
        "deletable": true,
        "editable": true,
        "id": "gRTJdXSELJ0n",
        "colab_type": "code",
        "colab": {}
      },
      "cell_type": "code",
      "source": [
        "df = pd.DataFrame(np.random.randn(4, 3), index=['a', 'a', 'b', 'b'])\n",
        "df\n",
        "df.loc['b']"
      ],
      "execution_count": 0,
      "outputs": []
    },
    {
      "metadata": {
        "deletable": true,
        "editable": true,
        "id": "1tzJX71WLJ0o",
        "colab_type": "text"
      },
      "cell_type": "markdown",
      "source": [
        "## Summarizing and Computing Descriptive Statistics"
      ]
    },
    {
      "metadata": {
        "deletable": true,
        "editable": true,
        "id": "XK6HifTPLJ0o",
        "colab_type": "code",
        "colab": {}
      },
      "cell_type": "code",
      "source": [
        "df = pd.DataFrame([[1.4, np.nan], [7.1, -4.5],\n",
        "                   [np.nan, np.nan], [0.75, -1.3]],\n",
        "                  index=['a', 'b', 'c', 'd'],\n",
        "                  columns=['one', 'two'])\n",
        "df"
      ],
      "execution_count": 0,
      "outputs": []
    },
    {
      "metadata": {
        "deletable": true,
        "editable": true,
        "id": "qLePud5vLJ0p",
        "colab_type": "code",
        "colab": {}
      },
      "cell_type": "code",
      "source": [
        "df.sum()"
      ],
      "execution_count": 0,
      "outputs": []
    },
    {
      "metadata": {
        "deletable": true,
        "editable": true,
        "id": "815EOlc4LJ0q",
        "colab_type": "code",
        "colab": {}
      },
      "cell_type": "code",
      "source": [
        "df.sum(axis='columns')"
      ],
      "execution_count": 0,
      "outputs": []
    },
    {
      "metadata": {
        "deletable": true,
        "editable": true,
        "id": "RuHiO28rLJ0s",
        "colab_type": "code",
        "colab": {}
      },
      "cell_type": "code",
      "source": [
        "df.mean(axis='columns', skipna=False)"
      ],
      "execution_count": 0,
      "outputs": []
    },
    {
      "metadata": {
        "deletable": true,
        "editable": true,
        "id": "HwfcmiYwLJ0t",
        "colab_type": "code",
        "colab": {}
      },
      "cell_type": "code",
      "source": [
        "df.idxmax()"
      ],
      "execution_count": 0,
      "outputs": []
    },
    {
      "metadata": {
        "deletable": true,
        "editable": true,
        "id": "-rj-DZUnLJ0u",
        "colab_type": "code",
        "colab": {}
      },
      "cell_type": "code",
      "source": [
        "df.cumsum()"
      ],
      "execution_count": 0,
      "outputs": []
    },
    {
      "metadata": {
        "deletable": true,
        "editable": true,
        "id": "ol25NQ-jLJ0v",
        "colab_type": "code",
        "colab": {}
      },
      "cell_type": "code",
      "source": [
        "df.describe()"
      ],
      "execution_count": 0,
      "outputs": []
    },
    {
      "metadata": {
        "deletable": true,
        "editable": true,
        "id": "i1wZQgN4LJ0w",
        "colab_type": "code",
        "colab": {}
      },
      "cell_type": "code",
      "source": [
        "obj = pd.Series(['a', 'a', 'b', 'c'] * 4)\n",
        "obj.describe()"
      ],
      "execution_count": 0,
      "outputs": []
    },
    {
      "metadata": {
        "deletable": true,
        "editable": true,
        "id": "0b0xwSgULJ0x",
        "colab_type": "text"
      },
      "cell_type": "markdown",
      "source": [
        "### Correlation and Covariance"
      ]
    },
    {
      "metadata": {
        "deletable": true,
        "editable": true,
        "id": "SXrF98lQLJ0y",
        "colab_type": "text"
      },
      "cell_type": "markdown",
      "source": [
        "conda install pandas-datareader"
      ]
    },
    {
      "metadata": {
        "deletable": true,
        "editable": true,
        "id": "x7GgD9LLLJ0z",
        "colab_type": "code",
        "colab": {}
      },
      "cell_type": "code",
      "source": [
        "price = pd.read_pickle('examples/yahoo_price.pkl')\n",
        "volume = pd.read_pickle('examples/yahoo_volume.pkl')"
      ],
      "execution_count": 0,
      "outputs": []
    },
    {
      "metadata": {
        "deletable": true,
        "editable": true,
        "id": "5LeKEs37LJ00",
        "colab_type": "text"
      },
      "cell_type": "markdown",
      "source": [
        "import pandas_datareader.data as web\n",
        "all_data = {ticker: web.get_data_yahoo(ticker)\n",
        "            for ticker in ['AAPL', 'IBM', 'MSFT', 'GOOG']}\n",
        "\n",
        "price = pd.DataFrame({ticker: data['Adj Close']\n",
        "                     for ticker, data in all_data.items()})\n",
        "volume = pd.DataFrame({ticker: data['Volume']\n",
        "                      for ticker, data in all_data.items()})"
      ]
    },
    {
      "metadata": {
        "deletable": true,
        "editable": true,
        "id": "QYsfv8fYLJ01",
        "colab_type": "code",
        "colab": {}
      },
      "cell_type": "code",
      "source": [
        "returns = price.pct_change()\n",
        "returns.tail()"
      ],
      "execution_count": 0,
      "outputs": []
    },
    {
      "metadata": {
        "deletable": true,
        "editable": true,
        "id": "WYwQUnJuLJ02",
        "colab_type": "code",
        "colab": {}
      },
      "cell_type": "code",
      "source": [
        "returns['MSFT'].corr(returns['IBM'])\n",
        "returns['MSFT'].cov(returns['IBM'])"
      ],
      "execution_count": 0,
      "outputs": []
    },
    {
      "metadata": {
        "deletable": true,
        "editable": true,
        "id": "9T-stv3vLJ03",
        "colab_type": "code",
        "colab": {}
      },
      "cell_type": "code",
      "source": [
        "returns.MSFT.corr(returns.IBM)"
      ],
      "execution_count": 0,
      "outputs": []
    },
    {
      "metadata": {
        "deletable": true,
        "editable": true,
        "id": "7Nsb53QULJ05",
        "colab_type": "code",
        "colab": {}
      },
      "cell_type": "code",
      "source": [
        "returns.corr()\n",
        "returns.cov()"
      ],
      "execution_count": 0,
      "outputs": []
    },
    {
      "metadata": {
        "deletable": true,
        "editable": true,
        "id": "s7GgUdCmLJ06",
        "colab_type": "code",
        "colab": {}
      },
      "cell_type": "code",
      "source": [
        "returns.corrwith(returns.IBM)"
      ],
      "execution_count": 0,
      "outputs": []
    },
    {
      "metadata": {
        "deletable": true,
        "editable": true,
        "id": "L37tLcr3LJ07",
        "colab_type": "code",
        "colab": {}
      },
      "cell_type": "code",
      "source": [
        "returns.corrwith(volume)"
      ],
      "execution_count": 0,
      "outputs": []
    },
    {
      "metadata": {
        "deletable": true,
        "editable": true,
        "id": "cNgSQ2YsLJ08",
        "colab_type": "text"
      },
      "cell_type": "markdown",
      "source": [
        "### Unique Values, Value Counts, and Membership"
      ]
    },
    {
      "metadata": {
        "deletable": true,
        "editable": true,
        "id": "K2Uv0Vq2LJ09",
        "colab_type": "code",
        "colab": {}
      },
      "cell_type": "code",
      "source": [
        "obj = pd.Series(['c', 'a', 'd', 'a', 'a', 'b', 'b', 'c', 'c'])"
      ],
      "execution_count": 0,
      "outputs": []
    },
    {
      "metadata": {
        "deletable": true,
        "editable": true,
        "id": "eP_e4i1PLJ0_",
        "colab_type": "code",
        "colab": {}
      },
      "cell_type": "code",
      "source": [
        "uniques = obj.unique()\n",
        "uniques"
      ],
      "execution_count": 0,
      "outputs": []
    },
    {
      "metadata": {
        "deletable": true,
        "editable": true,
        "id": "TRSkbZ1LLJ1A",
        "colab_type": "code",
        "colab": {}
      },
      "cell_type": "code",
      "source": [
        "obj.value_counts()"
      ],
      "execution_count": 0,
      "outputs": []
    },
    {
      "metadata": {
        "deletable": true,
        "editable": true,
        "id": "h2sXGbRTLJ1B",
        "colab_type": "code",
        "colab": {}
      },
      "cell_type": "code",
      "source": [
        "pd.value_counts(obj.values, sort=False)"
      ],
      "execution_count": 0,
      "outputs": []
    },
    {
      "metadata": {
        "deletable": true,
        "editable": true,
        "id": "ezfKdt_bLJ1C",
        "colab_type": "code",
        "colab": {}
      },
      "cell_type": "code",
      "source": [
        "obj\n",
        "mask = obj.isin(['b', 'c'])\n",
        "mask\n",
        "obj[mask]"
      ],
      "execution_count": 0,
      "outputs": []
    },
    {
      "metadata": {
        "deletable": true,
        "editable": true,
        "id": "vExs8aVdLJ1E",
        "colab_type": "code",
        "colab": {}
      },
      "cell_type": "code",
      "source": [
        "to_match = pd.Series(['c', 'a', 'b', 'b', 'c', 'a'])\n",
        "unique_vals = pd.Series(['c', 'b', 'a'])\n",
        "pd.Index(unique_vals).get_indexer(to_match)"
      ],
      "execution_count": 0,
      "outputs": []
    },
    {
      "metadata": {
        "deletable": true,
        "editable": true,
        "id": "i7nJUm-5LJ1F",
        "colab_type": "code",
        "colab": {}
      },
      "cell_type": "code",
      "source": [
        "data = pd.DataFrame({'Qu1': [1, 3, 4, 3, 4],\n",
        "                     'Qu2': [2, 3, 1, 2, 3],\n",
        "                     'Qu3': [1, 5, 2, 4, 4]})\n",
        "data"
      ],
      "execution_count": 0,
      "outputs": []
    },
    {
      "metadata": {
        "deletable": true,
        "editable": true,
        "id": "r_OPjZs7LJ1G",
        "colab_type": "code",
        "colab": {}
      },
      "cell_type": "code",
      "source": [
        "result = data.apply(pd.value_counts).fillna(0)\n",
        "result"
      ],
      "execution_count": 0,
      "outputs": []
    },
    {
      "metadata": {
        "deletable": true,
        "editable": true,
        "id": "Lmk-GzbhLJ1H",
        "colab_type": "text"
      },
      "cell_type": "markdown",
      "source": [
        "## Conclusion"
      ]
    },
    {
      "metadata": {
        "deletable": true,
        "editable": true,
        "id": "O2om0fk9LJ1H",
        "colab_type": "code",
        "colab": {}
      },
      "cell_type": "code",
      "source": [
        "pd.options.display.max_rows = PREVIOUS_MAX_ROWS"
      ],
      "execution_count": 0,
      "outputs": []
    }
  ]
}