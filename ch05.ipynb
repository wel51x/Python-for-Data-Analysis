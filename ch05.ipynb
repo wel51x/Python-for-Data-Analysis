{
  "nbformat": 4,
  "nbformat_minor": 0,
  "metadata": {
    "colab": {
      "name": "ch05.ipynb",
      "version": "0.3.2",
      "provenance": [],
      "collapsed_sections": [
        "-RtEk426LJxs",
        "D_pM8mpeLJyf",
        "e4i36NkwLJyq",
        "Zbjp_0TFLJy5",
        "yLoIOtroLJzC",
        "zRp-fnDLLJzM",
        "yFb4E0xwLJzR",
        "Wq6nan5nLJzY",
        "XyIdrQXALJzo",
        "hddPETh_LJz7",
        "8_gPhBmALJ0K",
        "QdVPG6HLLJ0S",
        "GAPM3bKGLJ0f",
        "0b0xwSgULJ0x",
        "cNgSQ2YsLJ08"
      ],
      "include_colab_link": true
    },
    "kernelspec": {
      "display_name": "Python 3",
      "language": "python",
      "name": "python3"
    }
  },
  "cells": [
    {
      "cell_type": "markdown",
      "metadata": {
        "id": "view-in-github",
        "colab_type": "text"
      },
      "source": [
        "<a href=\"https://colab.research.google.com/github/wel51x/Python-for-Data-Analysis/blob/master/ch05.ipynb\" target=\"_parent\"><img src=\"https://colab.research.google.com/assets/colab-badge.svg\" alt=\"Open In Colab\"/></a>"
      ]
    },
    {
      "metadata": {
        "deletable": true,
        "editable": true,
        "id": "G7Sz9d7mLJwT",
        "colab_type": "text"
      },
      "cell_type": "markdown",
      "source": [
        "# CHAPTER 5: Getting Started with pandas\n",
        "pandas will be a major tool of interest throughout much of the rest of the book. It\n",
        "contains data structures and data manipulation tools designed to make data cleaning\n",
        "and analysis fast and easy in Python. pandas is often used in tandem with numerical\n",
        "computing tools like NumPy and SciPy, analytical libraries like statsmodels and\n",
        "scikit-learn, and data visualization libraries like matplotlib. pandas adopts significant\n",
        "parts of NumPy’s idiomatic style of array-based computing, especially array-based\n",
        "functions and a preference for data processing without for loops.\n",
        "\n",
        "While pandas adopts many coding idioms from NumPy, the biggest difference is that\n",
        "pandas is designed for working with tabular or heterogeneous data. NumPy, by contrast,\n",
        "is best suited for working with homogeneous numerical array data.\n",
        "\n",
        "Since becoming an open source project in 2010, pandas has matured into a quite\n",
        "large library that’s applicable in a broad set of real-world use cases. The developer\n",
        "community has grown to over 800 distinct contributors, who’ve been helping build\n",
        "the project as they’ve used it to solve their day-to-day data problems.\n",
        "\n",
        "Throughout the rest of the book, I use the following import convention for pandas:\n",
        "\n",
        "In [1]: import pandas as pd\n",
        "\n",
        "Thus, whenever you see pd. in code, it’s referring to pandas. You may also find it easier\n",
        "to import Series and DataFrame into the local namespace since they are so frequently\n",
        "used:\n",
        "\n",
        "In [2]: from pandas import Series, DataFrame\n",
        "\n"
      ]
    },
    {
      "metadata": {
        "deletable": true,
        "editable": true,
        "id": "GQ6UvpWbLJwZ",
        "colab_type": "code",
        "colab": {}
      },
      "cell_type": "code",
      "source": [
        "import pandas as pd"
      ],
      "execution_count": 0,
      "outputs": []
    },
    {
      "metadata": {
        "deletable": true,
        "editable": true,
        "id": "c1uHuRFaLJwo",
        "colab_type": "code",
        "colab": {}
      },
      "cell_type": "code",
      "source": [
        "from pandas import Series, DataFrame"
      ],
      "execution_count": 0,
      "outputs": []
    },
    {
      "metadata": {
        "deletable": true,
        "editable": true,
        "id": "ODkJf7EZLJwy",
        "colab_type": "code",
        "colab": {}
      },
      "cell_type": "code",
      "source": [
        "import numpy as np\n",
        "np.random.seed(12345)\n",
        "import matplotlib.pyplot as plt\n",
        "plt.rc('figure', figsize=(10, 6))\n",
        "PREVIOUS_MAX_ROWS = pd.options.display.max_rows\n",
        "pd.options.display.max_rows = 20\n",
        "np.set_printoptions(precision=4, suppress=True)"
      ],
      "execution_count": 0,
      "outputs": []
    },
    {
      "metadata": {
        "deletable": true,
        "editable": true,
        "id": "8jY9fW-SLJw8",
        "colab_type": "text"
      },
      "cell_type": "markdown",
      "source": [
        "## Introduction to pandas Data Structures"
      ]
    },
    {
      "metadata": {
        "deletable": true,
        "editable": true,
        "id": "nCCC4HxwLJw-",
        "colab_type": "text"
      },
      "cell_type": "markdown",
      "source": [
        "### Series"
      ]
    },
    {
      "metadata": {
        "deletable": true,
        "editable": true,
        "id": "BgoI5gHPLJw_",
        "colab_type": "code",
        "colab": {}
      },
      "cell_type": "code",
      "source": [
        "obj = pd.Series([4, 7, -5, 3])\n",
        "obj"
      ],
      "execution_count": 0,
      "outputs": []
    },
    {
      "metadata": {
        "deletable": true,
        "editable": true,
        "id": "1tti6zEFLJxJ",
        "colab_type": "code",
        "colab": {}
      },
      "cell_type": "code",
      "source": [
        "obj.values\n",
        "obj.index  # like range(4)"
      ],
      "execution_count": 0,
      "outputs": []
    },
    {
      "metadata": {
        "deletable": true,
        "editable": true,
        "id": "wwlJKnmJLJxM",
        "colab_type": "code",
        "colab": {}
      },
      "cell_type": "code",
      "source": [
        "obj2 = pd.Series([4, 7, -5, 3], index=['d', 'b', 'a', 'c'])\n",
        "obj2\n",
        "obj2.index"
      ],
      "execution_count": 0,
      "outputs": []
    },
    {
      "metadata": {
        "deletable": true,
        "editable": true,
        "id": "42Cr-m_lLJxT",
        "colab_type": "code",
        "colab": {}
      },
      "cell_type": "code",
      "source": [
        "obj2['a']\n",
        "obj2['d'] = 6\n",
        "obj2[['c', 'a', 'd']]"
      ],
      "execution_count": 0,
      "outputs": []
    },
    {
      "metadata": {
        "deletable": true,
        "editable": true,
        "id": "esLvNm5iLJxX",
        "colab_type": "code",
        "colab": {}
      },
      "cell_type": "code",
      "source": [
        "obj2[obj2 > 0]\n",
        "obj2 * 2\n",
        "np.exp(obj2)"
      ],
      "execution_count": 0,
      "outputs": []
    },
    {
      "metadata": {
        "deletable": true,
        "editable": true,
        "id": "QXzAeWZ6LJxZ",
        "colab_type": "code",
        "colab": {}
      },
      "cell_type": "code",
      "source": [
        "'b' in obj2\n",
        "'e' in obj2"
      ],
      "execution_count": 0,
      "outputs": []
    },
    {
      "metadata": {
        "deletable": true,
        "editable": true,
        "id": "IQz1Oap2LJxc",
        "colab_type": "code",
        "colab": {}
      },
      "cell_type": "code",
      "source": [
        "sdata = {'Ohio': 35000, 'Texas': 71000, 'Oregon': 16000, 'Utah': 5000}\n",
        "obj3 = pd.Series(sdata)\n",
        "obj3"
      ],
      "execution_count": 0,
      "outputs": []
    },
    {
      "metadata": {
        "deletable": true,
        "editable": true,
        "id": "2ACCSO9oLJxd",
        "colab_type": "code",
        "colab": {}
      },
      "cell_type": "code",
      "source": [
        "states = ['California', 'Ohio', 'Oregon', 'Texas']\n",
        "obj4 = pd.Series(sdata, index=states)\n",
        "obj4"
      ],
      "execution_count": 0,
      "outputs": []
    },
    {
      "metadata": {
        "deletable": true,
        "editable": true,
        "id": "BgW9Bm-rLJxg",
        "colab_type": "code",
        "colab": {}
      },
      "cell_type": "code",
      "source": [
        "pd.isnull(obj4)\n",
        "pd.notnull(obj4)"
      ],
      "execution_count": 0,
      "outputs": []
    },
    {
      "metadata": {
        "deletable": true,
        "editable": true,
        "id": "RA7SdcuQLJxi",
        "colab_type": "code",
        "colab": {}
      },
      "cell_type": "code",
      "source": [
        "obj4.isnull()"
      ],
      "execution_count": 0,
      "outputs": []
    },
    {
      "metadata": {
        "deletable": true,
        "editable": true,
        "id": "KmfS8gYSLJxk",
        "colab_type": "code",
        "colab": {}
      },
      "cell_type": "code",
      "source": [
        "obj3\n",
        "obj4\n",
        "obj3 + obj4"
      ],
      "execution_count": 0,
      "outputs": []
    },
    {
      "metadata": {
        "deletable": true,
        "editable": true,
        "id": "hkMIaOPpLJxo",
        "colab_type": "code",
        "colab": {}
      },
      "cell_type": "code",
      "source": [
        "obj4.name = 'population'\n",
        "obj4.index.name = 'state'\n",
        "obj4"
      ],
      "execution_count": 0,
      "outputs": []
    },
    {
      "metadata": {
        "deletable": true,
        "editable": true,
        "id": "I-bmtXJ4LJxq",
        "colab_type": "code",
        "colab": {}
      },
      "cell_type": "code",
      "source": [
        "obj\n",
        "obj.index = ['Bob', 'Steve', 'Jeff', 'Ryan']\n",
        "obj"
      ],
      "execution_count": 0,
      "outputs": []
    },
    {
      "metadata": {
        "deletable": true,
        "editable": true,
        "id": "-RtEk426LJxs",
        "colab_type": "text"
      },
      "cell_type": "markdown",
      "source": [
        "### DataFrame"
      ]
    },
    {
      "metadata": {
        "deletable": true,
        "editable": true,
        "id": "GdL8M0mVLJxt",
        "colab_type": "code",
        "colab": {}
      },
      "cell_type": "code",
      "source": [
        "data = {'state': ['Ohio', 'Ohio', 'Ohio', 'Nevada', 'Nevada', 'Nevada'],\n",
        "        'year': [2000, 2001, 2002, 2001, 2002, 2003],\n",
        "        'pop': [1.5, 1.7, 3.6, 2.4, 2.9, 3.2]}\n",
        "frame = pd.DataFrame(data)"
      ],
      "execution_count": 0,
      "outputs": []
    },
    {
      "metadata": {
        "deletable": true,
        "editable": true,
        "id": "Deu2uTWvLJxx",
        "colab_type": "code",
        "colab": {}
      },
      "cell_type": "code",
      "source": [
        "frame"
      ],
      "execution_count": 0,
      "outputs": []
    },
    {
      "metadata": {
        "deletable": true,
        "editable": true,
        "id": "-QVqYeQ1LJx0",
        "colab_type": "code",
        "colab": {}
      },
      "cell_type": "code",
      "source": [
        "frame.head()"
      ],
      "execution_count": 0,
      "outputs": []
    },
    {
      "metadata": {
        "deletable": true,
        "editable": true,
        "id": "1YuAsYMbLJx2",
        "colab_type": "code",
        "colab": {}
      },
      "cell_type": "code",
      "source": [
        "pd.DataFrame(data, columns=['year', 'state', 'pop'])"
      ],
      "execution_count": 0,
      "outputs": []
    },
    {
      "metadata": {
        "deletable": true,
        "editable": true,
        "id": "BtdDMgLSLJx5",
        "colab_type": "code",
        "colab": {}
      },
      "cell_type": "code",
      "source": [
        "frame2 = pd.DataFrame(data, columns=['year', 'state', 'pop', 'debt'],\n",
        "                      index=['one', 'two', 'three', 'four',\n",
        "                             'five', 'six'])\n",
        "frame2\n",
        "frame2.columns"
      ],
      "execution_count": 0,
      "outputs": []
    },
    {
      "metadata": {
        "deletable": true,
        "editable": true,
        "id": "HHtiGUwzLJx7",
        "colab_type": "code",
        "colab": {}
      },
      "cell_type": "code",
      "source": [
        "frame2['state']\n",
        "frame2.year"
      ],
      "execution_count": 0,
      "outputs": []
    },
    {
      "metadata": {
        "deletable": true,
        "editable": true,
        "id": "M7lpxE_tLJx9",
        "colab_type": "code",
        "colab": {}
      },
      "cell_type": "code",
      "source": [
        "frame2.loc['three']"
      ],
      "execution_count": 0,
      "outputs": []
    },
    {
      "metadata": {
        "deletable": true,
        "editable": true,
        "id": "X9vtexHeLJx-",
        "colab_type": "code",
        "colab": {}
      },
      "cell_type": "code",
      "source": [
        "frame2['debt'] = 16.5\n",
        "frame2\n",
        "frame2['debt'] = np.arange(6.)\n",
        "frame2"
      ],
      "execution_count": 0,
      "outputs": []
    },
    {
      "metadata": {
        "deletable": true,
        "editable": true,
        "id": "2uZlMYOyLJyA",
        "colab_type": "code",
        "colab": {}
      },
      "cell_type": "code",
      "source": [
        "val = pd.Series([-1.2, -1.5, -1.7], index=['two', 'four', 'five'])\n",
        "frame2['debt'] = val\n",
        "frame2"
      ],
      "execution_count": 0,
      "outputs": []
    },
    {
      "metadata": {
        "deletable": true,
        "editable": true,
        "id": "UAtg-KaQLJyC",
        "colab_type": "code",
        "colab": {}
      },
      "cell_type": "code",
      "source": [
        "frame2['eastern'] = frame2.state == 'Ohio'\n",
        "frame2"
      ],
      "execution_count": 0,
      "outputs": []
    },
    {
      "metadata": {
        "deletable": true,
        "editable": true,
        "id": "KDHLM-6bLJyE",
        "colab_type": "code",
        "colab": {}
      },
      "cell_type": "code",
      "source": [
        "del frame2['eastern']\n",
        "frame2.columns"
      ],
      "execution_count": 0,
      "outputs": []
    },
    {
      "metadata": {
        "deletable": true,
        "editable": true,
        "id": "dVHroX1dLJyH",
        "colab_type": "code",
        "colab": {}
      },
      "cell_type": "code",
      "source": [
        "pop = {'Nevada': {2001: 2.4, 2002: 2.9},\n",
        "       'Ohio': {2000: 1.5, 2001: 1.7, 2002: 3.6}}"
      ],
      "execution_count": 0,
      "outputs": []
    },
    {
      "metadata": {
        "deletable": true,
        "editable": true,
        "id": "v9ICDpW_LJyN",
        "colab_type": "code",
        "colab": {}
      },
      "cell_type": "code",
      "source": [
        "frame3 = pd.DataFrame(pop)\n",
        "frame3"
      ],
      "execution_count": 0,
      "outputs": []
    },
    {
      "metadata": {
        "deletable": true,
        "editable": true,
        "id": "hVH2u6k4LJyQ",
        "colab_type": "code",
        "colab": {}
      },
      "cell_type": "code",
      "source": [
        "frame3.T"
      ],
      "execution_count": 0,
      "outputs": []
    },
    {
      "metadata": {
        "deletable": true,
        "editable": true,
        "id": "oJ-n-dlFLJyT",
        "colab_type": "code",
        "colab": {}
      },
      "cell_type": "code",
      "source": [
        "pd.DataFrame(pop, index=[2001, 2002, 2003])"
      ],
      "execution_count": 0,
      "outputs": []
    },
    {
      "metadata": {
        "deletable": true,
        "editable": true,
        "id": "w3CqzPwDLJyW",
        "colab_type": "code",
        "colab": {}
      },
      "cell_type": "code",
      "source": [
        "pdata = {'Ohio': frame3['Ohio'][:-1],\n",
        "         'Nevada': frame3['Nevada'][:2]}\n",
        "pd.DataFrame(pdata)"
      ],
      "execution_count": 0,
      "outputs": []
    },
    {
      "metadata": {
        "deletable": true,
        "editable": true,
        "id": "XDRY_pHjLJyY",
        "colab_type": "code",
        "colab": {}
      },
      "cell_type": "code",
      "source": [
        "frame3.index.name = 'year'; frame3.columns.name = 'state'\n",
        "frame3"
      ],
      "execution_count": 0,
      "outputs": []
    },
    {
      "metadata": {
        "deletable": true,
        "editable": true,
        "id": "RQSPRTnlLJya",
        "colab_type": "code",
        "colab": {}
      },
      "cell_type": "code",
      "source": [
        "frame3.values"
      ],
      "execution_count": 0,
      "outputs": []
    },
    {
      "metadata": {
        "deletable": true,
        "editable": true,
        "id": "l9-OaAmzLJyd",
        "colab_type": "code",
        "colab": {}
      },
      "cell_type": "code",
      "source": [
        "frame2.values"
      ],
      "execution_count": 0,
      "outputs": []
    },
    {
      "metadata": {
        "deletable": true,
        "editable": true,
        "id": "D_pM8mpeLJyf",
        "colab_type": "text"
      },
      "cell_type": "markdown",
      "source": [
        "### Index Objects"
      ]
    },
    {
      "metadata": {
        "deletable": true,
        "editable": true,
        "id": "gzrNEtUCLJyg",
        "colab_type": "code",
        "colab": {}
      },
      "cell_type": "code",
      "source": [
        "obj = pd.Series(range(3), index=['a', 'b', 'c'])\n",
        "index = obj.index\n",
        "index\n",
        "index[1:]"
      ],
      "execution_count": 0,
      "outputs": []
    },
    {
      "metadata": {
        "deletable": true,
        "editable": true,
        "id": "xz5S_B1xLJyi",
        "colab_type": "text"
      },
      "cell_type": "markdown",
      "source": [
        "index[1] = 'd'  # TypeError"
      ]
    },
    {
      "metadata": {
        "deletable": true,
        "editable": true,
        "id": "FT-KRnvbLJyj",
        "colab_type": "code",
        "colab": {}
      },
      "cell_type": "code",
      "source": [
        "labels = pd.Index(np.arange(3))\n",
        "labels\n",
        "obj2 = pd.Series([1.5, -2.5, 0], index=labels)\n",
        "obj2\n",
        "obj2.index is labels"
      ],
      "execution_count": 0,
      "outputs": []
    },
    {
      "metadata": {
        "deletable": true,
        "editable": true,
        "id": "QUNlUDunLJyl",
        "colab_type": "code",
        "colab": {}
      },
      "cell_type": "code",
      "source": [
        "frame3\n",
        "frame3.columns\n",
        "'Ohio' in frame3.columns\n",
        "2003 in frame3.index"
      ],
      "execution_count": 0,
      "outputs": []
    },
    {
      "metadata": {
        "deletable": true,
        "editable": true,
        "id": "A6cr-fY7LJyn",
        "colab_type": "code",
        "colab": {}
      },
      "cell_type": "code",
      "source": [
        "dup_labels = pd.Index(['foo', 'foo', 'bar', 'bar'])\n",
        "dup_labels"
      ],
      "execution_count": 0,
      "outputs": []
    },
    {
      "metadata": {
        "deletable": true,
        "editable": true,
        "id": "JVa2mYXdLJyp",
        "colab_type": "text"
      },
      "cell_type": "markdown",
      "source": [
        "## Essential Functionality"
      ]
    },
    {
      "metadata": {
        "deletable": true,
        "editable": true,
        "id": "e4i36NkwLJyq",
        "colab_type": "text"
      },
      "cell_type": "markdown",
      "source": [
        "### Reindexing"
      ]
    },
    {
      "metadata": {
        "deletable": true,
        "editable": true,
        "id": "Vy0e2XU1LJyq",
        "colab_type": "code",
        "colab": {}
      },
      "cell_type": "code",
      "source": [
        "obj = pd.Series([4.5, 7.2, -5.3, 3.6], index=['d', 'b', 'a', 'c'])\n",
        "obj"
      ],
      "execution_count": 0,
      "outputs": []
    },
    {
      "metadata": {
        "deletable": true,
        "editable": true,
        "id": "gosv8QUoLJys",
        "colab_type": "code",
        "colab": {}
      },
      "cell_type": "code",
      "source": [
        "obj2 = obj.reindex(['a', 'b', 'c', 'd', 'e'])\n",
        "obj2"
      ],
      "execution_count": 0,
      "outputs": []
    },
    {
      "metadata": {
        "deletable": true,
        "editable": true,
        "id": "JMQ4sRdwLJyu",
        "colab_type": "code",
        "colab": {}
      },
      "cell_type": "code",
      "source": [
        "obj3 = pd.Series(['blue', 'purple', 'yellow'], index=[0, 2, 4])\n",
        "obj3\n",
        "obj3.reindex(range(6), method='ffill')"
      ],
      "execution_count": 0,
      "outputs": []
    },
    {
      "metadata": {
        "deletable": true,
        "editable": true,
        "id": "r7W-vZ3FLJyv",
        "colab_type": "code",
        "colab": {}
      },
      "cell_type": "code",
      "source": [
        "frame = pd.DataFrame(np.arange(9).reshape((3, 3)),\n",
        "                     index=['a', 'c', 'd'],\n",
        "                     columns=['Ohio', 'Texas', 'California'])\n",
        "frame\n",
        "frame2 = frame.reindex(['a', 'b', 'c', 'd'])\n",
        "frame2"
      ],
      "execution_count": 0,
      "outputs": []
    },
    {
      "metadata": {
        "deletable": true,
        "editable": true,
        "id": "ukZj_8VpLJyx",
        "colab_type": "code",
        "colab": {}
      },
      "cell_type": "code",
      "source": [
        "states = ['Texas', 'Utah', 'California']\n",
        "frame.reindex(columns=states)"
      ],
      "execution_count": 0,
      "outputs": []
    },
    {
      "metadata": {
        "deletable": true,
        "editable": true,
        "id": "V73QBqwALJy3",
        "colab_type": "code",
        "colab": {}
      },
      "cell_type": "code",
      "source": [
        "frame.loc[['a', 'b', 'c', 'd'], states]"
      ],
      "execution_count": 0,
      "outputs": []
    },
    {
      "metadata": {
        "deletable": true,
        "editable": true,
        "id": "Zbjp_0TFLJy5",
        "colab_type": "text"
      },
      "cell_type": "markdown",
      "source": [
        "### Dropping Entries from an Axis"
      ]
    },
    {
      "metadata": {
        "deletable": true,
        "editable": true,
        "id": "HzRt4KspLJy6",
        "colab_type": "code",
        "colab": {}
      },
      "cell_type": "code",
      "source": [
        "obj = pd.Series(np.arange(5.), index=['a', 'b', 'c', 'd', 'e'])\n",
        "obj\n",
        "new_obj = obj.drop('c')\n",
        "new_obj\n",
        "obj.drop(['d', 'c'])"
      ],
      "execution_count": 0,
      "outputs": []
    },
    {
      "metadata": {
        "deletable": true,
        "editable": true,
        "id": "YIRRpQgFLJy7",
        "colab_type": "code",
        "colab": {}
      },
      "cell_type": "code",
      "source": [
        "data = pd.DataFrame(np.arange(16).reshape((4, 4)),\n",
        "                    index=['Ohio', 'Colorado', 'Utah', 'New York'],\n",
        "                    columns=['one', 'two', 'three', 'four'])\n",
        "data"
      ],
      "execution_count": 0,
      "outputs": []
    },
    {
      "metadata": {
        "deletable": true,
        "editable": true,
        "id": "SIXScBzBLJy_",
        "colab_type": "code",
        "colab": {}
      },
      "cell_type": "code",
      "source": [
        "data.drop(['Colorado', 'Ohio'])"
      ],
      "execution_count": 0,
      "outputs": []
    },
    {
      "metadata": {
        "deletable": true,
        "editable": true,
        "id": "WVpNSguoLJzA",
        "colab_type": "code",
        "colab": {}
      },
      "cell_type": "code",
      "source": [
        "data.drop('two', axis=1)\n",
        "data.drop(['two', 'four'], axis='columns')"
      ],
      "execution_count": 0,
      "outputs": []
    },
    {
      "metadata": {
        "deletable": true,
        "editable": true,
        "id": "ct6GJL4SLJzB",
        "colab_type": "code",
        "colab": {}
      },
      "cell_type": "code",
      "source": [
        "obj.drop('c', inplace=True)\n",
        "obj"
      ],
      "execution_count": 0,
      "outputs": []
    },
    {
      "metadata": {
        "deletable": true,
        "editable": true,
        "id": "yLoIOtroLJzC",
        "colab_type": "text"
      },
      "cell_type": "markdown",
      "source": [
        "### Indexing, Selection, and Filtering"
      ]
    },
    {
      "metadata": {
        "deletable": true,
        "editable": true,
        "id": "ZIjMBl6oLJzD",
        "colab_type": "code",
        "colab": {}
      },
      "cell_type": "code",
      "source": [
        "obj = pd.Series(np.arange(4.), index=['a', 'b', 'c', 'd'])\n",
        "obj\n",
        "obj['b']\n",
        "obj[1]\n",
        "obj[2:4]\n",
        "obj[['b', 'a', 'd']]\n",
        "obj[[1, 3]]\n",
        "obj[obj < 2]"
      ],
      "execution_count": 0,
      "outputs": []
    },
    {
      "metadata": {
        "deletable": true,
        "editable": true,
        "id": "qb-MEnusLJzE",
        "colab_type": "code",
        "colab": {}
      },
      "cell_type": "code",
      "source": [
        "obj['b':'c']"
      ],
      "execution_count": 0,
      "outputs": []
    },
    {
      "metadata": {
        "deletable": true,
        "editable": true,
        "id": "lJCe32PjLJzF",
        "colab_type": "code",
        "colab": {}
      },
      "cell_type": "code",
      "source": [
        "obj['b':'c'] = 5\n",
        "obj"
      ],
      "execution_count": 0,
      "outputs": []
    },
    {
      "metadata": {
        "deletable": true,
        "editable": true,
        "id": "fEW67WFOLJzI",
        "colab_type": "code",
        "colab": {}
      },
      "cell_type": "code",
      "source": [
        "data = pd.DataFrame(np.arange(16).reshape((4, 4)),\n",
        "                    index=['Ohio', 'Colorado', 'Utah', 'New York'],\n",
        "                    columns=['one', 'two', 'three', 'four'])\n",
        "data\n",
        "data['two']\n",
        "data[['three', 'one']]"
      ],
      "execution_count": 0,
      "outputs": []
    },
    {
      "metadata": {
        "deletable": true,
        "editable": true,
        "id": "rL23iqgsLJzJ",
        "colab_type": "code",
        "colab": {}
      },
      "cell_type": "code",
      "source": [
        "data[:2]\n",
        "data[data['three'] > 5]"
      ],
      "execution_count": 0,
      "outputs": []
    },
    {
      "metadata": {
        "deletable": true,
        "editable": true,
        "id": "EectpyipLJzK",
        "colab_type": "code",
        "colab": {}
      },
      "cell_type": "code",
      "source": [
        "data < 5\n",
        "data[data < 5] = 0\n",
        "data"
      ],
      "execution_count": 0,
      "outputs": []
    },
    {
      "metadata": {
        "deletable": true,
        "editable": true,
        "id": "zRp-fnDLLJzM",
        "colab_type": "text"
      },
      "cell_type": "markdown",
      "source": [
        "#### Selection with loc and iloc"
      ]
    },
    {
      "metadata": {
        "deletable": true,
        "editable": true,
        "id": "IAUYe2ioLJzM",
        "colab_type": "code",
        "colab": {}
      },
      "cell_type": "code",
      "source": [
        "data.loc['Colorado', ['two', 'three']]"
      ],
      "execution_count": 0,
      "outputs": []
    },
    {
      "metadata": {
        "deletable": true,
        "editable": true,
        "id": "x_szA5YtLJzO",
        "colab_type": "code",
        "colab": {}
      },
      "cell_type": "code",
      "source": [
        "data.iloc[2, [3, 0, 1]]\n",
        "data.iloc[2]\n",
        "data.iloc[[1, 2], [3, 0, 1]]"
      ],
      "execution_count": 0,
      "outputs": []
    },
    {
      "metadata": {
        "deletable": true,
        "editable": true,
        "id": "Wuj-pKk6LJzP",
        "colab_type": "code",
        "colab": {}
      },
      "cell_type": "code",
      "source": [
        "data.loc[:'Utah', 'two']\n",
        "data.iloc[:, :3][data.three > 5]"
      ],
      "execution_count": 0,
      "outputs": []
    },
    {
      "metadata": {
        "deletable": true,
        "editable": true,
        "id": "yFb4E0xwLJzR",
        "colab_type": "text"
      },
      "cell_type": "markdown",
      "source": [
        "### Integer Indexes"
      ]
    },
    {
      "metadata": {
        "deletable": true,
        "editable": true,
        "id": "ZuWiK7eTLJzR",
        "colab_type": "text"
      },
      "cell_type": "markdown",
      "source": [
        "ser = pd.Series(np.arange(3.))\n",
        "ser\n",
        "ser[-1]"
      ]
    },
    {
      "metadata": {
        "deletable": true,
        "editable": true,
        "id": "AvyWXwVwLJzR",
        "colab_type": "code",
        "colab": {}
      },
      "cell_type": "code",
      "source": [
        "ser = pd.Series(np.arange(3.))"
      ],
      "execution_count": 0,
      "outputs": []
    },
    {
      "metadata": {
        "deletable": true,
        "editable": true,
        "id": "uY-JefXULJzS",
        "colab_type": "code",
        "colab": {}
      },
      "cell_type": "code",
      "source": [
        "ser"
      ],
      "execution_count": 0,
      "outputs": []
    },
    {
      "metadata": {
        "deletable": true,
        "editable": true,
        "id": "l_AU_eEuLJzU",
        "colab_type": "code",
        "colab": {}
      },
      "cell_type": "code",
      "source": [
        "ser2 = pd.Series(np.arange(3.), index=['a', 'b', 'c'])\n",
        "ser2[-1]"
      ],
      "execution_count": 0,
      "outputs": []
    },
    {
      "metadata": {
        "deletable": true,
        "editable": true,
        "id": "8eTkOYn0LJzW",
        "colab_type": "code",
        "colab": {}
      },
      "cell_type": "code",
      "source": [
        "ser[:1]\n",
        "ser.loc[:1]\n",
        "ser.iloc[:1]"
      ],
      "execution_count": 0,
      "outputs": []
    },
    {
      "metadata": {
        "deletable": true,
        "editable": true,
        "id": "Wq6nan5nLJzY",
        "colab_type": "text"
      },
      "cell_type": "markdown",
      "source": [
        "### Arithmetic and Data Alignment"
      ]
    },
    {
      "metadata": {
        "deletable": true,
        "editable": true,
        "id": "QkqGtuPqLJzb",
        "colab_type": "code",
        "colab": {}
      },
      "cell_type": "code",
      "source": [
        "s1 = pd.Series([7.3, -2.5, 3.4, 1.5], index=['a', 'c', 'd', 'e'])\n",
        "s2 = pd.Series([-2.1, 3.6, -1.5, 4, 3.1],\n",
        "               index=['a', 'c', 'e', 'f', 'g'])\n",
        "s1\n",
        "s2"
      ],
      "execution_count": 0,
      "outputs": []
    },
    {
      "metadata": {
        "deletable": true,
        "editable": true,
        "id": "fji0fVXELJzc",
        "colab_type": "code",
        "colab": {}
      },
      "cell_type": "code",
      "source": [
        "s1 + s2"
      ],
      "execution_count": 0,
      "outputs": []
    },
    {
      "metadata": {
        "deletable": true,
        "editable": true,
        "id": "OVQO6faHLJzd",
        "colab_type": "code",
        "colab": {}
      },
      "cell_type": "code",
      "source": [
        "df1 = pd.DataFrame(np.arange(9.).reshape((3, 3)), columns=list('bcd'),\n",
        "                   index=['Ohio', 'Texas', 'Colorado'])\n",
        "df2 = pd.DataFrame(np.arange(12.).reshape((4, 3)), columns=list('bde'),\n",
        "                   index=['Utah', 'Ohio', 'Texas', 'Oregon'])\n",
        "df1\n",
        "df2"
      ],
      "execution_count": 0,
      "outputs": []
    },
    {
      "metadata": {
        "deletable": true,
        "editable": true,
        "id": "EuCbknYTLJze",
        "colab_type": "code",
        "colab": {}
      },
      "cell_type": "code",
      "source": [
        "df1 + df2"
      ],
      "execution_count": 0,
      "outputs": []
    },
    {
      "metadata": {
        "deletable": true,
        "editable": true,
        "id": "Ok-GNeoBLJzm",
        "colab_type": "code",
        "colab": {}
      },
      "cell_type": "code",
      "source": [
        "df1 = pd.DataFrame({'A': [1, 2]})\n",
        "df2 = pd.DataFrame({'B': [3, 4]})\n",
        "df1\n",
        "df2\n",
        "df1 - df2"
      ],
      "execution_count": 0,
      "outputs": []
    },
    {
      "metadata": {
        "deletable": true,
        "editable": true,
        "id": "XyIdrQXALJzo",
        "colab_type": "text"
      },
      "cell_type": "markdown",
      "source": [
        "#### Arithmetic methods with fill values"
      ]
    },
    {
      "metadata": {
        "deletable": true,
        "editable": true,
        "id": "smX8UdTcLJzp",
        "colab_type": "code",
        "colab": {}
      },
      "cell_type": "code",
      "source": [
        "df1 = pd.DataFrame(np.arange(12.).reshape((3, 4)),\n",
        "                   columns=list('abcd'))\n",
        "df2 = pd.DataFrame(np.arange(20.).reshape((4, 5)),\n",
        "                   columns=list('abcde'))\n",
        "df2.loc[1, 'b'] = np.nan\n",
        "df1\n",
        "df2"
      ],
      "execution_count": 0,
      "outputs": []
    },
    {
      "metadata": {
        "deletable": true,
        "editable": true,
        "id": "2zJuAkipLJzq",
        "colab_type": "code",
        "colab": {}
      },
      "cell_type": "code",
      "source": [
        "df1 + df2"
      ],
      "execution_count": 0,
      "outputs": []
    },
    {
      "metadata": {
        "deletable": true,
        "editable": true,
        "id": "xo22f-zOLJzs",
        "colab_type": "code",
        "colab": {}
      },
      "cell_type": "code",
      "source": [
        "df1.add(df2, fill_value=0)"
      ],
      "execution_count": 0,
      "outputs": []
    },
    {
      "metadata": {
        "deletable": true,
        "editable": true,
        "id": "owLRLuCjLJzt",
        "colab_type": "code",
        "colab": {}
      },
      "cell_type": "code",
      "source": [
        "1 / df1\n",
        "df1.rdiv(1)"
      ],
      "execution_count": 0,
      "outputs": []
    },
    {
      "metadata": {
        "deletable": true,
        "editable": true,
        "id": "AkMYPSEGLJz1",
        "colab_type": "code",
        "colab": {}
      },
      "cell_type": "code",
      "source": [
        "df1.reindex(columns=df2.columns, fill_value=0)"
      ],
      "execution_count": 0,
      "outputs": []
    },
    {
      "metadata": {
        "deletable": true,
        "editable": true,
        "id": "hddPETh_LJz7",
        "colab_type": "text"
      },
      "cell_type": "markdown",
      "source": [
        "#### Operations between DataFrame and Series"
      ]
    },
    {
      "metadata": {
        "deletable": true,
        "editable": true,
        "id": "G6YXfndsLJz7",
        "colab_type": "code",
        "colab": {}
      },
      "cell_type": "code",
      "source": [
        "arr = np.arange(12.).reshape((3, 4))\n",
        "arr\n",
        "arr[0]\n",
        "arr - arr[0]"
      ],
      "execution_count": 0,
      "outputs": []
    },
    {
      "metadata": {
        "deletable": true,
        "editable": true,
        "id": "0avRzUfnLJ0A",
        "colab_type": "code",
        "colab": {}
      },
      "cell_type": "code",
      "source": [
        "frame = pd.DataFrame(np.arange(12.).reshape((4, 3)),\n",
        "                     columns=list('bde'),\n",
        "                     index=['Utah', 'Ohio', 'Texas', 'Oregon'])\n",
        "series = frame.iloc[0]\n",
        "frame\n",
        "series"
      ],
      "execution_count": 0,
      "outputs": []
    },
    {
      "metadata": {
        "deletable": true,
        "editable": true,
        "id": "YfNKyg_OLJ0B",
        "colab_type": "code",
        "colab": {}
      },
      "cell_type": "code",
      "source": [
        "frame - series"
      ],
      "execution_count": 0,
      "outputs": []
    },
    {
      "metadata": {
        "deletable": true,
        "editable": true,
        "id": "k6lfq0kuLJ0D",
        "colab_type": "code",
        "colab": {}
      },
      "cell_type": "code",
      "source": [
        "series2 = pd.Series(range(3), index=['b', 'e', 'f'])\n",
        "frame + series2"
      ],
      "execution_count": 0,
      "outputs": []
    },
    {
      "metadata": {
        "deletable": true,
        "editable": true,
        "id": "O7yDGw0cLJ0F",
        "colab_type": "code",
        "colab": {}
      },
      "cell_type": "code",
      "source": [
        "series3 = frame['d']\n",
        "frame\n",
        "series3\n",
        "frame.sub(series3, axis='index')"
      ],
      "execution_count": 0,
      "outputs": []
    },
    {
      "metadata": {
        "deletable": true,
        "editable": true,
        "id": "8_gPhBmALJ0K",
        "colab_type": "text"
      },
      "cell_type": "markdown",
      "source": [
        "### Function Application and Mapping"
      ]
    },
    {
      "metadata": {
        "deletable": true,
        "editable": true,
        "id": "6kR0gHvHLJ0K",
        "colab_type": "code",
        "colab": {}
      },
      "cell_type": "code",
      "source": [
        "frame = pd.DataFrame(np.random.randn(4, 3), columns=list('bde'),\n",
        "                     index=['Utah', 'Ohio', 'Texas', 'Oregon'])\n",
        "frame\n",
        "np.abs(frame)"
      ],
      "execution_count": 0,
      "outputs": []
    },
    {
      "metadata": {
        "deletable": true,
        "editable": true,
        "id": "6El_x-B9LJ0M",
        "colab_type": "code",
        "colab": {}
      },
      "cell_type": "code",
      "source": [
        "f = lambda x: x.max() - x.min()\n",
        "frame.apply(f)"
      ],
      "execution_count": 0,
      "outputs": []
    },
    {
      "metadata": {
        "deletable": true,
        "editable": true,
        "id": "7iMT5XpALJ0N",
        "colab_type": "code",
        "colab": {}
      },
      "cell_type": "code",
      "source": [
        "frame.apply(f, axis='columns')"
      ],
      "execution_count": 0,
      "outputs": []
    },
    {
      "metadata": {
        "deletable": true,
        "editable": true,
        "id": "2-J4fY2gLJ0O",
        "colab_type": "code",
        "colab": {}
      },
      "cell_type": "code",
      "source": [
        "def f(x):\n",
        "    return pd.Series([x.min(), x.max()], index=['min', 'max'])\n",
        "frame.apply(f)"
      ],
      "execution_count": 0,
      "outputs": []
    },
    {
      "metadata": {
        "deletable": true,
        "editable": true,
        "id": "5pSgJjJOLJ0P",
        "colab_type": "code",
        "colab": {}
      },
      "cell_type": "code",
      "source": [
        "format = lambda x: '%.2f' % x\n",
        "frame.applymap(format)"
      ],
      "execution_count": 0,
      "outputs": []
    },
    {
      "metadata": {
        "deletable": true,
        "editable": true,
        "id": "IsGblIRrLJ0R",
        "colab_type": "code",
        "colab": {}
      },
      "cell_type": "code",
      "source": [
        "frame['e'].map(format)"
      ],
      "execution_count": 0,
      "outputs": []
    },
    {
      "metadata": {
        "deletable": true,
        "editable": true,
        "id": "QdVPG6HLLJ0S",
        "colab_type": "text"
      },
      "cell_type": "markdown",
      "source": [
        "### Sorting and Ranking"
      ]
    },
    {
      "metadata": {
        "deletable": true,
        "editable": true,
        "id": "dKb-owFsLJ0T",
        "colab_type": "code",
        "colab": {}
      },
      "cell_type": "code",
      "source": [
        "obj = pd.Series(range(4), index=['d', 'a', 'b', 'c'])\n",
        "obj.sort_index()"
      ],
      "execution_count": 0,
      "outputs": []
    },
    {
      "metadata": {
        "deletable": true,
        "editable": true,
        "id": "dfcFKFeoLJ0U",
        "colab_type": "code",
        "colab": {}
      },
      "cell_type": "code",
      "source": [
        "frame = pd.DataFrame(np.arange(8).reshape((2, 4)),\n",
        "                     index=['three', 'one'],\n",
        "                     columns=['d', 'a', 'b', 'c'])\n",
        "frame.sort_index()\n",
        "frame.sort_index(axis=1)"
      ],
      "execution_count": 0,
      "outputs": []
    },
    {
      "metadata": {
        "deletable": true,
        "editable": true,
        "id": "xeX3FqVVLJ0V",
        "colab_type": "code",
        "colab": {}
      },
      "cell_type": "code",
      "source": [
        "frame.sort_index(axis=1, ascending=False)"
      ],
      "execution_count": 0,
      "outputs": []
    },
    {
      "metadata": {
        "deletable": true,
        "editable": true,
        "id": "fonnbyKZLJ0W",
        "colab_type": "code",
        "colab": {}
      },
      "cell_type": "code",
      "source": [
        "obj = pd.Series([4, 7, -3, 2])\n",
        "obj.sort_values()"
      ],
      "execution_count": 0,
      "outputs": []
    },
    {
      "metadata": {
        "deletable": true,
        "editable": true,
        "id": "9XTaPWuYLJ0X",
        "colab_type": "code",
        "colab": {}
      },
      "cell_type": "code",
      "source": [
        "obj = pd.Series([4, np.nan, 7, np.nan, -3, 2])\n",
        "obj.sort_values()"
      ],
      "execution_count": 0,
      "outputs": []
    },
    {
      "metadata": {
        "deletable": true,
        "editable": true,
        "id": "ets6rh8ULJ0Y",
        "colab_type": "code",
        "colab": {}
      },
      "cell_type": "code",
      "source": [
        "frame = pd.DataFrame({'b': [4, 7, -3, 2], 'a': [0, 1, 0, 1]})\n",
        "frame\n",
        "frame.sort_values(by='b')"
      ],
      "execution_count": 0,
      "outputs": []
    },
    {
      "metadata": {
        "deletable": true,
        "editable": true,
        "id": "K5_AFINALJ0Z",
        "colab_type": "code",
        "colab": {}
      },
      "cell_type": "code",
      "source": [
        "frame.sort_values(by=['a', 'b'])"
      ],
      "execution_count": 0,
      "outputs": []
    },
    {
      "metadata": {
        "deletable": true,
        "editable": true,
        "id": "w4AYteszLJ0a",
        "colab_type": "code",
        "colab": {}
      },
      "cell_type": "code",
      "source": [
        "obj = pd.Series([7, -5, 7, 4, 2, 0, 4])\n",
        "obj.rank()"
      ],
      "execution_count": 0,
      "outputs": []
    },
    {
      "metadata": {
        "deletable": true,
        "editable": true,
        "id": "Ate3arliLJ0b",
        "colab_type": "code",
        "colab": {}
      },
      "cell_type": "code",
      "source": [
        "obj.rank(method='first')"
      ],
      "execution_count": 0,
      "outputs": []
    },
    {
      "metadata": {
        "deletable": true,
        "editable": true,
        "id": "k4MhjITCLJ0d",
        "colab_type": "code",
        "colab": {}
      },
      "cell_type": "code",
      "source": [
        "# Assign tie values the maximum rank in the group\n",
        "obj.rank(ascending=False, method='max')"
      ],
      "execution_count": 0,
      "outputs": []
    },
    {
      "metadata": {
        "deletable": true,
        "editable": true,
        "id": "wnOHknsCLJ0e",
        "colab_type": "code",
        "colab": {}
      },
      "cell_type": "code",
      "source": [
        "frame = pd.DataFrame({'b': [4.3, 7, -3, 2], 'a': [0, 1, 0, 1],\n",
        "                      'c': [-2, 5, 8, -2.5]})\n",
        "frame\n",
        "frame.rank(axis='columns')"
      ],
      "execution_count": 0,
      "outputs": []
    },
    {
      "metadata": {
        "deletable": true,
        "editable": true,
        "id": "GAPM3bKGLJ0f",
        "colab_type": "text"
      },
      "cell_type": "markdown",
      "source": [
        "### Axis Indexes with Duplicate Labels"
      ]
    },
    {
      "metadata": {
        "deletable": true,
        "editable": true,
        "id": "8xU2547yLJ0g",
        "colab_type": "code",
        "colab": {}
      },
      "cell_type": "code",
      "source": [
        "obj = pd.Series(range(5), index=['a', 'a', 'b', 'b', 'c'])\n",
        "obj"
      ],
      "execution_count": 0,
      "outputs": []
    },
    {
      "metadata": {
        "deletable": true,
        "editable": true,
        "id": "1qA4V6qVLJ0h",
        "colab_type": "code",
        "colab": {}
      },
      "cell_type": "code",
      "source": [
        "obj.index.is_unique"
      ],
      "execution_count": 0,
      "outputs": []
    },
    {
      "metadata": {
        "deletable": true,
        "editable": true,
        "id": "Lxy_7eSVLJ0j",
        "colab_type": "code",
        "colab": {}
      },
      "cell_type": "code",
      "source": [
        "obj['a']\n",
        "obj['c']"
      ],
      "execution_count": 0,
      "outputs": []
    },
    {
      "metadata": {
        "deletable": true,
        "editable": true,
        "id": "gRTJdXSELJ0n",
        "colab_type": "code",
        "colab": {}
      },
      "cell_type": "code",
      "source": [
        "df = pd.DataFrame(np.random.randn(4, 3), index=['a', 'a', 'b', 'b'])\n",
        "df\n",
        "df.loc['b']"
      ],
      "execution_count": 0,
      "outputs": []
    },
    {
      "metadata": {
        "deletable": true,
        "editable": true,
        "id": "1tzJX71WLJ0o",
        "colab_type": "text"
      },
      "cell_type": "markdown",
      "source": [
        "## Summarizing and Computing Descriptive Statistics"
      ]
    },
    {
      "metadata": {
        "deletable": true,
        "editable": true,
        "id": "XK6HifTPLJ0o",
        "colab_type": "code",
        "colab": {}
      },
      "cell_type": "code",
      "source": [
        "df = pd.DataFrame([[1.4, np.nan], [7.1, -4.5],\n",
        "                   [np.nan, np.nan], [0.75, -1.3]],\n",
        "                  index=['a', 'b', 'c', 'd'],\n",
        "                  columns=['one', 'two'])\n",
        "df"
      ],
      "execution_count": 0,
      "outputs": []
    },
    {
      "metadata": {
        "deletable": true,
        "editable": true,
        "id": "qLePud5vLJ0p",
        "colab_type": "code",
        "colab": {}
      },
      "cell_type": "code",
      "source": [
        "df.sum()"
      ],
      "execution_count": 0,
      "outputs": []
    },
    {
      "metadata": {
        "deletable": true,
        "editable": true,
        "id": "815EOlc4LJ0q",
        "colab_type": "code",
        "colab": {}
      },
      "cell_type": "code",
      "source": [
        "df.sum(axis='columns')"
      ],
      "execution_count": 0,
      "outputs": []
    },
    {
      "metadata": {
        "deletable": true,
        "editable": true,
        "id": "RuHiO28rLJ0s",
        "colab_type": "code",
        "colab": {}
      },
      "cell_type": "code",
      "source": [
        "df.mean(axis='columns', skipna=False)"
      ],
      "execution_count": 0,
      "outputs": []
    },
    {
      "metadata": {
        "deletable": true,
        "editable": true,
        "id": "HwfcmiYwLJ0t",
        "colab_type": "code",
        "colab": {}
      },
      "cell_type": "code",
      "source": [
        "df.idxmax()"
      ],
      "execution_count": 0,
      "outputs": []
    },
    {
      "metadata": {
        "deletable": true,
        "editable": true,
        "id": "-rj-DZUnLJ0u",
        "colab_type": "code",
        "colab": {}
      },
      "cell_type": "code",
      "source": [
        "df.cumsum()"
      ],
      "execution_count": 0,
      "outputs": []
    },
    {
      "metadata": {
        "deletable": true,
        "editable": true,
        "id": "ol25NQ-jLJ0v",
        "colab_type": "code",
        "colab": {}
      },
      "cell_type": "code",
      "source": [
        "df.describe()"
      ],
      "execution_count": 0,
      "outputs": []
    },
    {
      "metadata": {
        "deletable": true,
        "editable": true,
        "id": "i1wZQgN4LJ0w",
        "colab_type": "code",
        "colab": {}
      },
      "cell_type": "code",
      "source": [
        "obj = pd.Series(['a', 'a', 'b', 'c'] * 4)\n",
        "obj.describe()"
      ],
      "execution_count": 0,
      "outputs": []
    },
    {
      "metadata": {
        "deletable": true,
        "editable": true,
        "id": "0b0xwSgULJ0x",
        "colab_type": "text"
      },
      "cell_type": "markdown",
      "source": [
        "### Correlation and Covariance"
      ]
    },
    {
      "metadata": {
        "deletable": true,
        "editable": true,
        "id": "SXrF98lQLJ0y",
        "colab_type": "text"
      },
      "cell_type": "markdown",
      "source": [
        "conda install pandas-datareader"
      ]
    },
    {
      "metadata": {
        "deletable": true,
        "editable": true,
        "id": "x7GgD9LLLJ0z",
        "colab_type": "code",
        "colab": {}
      },
      "cell_type": "code",
      "source": [
        "price = pd.read_pickle('examples/yahoo_price.pkl')\n",
        "volume = pd.read_pickle('examples/yahoo_volume.pkl')"
      ],
      "execution_count": 0,
      "outputs": []
    },
    {
      "metadata": {
        "deletable": true,
        "editable": true,
        "id": "5LeKEs37LJ00",
        "colab_type": "text"
      },
      "cell_type": "markdown",
      "source": [
        "import pandas_datareader.data as web\n",
        "all_data = {ticker: web.get_data_yahoo(ticker)\n",
        "            for ticker in ['AAPL', 'IBM', 'MSFT', 'GOOG']}\n",
        "\n",
        "price = pd.DataFrame({ticker: data['Adj Close']\n",
        "                     for ticker, data in all_data.items()})\n",
        "volume = pd.DataFrame({ticker: data['Volume']\n",
        "                      for ticker, data in all_data.items()})"
      ]
    },
    {
      "metadata": {
        "deletable": true,
        "editable": true,
        "id": "QYsfv8fYLJ01",
        "colab_type": "code",
        "colab": {}
      },
      "cell_type": "code",
      "source": [
        "returns = price.pct_change()\n",
        "returns.tail()"
      ],
      "execution_count": 0,
      "outputs": []
    },
    {
      "metadata": {
        "deletable": true,
        "editable": true,
        "id": "WYwQUnJuLJ02",
        "colab_type": "code",
        "colab": {}
      },
      "cell_type": "code",
      "source": [
        "returns['MSFT'].corr(returns['IBM'])\n",
        "returns['MSFT'].cov(returns['IBM'])"
      ],
      "execution_count": 0,
      "outputs": []
    },
    {
      "metadata": {
        "deletable": true,
        "editable": true,
        "id": "9T-stv3vLJ03",
        "colab_type": "code",
        "colab": {}
      },
      "cell_type": "code",
      "source": [
        "returns.MSFT.corr(returns.IBM)"
      ],
      "execution_count": 0,
      "outputs": []
    },
    {
      "metadata": {
        "deletable": true,
        "editable": true,
        "id": "7Nsb53QULJ05",
        "colab_type": "code",
        "colab": {}
      },
      "cell_type": "code",
      "source": [
        "returns.corr()\n",
        "returns.cov()"
      ],
      "execution_count": 0,
      "outputs": []
    },
    {
      "metadata": {
        "deletable": true,
        "editable": true,
        "id": "s7GgUdCmLJ06",
        "colab_type": "code",
        "colab": {}
      },
      "cell_type": "code",
      "source": [
        "returns.corrwith(returns.IBM)"
      ],
      "execution_count": 0,
      "outputs": []
    },
    {
      "metadata": {
        "deletable": true,
        "editable": true,
        "id": "L37tLcr3LJ07",
        "colab_type": "code",
        "colab": {}
      },
      "cell_type": "code",
      "source": [
        "returns.corrwith(volume)"
      ],
      "execution_count": 0,
      "outputs": []
    },
    {
      "metadata": {
        "deletable": true,
        "editable": true,
        "id": "cNgSQ2YsLJ08",
        "colab_type": "text"
      },
      "cell_type": "markdown",
      "source": [
        "### Unique Values, Value Counts, and Membership"
      ]
    },
    {
      "metadata": {
        "deletable": true,
        "editable": true,
        "id": "K2Uv0Vq2LJ09",
        "colab_type": "code",
        "colab": {}
      },
      "cell_type": "code",
      "source": [
        "obj = pd.Series(['c', 'a', 'd', 'a', 'a', 'b', 'b', 'c', 'c'])"
      ],
      "execution_count": 0,
      "outputs": []
    },
    {
      "metadata": {
        "deletable": true,
        "editable": true,
        "id": "eP_e4i1PLJ0_",
        "colab_type": "code",
        "colab": {}
      },
      "cell_type": "code",
      "source": [
        "uniques = obj.unique()\n",
        "uniques"
      ],
      "execution_count": 0,
      "outputs": []
    },
    {
      "metadata": {
        "deletable": true,
        "editable": true,
        "id": "TRSkbZ1LLJ1A",
        "colab_type": "code",
        "colab": {}
      },
      "cell_type": "code",
      "source": [
        "obj.value_counts()"
      ],
      "execution_count": 0,
      "outputs": []
    },
    {
      "metadata": {
        "deletable": true,
        "editable": true,
        "id": "h2sXGbRTLJ1B",
        "colab_type": "code",
        "colab": {}
      },
      "cell_type": "code",
      "source": [
        "pd.value_counts(obj.values, sort=False)"
      ],
      "execution_count": 0,
      "outputs": []
    },
    {
      "metadata": {
        "deletable": true,
        "editable": true,
        "id": "ezfKdt_bLJ1C",
        "colab_type": "code",
        "colab": {}
      },
      "cell_type": "code",
      "source": [
        "obj\n",
        "mask = obj.isin(['b', 'c'])\n",
        "mask\n",
        "obj[mask]"
      ],
      "execution_count": 0,
      "outputs": []
    },
    {
      "metadata": {
        "deletable": true,
        "editable": true,
        "id": "vExs8aVdLJ1E",
        "colab_type": "code",
        "colab": {}
      },
      "cell_type": "code",
      "source": [
        "to_match = pd.Series(['c', 'a', 'b', 'b', 'c', 'a'])\n",
        "unique_vals = pd.Series(['c', 'b', 'a'])\n",
        "pd.Index(unique_vals).get_indexer(to_match)"
      ],
      "execution_count": 0,
      "outputs": []
    },
    {
      "metadata": {
        "deletable": true,
        "editable": true,
        "id": "i7nJUm-5LJ1F",
        "colab_type": "code",
        "colab": {}
      },
      "cell_type": "code",
      "source": [
        "data = pd.DataFrame({'Qu1': [1, 3, 4, 3, 4],\n",
        "                     'Qu2': [2, 3, 1, 2, 3],\n",
        "                     'Qu3': [1, 5, 2, 4, 4]})\n",
        "data"
      ],
      "execution_count": 0,
      "outputs": []
    },
    {
      "metadata": {
        "deletable": true,
        "editable": true,
        "id": "r_OPjZs7LJ1G",
        "colab_type": "code",
        "colab": {}
      },
      "cell_type": "code",
      "source": [
        "result = data.apply(pd.value_counts).fillna(0)\n",
        "result"
      ],
      "execution_count": 0,
      "outputs": []
    },
    {
      "metadata": {
        "deletable": true,
        "editable": true,
        "id": "Lmk-GzbhLJ1H",
        "colab_type": "text"
      },
      "cell_type": "markdown",
      "source": [
        "## Conclusion"
      ]
    },
    {
      "metadata": {
        "deletable": true,
        "editable": true,
        "id": "O2om0fk9LJ1H",
        "colab_type": "code",
        "colab": {}
      },
      "cell_type": "code",
      "source": [
        "pd.options.display.max_rows = PREVIOUS_MAX_ROWS"
      ],
      "execution_count": 0,
      "outputs": []
    }
  ]
}